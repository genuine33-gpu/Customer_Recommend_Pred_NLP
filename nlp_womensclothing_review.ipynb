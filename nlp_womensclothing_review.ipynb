{
  "metadata": {
    "accelerator": "TPU",
    "colab": {
      "provenance": []
    },
    "kernelspec": {
      "name": "python3",
      "display_name": "Python 3"
    },
    "language_info": {
      "name": "python",
      "version": "3.10.13",
      "mimetype": "text/x-python",
      "codemirror_mode": {
        "name": "ipython",
        "version": 3
      },
      "pygments_lexer": "ipython3",
      "nbconvert_exporter": "python",
      "file_extension": ".py"
    },
    "kaggle": {
      "accelerator": "tpu1vmV38",
      "dataSources": [
        {
          "sourceId": 16290,
          "sourceType": "datasetVersion",
          "datasetId": 11827
        }
      ],
      "dockerImageVersionId": 30646,
      "isInternetEnabled": true,
      "language": "python",
      "sourceType": "notebook",
      "isGpuEnabled": false
    }
  },
  "nbformat_minor": 0,
  "nbformat": 4,
  "cells": [
    {
      "cell_type": "markdown",
      "source": [
        "![image.png](attachment:image.png)"
      ],
      "metadata": {
        "id": "L0NE2qRpS3qy"
      }
    },
    {
      "cell_type": "markdown",
      "source": [
        "![image.png](attachment:image.png)"
      ],
      "metadata": {
        "id": "2Db9Ow8HS3q-"
      }
    },
    {
      "cell_type": "markdown",
      "source": [
        "## NLP with DL"
      ],
      "metadata": {
        "id": "6X73SBpsMP26"
      }
    },
    {
      "cell_type": "markdown",
      "source": [
        "## Import libraries"
      ],
      "metadata": {
        "id": "0Y6XdY0zMP3B"
      }
    },
    {
      "cell_type": "code",
      "source": [
        "import numpy as np\n",
        "import pandas as pd\n",
        "from tensorflow.keras.models import Sequential\n",
        "from tensorflow.keras.layers import Dense, GRU, Embedding, Dropout, BatchNormalization, Activation\n",
        "from tensorflow.keras.optimizers import Adam\n",
        "from tensorflow.keras.preprocessing.text import Tokenizer    # Tensorflow un Tokenizer fonksiyonu\n",
        "from tensorflow.keras.preprocessing.sequence import pad_sequences    # modele vereceğimiz squence lerin aynı boyutta olmasını sağlıyor.\n",
        "import warnings\n",
        "warnings.filterwarnings(\"ignore\")"
      ],
      "metadata": {
        "id": "yt8uihaEMP3B",
        "execution": {
          "iopub.status.busy": "2024-02-20T10:30:50.581939Z",
          "iopub.execute_input": "2024-02-20T10:30:50.582286Z",
          "iopub.status.idle": "2024-02-20T10:30:50.587113Z",
          "shell.execute_reply.started": "2024-02-20T10:30:50.582259Z",
          "shell.execute_reply": "2024-02-20T10:30:50.586403Z"
        },
        "trusted": true
      },
      "execution_count": null,
      "outputs": []
    },
    {
      "cell_type": "code",
      "source": [
        "df = pd.read_csv('/content/Womens Clothing E-Commerce Reviews.csv')"
      ],
      "metadata": {
        "id": "lN-e8sK4MP3D",
        "execution": {
          "iopub.status.busy": "2024-02-20T10:50:33.829261Z",
          "iopub.execute_input": "2024-02-20T10:50:33.829585Z",
          "iopub.status.idle": "2024-02-20T10:50:33.946792Z",
          "shell.execute_reply.started": "2024-02-20T10:50:33.829558Z",
          "shell.execute_reply": "2024-02-20T10:50:33.946093Z"
        },
        "trusted": true
      },
      "execution_count": null,
      "outputs": []
    },
    {
      "cell_type": "code",
      "source": [
        "df.head(2)"
      ],
      "metadata": {
        "colab": {
          "base_uri": "https://localhost:8080/",
          "height": 164
        },
        "id": "kBw6YugKMP3D",
        "outputId": "87d6ad0c-5b49-49a2-8d73-aa93b92ce701",
        "execution": {
          "iopub.status.busy": "2024-02-20T10:50:36.481684Z",
          "iopub.execute_input": "2024-02-20T10:50:36.482039Z",
          "iopub.status.idle": "2024-02-20T10:50:36.492442Z",
          "shell.execute_reply.started": "2024-02-20T10:50:36.482009Z",
          "shell.execute_reply": "2024-02-20T10:50:36.491796Z"
        },
        "trusted": true
      },
      "execution_count": null,
      "outputs": [
        {
          "output_type": "execute_result",
          "data": {
            "text/plain": [
              "   Unnamed: 0  Clothing ID  Age Title  \\\n",
              "0           0          767   33   NaN   \n",
              "1           1         1080   34   NaN   \n",
              "\n",
              "                                         Review Text  Rating  Recommended IND  \\\n",
              "0  Absolutely wonderful - silky and sexy and comf...       4                1   \n",
              "1  Love this dress!  it's sooo pretty.  i happene...       5                1   \n",
              "\n",
              "   Positive Feedback Count Division Name Department Name Class Name  \n",
              "0                        0     Initmates        Intimate  Intimates  \n",
              "1                        4       General         Dresses    Dresses  "
            ],
            "text/html": [
              "\n",
              "  <div id=\"df-bffe3427-11e0-4277-bbd9-f2608e6f6578\" class=\"colab-df-container\">\n",
              "    <div>\n",
              "<style scoped>\n",
              "    .dataframe tbody tr th:only-of-type {\n",
              "        vertical-align: middle;\n",
              "    }\n",
              "\n",
              "    .dataframe tbody tr th {\n",
              "        vertical-align: top;\n",
              "    }\n",
              "\n",
              "    .dataframe thead th {\n",
              "        text-align: right;\n",
              "    }\n",
              "</style>\n",
              "<table border=\"1\" class=\"dataframe\">\n",
              "  <thead>\n",
              "    <tr style=\"text-align: right;\">\n",
              "      <th></th>\n",
              "      <th>Unnamed: 0</th>\n",
              "      <th>Clothing ID</th>\n",
              "      <th>Age</th>\n",
              "      <th>Title</th>\n",
              "      <th>Review Text</th>\n",
              "      <th>Rating</th>\n",
              "      <th>Recommended IND</th>\n",
              "      <th>Positive Feedback Count</th>\n",
              "      <th>Division Name</th>\n",
              "      <th>Department Name</th>\n",
              "      <th>Class Name</th>\n",
              "    </tr>\n",
              "  </thead>\n",
              "  <tbody>\n",
              "    <tr>\n",
              "      <th>0</th>\n",
              "      <td>0</td>\n",
              "      <td>767</td>\n",
              "      <td>33</td>\n",
              "      <td>NaN</td>\n",
              "      <td>Absolutely wonderful - silky and sexy and comf...</td>\n",
              "      <td>4</td>\n",
              "      <td>1</td>\n",
              "      <td>0</td>\n",
              "      <td>Initmates</td>\n",
              "      <td>Intimate</td>\n",
              "      <td>Intimates</td>\n",
              "    </tr>\n",
              "    <tr>\n",
              "      <th>1</th>\n",
              "      <td>1</td>\n",
              "      <td>1080</td>\n",
              "      <td>34</td>\n",
              "      <td>NaN</td>\n",
              "      <td>Love this dress!  it's sooo pretty.  i happene...</td>\n",
              "      <td>5</td>\n",
              "      <td>1</td>\n",
              "      <td>4</td>\n",
              "      <td>General</td>\n",
              "      <td>Dresses</td>\n",
              "      <td>Dresses</td>\n",
              "    </tr>\n",
              "  </tbody>\n",
              "</table>\n",
              "</div>\n",
              "    <div class=\"colab-df-buttons\">\n",
              "\n",
              "  <div class=\"colab-df-container\">\n",
              "    <button class=\"colab-df-convert\" onclick=\"convertToInteractive('df-bffe3427-11e0-4277-bbd9-f2608e6f6578')\"\n",
              "            title=\"Convert this dataframe to an interactive table.\"\n",
              "            style=\"display:none;\">\n",
              "\n",
              "  <svg xmlns=\"http://www.w3.org/2000/svg\" height=\"24px\" viewBox=\"0 -960 960 960\">\n",
              "    <path d=\"M120-120v-720h720v720H120Zm60-500h600v-160H180v160Zm220 220h160v-160H400v160Zm0 220h160v-160H400v160ZM180-400h160v-160H180v160Zm440 0h160v-160H620v160ZM180-180h160v-160H180v160Zm440 0h160v-160H620v160Z\"/>\n",
              "  </svg>\n",
              "    </button>\n",
              "\n",
              "  <style>\n",
              "    .colab-df-container {\n",
              "      display:flex;\n",
              "      gap: 12px;\n",
              "    }\n",
              "\n",
              "    .colab-df-convert {\n",
              "      background-color: #E8F0FE;\n",
              "      border: none;\n",
              "      border-radius: 50%;\n",
              "      cursor: pointer;\n",
              "      display: none;\n",
              "      fill: #1967D2;\n",
              "      height: 32px;\n",
              "      padding: 0 0 0 0;\n",
              "      width: 32px;\n",
              "    }\n",
              "\n",
              "    .colab-df-convert:hover {\n",
              "      background-color: #E2EBFA;\n",
              "      box-shadow: 0px 1px 2px rgba(60, 64, 67, 0.3), 0px 1px 3px 1px rgba(60, 64, 67, 0.15);\n",
              "      fill: #174EA6;\n",
              "    }\n",
              "\n",
              "    .colab-df-buttons div {\n",
              "      margin-bottom: 4px;\n",
              "    }\n",
              "\n",
              "    [theme=dark] .colab-df-convert {\n",
              "      background-color: #3B4455;\n",
              "      fill: #D2E3FC;\n",
              "    }\n",
              "\n",
              "    [theme=dark] .colab-df-convert:hover {\n",
              "      background-color: #434B5C;\n",
              "      box-shadow: 0px 1px 3px 1px rgba(0, 0, 0, 0.15);\n",
              "      filter: drop-shadow(0px 1px 2px rgba(0, 0, 0, 0.3));\n",
              "      fill: #FFFFFF;\n",
              "    }\n",
              "  </style>\n",
              "\n",
              "    <script>\n",
              "      const buttonEl =\n",
              "        document.querySelector('#df-bffe3427-11e0-4277-bbd9-f2608e6f6578 button.colab-df-convert');\n",
              "      buttonEl.style.display =\n",
              "        google.colab.kernel.accessAllowed ? 'block' : 'none';\n",
              "\n",
              "      async function convertToInteractive(key) {\n",
              "        const element = document.querySelector('#df-bffe3427-11e0-4277-bbd9-f2608e6f6578');\n",
              "        const dataTable =\n",
              "          await google.colab.kernel.invokeFunction('convertToInteractive',\n",
              "                                                    [key], {});\n",
              "        if (!dataTable) return;\n",
              "\n",
              "        const docLinkHtml = 'Like what you see? Visit the ' +\n",
              "          '<a target=\"_blank\" href=https://colab.research.google.com/notebooks/data_table.ipynb>data table notebook</a>'\n",
              "          + ' to learn more about interactive tables.';\n",
              "        element.innerHTML = '';\n",
              "        dataTable['output_type'] = 'display_data';\n",
              "        await google.colab.output.renderOutput(dataTable, element);\n",
              "        const docLink = document.createElement('div');\n",
              "        docLink.innerHTML = docLinkHtml;\n",
              "        element.appendChild(docLink);\n",
              "      }\n",
              "    </script>\n",
              "  </div>\n",
              "\n",
              "\n",
              "<div id=\"df-fff587cd-7b84-426d-95c6-c24d7f8cf6bf\">\n",
              "  <button class=\"colab-df-quickchart\" onclick=\"quickchart('df-fff587cd-7b84-426d-95c6-c24d7f8cf6bf')\"\n",
              "            title=\"Suggest charts\"\n",
              "            style=\"display:none;\">\n",
              "\n",
              "<svg xmlns=\"http://www.w3.org/2000/svg\" height=\"24px\"viewBox=\"0 0 24 24\"\n",
              "     width=\"24px\">\n",
              "    <g>\n",
              "        <path d=\"M19 3H5c-1.1 0-2 .9-2 2v14c0 1.1.9 2 2 2h14c1.1 0 2-.9 2-2V5c0-1.1-.9-2-2-2zM9 17H7v-7h2v7zm4 0h-2V7h2v10zm4 0h-2v-4h2v4z\"/>\n",
              "    </g>\n",
              "</svg>\n",
              "  </button>\n",
              "\n",
              "<style>\n",
              "  .colab-df-quickchart {\n",
              "      --bg-color: #E8F0FE;\n",
              "      --fill-color: #1967D2;\n",
              "      --hover-bg-color: #E2EBFA;\n",
              "      --hover-fill-color: #174EA6;\n",
              "      --disabled-fill-color: #AAA;\n",
              "      --disabled-bg-color: #DDD;\n",
              "  }\n",
              "\n",
              "  [theme=dark] .colab-df-quickchart {\n",
              "      --bg-color: #3B4455;\n",
              "      --fill-color: #D2E3FC;\n",
              "      --hover-bg-color: #434B5C;\n",
              "      --hover-fill-color: #FFFFFF;\n",
              "      --disabled-bg-color: #3B4455;\n",
              "      --disabled-fill-color: #666;\n",
              "  }\n",
              "\n",
              "  .colab-df-quickchart {\n",
              "    background-color: var(--bg-color);\n",
              "    border: none;\n",
              "    border-radius: 50%;\n",
              "    cursor: pointer;\n",
              "    display: none;\n",
              "    fill: var(--fill-color);\n",
              "    height: 32px;\n",
              "    padding: 0;\n",
              "    width: 32px;\n",
              "  }\n",
              "\n",
              "  .colab-df-quickchart:hover {\n",
              "    background-color: var(--hover-bg-color);\n",
              "    box-shadow: 0 1px 2px rgba(60, 64, 67, 0.3), 0 1px 3px 1px rgba(60, 64, 67, 0.15);\n",
              "    fill: var(--button-hover-fill-color);\n",
              "  }\n",
              "\n",
              "  .colab-df-quickchart-complete:disabled,\n",
              "  .colab-df-quickchart-complete:disabled:hover {\n",
              "    background-color: var(--disabled-bg-color);\n",
              "    fill: var(--disabled-fill-color);\n",
              "    box-shadow: none;\n",
              "  }\n",
              "\n",
              "  .colab-df-spinner {\n",
              "    border: 2px solid var(--fill-color);\n",
              "    border-color: transparent;\n",
              "    border-bottom-color: var(--fill-color);\n",
              "    animation:\n",
              "      spin 1s steps(1) infinite;\n",
              "  }\n",
              "\n",
              "  @keyframes spin {\n",
              "    0% {\n",
              "      border-color: transparent;\n",
              "      border-bottom-color: var(--fill-color);\n",
              "      border-left-color: var(--fill-color);\n",
              "    }\n",
              "    20% {\n",
              "      border-color: transparent;\n",
              "      border-left-color: var(--fill-color);\n",
              "      border-top-color: var(--fill-color);\n",
              "    }\n",
              "    30% {\n",
              "      border-color: transparent;\n",
              "      border-left-color: var(--fill-color);\n",
              "      border-top-color: var(--fill-color);\n",
              "      border-right-color: var(--fill-color);\n",
              "    }\n",
              "    40% {\n",
              "      border-color: transparent;\n",
              "      border-right-color: var(--fill-color);\n",
              "      border-top-color: var(--fill-color);\n",
              "    }\n",
              "    60% {\n",
              "      border-color: transparent;\n",
              "      border-right-color: var(--fill-color);\n",
              "    }\n",
              "    80% {\n",
              "      border-color: transparent;\n",
              "      border-right-color: var(--fill-color);\n",
              "      border-bottom-color: var(--fill-color);\n",
              "    }\n",
              "    90% {\n",
              "      border-color: transparent;\n",
              "      border-bottom-color: var(--fill-color);\n",
              "    }\n",
              "  }\n",
              "</style>\n",
              "\n",
              "  <script>\n",
              "    async function quickchart(key) {\n",
              "      const quickchartButtonEl =\n",
              "        document.querySelector('#' + key + ' button');\n",
              "      quickchartButtonEl.disabled = true;  // To prevent multiple clicks.\n",
              "      quickchartButtonEl.classList.add('colab-df-spinner');\n",
              "      try {\n",
              "        const charts = await google.colab.kernel.invokeFunction(\n",
              "            'suggestCharts', [key], {});\n",
              "      } catch (error) {\n",
              "        console.error('Error during call to suggestCharts:', error);\n",
              "      }\n",
              "      quickchartButtonEl.classList.remove('colab-df-spinner');\n",
              "      quickchartButtonEl.classList.add('colab-df-quickchart-complete');\n",
              "    }\n",
              "    (() => {\n",
              "      let quickchartButtonEl =\n",
              "        document.querySelector('#df-fff587cd-7b84-426d-95c6-c24d7f8cf6bf button');\n",
              "      quickchartButtonEl.style.display =\n",
              "        google.colab.kernel.accessAllowed ? 'block' : 'none';\n",
              "    })();\n",
              "  </script>\n",
              "</div>\n",
              "\n",
              "    </div>\n",
              "  </div>\n"
            ],
            "application/vnd.google.colaboratory.intrinsic+json": {
              "type": "dataframe",
              "variable_name": "df",
              "summary": "{\n  \"name\": \"df\",\n  \"rows\": 23486,\n  \"fields\": [\n    {\n      \"column\": \"Unnamed: 0\",\n      \"properties\": {\n        \"dtype\": \"number\",\n        \"std\": 6779,\n        \"min\": 0,\n        \"max\": 23485,\n        \"samples\": [\n          1297,\n          7228,\n          21410\n        ],\n        \"num_unique_values\": 23486,\n        \"semantic_type\": \"\",\n        \"description\": \"\"\n      }\n    },\n    {\n      \"column\": \"Clothing ID\",\n      \"properties\": {\n        \"dtype\": \"number\",\n        \"std\": 203,\n        \"min\": 0,\n        \"max\": 1205,\n        \"samples\": [\n          835,\n          753,\n          93\n        ],\n        \"num_unique_values\": 1206,\n        \"semantic_type\": \"\",\n        \"description\": \"\"\n      }\n    },\n    {\n      \"column\": \"Age\",\n      \"properties\": {\n        \"dtype\": \"number\",\n        \"std\": 12,\n        \"min\": 18,\n        \"max\": 99,\n        \"samples\": [\n          47,\n          62,\n          41\n        ],\n        \"num_unique_values\": 77,\n        \"semantic_type\": \"\",\n        \"description\": \"\"\n      }\n    },\n    {\n      \"column\": \"Title\",\n      \"properties\": {\n        \"dtype\": \"string\",\n        \"samples\": [\n          \"Colorful, pretty shirt\",\n          \"Unique soft and comfy fall top\",\n          \"Great fitting jean.\"\n        ],\n        \"num_unique_values\": 13993,\n        \"semantic_type\": \"\",\n        \"description\": \"\"\n      }\n    },\n    {\n      \"column\": \"Review Text\",\n      \"properties\": {\n        \"dtype\": \"string\",\n        \"samples\": [\n          \"This top is really pretty and nice quality. runs big - i went down a size, and its perfect. coloring is more subtle in person than in the photo.\",\n          \"I was so excited to splurge on a mara hoffman suit and was sorely disappointed when i received this suit in the mail. i'm petite and fairly curvy, so i knew it would likely be a little long in the torso but the whole suit was so oddly shaped, i couldn't imagine anyone it would fit. the square shape in between the halter pieces is awkward, and the pieces that are supposed to hold your chest are super wide and loose.\",\n          \"Got so many complements! really comfy but runs big! i'm usually a large and i wish i had gotten the small.\"\n        ],\n        \"num_unique_values\": 22634,\n        \"semantic_type\": \"\",\n        \"description\": \"\"\n      }\n    },\n    {\n      \"column\": \"Rating\",\n      \"properties\": {\n        \"dtype\": \"number\",\n        \"std\": 1,\n        \"min\": 1,\n        \"max\": 5,\n        \"samples\": [\n          5,\n          1,\n          3\n        ],\n        \"num_unique_values\": 5,\n        \"semantic_type\": \"\",\n        \"description\": \"\"\n      }\n    },\n    {\n      \"column\": \"Recommended IND\",\n      \"properties\": {\n        \"dtype\": \"number\",\n        \"std\": 0,\n        \"min\": 0,\n        \"max\": 1,\n        \"samples\": [\n          0,\n          1\n        ],\n        \"num_unique_values\": 2,\n        \"semantic_type\": \"\",\n        \"description\": \"\"\n      }\n    },\n    {\n      \"column\": \"Positive Feedback Count\",\n      \"properties\": {\n        \"dtype\": \"number\",\n        \"std\": 5,\n        \"min\": 0,\n        \"max\": 122,\n        \"samples\": [\n          21,\n          0\n        ],\n        \"num_unique_values\": 82,\n        \"semantic_type\": \"\",\n        \"description\": \"\"\n      }\n    },\n    {\n      \"column\": \"Division Name\",\n      \"properties\": {\n        \"dtype\": \"category\",\n        \"samples\": [\n          \"Initmates\",\n          \"General\"\n        ],\n        \"num_unique_values\": 3,\n        \"semantic_type\": \"\",\n        \"description\": \"\"\n      }\n    },\n    {\n      \"column\": \"Department Name\",\n      \"properties\": {\n        \"dtype\": \"category\",\n        \"samples\": [\n          \"Intimate\",\n          \"Dresses\"\n        ],\n        \"num_unique_values\": 6,\n        \"semantic_type\": \"\",\n        \"description\": \"\"\n      }\n    },\n    {\n      \"column\": \"Class Name\",\n      \"properties\": {\n        \"dtype\": \"category\",\n        \"samples\": [\n          \"Intimates\",\n          \"Layering\"\n        ],\n        \"num_unique_values\": 20,\n        \"semantic_type\": \"\",\n        \"description\": \"\"\n      }\n    }\n  ]\n}"
            }
          },
          "metadata": {},
          "execution_count": 150
        }
      ]
    },
    {
      "cell_type": "code",
      "source": [
        "df.info()"
      ],
      "metadata": {
        "colab": {
          "base_uri": "https://localhost:8080/"
        },
        "id": "Wd9UfbvsSWJ5",
        "outputId": "f05d0a14-f971-490b-e8d6-d3abb375d516",
        "execution": {
          "iopub.status.busy": "2024-02-20T10:47:17.798888Z",
          "iopub.execute_input": "2024-02-20T10:47:17.799291Z",
          "iopub.status.idle": "2024-02-20T10:47:17.815391Z",
          "shell.execute_reply.started": "2024-02-20T10:47:17.799259Z",
          "shell.execute_reply": "2024-02-20T10:47:17.814690Z"
        },
        "trusted": true
      },
      "execution_count": null,
      "outputs": [
        {
          "output_type": "stream",
          "name": "stdout",
          "text": [
            "<class 'pandas.core.frame.DataFrame'>\n",
            "RangeIndex: 23486 entries, 0 to 23485\n",
            "Data columns (total 11 columns):\n",
            " #   Column                   Non-Null Count  Dtype \n",
            "---  ------                   --------------  ----- \n",
            " 0   Unnamed: 0               23486 non-null  int64 \n",
            " 1   Clothing ID              23486 non-null  int64 \n",
            " 2   Age                      23486 non-null  int64 \n",
            " 3   Title                    19676 non-null  object\n",
            " 4   Review Text              22641 non-null  object\n",
            " 5   Rating                   23486 non-null  int64 \n",
            " 6   Recommended IND          23486 non-null  int64 \n",
            " 7   Positive Feedback Count  23486 non-null  int64 \n",
            " 8   Division Name            23472 non-null  object\n",
            " 9   Department Name          23472 non-null  object\n",
            " 10  Class Name               23472 non-null  object\n",
            "dtypes: int64(6), object(5)\n",
            "memory usage: 2.0+ MB\n"
          ]
        }
      ]
    },
    {
      "cell_type": "markdown",
      "source": [
        "NLP de Missing Value yu doldurma şekli bulunmamaktadır. Veriyi çoğaltma teknikleri bulunmaktadır."
      ],
      "metadata": {
        "id": "9YDv0EnNS3rF"
      }
    },
    {
      "cell_type": "code",
      "source": [
        "df.drop(columns=['Unnamed: 0'], inplace=True)"
      ],
      "metadata": {
        "execution": {
          "iopub.status.busy": "2024-02-20T10:50:39.830358Z",
          "iopub.execute_input": "2024-02-20T10:50:39.830694Z",
          "iopub.status.idle": "2024-02-20T10:50:39.836222Z",
          "shell.execute_reply.started": "2024-02-20T10:50:39.830667Z",
          "shell.execute_reply": "2024-02-20T10:50:39.835583Z"
        },
        "trusted": true,
        "id": "5WrcrW28S3rG"
      },
      "execution_count": null,
      "outputs": []
    },
    {
      "cell_type": "code",
      "source": [
        "df.rename(columns={\"Review Text\": \"review_text\",'Rating':'rating','Title':'title', 'Recommended IND':'recommended'},inplace=True)"
      ],
      "metadata": {
        "execution": {
          "iopub.status.busy": "2024-02-20T10:50:43.416039Z",
          "iopub.execute_input": "2024-02-20T10:50:43.416360Z",
          "iopub.status.idle": "2024-02-20T10:50:43.420863Z",
          "shell.execute_reply.started": "2024-02-20T10:50:43.416332Z",
          "shell.execute_reply": "2024-02-20T10:50:43.420160Z"
        },
        "trusted": true,
        "id": "wkDuRABzS3rG"
      },
      "execution_count": null,
      "outputs": []
    },
    {
      "cell_type": "code",
      "source": [
        "df[['title','review_text','rating']].fillna('',inplace=True)\n",
        "df['comment'] = df['title'].astype(str) + ' ' + df['review_text'].astype(str)\n",
        "df.head()"
      ],
      "metadata": {
        "execution": {
          "iopub.status.busy": "2024-02-20T10:50:45.285893Z",
          "iopub.execute_input": "2024-02-20T10:50:45.286292Z",
          "iopub.status.idle": "2024-02-20T10:50:45.322025Z",
          "shell.execute_reply.started": "2024-02-20T10:50:45.286259Z",
          "shell.execute_reply": "2024-02-20T10:50:45.321296Z"
        },
        "trusted": true,
        "colab": {
          "base_uri": "https://localhost:8080/",
          "height": 310
        },
        "id": "T5Y7ij3TS3rH",
        "outputId": "ddf39feb-b581-4330-ff35-c9f068df51c7"
      },
      "execution_count": null,
      "outputs": [
        {
          "output_type": "execute_result",
          "data": {
            "text/plain": [
              "   Clothing ID  Age                    title  \\\n",
              "0          767   33                      NaN   \n",
              "1         1080   34                      NaN   \n",
              "2         1077   60  Some major design flaws   \n",
              "3         1049   50         My favorite buy!   \n",
              "4          847   47         Flattering shirt   \n",
              "\n",
              "                                         review_text  rating  recommended  \\\n",
              "0  Absolutely wonderful - silky and sexy and comf...       4            1   \n",
              "1  Love this dress!  it's sooo pretty.  i happene...       5            1   \n",
              "2  I had such high hopes for this dress and reall...       3            0   \n",
              "3  I love, love, love this jumpsuit. it's fun, fl...       5            1   \n",
              "4  This shirt is very flattering to all due to th...       5            1   \n",
              "\n",
              "   Positive Feedback Count   Division Name Department Name Class Name  \\\n",
              "0                        0       Initmates        Intimate  Intimates   \n",
              "1                        4         General         Dresses    Dresses   \n",
              "2                        0         General         Dresses    Dresses   \n",
              "3                        0  General Petite         Bottoms      Pants   \n",
              "4                        6         General            Tops    Blouses   \n",
              "\n",
              "                                             comment  \n",
              "0  nan Absolutely wonderful - silky and sexy and ...  \n",
              "1  nan Love this dress!  it's sooo pretty.  i hap...  \n",
              "2  Some major design flaws I had such high hopes ...  \n",
              "3  My favorite buy! I love, love, love this jumps...  \n",
              "4  Flattering shirt This shirt is very flattering...  "
            ],
            "text/html": [
              "\n",
              "  <div id=\"df-c8c75914-a1a3-44e6-a797-3f8dbe950bb4\" class=\"colab-df-container\">\n",
              "    <div>\n",
              "<style scoped>\n",
              "    .dataframe tbody tr th:only-of-type {\n",
              "        vertical-align: middle;\n",
              "    }\n",
              "\n",
              "    .dataframe tbody tr th {\n",
              "        vertical-align: top;\n",
              "    }\n",
              "\n",
              "    .dataframe thead th {\n",
              "        text-align: right;\n",
              "    }\n",
              "</style>\n",
              "<table border=\"1\" class=\"dataframe\">\n",
              "  <thead>\n",
              "    <tr style=\"text-align: right;\">\n",
              "      <th></th>\n",
              "      <th>Clothing ID</th>\n",
              "      <th>Age</th>\n",
              "      <th>title</th>\n",
              "      <th>review_text</th>\n",
              "      <th>rating</th>\n",
              "      <th>recommended</th>\n",
              "      <th>Positive Feedback Count</th>\n",
              "      <th>Division Name</th>\n",
              "      <th>Department Name</th>\n",
              "      <th>Class Name</th>\n",
              "      <th>comment</th>\n",
              "    </tr>\n",
              "  </thead>\n",
              "  <tbody>\n",
              "    <tr>\n",
              "      <th>0</th>\n",
              "      <td>767</td>\n",
              "      <td>33</td>\n",
              "      <td>NaN</td>\n",
              "      <td>Absolutely wonderful - silky and sexy and comf...</td>\n",
              "      <td>4</td>\n",
              "      <td>1</td>\n",
              "      <td>0</td>\n",
              "      <td>Initmates</td>\n",
              "      <td>Intimate</td>\n",
              "      <td>Intimates</td>\n",
              "      <td>nan Absolutely wonderful - silky and sexy and ...</td>\n",
              "    </tr>\n",
              "    <tr>\n",
              "      <th>1</th>\n",
              "      <td>1080</td>\n",
              "      <td>34</td>\n",
              "      <td>NaN</td>\n",
              "      <td>Love this dress!  it's sooo pretty.  i happene...</td>\n",
              "      <td>5</td>\n",
              "      <td>1</td>\n",
              "      <td>4</td>\n",
              "      <td>General</td>\n",
              "      <td>Dresses</td>\n",
              "      <td>Dresses</td>\n",
              "      <td>nan Love this dress!  it's sooo pretty.  i hap...</td>\n",
              "    </tr>\n",
              "    <tr>\n",
              "      <th>2</th>\n",
              "      <td>1077</td>\n",
              "      <td>60</td>\n",
              "      <td>Some major design flaws</td>\n",
              "      <td>I had such high hopes for this dress and reall...</td>\n",
              "      <td>3</td>\n",
              "      <td>0</td>\n",
              "      <td>0</td>\n",
              "      <td>General</td>\n",
              "      <td>Dresses</td>\n",
              "      <td>Dresses</td>\n",
              "      <td>Some major design flaws I had such high hopes ...</td>\n",
              "    </tr>\n",
              "    <tr>\n",
              "      <th>3</th>\n",
              "      <td>1049</td>\n",
              "      <td>50</td>\n",
              "      <td>My favorite buy!</td>\n",
              "      <td>I love, love, love this jumpsuit. it's fun, fl...</td>\n",
              "      <td>5</td>\n",
              "      <td>1</td>\n",
              "      <td>0</td>\n",
              "      <td>General Petite</td>\n",
              "      <td>Bottoms</td>\n",
              "      <td>Pants</td>\n",
              "      <td>My favorite buy! I love, love, love this jumps...</td>\n",
              "    </tr>\n",
              "    <tr>\n",
              "      <th>4</th>\n",
              "      <td>847</td>\n",
              "      <td>47</td>\n",
              "      <td>Flattering shirt</td>\n",
              "      <td>This shirt is very flattering to all due to th...</td>\n",
              "      <td>5</td>\n",
              "      <td>1</td>\n",
              "      <td>6</td>\n",
              "      <td>General</td>\n",
              "      <td>Tops</td>\n",
              "      <td>Blouses</td>\n",
              "      <td>Flattering shirt This shirt is very flattering...</td>\n",
              "    </tr>\n",
              "  </tbody>\n",
              "</table>\n",
              "</div>\n",
              "    <div class=\"colab-df-buttons\">\n",
              "\n",
              "  <div class=\"colab-df-container\">\n",
              "    <button class=\"colab-df-convert\" onclick=\"convertToInteractive('df-c8c75914-a1a3-44e6-a797-3f8dbe950bb4')\"\n",
              "            title=\"Convert this dataframe to an interactive table.\"\n",
              "            style=\"display:none;\">\n",
              "\n",
              "  <svg xmlns=\"http://www.w3.org/2000/svg\" height=\"24px\" viewBox=\"0 -960 960 960\">\n",
              "    <path d=\"M120-120v-720h720v720H120Zm60-500h600v-160H180v160Zm220 220h160v-160H400v160Zm0 220h160v-160H400v160ZM180-400h160v-160H180v160Zm440 0h160v-160H620v160ZM180-180h160v-160H180v160Zm440 0h160v-160H620v160Z\"/>\n",
              "  </svg>\n",
              "    </button>\n",
              "\n",
              "  <style>\n",
              "    .colab-df-container {\n",
              "      display:flex;\n",
              "      gap: 12px;\n",
              "    }\n",
              "\n",
              "    .colab-df-convert {\n",
              "      background-color: #E8F0FE;\n",
              "      border: none;\n",
              "      border-radius: 50%;\n",
              "      cursor: pointer;\n",
              "      display: none;\n",
              "      fill: #1967D2;\n",
              "      height: 32px;\n",
              "      padding: 0 0 0 0;\n",
              "      width: 32px;\n",
              "    }\n",
              "\n",
              "    .colab-df-convert:hover {\n",
              "      background-color: #E2EBFA;\n",
              "      box-shadow: 0px 1px 2px rgba(60, 64, 67, 0.3), 0px 1px 3px 1px rgba(60, 64, 67, 0.15);\n",
              "      fill: #174EA6;\n",
              "    }\n",
              "\n",
              "    .colab-df-buttons div {\n",
              "      margin-bottom: 4px;\n",
              "    }\n",
              "\n",
              "    [theme=dark] .colab-df-convert {\n",
              "      background-color: #3B4455;\n",
              "      fill: #D2E3FC;\n",
              "    }\n",
              "\n",
              "    [theme=dark] .colab-df-convert:hover {\n",
              "      background-color: #434B5C;\n",
              "      box-shadow: 0px 1px 3px 1px rgba(0, 0, 0, 0.15);\n",
              "      filter: drop-shadow(0px 1px 2px rgba(0, 0, 0, 0.3));\n",
              "      fill: #FFFFFF;\n",
              "    }\n",
              "  </style>\n",
              "\n",
              "    <script>\n",
              "      const buttonEl =\n",
              "        document.querySelector('#df-c8c75914-a1a3-44e6-a797-3f8dbe950bb4 button.colab-df-convert');\n",
              "      buttonEl.style.display =\n",
              "        google.colab.kernel.accessAllowed ? 'block' : 'none';\n",
              "\n",
              "      async function convertToInteractive(key) {\n",
              "        const element = document.querySelector('#df-c8c75914-a1a3-44e6-a797-3f8dbe950bb4');\n",
              "        const dataTable =\n",
              "          await google.colab.kernel.invokeFunction('convertToInteractive',\n",
              "                                                    [key], {});\n",
              "        if (!dataTable) return;\n",
              "\n",
              "        const docLinkHtml = 'Like what you see? Visit the ' +\n",
              "          '<a target=\"_blank\" href=https://colab.research.google.com/notebooks/data_table.ipynb>data table notebook</a>'\n",
              "          + ' to learn more about interactive tables.';\n",
              "        element.innerHTML = '';\n",
              "        dataTable['output_type'] = 'display_data';\n",
              "        await google.colab.output.renderOutput(dataTable, element);\n",
              "        const docLink = document.createElement('div');\n",
              "        docLink.innerHTML = docLinkHtml;\n",
              "        element.appendChild(docLink);\n",
              "      }\n",
              "    </script>\n",
              "  </div>\n",
              "\n",
              "\n",
              "<div id=\"df-9d124e91-1d76-4aa7-8a7d-e7c800902c27\">\n",
              "  <button class=\"colab-df-quickchart\" onclick=\"quickchart('df-9d124e91-1d76-4aa7-8a7d-e7c800902c27')\"\n",
              "            title=\"Suggest charts\"\n",
              "            style=\"display:none;\">\n",
              "\n",
              "<svg xmlns=\"http://www.w3.org/2000/svg\" height=\"24px\"viewBox=\"0 0 24 24\"\n",
              "     width=\"24px\">\n",
              "    <g>\n",
              "        <path d=\"M19 3H5c-1.1 0-2 .9-2 2v14c0 1.1.9 2 2 2h14c1.1 0 2-.9 2-2V5c0-1.1-.9-2-2-2zM9 17H7v-7h2v7zm4 0h-2V7h2v10zm4 0h-2v-4h2v4z\"/>\n",
              "    </g>\n",
              "</svg>\n",
              "  </button>\n",
              "\n",
              "<style>\n",
              "  .colab-df-quickchart {\n",
              "      --bg-color: #E8F0FE;\n",
              "      --fill-color: #1967D2;\n",
              "      --hover-bg-color: #E2EBFA;\n",
              "      --hover-fill-color: #174EA6;\n",
              "      --disabled-fill-color: #AAA;\n",
              "      --disabled-bg-color: #DDD;\n",
              "  }\n",
              "\n",
              "  [theme=dark] .colab-df-quickchart {\n",
              "      --bg-color: #3B4455;\n",
              "      --fill-color: #D2E3FC;\n",
              "      --hover-bg-color: #434B5C;\n",
              "      --hover-fill-color: #FFFFFF;\n",
              "      --disabled-bg-color: #3B4455;\n",
              "      --disabled-fill-color: #666;\n",
              "  }\n",
              "\n",
              "  .colab-df-quickchart {\n",
              "    background-color: var(--bg-color);\n",
              "    border: none;\n",
              "    border-radius: 50%;\n",
              "    cursor: pointer;\n",
              "    display: none;\n",
              "    fill: var(--fill-color);\n",
              "    height: 32px;\n",
              "    padding: 0;\n",
              "    width: 32px;\n",
              "  }\n",
              "\n",
              "  .colab-df-quickchart:hover {\n",
              "    background-color: var(--hover-bg-color);\n",
              "    box-shadow: 0 1px 2px rgba(60, 64, 67, 0.3), 0 1px 3px 1px rgba(60, 64, 67, 0.15);\n",
              "    fill: var(--button-hover-fill-color);\n",
              "  }\n",
              "\n",
              "  .colab-df-quickchart-complete:disabled,\n",
              "  .colab-df-quickchart-complete:disabled:hover {\n",
              "    background-color: var(--disabled-bg-color);\n",
              "    fill: var(--disabled-fill-color);\n",
              "    box-shadow: none;\n",
              "  }\n",
              "\n",
              "  .colab-df-spinner {\n",
              "    border: 2px solid var(--fill-color);\n",
              "    border-color: transparent;\n",
              "    border-bottom-color: var(--fill-color);\n",
              "    animation:\n",
              "      spin 1s steps(1) infinite;\n",
              "  }\n",
              "\n",
              "  @keyframes spin {\n",
              "    0% {\n",
              "      border-color: transparent;\n",
              "      border-bottom-color: var(--fill-color);\n",
              "      border-left-color: var(--fill-color);\n",
              "    }\n",
              "    20% {\n",
              "      border-color: transparent;\n",
              "      border-left-color: var(--fill-color);\n",
              "      border-top-color: var(--fill-color);\n",
              "    }\n",
              "    30% {\n",
              "      border-color: transparent;\n",
              "      border-left-color: var(--fill-color);\n",
              "      border-top-color: var(--fill-color);\n",
              "      border-right-color: var(--fill-color);\n",
              "    }\n",
              "    40% {\n",
              "      border-color: transparent;\n",
              "      border-right-color: var(--fill-color);\n",
              "      border-top-color: var(--fill-color);\n",
              "    }\n",
              "    60% {\n",
              "      border-color: transparent;\n",
              "      border-right-color: var(--fill-color);\n",
              "    }\n",
              "    80% {\n",
              "      border-color: transparent;\n",
              "      border-right-color: var(--fill-color);\n",
              "      border-bottom-color: var(--fill-color);\n",
              "    }\n",
              "    90% {\n",
              "      border-color: transparent;\n",
              "      border-bottom-color: var(--fill-color);\n",
              "    }\n",
              "  }\n",
              "</style>\n",
              "\n",
              "  <script>\n",
              "    async function quickchart(key) {\n",
              "      const quickchartButtonEl =\n",
              "        document.querySelector('#' + key + ' button');\n",
              "      quickchartButtonEl.disabled = true;  // To prevent multiple clicks.\n",
              "      quickchartButtonEl.classList.add('colab-df-spinner');\n",
              "      try {\n",
              "        const charts = await google.colab.kernel.invokeFunction(\n",
              "            'suggestCharts', [key], {});\n",
              "      } catch (error) {\n",
              "        console.error('Error during call to suggestCharts:', error);\n",
              "      }\n",
              "      quickchartButtonEl.classList.remove('colab-df-spinner');\n",
              "      quickchartButtonEl.classList.add('colab-df-quickchart-complete');\n",
              "    }\n",
              "    (() => {\n",
              "      let quickchartButtonEl =\n",
              "        document.querySelector('#df-9d124e91-1d76-4aa7-8a7d-e7c800902c27 button');\n",
              "      quickchartButtonEl.style.display =\n",
              "        google.colab.kernel.accessAllowed ? 'block' : 'none';\n",
              "    })();\n",
              "  </script>\n",
              "</div>\n",
              "\n",
              "    </div>\n",
              "  </div>\n"
            ],
            "application/vnd.google.colaboratory.intrinsic+json": {
              "type": "dataframe",
              "variable_name": "df",
              "summary": "{\n  \"name\": \"df\",\n  \"rows\": 23486,\n  \"fields\": [\n    {\n      \"column\": \"Clothing ID\",\n      \"properties\": {\n        \"dtype\": \"number\",\n        \"std\": 203,\n        \"min\": 0,\n        \"max\": 1205,\n        \"samples\": [\n          835,\n          753,\n          93\n        ],\n        \"num_unique_values\": 1206,\n        \"semantic_type\": \"\",\n        \"description\": \"\"\n      }\n    },\n    {\n      \"column\": \"Age\",\n      \"properties\": {\n        \"dtype\": \"number\",\n        \"std\": 12,\n        \"min\": 18,\n        \"max\": 99,\n        \"samples\": [\n          47,\n          62,\n          41\n        ],\n        \"num_unique_values\": 77,\n        \"semantic_type\": \"\",\n        \"description\": \"\"\n      }\n    },\n    {\n      \"column\": \"title\",\n      \"properties\": {\n        \"dtype\": \"string\",\n        \"samples\": [\n          \"Colorful, pretty shirt\",\n          \"Unique soft and comfy fall top\",\n          \"Great fitting jean.\"\n        ],\n        \"num_unique_values\": 13993,\n        \"semantic_type\": \"\",\n        \"description\": \"\"\n      }\n    },\n    {\n      \"column\": \"review_text\",\n      \"properties\": {\n        \"dtype\": \"string\",\n        \"samples\": [\n          \"This top is really pretty and nice quality. runs big - i went down a size, and its perfect. coloring is more subtle in person than in the photo.\",\n          \"I was so excited to splurge on a mara hoffman suit and was sorely disappointed when i received this suit in the mail. i'm petite and fairly curvy, so i knew it would likely be a little long in the torso but the whole suit was so oddly shaped, i couldn't imagine anyone it would fit. the square shape in between the halter pieces is awkward, and the pieces that are supposed to hold your chest are super wide and loose.\",\n          \"Got so many complements! really comfy but runs big! i'm usually a large and i wish i had gotten the small.\"\n        ],\n        \"num_unique_values\": 22634,\n        \"semantic_type\": \"\",\n        \"description\": \"\"\n      }\n    },\n    {\n      \"column\": \"rating\",\n      \"properties\": {\n        \"dtype\": \"number\",\n        \"std\": 1,\n        \"min\": 1,\n        \"max\": 5,\n        \"samples\": [\n          5,\n          1,\n          3\n        ],\n        \"num_unique_values\": 5,\n        \"semantic_type\": \"\",\n        \"description\": \"\"\n      }\n    },\n    {\n      \"column\": \"recommended\",\n      \"properties\": {\n        \"dtype\": \"number\",\n        \"std\": 0,\n        \"min\": 0,\n        \"max\": 1,\n        \"samples\": [\n          0,\n          1\n        ],\n        \"num_unique_values\": 2,\n        \"semantic_type\": \"\",\n        \"description\": \"\"\n      }\n    },\n    {\n      \"column\": \"Positive Feedback Count\",\n      \"properties\": {\n        \"dtype\": \"number\",\n        \"std\": 5,\n        \"min\": 0,\n        \"max\": 122,\n        \"samples\": [\n          21,\n          0\n        ],\n        \"num_unique_values\": 82,\n        \"semantic_type\": \"\",\n        \"description\": \"\"\n      }\n    },\n    {\n      \"column\": \"Division Name\",\n      \"properties\": {\n        \"dtype\": \"category\",\n        \"samples\": [\n          \"Initmates\",\n          \"General\"\n        ],\n        \"num_unique_values\": 3,\n        \"semantic_type\": \"\",\n        \"description\": \"\"\n      }\n    },\n    {\n      \"column\": \"Department Name\",\n      \"properties\": {\n        \"dtype\": \"category\",\n        \"samples\": [\n          \"Intimate\",\n          \"Dresses\"\n        ],\n        \"num_unique_values\": 6,\n        \"semantic_type\": \"\",\n        \"description\": \"\"\n      }\n    },\n    {\n      \"column\": \"Class Name\",\n      \"properties\": {\n        \"dtype\": \"category\",\n        \"samples\": [\n          \"Intimates\",\n          \"Layering\"\n        ],\n        \"num_unique_values\": 20,\n        \"semantic_type\": \"\",\n        \"description\": \"\"\n      }\n    },\n    {\n      \"column\": \"comment\",\n      \"properties\": {\n        \"dtype\": \"string\",\n        \"samples\": [\n          \"Substantial! I love this sweatshirt! i truly did not pay much attention to it on line but while in my local store one was returned and it caught my eye immediately as the flowers are embroidered in a nice substantial rope type yarn to give it a more demential effect. the torn holes here and there give the appearance of being the most loved garment in your closet...and it has become mine along with the jacket with the same embroidery...funny how 2 pieces i did not give a second thought about have become my li\",\n          \"Beautiful and comfortable! I'm surprised there are no reviews on this blouse yet! i've had it for a couple of months and love it! it looks great in the spring with my flora retailer infinity scarf. the color is beautiful...i've gotten many compliments on this too. it fits well and has a small texture, which makes it more interesting.\"\n        ],\n        \"num_unique_values\": 22638,\n        \"semantic_type\": \"\",\n        \"description\": \"\"\n      }\n    }\n  ]\n}"
            }
          },
          "metadata": {},
          "execution_count": 154
        }
      ]
    },
    {
      "cell_type": "code",
      "source": [
        "def get_missing_values(df):\n",
        "    df_missing = pd.DataFrame(100 * df.isnull().sum() / len(df), columns=['per_missing'])\n",
        "    df_missing['total'] = df.isnull().sum()\n",
        "    df_missing.sort_values(by='per_missing', ascending=False, inplace=True)\n",
        "    return df_missing\n",
        "\n",
        "get_missing_values(df)\n"
      ],
      "metadata": {
        "execution": {
          "iopub.status.busy": "2024-02-20T10:51:00.819803Z",
          "iopub.execute_input": "2024-02-20T10:51:00.820519Z",
          "iopub.status.idle": "2024-02-20T10:51:00.851663Z",
          "shell.execute_reply.started": "2024-02-20T10:51:00.820479Z",
          "shell.execute_reply": "2024-02-20T10:51:00.850918Z"
        },
        "trusted": true,
        "colab": {
          "base_uri": "https://localhost:8080/",
          "height": 394
        },
        "id": "_YYLS0osS3rH",
        "outputId": "6e06d358-ab2e-4bd8-8008-3d3d04240df2"
      },
      "execution_count": null,
      "outputs": [
        {
          "output_type": "execute_result",
          "data": {
            "text/plain": [
              "                         per_missing  total\n",
              "title                      16.222430   3810\n",
              "review_text                 3.597888    845\n",
              "Division Name               0.059610     14\n",
              "Department Name             0.059610     14\n",
              "Class Name                  0.059610     14\n",
              "Clothing ID                 0.000000      0\n",
              "Age                         0.000000      0\n",
              "rating                      0.000000      0\n",
              "recommended                 0.000000      0\n",
              "Positive Feedback Count     0.000000      0\n",
              "comment                     0.000000      0"
            ],
            "text/html": [
              "\n",
              "  <div id=\"df-f0ff8cab-01f0-426d-9040-1c94f7e4a319\" class=\"colab-df-container\">\n",
              "    <div>\n",
              "<style scoped>\n",
              "    .dataframe tbody tr th:only-of-type {\n",
              "        vertical-align: middle;\n",
              "    }\n",
              "\n",
              "    .dataframe tbody tr th {\n",
              "        vertical-align: top;\n",
              "    }\n",
              "\n",
              "    .dataframe thead th {\n",
              "        text-align: right;\n",
              "    }\n",
              "</style>\n",
              "<table border=\"1\" class=\"dataframe\">\n",
              "  <thead>\n",
              "    <tr style=\"text-align: right;\">\n",
              "      <th></th>\n",
              "      <th>per_missing</th>\n",
              "      <th>total</th>\n",
              "    </tr>\n",
              "  </thead>\n",
              "  <tbody>\n",
              "    <tr>\n",
              "      <th>title</th>\n",
              "      <td>16.222430</td>\n",
              "      <td>3810</td>\n",
              "    </tr>\n",
              "    <tr>\n",
              "      <th>review_text</th>\n",
              "      <td>3.597888</td>\n",
              "      <td>845</td>\n",
              "    </tr>\n",
              "    <tr>\n",
              "      <th>Division Name</th>\n",
              "      <td>0.059610</td>\n",
              "      <td>14</td>\n",
              "    </tr>\n",
              "    <tr>\n",
              "      <th>Department Name</th>\n",
              "      <td>0.059610</td>\n",
              "      <td>14</td>\n",
              "    </tr>\n",
              "    <tr>\n",
              "      <th>Class Name</th>\n",
              "      <td>0.059610</td>\n",
              "      <td>14</td>\n",
              "    </tr>\n",
              "    <tr>\n",
              "      <th>Clothing ID</th>\n",
              "      <td>0.000000</td>\n",
              "      <td>0</td>\n",
              "    </tr>\n",
              "    <tr>\n",
              "      <th>Age</th>\n",
              "      <td>0.000000</td>\n",
              "      <td>0</td>\n",
              "    </tr>\n",
              "    <tr>\n",
              "      <th>rating</th>\n",
              "      <td>0.000000</td>\n",
              "      <td>0</td>\n",
              "    </tr>\n",
              "    <tr>\n",
              "      <th>recommended</th>\n",
              "      <td>0.000000</td>\n",
              "      <td>0</td>\n",
              "    </tr>\n",
              "    <tr>\n",
              "      <th>Positive Feedback Count</th>\n",
              "      <td>0.000000</td>\n",
              "      <td>0</td>\n",
              "    </tr>\n",
              "    <tr>\n",
              "      <th>comment</th>\n",
              "      <td>0.000000</td>\n",
              "      <td>0</td>\n",
              "    </tr>\n",
              "  </tbody>\n",
              "</table>\n",
              "</div>\n",
              "    <div class=\"colab-df-buttons\">\n",
              "\n",
              "  <div class=\"colab-df-container\">\n",
              "    <button class=\"colab-df-convert\" onclick=\"convertToInteractive('df-f0ff8cab-01f0-426d-9040-1c94f7e4a319')\"\n",
              "            title=\"Convert this dataframe to an interactive table.\"\n",
              "            style=\"display:none;\">\n",
              "\n",
              "  <svg xmlns=\"http://www.w3.org/2000/svg\" height=\"24px\" viewBox=\"0 -960 960 960\">\n",
              "    <path d=\"M120-120v-720h720v720H120Zm60-500h600v-160H180v160Zm220 220h160v-160H400v160Zm0 220h160v-160H400v160ZM180-400h160v-160H180v160Zm440 0h160v-160H620v160ZM180-180h160v-160H180v160Zm440 0h160v-160H620v160Z\"/>\n",
              "  </svg>\n",
              "    </button>\n",
              "\n",
              "  <style>\n",
              "    .colab-df-container {\n",
              "      display:flex;\n",
              "      gap: 12px;\n",
              "    }\n",
              "\n",
              "    .colab-df-convert {\n",
              "      background-color: #E8F0FE;\n",
              "      border: none;\n",
              "      border-radius: 50%;\n",
              "      cursor: pointer;\n",
              "      display: none;\n",
              "      fill: #1967D2;\n",
              "      height: 32px;\n",
              "      padding: 0 0 0 0;\n",
              "      width: 32px;\n",
              "    }\n",
              "\n",
              "    .colab-df-convert:hover {\n",
              "      background-color: #E2EBFA;\n",
              "      box-shadow: 0px 1px 2px rgba(60, 64, 67, 0.3), 0px 1px 3px 1px rgba(60, 64, 67, 0.15);\n",
              "      fill: #174EA6;\n",
              "    }\n",
              "\n",
              "    .colab-df-buttons div {\n",
              "      margin-bottom: 4px;\n",
              "    }\n",
              "\n",
              "    [theme=dark] .colab-df-convert {\n",
              "      background-color: #3B4455;\n",
              "      fill: #D2E3FC;\n",
              "    }\n",
              "\n",
              "    [theme=dark] .colab-df-convert:hover {\n",
              "      background-color: #434B5C;\n",
              "      box-shadow: 0px 1px 3px 1px rgba(0, 0, 0, 0.15);\n",
              "      filter: drop-shadow(0px 1px 2px rgba(0, 0, 0, 0.3));\n",
              "      fill: #FFFFFF;\n",
              "    }\n",
              "  </style>\n",
              "\n",
              "    <script>\n",
              "      const buttonEl =\n",
              "        document.querySelector('#df-f0ff8cab-01f0-426d-9040-1c94f7e4a319 button.colab-df-convert');\n",
              "      buttonEl.style.display =\n",
              "        google.colab.kernel.accessAllowed ? 'block' : 'none';\n",
              "\n",
              "      async function convertToInteractive(key) {\n",
              "        const element = document.querySelector('#df-f0ff8cab-01f0-426d-9040-1c94f7e4a319');\n",
              "        const dataTable =\n",
              "          await google.colab.kernel.invokeFunction('convertToInteractive',\n",
              "                                                    [key], {});\n",
              "        if (!dataTable) return;\n",
              "\n",
              "        const docLinkHtml = 'Like what you see? Visit the ' +\n",
              "          '<a target=\"_blank\" href=https://colab.research.google.com/notebooks/data_table.ipynb>data table notebook</a>'\n",
              "          + ' to learn more about interactive tables.';\n",
              "        element.innerHTML = '';\n",
              "        dataTable['output_type'] = 'display_data';\n",
              "        await google.colab.output.renderOutput(dataTable, element);\n",
              "        const docLink = document.createElement('div');\n",
              "        docLink.innerHTML = docLinkHtml;\n",
              "        element.appendChild(docLink);\n",
              "      }\n",
              "    </script>\n",
              "  </div>\n",
              "\n",
              "\n",
              "<div id=\"df-889e667a-aef5-4245-baa8-a1660fd201c2\">\n",
              "  <button class=\"colab-df-quickchart\" onclick=\"quickchart('df-889e667a-aef5-4245-baa8-a1660fd201c2')\"\n",
              "            title=\"Suggest charts\"\n",
              "            style=\"display:none;\">\n",
              "\n",
              "<svg xmlns=\"http://www.w3.org/2000/svg\" height=\"24px\"viewBox=\"0 0 24 24\"\n",
              "     width=\"24px\">\n",
              "    <g>\n",
              "        <path d=\"M19 3H5c-1.1 0-2 .9-2 2v14c0 1.1.9 2 2 2h14c1.1 0 2-.9 2-2V5c0-1.1-.9-2-2-2zM9 17H7v-7h2v7zm4 0h-2V7h2v10zm4 0h-2v-4h2v4z\"/>\n",
              "    </g>\n",
              "</svg>\n",
              "  </button>\n",
              "\n",
              "<style>\n",
              "  .colab-df-quickchart {\n",
              "      --bg-color: #E8F0FE;\n",
              "      --fill-color: #1967D2;\n",
              "      --hover-bg-color: #E2EBFA;\n",
              "      --hover-fill-color: #174EA6;\n",
              "      --disabled-fill-color: #AAA;\n",
              "      --disabled-bg-color: #DDD;\n",
              "  }\n",
              "\n",
              "  [theme=dark] .colab-df-quickchart {\n",
              "      --bg-color: #3B4455;\n",
              "      --fill-color: #D2E3FC;\n",
              "      --hover-bg-color: #434B5C;\n",
              "      --hover-fill-color: #FFFFFF;\n",
              "      --disabled-bg-color: #3B4455;\n",
              "      --disabled-fill-color: #666;\n",
              "  }\n",
              "\n",
              "  .colab-df-quickchart {\n",
              "    background-color: var(--bg-color);\n",
              "    border: none;\n",
              "    border-radius: 50%;\n",
              "    cursor: pointer;\n",
              "    display: none;\n",
              "    fill: var(--fill-color);\n",
              "    height: 32px;\n",
              "    padding: 0;\n",
              "    width: 32px;\n",
              "  }\n",
              "\n",
              "  .colab-df-quickchart:hover {\n",
              "    background-color: var(--hover-bg-color);\n",
              "    box-shadow: 0 1px 2px rgba(60, 64, 67, 0.3), 0 1px 3px 1px rgba(60, 64, 67, 0.15);\n",
              "    fill: var(--button-hover-fill-color);\n",
              "  }\n",
              "\n",
              "  .colab-df-quickchart-complete:disabled,\n",
              "  .colab-df-quickchart-complete:disabled:hover {\n",
              "    background-color: var(--disabled-bg-color);\n",
              "    fill: var(--disabled-fill-color);\n",
              "    box-shadow: none;\n",
              "  }\n",
              "\n",
              "  .colab-df-spinner {\n",
              "    border: 2px solid var(--fill-color);\n",
              "    border-color: transparent;\n",
              "    border-bottom-color: var(--fill-color);\n",
              "    animation:\n",
              "      spin 1s steps(1) infinite;\n",
              "  }\n",
              "\n",
              "  @keyframes spin {\n",
              "    0% {\n",
              "      border-color: transparent;\n",
              "      border-bottom-color: var(--fill-color);\n",
              "      border-left-color: var(--fill-color);\n",
              "    }\n",
              "    20% {\n",
              "      border-color: transparent;\n",
              "      border-left-color: var(--fill-color);\n",
              "      border-top-color: var(--fill-color);\n",
              "    }\n",
              "    30% {\n",
              "      border-color: transparent;\n",
              "      border-left-color: var(--fill-color);\n",
              "      border-top-color: var(--fill-color);\n",
              "      border-right-color: var(--fill-color);\n",
              "    }\n",
              "    40% {\n",
              "      border-color: transparent;\n",
              "      border-right-color: var(--fill-color);\n",
              "      border-top-color: var(--fill-color);\n",
              "    }\n",
              "    60% {\n",
              "      border-color: transparent;\n",
              "      border-right-color: var(--fill-color);\n",
              "    }\n",
              "    80% {\n",
              "      border-color: transparent;\n",
              "      border-right-color: var(--fill-color);\n",
              "      border-bottom-color: var(--fill-color);\n",
              "    }\n",
              "    90% {\n",
              "      border-color: transparent;\n",
              "      border-bottom-color: var(--fill-color);\n",
              "    }\n",
              "  }\n",
              "</style>\n",
              "\n",
              "  <script>\n",
              "    async function quickchart(key) {\n",
              "      const quickchartButtonEl =\n",
              "        document.querySelector('#' + key + ' button');\n",
              "      quickchartButtonEl.disabled = true;  // To prevent multiple clicks.\n",
              "      quickchartButtonEl.classList.add('colab-df-spinner');\n",
              "      try {\n",
              "        const charts = await google.colab.kernel.invokeFunction(\n",
              "            'suggestCharts', [key], {});\n",
              "      } catch (error) {\n",
              "        console.error('Error during call to suggestCharts:', error);\n",
              "      }\n",
              "      quickchartButtonEl.classList.remove('colab-df-spinner');\n",
              "      quickchartButtonEl.classList.add('colab-df-quickchart-complete');\n",
              "    }\n",
              "    (() => {\n",
              "      let quickchartButtonEl =\n",
              "        document.querySelector('#df-889e667a-aef5-4245-baa8-a1660fd201c2 button');\n",
              "      quickchartButtonEl.style.display =\n",
              "        google.colab.kernel.accessAllowed ? 'block' : 'none';\n",
              "    })();\n",
              "  </script>\n",
              "</div>\n",
              "\n",
              "    </div>\n",
              "  </div>\n"
            ],
            "application/vnd.google.colaboratory.intrinsic+json": {
              "type": "dataframe",
              "summary": "{\n  \"name\": \"get_missing_values(df)\",\n  \"rows\": 11,\n  \"fields\": [\n    {\n      \"column\": \"per_missing\",\n      \"properties\": {\n        \"dtype\": \"number\",\n        \"std\": 4.896551507064887,\n        \"min\": 0.0,\n        \"max\": 16.222430384058587,\n        \"samples\": [\n          3.5978881035510515,\n          0.0,\n          16.222430384058587\n        ],\n        \"num_unique_values\": 4,\n        \"semantic_type\": \"\",\n        \"description\": \"\"\n      }\n    },\n    {\n      \"column\": \"total\",\n      \"properties\": {\n        \"dtype\": \"number\",\n        \"std\": 1150,\n        \"min\": 0,\n        \"max\": 3810,\n        \"samples\": [\n          845,\n          0,\n          3810\n        ],\n        \"num_unique_values\": 4,\n        \"semantic_type\": \"\",\n        \"description\": \"\"\n      }\n    }\n  ]\n}"
            }
          },
          "metadata": {},
          "execution_count": 155
        }
      ]
    },
    {
      "cell_type": "code",
      "source": [
        "df[df[\"title\"].isnull()]"
      ],
      "metadata": {
        "execution": {
          "iopub.status.busy": "2024-02-20T10:51:04.235266Z",
          "iopub.execute_input": "2024-02-20T10:51:04.235606Z",
          "iopub.status.idle": "2024-02-20T10:51:04.250383Z",
          "shell.execute_reply.started": "2024-02-20T10:51:04.235577Z",
          "shell.execute_reply": "2024-02-20T10:51:04.249608Z"
        },
        "trusted": true,
        "colab": {
          "base_uri": "https://localhost:8080/",
          "height": 614
        },
        "id": "MSIhdvX9S3rI",
        "outputId": "70968f38-e21f-4d9f-aa3a-515e7c5d6e49"
      },
      "execution_count": null,
      "outputs": [
        {
          "output_type": "execute_result",
          "data": {
            "text/plain": [
              "       Clothing ID  Age title  \\\n",
              "0              767   33   NaN   \n",
              "1             1080   34   NaN   \n",
              "11            1095   39   NaN   \n",
              "30            1060   33   NaN   \n",
              "36            1002   29   NaN   \n",
              "...            ...  ...   ...   \n",
              "23450          964   40   NaN   \n",
              "23453         1104   39   NaN   \n",
              "23458          862   63   NaN   \n",
              "23470         1104   39   NaN   \n",
              "23480          862   35   NaN   \n",
              "\n",
              "                                             review_text  rating  recommended  \\\n",
              "0      Absolutely wonderful - silky and sexy and comf...       4            1   \n",
              "1      Love this dress!  it's sooo pretty.  i happene...       5            1   \n",
              "11     This dress is perfection! so pretty and flatte...       5            1   \n",
              "30     Beautifully made pants and on trend with the f...       5            1   \n",
              "36     This is a comfortable skirt that can span seas...       4            1   \n",
              "...                                                  ...     ...          ...   \n",
              "23450  I wanted to love this jacket. so soft and grea...       3            0   \n",
              "23453  I am 5' 2\" about 118 lbs. thought this fit rea...       4            1   \n",
              "23458  This is my new favorite sweater. it is lightwe...       5            1   \n",
              "23470                                                NaN       5            1   \n",
              "23480                                                NaN       5            1   \n",
              "\n",
              "       Positive Feedback Count   Division Name Department Name Class Name  \\\n",
              "0                            0       Initmates        Intimate  Intimates   \n",
              "1                            4         General         Dresses    Dresses   \n",
              "11                           2  General Petite         Dresses    Dresses   \n",
              "30                           0  General Petite         Bottoms      Pants   \n",
              "36                           5         General         Bottoms     Skirts   \n",
              "...                        ...             ...             ...        ...   \n",
              "23450                        4         General         Jackets    Jackets   \n",
              "23453                        0  General Petite         Dresses    Dresses   \n",
              "23458                        0  General Petite            Tops      Knits   \n",
              "23470                        0  General Petite         Dresses    Dresses   \n",
              "23480                        0  General Petite            Tops      Knits   \n",
              "\n",
              "                                                 comment  \n",
              "0      nan Absolutely wonderful - silky and sexy and ...  \n",
              "1      nan Love this dress!  it's sooo pretty.  i hap...  \n",
              "11     nan This dress is perfection! so pretty and fl...  \n",
              "30     nan Beautifully made pants and on trend with t...  \n",
              "36     nan This is a comfortable skirt that can span ...  \n",
              "...                                                  ...  \n",
              "23450  nan I wanted to love this jacket. so soft and ...  \n",
              "23453  nan I am 5' 2\" about 118 lbs. thought this fit...  \n",
              "23458  nan This is my new favorite sweater. it is lig...  \n",
              "23470                                            nan nan  \n",
              "23480                                            nan nan  \n",
              "\n",
              "[3810 rows x 11 columns]"
            ],
            "text/html": [
              "\n",
              "  <div id=\"df-541b5887-3180-4e8f-b46b-d9128fb406d0\" class=\"colab-df-container\">\n",
              "    <div>\n",
              "<style scoped>\n",
              "    .dataframe tbody tr th:only-of-type {\n",
              "        vertical-align: middle;\n",
              "    }\n",
              "\n",
              "    .dataframe tbody tr th {\n",
              "        vertical-align: top;\n",
              "    }\n",
              "\n",
              "    .dataframe thead th {\n",
              "        text-align: right;\n",
              "    }\n",
              "</style>\n",
              "<table border=\"1\" class=\"dataframe\">\n",
              "  <thead>\n",
              "    <tr style=\"text-align: right;\">\n",
              "      <th></th>\n",
              "      <th>Clothing ID</th>\n",
              "      <th>Age</th>\n",
              "      <th>title</th>\n",
              "      <th>review_text</th>\n",
              "      <th>rating</th>\n",
              "      <th>recommended</th>\n",
              "      <th>Positive Feedback Count</th>\n",
              "      <th>Division Name</th>\n",
              "      <th>Department Name</th>\n",
              "      <th>Class Name</th>\n",
              "      <th>comment</th>\n",
              "    </tr>\n",
              "  </thead>\n",
              "  <tbody>\n",
              "    <tr>\n",
              "      <th>0</th>\n",
              "      <td>767</td>\n",
              "      <td>33</td>\n",
              "      <td>NaN</td>\n",
              "      <td>Absolutely wonderful - silky and sexy and comf...</td>\n",
              "      <td>4</td>\n",
              "      <td>1</td>\n",
              "      <td>0</td>\n",
              "      <td>Initmates</td>\n",
              "      <td>Intimate</td>\n",
              "      <td>Intimates</td>\n",
              "      <td>nan Absolutely wonderful - silky and sexy and ...</td>\n",
              "    </tr>\n",
              "    <tr>\n",
              "      <th>1</th>\n",
              "      <td>1080</td>\n",
              "      <td>34</td>\n",
              "      <td>NaN</td>\n",
              "      <td>Love this dress!  it's sooo pretty.  i happene...</td>\n",
              "      <td>5</td>\n",
              "      <td>1</td>\n",
              "      <td>4</td>\n",
              "      <td>General</td>\n",
              "      <td>Dresses</td>\n",
              "      <td>Dresses</td>\n",
              "      <td>nan Love this dress!  it's sooo pretty.  i hap...</td>\n",
              "    </tr>\n",
              "    <tr>\n",
              "      <th>11</th>\n",
              "      <td>1095</td>\n",
              "      <td>39</td>\n",
              "      <td>NaN</td>\n",
              "      <td>This dress is perfection! so pretty and flatte...</td>\n",
              "      <td>5</td>\n",
              "      <td>1</td>\n",
              "      <td>2</td>\n",
              "      <td>General Petite</td>\n",
              "      <td>Dresses</td>\n",
              "      <td>Dresses</td>\n",
              "      <td>nan This dress is perfection! so pretty and fl...</td>\n",
              "    </tr>\n",
              "    <tr>\n",
              "      <th>30</th>\n",
              "      <td>1060</td>\n",
              "      <td>33</td>\n",
              "      <td>NaN</td>\n",
              "      <td>Beautifully made pants and on trend with the f...</td>\n",
              "      <td>5</td>\n",
              "      <td>1</td>\n",
              "      <td>0</td>\n",
              "      <td>General Petite</td>\n",
              "      <td>Bottoms</td>\n",
              "      <td>Pants</td>\n",
              "      <td>nan Beautifully made pants and on trend with t...</td>\n",
              "    </tr>\n",
              "    <tr>\n",
              "      <th>36</th>\n",
              "      <td>1002</td>\n",
              "      <td>29</td>\n",
              "      <td>NaN</td>\n",
              "      <td>This is a comfortable skirt that can span seas...</td>\n",
              "      <td>4</td>\n",
              "      <td>1</td>\n",
              "      <td>5</td>\n",
              "      <td>General</td>\n",
              "      <td>Bottoms</td>\n",
              "      <td>Skirts</td>\n",
              "      <td>nan This is a comfortable skirt that can span ...</td>\n",
              "    </tr>\n",
              "    <tr>\n",
              "      <th>...</th>\n",
              "      <td>...</td>\n",
              "      <td>...</td>\n",
              "      <td>...</td>\n",
              "      <td>...</td>\n",
              "      <td>...</td>\n",
              "      <td>...</td>\n",
              "      <td>...</td>\n",
              "      <td>...</td>\n",
              "      <td>...</td>\n",
              "      <td>...</td>\n",
              "      <td>...</td>\n",
              "    </tr>\n",
              "    <tr>\n",
              "      <th>23450</th>\n",
              "      <td>964</td>\n",
              "      <td>40</td>\n",
              "      <td>NaN</td>\n",
              "      <td>I wanted to love this jacket. so soft and grea...</td>\n",
              "      <td>3</td>\n",
              "      <td>0</td>\n",
              "      <td>4</td>\n",
              "      <td>General</td>\n",
              "      <td>Jackets</td>\n",
              "      <td>Jackets</td>\n",
              "      <td>nan I wanted to love this jacket. so soft and ...</td>\n",
              "    </tr>\n",
              "    <tr>\n",
              "      <th>23453</th>\n",
              "      <td>1104</td>\n",
              "      <td>39</td>\n",
              "      <td>NaN</td>\n",
              "      <td>I am 5' 2\" about 118 lbs. thought this fit rea...</td>\n",
              "      <td>4</td>\n",
              "      <td>1</td>\n",
              "      <td>0</td>\n",
              "      <td>General Petite</td>\n",
              "      <td>Dresses</td>\n",
              "      <td>Dresses</td>\n",
              "      <td>nan I am 5' 2\" about 118 lbs. thought this fit...</td>\n",
              "    </tr>\n",
              "    <tr>\n",
              "      <th>23458</th>\n",
              "      <td>862</td>\n",
              "      <td>63</td>\n",
              "      <td>NaN</td>\n",
              "      <td>This is my new favorite sweater. it is lightwe...</td>\n",
              "      <td>5</td>\n",
              "      <td>1</td>\n",
              "      <td>0</td>\n",
              "      <td>General Petite</td>\n",
              "      <td>Tops</td>\n",
              "      <td>Knits</td>\n",
              "      <td>nan This is my new favorite sweater. it is lig...</td>\n",
              "    </tr>\n",
              "    <tr>\n",
              "      <th>23470</th>\n",
              "      <td>1104</td>\n",
              "      <td>39</td>\n",
              "      <td>NaN</td>\n",
              "      <td>NaN</td>\n",
              "      <td>5</td>\n",
              "      <td>1</td>\n",
              "      <td>0</td>\n",
              "      <td>General Petite</td>\n",
              "      <td>Dresses</td>\n",
              "      <td>Dresses</td>\n",
              "      <td>nan nan</td>\n",
              "    </tr>\n",
              "    <tr>\n",
              "      <th>23480</th>\n",
              "      <td>862</td>\n",
              "      <td>35</td>\n",
              "      <td>NaN</td>\n",
              "      <td>NaN</td>\n",
              "      <td>5</td>\n",
              "      <td>1</td>\n",
              "      <td>0</td>\n",
              "      <td>General Petite</td>\n",
              "      <td>Tops</td>\n",
              "      <td>Knits</td>\n",
              "      <td>nan nan</td>\n",
              "    </tr>\n",
              "  </tbody>\n",
              "</table>\n",
              "<p>3810 rows × 11 columns</p>\n",
              "</div>\n",
              "    <div class=\"colab-df-buttons\">\n",
              "\n",
              "  <div class=\"colab-df-container\">\n",
              "    <button class=\"colab-df-convert\" onclick=\"convertToInteractive('df-541b5887-3180-4e8f-b46b-d9128fb406d0')\"\n",
              "            title=\"Convert this dataframe to an interactive table.\"\n",
              "            style=\"display:none;\">\n",
              "\n",
              "  <svg xmlns=\"http://www.w3.org/2000/svg\" height=\"24px\" viewBox=\"0 -960 960 960\">\n",
              "    <path d=\"M120-120v-720h720v720H120Zm60-500h600v-160H180v160Zm220 220h160v-160H400v160Zm0 220h160v-160H400v160ZM180-400h160v-160H180v160Zm440 0h160v-160H620v160ZM180-180h160v-160H180v160Zm440 0h160v-160H620v160Z\"/>\n",
              "  </svg>\n",
              "    </button>\n",
              "\n",
              "  <style>\n",
              "    .colab-df-container {\n",
              "      display:flex;\n",
              "      gap: 12px;\n",
              "    }\n",
              "\n",
              "    .colab-df-convert {\n",
              "      background-color: #E8F0FE;\n",
              "      border: none;\n",
              "      border-radius: 50%;\n",
              "      cursor: pointer;\n",
              "      display: none;\n",
              "      fill: #1967D2;\n",
              "      height: 32px;\n",
              "      padding: 0 0 0 0;\n",
              "      width: 32px;\n",
              "    }\n",
              "\n",
              "    .colab-df-convert:hover {\n",
              "      background-color: #E2EBFA;\n",
              "      box-shadow: 0px 1px 2px rgba(60, 64, 67, 0.3), 0px 1px 3px 1px rgba(60, 64, 67, 0.15);\n",
              "      fill: #174EA6;\n",
              "    }\n",
              "\n",
              "    .colab-df-buttons div {\n",
              "      margin-bottom: 4px;\n",
              "    }\n",
              "\n",
              "    [theme=dark] .colab-df-convert {\n",
              "      background-color: #3B4455;\n",
              "      fill: #D2E3FC;\n",
              "    }\n",
              "\n",
              "    [theme=dark] .colab-df-convert:hover {\n",
              "      background-color: #434B5C;\n",
              "      box-shadow: 0px 1px 3px 1px rgba(0, 0, 0, 0.15);\n",
              "      filter: drop-shadow(0px 1px 2px rgba(0, 0, 0, 0.3));\n",
              "      fill: #FFFFFF;\n",
              "    }\n",
              "  </style>\n",
              "\n",
              "    <script>\n",
              "      const buttonEl =\n",
              "        document.querySelector('#df-541b5887-3180-4e8f-b46b-d9128fb406d0 button.colab-df-convert');\n",
              "      buttonEl.style.display =\n",
              "        google.colab.kernel.accessAllowed ? 'block' : 'none';\n",
              "\n",
              "      async function convertToInteractive(key) {\n",
              "        const element = document.querySelector('#df-541b5887-3180-4e8f-b46b-d9128fb406d0');\n",
              "        const dataTable =\n",
              "          await google.colab.kernel.invokeFunction('convertToInteractive',\n",
              "                                                    [key], {});\n",
              "        if (!dataTable) return;\n",
              "\n",
              "        const docLinkHtml = 'Like what you see? Visit the ' +\n",
              "          '<a target=\"_blank\" href=https://colab.research.google.com/notebooks/data_table.ipynb>data table notebook</a>'\n",
              "          + ' to learn more about interactive tables.';\n",
              "        element.innerHTML = '';\n",
              "        dataTable['output_type'] = 'display_data';\n",
              "        await google.colab.output.renderOutput(dataTable, element);\n",
              "        const docLink = document.createElement('div');\n",
              "        docLink.innerHTML = docLinkHtml;\n",
              "        element.appendChild(docLink);\n",
              "      }\n",
              "    </script>\n",
              "  </div>\n",
              "\n",
              "\n",
              "<div id=\"df-53690073-cc5a-48bd-91c5-eaef349883b8\">\n",
              "  <button class=\"colab-df-quickchart\" onclick=\"quickchart('df-53690073-cc5a-48bd-91c5-eaef349883b8')\"\n",
              "            title=\"Suggest charts\"\n",
              "            style=\"display:none;\">\n",
              "\n",
              "<svg xmlns=\"http://www.w3.org/2000/svg\" height=\"24px\"viewBox=\"0 0 24 24\"\n",
              "     width=\"24px\">\n",
              "    <g>\n",
              "        <path d=\"M19 3H5c-1.1 0-2 .9-2 2v14c0 1.1.9 2 2 2h14c1.1 0 2-.9 2-2V5c0-1.1-.9-2-2-2zM9 17H7v-7h2v7zm4 0h-2V7h2v10zm4 0h-2v-4h2v4z\"/>\n",
              "    </g>\n",
              "</svg>\n",
              "  </button>\n",
              "\n",
              "<style>\n",
              "  .colab-df-quickchart {\n",
              "      --bg-color: #E8F0FE;\n",
              "      --fill-color: #1967D2;\n",
              "      --hover-bg-color: #E2EBFA;\n",
              "      --hover-fill-color: #174EA6;\n",
              "      --disabled-fill-color: #AAA;\n",
              "      --disabled-bg-color: #DDD;\n",
              "  }\n",
              "\n",
              "  [theme=dark] .colab-df-quickchart {\n",
              "      --bg-color: #3B4455;\n",
              "      --fill-color: #D2E3FC;\n",
              "      --hover-bg-color: #434B5C;\n",
              "      --hover-fill-color: #FFFFFF;\n",
              "      --disabled-bg-color: #3B4455;\n",
              "      --disabled-fill-color: #666;\n",
              "  }\n",
              "\n",
              "  .colab-df-quickchart {\n",
              "    background-color: var(--bg-color);\n",
              "    border: none;\n",
              "    border-radius: 50%;\n",
              "    cursor: pointer;\n",
              "    display: none;\n",
              "    fill: var(--fill-color);\n",
              "    height: 32px;\n",
              "    padding: 0;\n",
              "    width: 32px;\n",
              "  }\n",
              "\n",
              "  .colab-df-quickchart:hover {\n",
              "    background-color: var(--hover-bg-color);\n",
              "    box-shadow: 0 1px 2px rgba(60, 64, 67, 0.3), 0 1px 3px 1px rgba(60, 64, 67, 0.15);\n",
              "    fill: var(--button-hover-fill-color);\n",
              "  }\n",
              "\n",
              "  .colab-df-quickchart-complete:disabled,\n",
              "  .colab-df-quickchart-complete:disabled:hover {\n",
              "    background-color: var(--disabled-bg-color);\n",
              "    fill: var(--disabled-fill-color);\n",
              "    box-shadow: none;\n",
              "  }\n",
              "\n",
              "  .colab-df-spinner {\n",
              "    border: 2px solid var(--fill-color);\n",
              "    border-color: transparent;\n",
              "    border-bottom-color: var(--fill-color);\n",
              "    animation:\n",
              "      spin 1s steps(1) infinite;\n",
              "  }\n",
              "\n",
              "  @keyframes spin {\n",
              "    0% {\n",
              "      border-color: transparent;\n",
              "      border-bottom-color: var(--fill-color);\n",
              "      border-left-color: var(--fill-color);\n",
              "    }\n",
              "    20% {\n",
              "      border-color: transparent;\n",
              "      border-left-color: var(--fill-color);\n",
              "      border-top-color: var(--fill-color);\n",
              "    }\n",
              "    30% {\n",
              "      border-color: transparent;\n",
              "      border-left-color: var(--fill-color);\n",
              "      border-top-color: var(--fill-color);\n",
              "      border-right-color: var(--fill-color);\n",
              "    }\n",
              "    40% {\n",
              "      border-color: transparent;\n",
              "      border-right-color: var(--fill-color);\n",
              "      border-top-color: var(--fill-color);\n",
              "    }\n",
              "    60% {\n",
              "      border-color: transparent;\n",
              "      border-right-color: var(--fill-color);\n",
              "    }\n",
              "    80% {\n",
              "      border-color: transparent;\n",
              "      border-right-color: var(--fill-color);\n",
              "      border-bottom-color: var(--fill-color);\n",
              "    }\n",
              "    90% {\n",
              "      border-color: transparent;\n",
              "      border-bottom-color: var(--fill-color);\n",
              "    }\n",
              "  }\n",
              "</style>\n",
              "\n",
              "  <script>\n",
              "    async function quickchart(key) {\n",
              "      const quickchartButtonEl =\n",
              "        document.querySelector('#' + key + ' button');\n",
              "      quickchartButtonEl.disabled = true;  // To prevent multiple clicks.\n",
              "      quickchartButtonEl.classList.add('colab-df-spinner');\n",
              "      try {\n",
              "        const charts = await google.colab.kernel.invokeFunction(\n",
              "            'suggestCharts', [key], {});\n",
              "      } catch (error) {\n",
              "        console.error('Error during call to suggestCharts:', error);\n",
              "      }\n",
              "      quickchartButtonEl.classList.remove('colab-df-spinner');\n",
              "      quickchartButtonEl.classList.add('colab-df-quickchart-complete');\n",
              "    }\n",
              "    (() => {\n",
              "      let quickchartButtonEl =\n",
              "        document.querySelector('#df-53690073-cc5a-48bd-91c5-eaef349883b8 button');\n",
              "      quickchartButtonEl.style.display =\n",
              "        google.colab.kernel.accessAllowed ? 'block' : 'none';\n",
              "    })();\n",
              "  </script>\n",
              "</div>\n",
              "\n",
              "    </div>\n",
              "  </div>\n"
            ],
            "application/vnd.google.colaboratory.intrinsic+json": {
              "type": "dataframe",
              "summary": "{\n  \"name\": \"df[df[\\\"title\\\"]\",\n  \"rows\": 3810,\n  \"fields\": [\n    {\n      \"column\": \"Clothing ID\",\n      \"properties\": {\n        \"dtype\": \"number\",\n        \"std\": 214,\n        \"min\": 0,\n        \"max\": 1205,\n        \"samples\": [\n          227,\n          1001,\n          1111\n        ],\n        \"num_unique_values\": 552,\n        \"semantic_type\": \"\",\n        \"description\": \"\"\n      }\n    },\n    {\n      \"column\": \"Age\",\n      \"properties\": {\n        \"dtype\": \"number\",\n        \"std\": 12,\n        \"min\": 19,\n        \"max\": 99,\n        \"samples\": [\n          37,\n          33,\n          21\n        ],\n        \"num_unique_values\": 70,\n        \"semantic_type\": \"\",\n        \"description\": \"\"\n      }\n    },\n    {\n      \"column\": \"title\",\n      \"properties\": {\n        \"dtype\": \"date\",\n        \"min\": NaN,\n        \"max\": NaN,\n        \"samples\": [],\n        \"num_unique_values\": 0,\n        \"semantic_type\": \"\",\n        \"description\": \"\"\n      }\n    },\n    {\n      \"column\": \"review_text\",\n      \"properties\": {\n        \"dtype\": \"string\",\n        \"samples\": [],\n        \"num_unique_values\": 2965,\n        \"semantic_type\": \"\",\n        \"description\": \"\"\n      }\n    },\n    {\n      \"column\": \"rating\",\n      \"properties\": {\n        \"dtype\": \"number\",\n        \"std\": 1,\n        \"min\": 1,\n        \"max\": 5,\n        \"samples\": [],\n        \"num_unique_values\": 5,\n        \"semantic_type\": \"\",\n        \"description\": \"\"\n      }\n    },\n    {\n      \"column\": \"recommended\",\n      \"properties\": {\n        \"dtype\": \"number\",\n        \"std\": 0,\n        \"min\": 0,\n        \"max\": 1,\n        \"samples\": [],\n        \"num_unique_values\": 2,\n        \"semantic_type\": \"\",\n        \"description\": \"\"\n      }\n    },\n    {\n      \"column\": \"Positive Feedback Count\",\n      \"properties\": {\n        \"dtype\": \"number\",\n        \"std\": 4,\n        \"min\": 0,\n        \"max\": 117,\n        \"samples\": [],\n        \"num_unique_values\": 43,\n        \"semantic_type\": \"\",\n        \"description\": \"\"\n      }\n    },\n    {\n      \"column\": \"Division Name\",\n      \"properties\": {\n        \"dtype\": \"category\",\n        \"samples\": [],\n        \"num_unique_values\": 3,\n        \"semantic_type\": \"\",\n        \"description\": \"\"\n      }\n    },\n    {\n      \"column\": \"Department Name\",\n      \"properties\": {\n        \"dtype\": \"category\",\n        \"samples\": [],\n        \"num_unique_values\": 6,\n        \"semantic_type\": \"\",\n        \"description\": \"\"\n      }\n    },\n    {\n      \"column\": \"Class Name\",\n      \"properties\": {\n        \"dtype\": \"category\",\n        \"samples\": [],\n        \"num_unique_values\": 19,\n        \"semantic_type\": \"\",\n        \"description\": \"\"\n      }\n    },\n    {\n      \"column\": \"comment\",\n      \"properties\": {\n        \"dtype\": \"string\",\n        \"samples\": [],\n        \"num_unique_values\": 2966,\n        \"semantic_type\": \"\",\n        \"description\": \"\"\n      }\n    }\n  ]\n}"
            }
          },
          "metadata": {},
          "execution_count": 156
        }
      ]
    },
    {
      "cell_type": "code",
      "source": [
        "df[df[\"comment\"]==\"nan nan\"]"
      ],
      "metadata": {
        "execution": {
          "iopub.status.busy": "2024-02-20T10:51:13.705149Z",
          "iopub.execute_input": "2024-02-20T10:51:13.705822Z",
          "iopub.status.idle": "2024-02-20T10:51:13.724375Z",
          "shell.execute_reply.started": "2024-02-20T10:51:13.705783Z",
          "shell.execute_reply": "2024-02-20T10:51:13.723631Z"
        },
        "trusted": true,
        "colab": {
          "base_uri": "https://localhost:8080/",
          "height": 423
        },
        "id": "mH-Q088wS3rJ",
        "outputId": "83644fed-c041-4079-d6a0-6c4dabb75464"
      },
      "execution_count": null,
      "outputs": [
        {
          "output_type": "execute_result",
          "data": {
            "text/plain": [
              "       Clothing ID  Age title review_text  rating  recommended  \\\n",
              "92             861   23   NaN         NaN       5            1   \n",
              "93            1081   31   NaN         NaN       5            1   \n",
              "98            1133   50   NaN         NaN       5            1   \n",
              "135            861   35   NaN         NaN       4            1   \n",
              "142           1126   35   NaN         NaN       5            1   \n",
              "...            ...  ...   ...         ...     ...          ...   \n",
              "23258          862   35   NaN         NaN       4            1   \n",
              "23301          862   52   NaN         NaN       5            1   \n",
              "23303          823   46   NaN         NaN       5            1   \n",
              "23470         1104   39   NaN         NaN       5            1   \n",
              "23480          862   35   NaN         NaN       5            1   \n",
              "\n",
              "       Positive Feedback Count   Division Name Department Name Class Name  \\\n",
              "92                           0  General Petite            Tops      Knits   \n",
              "93                           0         General         Dresses    Dresses   \n",
              "98                           0         General         Jackets  Outerwear   \n",
              "135                          0  General Petite            Tops      Knits   \n",
              "142                          0         General         Jackets  Outerwear   \n",
              "...                        ...             ...             ...        ...   \n",
              "23258                        0         General            Tops      Knits   \n",
              "23301                        0         General            Tops      Knits   \n",
              "23303                        0         General            Tops    Blouses   \n",
              "23470                        0  General Petite         Dresses    Dresses   \n",
              "23480                        0  General Petite            Tops      Knits   \n",
              "\n",
              "       comment  \n",
              "92     nan nan  \n",
              "93     nan nan  \n",
              "98     nan nan  \n",
              "135    nan nan  \n",
              "142    nan nan  \n",
              "...        ...  \n",
              "23258  nan nan  \n",
              "23301  nan nan  \n",
              "23303  nan nan  \n",
              "23470  nan nan  \n",
              "23480  nan nan  \n",
              "\n",
              "[844 rows x 11 columns]"
            ],
            "text/html": [
              "\n",
              "  <div id=\"df-eb423086-c144-4306-954d-892785005a37\" class=\"colab-df-container\">\n",
              "    <div>\n",
              "<style scoped>\n",
              "    .dataframe tbody tr th:only-of-type {\n",
              "        vertical-align: middle;\n",
              "    }\n",
              "\n",
              "    .dataframe tbody tr th {\n",
              "        vertical-align: top;\n",
              "    }\n",
              "\n",
              "    .dataframe thead th {\n",
              "        text-align: right;\n",
              "    }\n",
              "</style>\n",
              "<table border=\"1\" class=\"dataframe\">\n",
              "  <thead>\n",
              "    <tr style=\"text-align: right;\">\n",
              "      <th></th>\n",
              "      <th>Clothing ID</th>\n",
              "      <th>Age</th>\n",
              "      <th>title</th>\n",
              "      <th>review_text</th>\n",
              "      <th>rating</th>\n",
              "      <th>recommended</th>\n",
              "      <th>Positive Feedback Count</th>\n",
              "      <th>Division Name</th>\n",
              "      <th>Department Name</th>\n",
              "      <th>Class Name</th>\n",
              "      <th>comment</th>\n",
              "    </tr>\n",
              "  </thead>\n",
              "  <tbody>\n",
              "    <tr>\n",
              "      <th>92</th>\n",
              "      <td>861</td>\n",
              "      <td>23</td>\n",
              "      <td>NaN</td>\n",
              "      <td>NaN</td>\n",
              "      <td>5</td>\n",
              "      <td>1</td>\n",
              "      <td>0</td>\n",
              "      <td>General Petite</td>\n",
              "      <td>Tops</td>\n",
              "      <td>Knits</td>\n",
              "      <td>nan nan</td>\n",
              "    </tr>\n",
              "    <tr>\n",
              "      <th>93</th>\n",
              "      <td>1081</td>\n",
              "      <td>31</td>\n",
              "      <td>NaN</td>\n",
              "      <td>NaN</td>\n",
              "      <td>5</td>\n",
              "      <td>1</td>\n",
              "      <td>0</td>\n",
              "      <td>General</td>\n",
              "      <td>Dresses</td>\n",
              "      <td>Dresses</td>\n",
              "      <td>nan nan</td>\n",
              "    </tr>\n",
              "    <tr>\n",
              "      <th>98</th>\n",
              "      <td>1133</td>\n",
              "      <td>50</td>\n",
              "      <td>NaN</td>\n",
              "      <td>NaN</td>\n",
              "      <td>5</td>\n",
              "      <td>1</td>\n",
              "      <td>0</td>\n",
              "      <td>General</td>\n",
              "      <td>Jackets</td>\n",
              "      <td>Outerwear</td>\n",
              "      <td>nan nan</td>\n",
              "    </tr>\n",
              "    <tr>\n",
              "      <th>135</th>\n",
              "      <td>861</td>\n",
              "      <td>35</td>\n",
              "      <td>NaN</td>\n",
              "      <td>NaN</td>\n",
              "      <td>4</td>\n",
              "      <td>1</td>\n",
              "      <td>0</td>\n",
              "      <td>General Petite</td>\n",
              "      <td>Tops</td>\n",
              "      <td>Knits</td>\n",
              "      <td>nan nan</td>\n",
              "    </tr>\n",
              "    <tr>\n",
              "      <th>142</th>\n",
              "      <td>1126</td>\n",
              "      <td>35</td>\n",
              "      <td>NaN</td>\n",
              "      <td>NaN</td>\n",
              "      <td>5</td>\n",
              "      <td>1</td>\n",
              "      <td>0</td>\n",
              "      <td>General</td>\n",
              "      <td>Jackets</td>\n",
              "      <td>Outerwear</td>\n",
              "      <td>nan nan</td>\n",
              "    </tr>\n",
              "    <tr>\n",
              "      <th>...</th>\n",
              "      <td>...</td>\n",
              "      <td>...</td>\n",
              "      <td>...</td>\n",
              "      <td>...</td>\n",
              "      <td>...</td>\n",
              "      <td>...</td>\n",
              "      <td>...</td>\n",
              "      <td>...</td>\n",
              "      <td>...</td>\n",
              "      <td>...</td>\n",
              "      <td>...</td>\n",
              "    </tr>\n",
              "    <tr>\n",
              "      <th>23258</th>\n",
              "      <td>862</td>\n",
              "      <td>35</td>\n",
              "      <td>NaN</td>\n",
              "      <td>NaN</td>\n",
              "      <td>4</td>\n",
              "      <td>1</td>\n",
              "      <td>0</td>\n",
              "      <td>General</td>\n",
              "      <td>Tops</td>\n",
              "      <td>Knits</td>\n",
              "      <td>nan nan</td>\n",
              "    </tr>\n",
              "    <tr>\n",
              "      <th>23301</th>\n",
              "      <td>862</td>\n",
              "      <td>52</td>\n",
              "      <td>NaN</td>\n",
              "      <td>NaN</td>\n",
              "      <td>5</td>\n",
              "      <td>1</td>\n",
              "      <td>0</td>\n",
              "      <td>General</td>\n",
              "      <td>Tops</td>\n",
              "      <td>Knits</td>\n",
              "      <td>nan nan</td>\n",
              "    </tr>\n",
              "    <tr>\n",
              "      <th>23303</th>\n",
              "      <td>823</td>\n",
              "      <td>46</td>\n",
              "      <td>NaN</td>\n",
              "      <td>NaN</td>\n",
              "      <td>5</td>\n",
              "      <td>1</td>\n",
              "      <td>0</td>\n",
              "      <td>General</td>\n",
              "      <td>Tops</td>\n",
              "      <td>Blouses</td>\n",
              "      <td>nan nan</td>\n",
              "    </tr>\n",
              "    <tr>\n",
              "      <th>23470</th>\n",
              "      <td>1104</td>\n",
              "      <td>39</td>\n",
              "      <td>NaN</td>\n",
              "      <td>NaN</td>\n",
              "      <td>5</td>\n",
              "      <td>1</td>\n",
              "      <td>0</td>\n",
              "      <td>General Petite</td>\n",
              "      <td>Dresses</td>\n",
              "      <td>Dresses</td>\n",
              "      <td>nan nan</td>\n",
              "    </tr>\n",
              "    <tr>\n",
              "      <th>23480</th>\n",
              "      <td>862</td>\n",
              "      <td>35</td>\n",
              "      <td>NaN</td>\n",
              "      <td>NaN</td>\n",
              "      <td>5</td>\n",
              "      <td>1</td>\n",
              "      <td>0</td>\n",
              "      <td>General Petite</td>\n",
              "      <td>Tops</td>\n",
              "      <td>Knits</td>\n",
              "      <td>nan nan</td>\n",
              "    </tr>\n",
              "  </tbody>\n",
              "</table>\n",
              "<p>844 rows × 11 columns</p>\n",
              "</div>\n",
              "    <div class=\"colab-df-buttons\">\n",
              "\n",
              "  <div class=\"colab-df-container\">\n",
              "    <button class=\"colab-df-convert\" onclick=\"convertToInteractive('df-eb423086-c144-4306-954d-892785005a37')\"\n",
              "            title=\"Convert this dataframe to an interactive table.\"\n",
              "            style=\"display:none;\">\n",
              "\n",
              "  <svg xmlns=\"http://www.w3.org/2000/svg\" height=\"24px\" viewBox=\"0 -960 960 960\">\n",
              "    <path d=\"M120-120v-720h720v720H120Zm60-500h600v-160H180v160Zm220 220h160v-160H400v160Zm0 220h160v-160H400v160ZM180-400h160v-160H180v160Zm440 0h160v-160H620v160ZM180-180h160v-160H180v160Zm440 0h160v-160H620v160Z\"/>\n",
              "  </svg>\n",
              "    </button>\n",
              "\n",
              "  <style>\n",
              "    .colab-df-container {\n",
              "      display:flex;\n",
              "      gap: 12px;\n",
              "    }\n",
              "\n",
              "    .colab-df-convert {\n",
              "      background-color: #E8F0FE;\n",
              "      border: none;\n",
              "      border-radius: 50%;\n",
              "      cursor: pointer;\n",
              "      display: none;\n",
              "      fill: #1967D2;\n",
              "      height: 32px;\n",
              "      padding: 0 0 0 0;\n",
              "      width: 32px;\n",
              "    }\n",
              "\n",
              "    .colab-df-convert:hover {\n",
              "      background-color: #E2EBFA;\n",
              "      box-shadow: 0px 1px 2px rgba(60, 64, 67, 0.3), 0px 1px 3px 1px rgba(60, 64, 67, 0.15);\n",
              "      fill: #174EA6;\n",
              "    }\n",
              "\n",
              "    .colab-df-buttons div {\n",
              "      margin-bottom: 4px;\n",
              "    }\n",
              "\n",
              "    [theme=dark] .colab-df-convert {\n",
              "      background-color: #3B4455;\n",
              "      fill: #D2E3FC;\n",
              "    }\n",
              "\n",
              "    [theme=dark] .colab-df-convert:hover {\n",
              "      background-color: #434B5C;\n",
              "      box-shadow: 0px 1px 3px 1px rgba(0, 0, 0, 0.15);\n",
              "      filter: drop-shadow(0px 1px 2px rgba(0, 0, 0, 0.3));\n",
              "      fill: #FFFFFF;\n",
              "    }\n",
              "  </style>\n",
              "\n",
              "    <script>\n",
              "      const buttonEl =\n",
              "        document.querySelector('#df-eb423086-c144-4306-954d-892785005a37 button.colab-df-convert');\n",
              "      buttonEl.style.display =\n",
              "        google.colab.kernel.accessAllowed ? 'block' : 'none';\n",
              "\n",
              "      async function convertToInteractive(key) {\n",
              "        const element = document.querySelector('#df-eb423086-c144-4306-954d-892785005a37');\n",
              "        const dataTable =\n",
              "          await google.colab.kernel.invokeFunction('convertToInteractive',\n",
              "                                                    [key], {});\n",
              "        if (!dataTable) return;\n",
              "\n",
              "        const docLinkHtml = 'Like what you see? Visit the ' +\n",
              "          '<a target=\"_blank\" href=https://colab.research.google.com/notebooks/data_table.ipynb>data table notebook</a>'\n",
              "          + ' to learn more about interactive tables.';\n",
              "        element.innerHTML = '';\n",
              "        dataTable['output_type'] = 'display_data';\n",
              "        await google.colab.output.renderOutput(dataTable, element);\n",
              "        const docLink = document.createElement('div');\n",
              "        docLink.innerHTML = docLinkHtml;\n",
              "        element.appendChild(docLink);\n",
              "      }\n",
              "    </script>\n",
              "  </div>\n",
              "\n",
              "\n",
              "<div id=\"df-d5771456-9f3d-4216-be26-a20f374b52a8\">\n",
              "  <button class=\"colab-df-quickchart\" onclick=\"quickchart('df-d5771456-9f3d-4216-be26-a20f374b52a8')\"\n",
              "            title=\"Suggest charts\"\n",
              "            style=\"display:none;\">\n",
              "\n",
              "<svg xmlns=\"http://www.w3.org/2000/svg\" height=\"24px\"viewBox=\"0 0 24 24\"\n",
              "     width=\"24px\">\n",
              "    <g>\n",
              "        <path d=\"M19 3H5c-1.1 0-2 .9-2 2v14c0 1.1.9 2 2 2h14c1.1 0 2-.9 2-2V5c0-1.1-.9-2-2-2zM9 17H7v-7h2v7zm4 0h-2V7h2v10zm4 0h-2v-4h2v4z\"/>\n",
              "    </g>\n",
              "</svg>\n",
              "  </button>\n",
              "\n",
              "<style>\n",
              "  .colab-df-quickchart {\n",
              "      --bg-color: #E8F0FE;\n",
              "      --fill-color: #1967D2;\n",
              "      --hover-bg-color: #E2EBFA;\n",
              "      --hover-fill-color: #174EA6;\n",
              "      --disabled-fill-color: #AAA;\n",
              "      --disabled-bg-color: #DDD;\n",
              "  }\n",
              "\n",
              "  [theme=dark] .colab-df-quickchart {\n",
              "      --bg-color: #3B4455;\n",
              "      --fill-color: #D2E3FC;\n",
              "      --hover-bg-color: #434B5C;\n",
              "      --hover-fill-color: #FFFFFF;\n",
              "      --disabled-bg-color: #3B4455;\n",
              "      --disabled-fill-color: #666;\n",
              "  }\n",
              "\n",
              "  .colab-df-quickchart {\n",
              "    background-color: var(--bg-color);\n",
              "    border: none;\n",
              "    border-radius: 50%;\n",
              "    cursor: pointer;\n",
              "    display: none;\n",
              "    fill: var(--fill-color);\n",
              "    height: 32px;\n",
              "    padding: 0;\n",
              "    width: 32px;\n",
              "  }\n",
              "\n",
              "  .colab-df-quickchart:hover {\n",
              "    background-color: var(--hover-bg-color);\n",
              "    box-shadow: 0 1px 2px rgba(60, 64, 67, 0.3), 0 1px 3px 1px rgba(60, 64, 67, 0.15);\n",
              "    fill: var(--button-hover-fill-color);\n",
              "  }\n",
              "\n",
              "  .colab-df-quickchart-complete:disabled,\n",
              "  .colab-df-quickchart-complete:disabled:hover {\n",
              "    background-color: var(--disabled-bg-color);\n",
              "    fill: var(--disabled-fill-color);\n",
              "    box-shadow: none;\n",
              "  }\n",
              "\n",
              "  .colab-df-spinner {\n",
              "    border: 2px solid var(--fill-color);\n",
              "    border-color: transparent;\n",
              "    border-bottom-color: var(--fill-color);\n",
              "    animation:\n",
              "      spin 1s steps(1) infinite;\n",
              "  }\n",
              "\n",
              "  @keyframes spin {\n",
              "    0% {\n",
              "      border-color: transparent;\n",
              "      border-bottom-color: var(--fill-color);\n",
              "      border-left-color: var(--fill-color);\n",
              "    }\n",
              "    20% {\n",
              "      border-color: transparent;\n",
              "      border-left-color: var(--fill-color);\n",
              "      border-top-color: var(--fill-color);\n",
              "    }\n",
              "    30% {\n",
              "      border-color: transparent;\n",
              "      border-left-color: var(--fill-color);\n",
              "      border-top-color: var(--fill-color);\n",
              "      border-right-color: var(--fill-color);\n",
              "    }\n",
              "    40% {\n",
              "      border-color: transparent;\n",
              "      border-right-color: var(--fill-color);\n",
              "      border-top-color: var(--fill-color);\n",
              "    }\n",
              "    60% {\n",
              "      border-color: transparent;\n",
              "      border-right-color: var(--fill-color);\n",
              "    }\n",
              "    80% {\n",
              "      border-color: transparent;\n",
              "      border-right-color: var(--fill-color);\n",
              "      border-bottom-color: var(--fill-color);\n",
              "    }\n",
              "    90% {\n",
              "      border-color: transparent;\n",
              "      border-bottom-color: var(--fill-color);\n",
              "    }\n",
              "  }\n",
              "</style>\n",
              "\n",
              "  <script>\n",
              "    async function quickchart(key) {\n",
              "      const quickchartButtonEl =\n",
              "        document.querySelector('#' + key + ' button');\n",
              "      quickchartButtonEl.disabled = true;  // To prevent multiple clicks.\n",
              "      quickchartButtonEl.classList.add('colab-df-spinner');\n",
              "      try {\n",
              "        const charts = await google.colab.kernel.invokeFunction(\n",
              "            'suggestCharts', [key], {});\n",
              "      } catch (error) {\n",
              "        console.error('Error during call to suggestCharts:', error);\n",
              "      }\n",
              "      quickchartButtonEl.classList.remove('colab-df-spinner');\n",
              "      quickchartButtonEl.classList.add('colab-df-quickchart-complete');\n",
              "    }\n",
              "    (() => {\n",
              "      let quickchartButtonEl =\n",
              "        document.querySelector('#df-d5771456-9f3d-4216-be26-a20f374b52a8 button');\n",
              "      quickchartButtonEl.style.display =\n",
              "        google.colab.kernel.accessAllowed ? 'block' : 'none';\n",
              "    })();\n",
              "  </script>\n",
              "</div>\n",
              "\n",
              "    </div>\n",
              "  </div>\n"
            ],
            "application/vnd.google.colaboratory.intrinsic+json": {
              "type": "dataframe",
              "repr_error": "0"
            }
          },
          "metadata": {},
          "execution_count": 157
        }
      ]
    },
    {
      "cell_type": "code",
      "source": [
        "df = df[df[\"comment\"] != \"nan nan\"]"
      ],
      "metadata": {
        "execution": {
          "iopub.status.busy": "2024-02-20T10:51:18.141943Z",
          "iopub.execute_input": "2024-02-20T10:51:18.142494Z",
          "iopub.status.idle": "2024-02-20T10:51:18.154061Z",
          "shell.execute_reply.started": "2024-02-20T10:51:18.142451Z",
          "shell.execute_reply": "2024-02-20T10:51:18.153354Z"
        },
        "trusted": true,
        "id": "zoCVohfaS3rK"
      },
      "execution_count": null,
      "outputs": []
    },
    {
      "cell_type": "code",
      "source": [
        "df.isnull().sum()"
      ],
      "metadata": {
        "execution": {
          "iopub.status.busy": "2024-02-20T10:51:22.266006Z",
          "iopub.execute_input": "2024-02-20T10:51:22.266788Z",
          "iopub.status.idle": "2024-02-20T10:51:22.284138Z",
          "shell.execute_reply.started": "2024-02-20T10:51:22.266743Z",
          "shell.execute_reply": "2024-02-20T10:51:22.283431Z"
        },
        "trusted": true,
        "colab": {
          "base_uri": "https://localhost:8080/"
        },
        "id": "uzIfUCuGS3rK",
        "outputId": "a9914c94-15da-4db8-cbda-71f4d24a1edb"
      },
      "execution_count": null,
      "outputs": [
        {
          "output_type": "execute_result",
          "data": {
            "text/plain": [
              "Clothing ID                   0\n",
              "Age                           0\n",
              "title                      2966\n",
              "review_text                   1\n",
              "rating                        0\n",
              "recommended                   0\n",
              "Positive Feedback Count       0\n",
              "Division Name                13\n",
              "Department Name              13\n",
              "Class Name                   13\n",
              "comment                       0\n",
              "dtype: int64"
            ]
          },
          "metadata": {},
          "execution_count": 159
        }
      ]
    },
    {
      "cell_type": "code",
      "source": [
        "df.drop(columns=['Age', 'Clothing ID',  'Positive Feedback Count', 'Division Name','Class Name','Department Name', 'review_text','title'], inplace=True)"
      ],
      "metadata": {
        "execution": {
          "iopub.status.busy": "2024-02-20T10:51:29.356928Z",
          "iopub.execute_input": "2024-02-20T10:51:29.357584Z",
          "iopub.status.idle": "2024-02-20T10:51:29.929708Z",
          "shell.execute_reply.started": "2024-02-20T10:51:29.357550Z",
          "shell.execute_reply": "2024-02-20T10:51:29.928820Z"
        },
        "trusted": true,
        "id": "90J1EZ4HS3rL"
      },
      "execution_count": null,
      "outputs": []
    },
    {
      "cell_type": "code",
      "source": [
        "df.info()"
      ],
      "metadata": {
        "execution": {
          "iopub.status.busy": "2024-02-20T10:51:35.703883Z",
          "iopub.execute_input": "2024-02-20T10:51:35.704423Z",
          "iopub.status.idle": "2024-02-20T10:51:35.716779Z",
          "shell.execute_reply.started": "2024-02-20T10:51:35.704379Z",
          "shell.execute_reply": "2024-02-20T10:51:35.715998Z"
        },
        "trusted": true,
        "colab": {
          "base_uri": "https://localhost:8080/"
        },
        "id": "uevM7Z4OS3rL",
        "outputId": "d25def8f-e01f-4d0f-c702-fdc937a7175c"
      },
      "execution_count": null,
      "outputs": [
        {
          "output_type": "stream",
          "name": "stdout",
          "text": [
            "<class 'pandas.core.frame.DataFrame'>\n",
            "Int64Index: 22642 entries, 0 to 23485\n",
            "Data columns (total 3 columns):\n",
            " #   Column       Non-Null Count  Dtype \n",
            "---  ------       --------------  ----- \n",
            " 0   rating       22642 non-null  int64 \n",
            " 1   recommended  22642 non-null  int64 \n",
            " 2   comment      22642 non-null  object\n",
            "dtypes: int64(2), object(1)\n",
            "memory usage: 707.6+ KB\n"
          ]
        }
      ]
    },
    {
      "cell_type": "code",
      "source": [
        "df.head()"
      ],
      "metadata": {
        "execution": {
          "iopub.status.busy": "2024-02-20T10:34:00.889888Z",
          "iopub.execute_input": "2024-02-20T10:34:00.890615Z",
          "iopub.status.idle": "2024-02-20T10:34:00.897877Z",
          "shell.execute_reply.started": "2024-02-20T10:34:00.890578Z",
          "shell.execute_reply": "2024-02-20T10:34:00.897204Z"
        },
        "trusted": true,
        "colab": {
          "base_uri": "https://localhost:8080/",
          "height": 206
        },
        "id": "JDemNrLRS3rM",
        "outputId": "cbf7eaf2-9d15-4fdb-8be1-669a763c37d0"
      },
      "execution_count": null,
      "outputs": [
        {
          "output_type": "execute_result",
          "data": {
            "text/plain": [
              "   rating  recommended                                            comment\n",
              "0       4            1  nan Absolutely wonderful - silky and sexy and ...\n",
              "1       5            1  nan Love this dress!  it's sooo pretty.  i hap...\n",
              "2       3            0  Some major design flaws I had such high hopes ...\n",
              "3       5            1  My favorite buy! I love, love, love this jumps...\n",
              "4       5            1  Flattering shirt This shirt is very flattering..."
            ],
            "text/html": [
              "\n",
              "  <div id=\"df-7faf074c-122b-4106-910b-c85480d09e75\" class=\"colab-df-container\">\n",
              "    <div>\n",
              "<style scoped>\n",
              "    .dataframe tbody tr th:only-of-type {\n",
              "        vertical-align: middle;\n",
              "    }\n",
              "\n",
              "    .dataframe tbody tr th {\n",
              "        vertical-align: top;\n",
              "    }\n",
              "\n",
              "    .dataframe thead th {\n",
              "        text-align: right;\n",
              "    }\n",
              "</style>\n",
              "<table border=\"1\" class=\"dataframe\">\n",
              "  <thead>\n",
              "    <tr style=\"text-align: right;\">\n",
              "      <th></th>\n",
              "      <th>rating</th>\n",
              "      <th>recommended</th>\n",
              "      <th>comment</th>\n",
              "    </tr>\n",
              "  </thead>\n",
              "  <tbody>\n",
              "    <tr>\n",
              "      <th>0</th>\n",
              "      <td>4</td>\n",
              "      <td>1</td>\n",
              "      <td>nan Absolutely wonderful - silky and sexy and ...</td>\n",
              "    </tr>\n",
              "    <tr>\n",
              "      <th>1</th>\n",
              "      <td>5</td>\n",
              "      <td>1</td>\n",
              "      <td>nan Love this dress!  it's sooo pretty.  i hap...</td>\n",
              "    </tr>\n",
              "    <tr>\n",
              "      <th>2</th>\n",
              "      <td>3</td>\n",
              "      <td>0</td>\n",
              "      <td>Some major design flaws I had such high hopes ...</td>\n",
              "    </tr>\n",
              "    <tr>\n",
              "      <th>3</th>\n",
              "      <td>5</td>\n",
              "      <td>1</td>\n",
              "      <td>My favorite buy! I love, love, love this jumps...</td>\n",
              "    </tr>\n",
              "    <tr>\n",
              "      <th>4</th>\n",
              "      <td>5</td>\n",
              "      <td>1</td>\n",
              "      <td>Flattering shirt This shirt is very flattering...</td>\n",
              "    </tr>\n",
              "  </tbody>\n",
              "</table>\n",
              "</div>\n",
              "    <div class=\"colab-df-buttons\">\n",
              "\n",
              "  <div class=\"colab-df-container\">\n",
              "    <button class=\"colab-df-convert\" onclick=\"convertToInteractive('df-7faf074c-122b-4106-910b-c85480d09e75')\"\n",
              "            title=\"Convert this dataframe to an interactive table.\"\n",
              "            style=\"display:none;\">\n",
              "\n",
              "  <svg xmlns=\"http://www.w3.org/2000/svg\" height=\"24px\" viewBox=\"0 -960 960 960\">\n",
              "    <path d=\"M120-120v-720h720v720H120Zm60-500h600v-160H180v160Zm220 220h160v-160H400v160Zm0 220h160v-160H400v160ZM180-400h160v-160H180v160Zm440 0h160v-160H620v160ZM180-180h160v-160H180v160Zm440 0h160v-160H620v160Z\"/>\n",
              "  </svg>\n",
              "    </button>\n",
              "\n",
              "  <style>\n",
              "    .colab-df-container {\n",
              "      display:flex;\n",
              "      gap: 12px;\n",
              "    }\n",
              "\n",
              "    .colab-df-convert {\n",
              "      background-color: #E8F0FE;\n",
              "      border: none;\n",
              "      border-radius: 50%;\n",
              "      cursor: pointer;\n",
              "      display: none;\n",
              "      fill: #1967D2;\n",
              "      height: 32px;\n",
              "      padding: 0 0 0 0;\n",
              "      width: 32px;\n",
              "    }\n",
              "\n",
              "    .colab-df-convert:hover {\n",
              "      background-color: #E2EBFA;\n",
              "      box-shadow: 0px 1px 2px rgba(60, 64, 67, 0.3), 0px 1px 3px 1px rgba(60, 64, 67, 0.15);\n",
              "      fill: #174EA6;\n",
              "    }\n",
              "\n",
              "    .colab-df-buttons div {\n",
              "      margin-bottom: 4px;\n",
              "    }\n",
              "\n",
              "    [theme=dark] .colab-df-convert {\n",
              "      background-color: #3B4455;\n",
              "      fill: #D2E3FC;\n",
              "    }\n",
              "\n",
              "    [theme=dark] .colab-df-convert:hover {\n",
              "      background-color: #434B5C;\n",
              "      box-shadow: 0px 1px 3px 1px rgba(0, 0, 0, 0.15);\n",
              "      filter: drop-shadow(0px 1px 2px rgba(0, 0, 0, 0.3));\n",
              "      fill: #FFFFFF;\n",
              "    }\n",
              "  </style>\n",
              "\n",
              "    <script>\n",
              "      const buttonEl =\n",
              "        document.querySelector('#df-7faf074c-122b-4106-910b-c85480d09e75 button.colab-df-convert');\n",
              "      buttonEl.style.display =\n",
              "        google.colab.kernel.accessAllowed ? 'block' : 'none';\n",
              "\n",
              "      async function convertToInteractive(key) {\n",
              "        const element = document.querySelector('#df-7faf074c-122b-4106-910b-c85480d09e75');\n",
              "        const dataTable =\n",
              "          await google.colab.kernel.invokeFunction('convertToInteractive',\n",
              "                                                    [key], {});\n",
              "        if (!dataTable) return;\n",
              "\n",
              "        const docLinkHtml = 'Like what you see? Visit the ' +\n",
              "          '<a target=\"_blank\" href=https://colab.research.google.com/notebooks/data_table.ipynb>data table notebook</a>'\n",
              "          + ' to learn more about interactive tables.';\n",
              "        element.innerHTML = '';\n",
              "        dataTable['output_type'] = 'display_data';\n",
              "        await google.colab.output.renderOutput(dataTable, element);\n",
              "        const docLink = document.createElement('div');\n",
              "        docLink.innerHTML = docLinkHtml;\n",
              "        element.appendChild(docLink);\n",
              "      }\n",
              "    </script>\n",
              "  </div>\n",
              "\n",
              "\n",
              "<div id=\"df-2b175abe-9d02-4d0e-a8cd-dfb5ce061201\">\n",
              "  <button class=\"colab-df-quickchart\" onclick=\"quickchart('df-2b175abe-9d02-4d0e-a8cd-dfb5ce061201')\"\n",
              "            title=\"Suggest charts\"\n",
              "            style=\"display:none;\">\n",
              "\n",
              "<svg xmlns=\"http://www.w3.org/2000/svg\" height=\"24px\"viewBox=\"0 0 24 24\"\n",
              "     width=\"24px\">\n",
              "    <g>\n",
              "        <path d=\"M19 3H5c-1.1 0-2 .9-2 2v14c0 1.1.9 2 2 2h14c1.1 0 2-.9 2-2V5c0-1.1-.9-2-2-2zM9 17H7v-7h2v7zm4 0h-2V7h2v10zm4 0h-2v-4h2v4z\"/>\n",
              "    </g>\n",
              "</svg>\n",
              "  </button>\n",
              "\n",
              "<style>\n",
              "  .colab-df-quickchart {\n",
              "      --bg-color: #E8F0FE;\n",
              "      --fill-color: #1967D2;\n",
              "      --hover-bg-color: #E2EBFA;\n",
              "      --hover-fill-color: #174EA6;\n",
              "      --disabled-fill-color: #AAA;\n",
              "      --disabled-bg-color: #DDD;\n",
              "  }\n",
              "\n",
              "  [theme=dark] .colab-df-quickchart {\n",
              "      --bg-color: #3B4455;\n",
              "      --fill-color: #D2E3FC;\n",
              "      --hover-bg-color: #434B5C;\n",
              "      --hover-fill-color: #FFFFFF;\n",
              "      --disabled-bg-color: #3B4455;\n",
              "      --disabled-fill-color: #666;\n",
              "  }\n",
              "\n",
              "  .colab-df-quickchart {\n",
              "    background-color: var(--bg-color);\n",
              "    border: none;\n",
              "    border-radius: 50%;\n",
              "    cursor: pointer;\n",
              "    display: none;\n",
              "    fill: var(--fill-color);\n",
              "    height: 32px;\n",
              "    padding: 0;\n",
              "    width: 32px;\n",
              "  }\n",
              "\n",
              "  .colab-df-quickchart:hover {\n",
              "    background-color: var(--hover-bg-color);\n",
              "    box-shadow: 0 1px 2px rgba(60, 64, 67, 0.3), 0 1px 3px 1px rgba(60, 64, 67, 0.15);\n",
              "    fill: var(--button-hover-fill-color);\n",
              "  }\n",
              "\n",
              "  .colab-df-quickchart-complete:disabled,\n",
              "  .colab-df-quickchart-complete:disabled:hover {\n",
              "    background-color: var(--disabled-bg-color);\n",
              "    fill: var(--disabled-fill-color);\n",
              "    box-shadow: none;\n",
              "  }\n",
              "\n",
              "  .colab-df-spinner {\n",
              "    border: 2px solid var(--fill-color);\n",
              "    border-color: transparent;\n",
              "    border-bottom-color: var(--fill-color);\n",
              "    animation:\n",
              "      spin 1s steps(1) infinite;\n",
              "  }\n",
              "\n",
              "  @keyframes spin {\n",
              "    0% {\n",
              "      border-color: transparent;\n",
              "      border-bottom-color: var(--fill-color);\n",
              "      border-left-color: var(--fill-color);\n",
              "    }\n",
              "    20% {\n",
              "      border-color: transparent;\n",
              "      border-left-color: var(--fill-color);\n",
              "      border-top-color: var(--fill-color);\n",
              "    }\n",
              "    30% {\n",
              "      border-color: transparent;\n",
              "      border-left-color: var(--fill-color);\n",
              "      border-top-color: var(--fill-color);\n",
              "      border-right-color: var(--fill-color);\n",
              "    }\n",
              "    40% {\n",
              "      border-color: transparent;\n",
              "      border-right-color: var(--fill-color);\n",
              "      border-top-color: var(--fill-color);\n",
              "    }\n",
              "    60% {\n",
              "      border-color: transparent;\n",
              "      border-right-color: var(--fill-color);\n",
              "    }\n",
              "    80% {\n",
              "      border-color: transparent;\n",
              "      border-right-color: var(--fill-color);\n",
              "      border-bottom-color: var(--fill-color);\n",
              "    }\n",
              "    90% {\n",
              "      border-color: transparent;\n",
              "      border-bottom-color: var(--fill-color);\n",
              "    }\n",
              "  }\n",
              "</style>\n",
              "\n",
              "  <script>\n",
              "    async function quickchart(key) {\n",
              "      const quickchartButtonEl =\n",
              "        document.querySelector('#' + key + ' button');\n",
              "      quickchartButtonEl.disabled = true;  // To prevent multiple clicks.\n",
              "      quickchartButtonEl.classList.add('colab-df-spinner');\n",
              "      try {\n",
              "        const charts = await google.colab.kernel.invokeFunction(\n",
              "            'suggestCharts', [key], {});\n",
              "      } catch (error) {\n",
              "        console.error('Error during call to suggestCharts:', error);\n",
              "      }\n",
              "      quickchartButtonEl.classList.remove('colab-df-spinner');\n",
              "      quickchartButtonEl.classList.add('colab-df-quickchart-complete');\n",
              "    }\n",
              "    (() => {\n",
              "      let quickchartButtonEl =\n",
              "        document.querySelector('#df-2b175abe-9d02-4d0e-a8cd-dfb5ce061201 button');\n",
              "      quickchartButtonEl.style.display =\n",
              "        google.colab.kernel.accessAllowed ? 'block' : 'none';\n",
              "    })();\n",
              "  </script>\n",
              "</div>\n",
              "\n",
              "    </div>\n",
              "  </div>\n"
            ],
            "application/vnd.google.colaboratory.intrinsic+json": {
              "type": "dataframe",
              "variable_name": "df",
              "summary": "{\n  \"name\": \"df\",\n  \"rows\": 22642,\n  \"fields\": [\n    {\n      \"column\": \"rating\",\n      \"properties\": {\n        \"dtype\": \"number\",\n        \"std\": 1,\n        \"min\": 1,\n        \"max\": 5,\n        \"samples\": [\n          5,\n          1,\n          3\n        ],\n        \"num_unique_values\": 5,\n        \"semantic_type\": \"\",\n        \"description\": \"\"\n      }\n    },\n    {\n      \"column\": \"recommended\",\n      \"properties\": {\n        \"dtype\": \"number\",\n        \"std\": 0,\n        \"min\": 0,\n        \"max\": 1,\n        \"samples\": [\n          0,\n          1\n        ],\n        \"num_unique_values\": 2,\n        \"semantic_type\": \"\",\n        \"description\": \"\"\n      }\n    },\n    {\n      \"column\": \"comment\",\n      \"properties\": {\n        \"dtype\": \"string\",\n        \"samples\": [\n          \"Lovely This dress is beautiful. the neckline is not too low and the straps are wide enough so you can wear a normal bra! the waist is very flattering and the ruffle at the bottom is not too much. i am short so i ordered the petite and it is a perfect fit. now i just need some warmer weather!!\",\n          \"nan Runs true to size but some details were not as expected. the slit is only on one side and the look is more like sweater dress than sweater tunic. the length is not as long as pictured on the model. i'm 5'7 and the sweater ends half an inch below knees.\\nthe side slit starts too high, my waist is exposed unless i wear high waisted leggings.\\nother than that the sweater is darling. the cotton (68%) and acrylic (32%) thread is soft and thin, not bulky at all. the sweater stretches lightly with wear a\"\n        ],\n        \"num_unique_values\": 22637,\n        \"semantic_type\": \"\",\n        \"description\": \"\"\n      }\n    }\n  ]\n}"
            }
          },
          "metadata": {},
          "execution_count": 162
        }
      ]
    },
    {
      "cell_type": "code",
      "source": [
        "df['comment'] = df['comment'].str.replace('nan', '')"
      ],
      "metadata": {
        "execution": {
          "iopub.status.busy": "2024-02-20T10:51:55.599367Z",
          "iopub.execute_input": "2024-02-20T10:51:55.599706Z",
          "iopub.status.idle": "2024-02-20T10:51:55.619583Z",
          "shell.execute_reply.started": "2024-02-20T10:51:55.599679Z",
          "shell.execute_reply": "2024-02-20T10:51:55.618863Z"
        },
        "trusted": true,
        "id": "NmfHJ6lUS3rN"
      },
      "execution_count": null,
      "outputs": []
    },
    {
      "cell_type": "code",
      "source": [
        "df.head()"
      ],
      "metadata": {
        "execution": {
          "iopub.status.busy": "2024-02-20T10:51:59.500622Z",
          "iopub.execute_input": "2024-02-20T10:51:59.501366Z",
          "iopub.status.idle": "2024-02-20T10:51:59.509743Z",
          "shell.execute_reply.started": "2024-02-20T10:51:59.501333Z",
          "shell.execute_reply": "2024-02-20T10:51:59.509018Z"
        },
        "trusted": true,
        "colab": {
          "base_uri": "https://localhost:8080/",
          "height": 206
        },
        "id": "YV6k_IY4S3rO",
        "outputId": "a77bf7b3-6ba2-4d51-9c8c-64b27d923f36"
      },
      "execution_count": null,
      "outputs": [
        {
          "output_type": "execute_result",
          "data": {
            "text/plain": [
              "   rating  recommended                                            comment\n",
              "0       4            1   Absolutely wonderful - silky and sexy and com...\n",
              "1       5            1   Love this dress!  it's sooo pretty.  i happen...\n",
              "2       3            0  Some major design flaws I had such high hopes ...\n",
              "3       5            1  My favorite buy! I love, love, love this jumps...\n",
              "4       5            1  Flattering shirt This shirt is very flattering..."
            ],
            "text/html": [
              "\n",
              "  <div id=\"df-bad8c08c-1dc4-4aa5-91ba-f1f3d4671e48\" class=\"colab-df-container\">\n",
              "    <div>\n",
              "<style scoped>\n",
              "    .dataframe tbody tr th:only-of-type {\n",
              "        vertical-align: middle;\n",
              "    }\n",
              "\n",
              "    .dataframe tbody tr th {\n",
              "        vertical-align: top;\n",
              "    }\n",
              "\n",
              "    .dataframe thead th {\n",
              "        text-align: right;\n",
              "    }\n",
              "</style>\n",
              "<table border=\"1\" class=\"dataframe\">\n",
              "  <thead>\n",
              "    <tr style=\"text-align: right;\">\n",
              "      <th></th>\n",
              "      <th>rating</th>\n",
              "      <th>recommended</th>\n",
              "      <th>comment</th>\n",
              "    </tr>\n",
              "  </thead>\n",
              "  <tbody>\n",
              "    <tr>\n",
              "      <th>0</th>\n",
              "      <td>4</td>\n",
              "      <td>1</td>\n",
              "      <td>Absolutely wonderful - silky and sexy and com...</td>\n",
              "    </tr>\n",
              "    <tr>\n",
              "      <th>1</th>\n",
              "      <td>5</td>\n",
              "      <td>1</td>\n",
              "      <td>Love this dress!  it's sooo pretty.  i happen...</td>\n",
              "    </tr>\n",
              "    <tr>\n",
              "      <th>2</th>\n",
              "      <td>3</td>\n",
              "      <td>0</td>\n",
              "      <td>Some major design flaws I had such high hopes ...</td>\n",
              "    </tr>\n",
              "    <tr>\n",
              "      <th>3</th>\n",
              "      <td>5</td>\n",
              "      <td>1</td>\n",
              "      <td>My favorite buy! I love, love, love this jumps...</td>\n",
              "    </tr>\n",
              "    <tr>\n",
              "      <th>4</th>\n",
              "      <td>5</td>\n",
              "      <td>1</td>\n",
              "      <td>Flattering shirt This shirt is very flattering...</td>\n",
              "    </tr>\n",
              "  </tbody>\n",
              "</table>\n",
              "</div>\n",
              "    <div class=\"colab-df-buttons\">\n",
              "\n",
              "  <div class=\"colab-df-container\">\n",
              "    <button class=\"colab-df-convert\" onclick=\"convertToInteractive('df-bad8c08c-1dc4-4aa5-91ba-f1f3d4671e48')\"\n",
              "            title=\"Convert this dataframe to an interactive table.\"\n",
              "            style=\"display:none;\">\n",
              "\n",
              "  <svg xmlns=\"http://www.w3.org/2000/svg\" height=\"24px\" viewBox=\"0 -960 960 960\">\n",
              "    <path d=\"M120-120v-720h720v720H120Zm60-500h600v-160H180v160Zm220 220h160v-160H400v160Zm0 220h160v-160H400v160ZM180-400h160v-160H180v160Zm440 0h160v-160H620v160ZM180-180h160v-160H180v160Zm440 0h160v-160H620v160Z\"/>\n",
              "  </svg>\n",
              "    </button>\n",
              "\n",
              "  <style>\n",
              "    .colab-df-container {\n",
              "      display:flex;\n",
              "      gap: 12px;\n",
              "    }\n",
              "\n",
              "    .colab-df-convert {\n",
              "      background-color: #E8F0FE;\n",
              "      border: none;\n",
              "      border-radius: 50%;\n",
              "      cursor: pointer;\n",
              "      display: none;\n",
              "      fill: #1967D2;\n",
              "      height: 32px;\n",
              "      padding: 0 0 0 0;\n",
              "      width: 32px;\n",
              "    }\n",
              "\n",
              "    .colab-df-convert:hover {\n",
              "      background-color: #E2EBFA;\n",
              "      box-shadow: 0px 1px 2px rgba(60, 64, 67, 0.3), 0px 1px 3px 1px rgba(60, 64, 67, 0.15);\n",
              "      fill: #174EA6;\n",
              "    }\n",
              "\n",
              "    .colab-df-buttons div {\n",
              "      margin-bottom: 4px;\n",
              "    }\n",
              "\n",
              "    [theme=dark] .colab-df-convert {\n",
              "      background-color: #3B4455;\n",
              "      fill: #D2E3FC;\n",
              "    }\n",
              "\n",
              "    [theme=dark] .colab-df-convert:hover {\n",
              "      background-color: #434B5C;\n",
              "      box-shadow: 0px 1px 3px 1px rgba(0, 0, 0, 0.15);\n",
              "      filter: drop-shadow(0px 1px 2px rgba(0, 0, 0, 0.3));\n",
              "      fill: #FFFFFF;\n",
              "    }\n",
              "  </style>\n",
              "\n",
              "    <script>\n",
              "      const buttonEl =\n",
              "        document.querySelector('#df-bad8c08c-1dc4-4aa5-91ba-f1f3d4671e48 button.colab-df-convert');\n",
              "      buttonEl.style.display =\n",
              "        google.colab.kernel.accessAllowed ? 'block' : 'none';\n",
              "\n",
              "      async function convertToInteractive(key) {\n",
              "        const element = document.querySelector('#df-bad8c08c-1dc4-4aa5-91ba-f1f3d4671e48');\n",
              "        const dataTable =\n",
              "          await google.colab.kernel.invokeFunction('convertToInteractive',\n",
              "                                                    [key], {});\n",
              "        if (!dataTable) return;\n",
              "\n",
              "        const docLinkHtml = 'Like what you see? Visit the ' +\n",
              "          '<a target=\"_blank\" href=https://colab.research.google.com/notebooks/data_table.ipynb>data table notebook</a>'\n",
              "          + ' to learn more about interactive tables.';\n",
              "        element.innerHTML = '';\n",
              "        dataTable['output_type'] = 'display_data';\n",
              "        await google.colab.output.renderOutput(dataTable, element);\n",
              "        const docLink = document.createElement('div');\n",
              "        docLink.innerHTML = docLinkHtml;\n",
              "        element.appendChild(docLink);\n",
              "      }\n",
              "    </script>\n",
              "  </div>\n",
              "\n",
              "\n",
              "<div id=\"df-a9f34863-5c50-4b62-a557-b62cdedc262e\">\n",
              "  <button class=\"colab-df-quickchart\" onclick=\"quickchart('df-a9f34863-5c50-4b62-a557-b62cdedc262e')\"\n",
              "            title=\"Suggest charts\"\n",
              "            style=\"display:none;\">\n",
              "\n",
              "<svg xmlns=\"http://www.w3.org/2000/svg\" height=\"24px\"viewBox=\"0 0 24 24\"\n",
              "     width=\"24px\">\n",
              "    <g>\n",
              "        <path d=\"M19 3H5c-1.1 0-2 .9-2 2v14c0 1.1.9 2 2 2h14c1.1 0 2-.9 2-2V5c0-1.1-.9-2-2-2zM9 17H7v-7h2v7zm4 0h-2V7h2v10zm4 0h-2v-4h2v4z\"/>\n",
              "    </g>\n",
              "</svg>\n",
              "  </button>\n",
              "\n",
              "<style>\n",
              "  .colab-df-quickchart {\n",
              "      --bg-color: #E8F0FE;\n",
              "      --fill-color: #1967D2;\n",
              "      --hover-bg-color: #E2EBFA;\n",
              "      --hover-fill-color: #174EA6;\n",
              "      --disabled-fill-color: #AAA;\n",
              "      --disabled-bg-color: #DDD;\n",
              "  }\n",
              "\n",
              "  [theme=dark] .colab-df-quickchart {\n",
              "      --bg-color: #3B4455;\n",
              "      --fill-color: #D2E3FC;\n",
              "      --hover-bg-color: #434B5C;\n",
              "      --hover-fill-color: #FFFFFF;\n",
              "      --disabled-bg-color: #3B4455;\n",
              "      --disabled-fill-color: #666;\n",
              "  }\n",
              "\n",
              "  .colab-df-quickchart {\n",
              "    background-color: var(--bg-color);\n",
              "    border: none;\n",
              "    border-radius: 50%;\n",
              "    cursor: pointer;\n",
              "    display: none;\n",
              "    fill: var(--fill-color);\n",
              "    height: 32px;\n",
              "    padding: 0;\n",
              "    width: 32px;\n",
              "  }\n",
              "\n",
              "  .colab-df-quickchart:hover {\n",
              "    background-color: var(--hover-bg-color);\n",
              "    box-shadow: 0 1px 2px rgba(60, 64, 67, 0.3), 0 1px 3px 1px rgba(60, 64, 67, 0.15);\n",
              "    fill: var(--button-hover-fill-color);\n",
              "  }\n",
              "\n",
              "  .colab-df-quickchart-complete:disabled,\n",
              "  .colab-df-quickchart-complete:disabled:hover {\n",
              "    background-color: var(--disabled-bg-color);\n",
              "    fill: var(--disabled-fill-color);\n",
              "    box-shadow: none;\n",
              "  }\n",
              "\n",
              "  .colab-df-spinner {\n",
              "    border: 2px solid var(--fill-color);\n",
              "    border-color: transparent;\n",
              "    border-bottom-color: var(--fill-color);\n",
              "    animation:\n",
              "      spin 1s steps(1) infinite;\n",
              "  }\n",
              "\n",
              "  @keyframes spin {\n",
              "    0% {\n",
              "      border-color: transparent;\n",
              "      border-bottom-color: var(--fill-color);\n",
              "      border-left-color: var(--fill-color);\n",
              "    }\n",
              "    20% {\n",
              "      border-color: transparent;\n",
              "      border-left-color: var(--fill-color);\n",
              "      border-top-color: var(--fill-color);\n",
              "    }\n",
              "    30% {\n",
              "      border-color: transparent;\n",
              "      border-left-color: var(--fill-color);\n",
              "      border-top-color: var(--fill-color);\n",
              "      border-right-color: var(--fill-color);\n",
              "    }\n",
              "    40% {\n",
              "      border-color: transparent;\n",
              "      border-right-color: var(--fill-color);\n",
              "      border-top-color: var(--fill-color);\n",
              "    }\n",
              "    60% {\n",
              "      border-color: transparent;\n",
              "      border-right-color: var(--fill-color);\n",
              "    }\n",
              "    80% {\n",
              "      border-color: transparent;\n",
              "      border-right-color: var(--fill-color);\n",
              "      border-bottom-color: var(--fill-color);\n",
              "    }\n",
              "    90% {\n",
              "      border-color: transparent;\n",
              "      border-bottom-color: var(--fill-color);\n",
              "    }\n",
              "  }\n",
              "</style>\n",
              "\n",
              "  <script>\n",
              "    async function quickchart(key) {\n",
              "      const quickchartButtonEl =\n",
              "        document.querySelector('#' + key + ' button');\n",
              "      quickchartButtonEl.disabled = true;  // To prevent multiple clicks.\n",
              "      quickchartButtonEl.classList.add('colab-df-spinner');\n",
              "      try {\n",
              "        const charts = await google.colab.kernel.invokeFunction(\n",
              "            'suggestCharts', [key], {});\n",
              "      } catch (error) {\n",
              "        console.error('Error during call to suggestCharts:', error);\n",
              "      }\n",
              "      quickchartButtonEl.classList.remove('colab-df-spinner');\n",
              "      quickchartButtonEl.classList.add('colab-df-quickchart-complete');\n",
              "    }\n",
              "    (() => {\n",
              "      let quickchartButtonEl =\n",
              "        document.querySelector('#df-a9f34863-5c50-4b62-a557-b62cdedc262e button');\n",
              "      quickchartButtonEl.style.display =\n",
              "        google.colab.kernel.accessAllowed ? 'block' : 'none';\n",
              "    })();\n",
              "  </script>\n",
              "</div>\n",
              "\n",
              "    </div>\n",
              "  </div>\n"
            ],
            "application/vnd.google.colaboratory.intrinsic+json": {
              "type": "dataframe",
              "variable_name": "df",
              "summary": "{\n  \"name\": \"df\",\n  \"rows\": 22642,\n  \"fields\": [\n    {\n      \"column\": \"rating\",\n      \"properties\": {\n        \"dtype\": \"number\",\n        \"std\": 1,\n        \"min\": 1,\n        \"max\": 5,\n        \"samples\": [\n          5,\n          1,\n          3\n        ],\n        \"num_unique_values\": 5,\n        \"semantic_type\": \"\",\n        \"description\": \"\"\n      }\n    },\n    {\n      \"column\": \"recommended\",\n      \"properties\": {\n        \"dtype\": \"number\",\n        \"std\": 0,\n        \"min\": 0,\n        \"max\": 1,\n        \"samples\": [\n          0,\n          1\n        ],\n        \"num_unique_values\": 2,\n        \"semantic_type\": \"\",\n        \"description\": \"\"\n      }\n    },\n    {\n      \"column\": \"comment\",\n      \"properties\": {\n        \"dtype\": \"string\",\n        \"samples\": [\n          \"Lovely This dress is beautiful. the neckline is not too low and the straps are wide enough so you can wear a normal bra! the waist is very flattering and the ruffle at the bottom is not too much. i am short so i ordered the petite and it is a perfect fit. now i just need some warmer weather!!\",\n          \" Runs true to size but some details were not as expected. the slit is only on one side and the look is more like sweater dress than sweater tunic. the length is not as long as pictured on the model. i'm 5'7 and the sweater ends half an inch below knees.\\nthe side slit starts too high, my waist is exposed unless i wear high waisted leggings.\\nother than that the sweater is darling. the cotton (68%) and acrylic (32%) thread is soft and thin, not bulky at all. the sweater stretches lightly with wear a\"\n        ],\n        \"num_unique_values\": 22637,\n        \"semantic_type\": \"\",\n        \"description\": \"\"\n      }\n    }\n  ]\n}"
            }
          },
          "metadata": {},
          "execution_count": 164
        }
      ]
    },
    {
      "cell_type": "code",
      "source": [
        "df.recommended.value_counts()"
      ],
      "metadata": {
        "colab": {
          "base_uri": "https://localhost:8080/"
        },
        "id": "2l26CUKCSaig",
        "outputId": "6a177057-f6d7-457f-e03d-032be78ce0ba",
        "execution": {
          "iopub.status.busy": "2024-02-20T10:52:05.008789Z",
          "iopub.execute_input": "2024-02-20T10:52:05.009498Z",
          "iopub.status.idle": "2024-02-20T10:52:05.016200Z",
          "shell.execute_reply.started": "2024-02-20T10:52:05.009461Z",
          "shell.execute_reply": "2024-02-20T10:52:05.015465Z"
        },
        "trusted": true
      },
      "execution_count": null,
      "outputs": [
        {
          "output_type": "execute_result",
          "data": {
            "text/plain": [
              "1    18541\n",
              "0     4101\n",
              "Name: recommended, dtype: int64"
            ]
          },
          "metadata": {},
          "execution_count": 165
        }
      ]
    },
    {
      "cell_type": "markdown",
      "source": [
        "Burada 1 olumlu iken 0 olumsuz yorumları ifade etmektedir.\n",
        "Hedef Label ın 1 olması daha doğru bir yaklaşımdır.\n",
        "Model.fit olarak çalışmaya başladığı zaman Val_recal ve recall değerleri her zaman 1 i takip ederler."
      ],
      "metadata": {
        "id": "kmFILkhoS3rP"
      }
    },
    {
      "cell_type": "markdown",
      "source": [
        "Bu kod, bir Pandas DataFrame'deki \"Rating\" sütununu dönüştürmek için kullanılır. Verilen kod satırı, \"Rating\" sütunundaki değerleri belirli bir eşleme mantığına göre değiştirir. Eşleme mantığına göre, 1 olan değerler 0'a dönüştürülür ve 0 olan değerler 1'e dönüştürülür. Bu tür bir dönüşüm, verileri farklı bir format veya kodlama ile uyumlu hale getirmek veya belirli bir analiz veya işlem için özel bir işaretleme yapmak için kullanılabilir. Bu durumda, 1 ve 0 değerleri arasında bir dönüşüm gerçekleşmektedir."
      ],
      "metadata": {
        "id": "NqV_geB6S3rP"
      }
    },
    {
      "cell_type": "code",
      "source": [
        "df.rating.value_counts()"
      ],
      "metadata": {
        "colab": {
          "base_uri": "https://localhost:8080/"
        },
        "id": "Zvc0d7vCTNis",
        "outputId": "cb1c8cba-9360-41a3-811b-32dad25b6d74",
        "execution": {
          "iopub.status.busy": "2024-02-20T10:52:08.858690Z",
          "iopub.execute_input": "2024-02-20T10:52:08.859338Z",
          "iopub.status.idle": "2024-02-20T10:52:08.865741Z",
          "shell.execute_reply.started": "2024-02-20T10:52:08.859302Z",
          "shell.execute_reply": "2024-02-20T10:52:08.865002Z"
        },
        "trusted": true
      },
      "execution_count": null,
      "outputs": [
        {
          "output_type": "execute_result",
          "data": {
            "text/plain": [
              "5    12541\n",
              "4     4908\n",
              "3     2823\n",
              "2     1549\n",
              "1      821\n",
              "Name: rating, dtype: int64"
            ]
          },
          "metadata": {},
          "execution_count": 166
        }
      ]
    },
    {
      "cell_type": "code",
      "source": [
        "pd.Series(df.recommended).value_counts(normalize=True)"
      ],
      "metadata": {
        "colab": {
          "base_uri": "https://localhost:8080/"
        },
        "id": "ZFyOtp72cZIJ",
        "outputId": "4cfcd276-bb6f-47e3-eaba-830d6d2eb1cb",
        "execution": {
          "iopub.status.busy": "2024-02-20T10:58:11.308388Z",
          "iopub.execute_input": "2024-02-20T10:58:11.309304Z",
          "iopub.status.idle": "2024-02-20T10:58:11.316054Z",
          "shell.execute_reply.started": "2024-02-20T10:58:11.309266Z",
          "shell.execute_reply": "2024-02-20T10:58:11.315346Z"
        },
        "trusted": true
      },
      "execution_count": null,
      "outputs": [
        {
          "output_type": "execute_result",
          "data": {
            "text/plain": [
              "1    0.818876\n",
              "0    0.181124\n",
              "Name: recommended, dtype: float64"
            ]
          },
          "metadata": {},
          "execution_count": 167
        }
      ]
    },
    {
      "cell_type": "markdown",
      "source": [
        "Bu kod satırı, bir Pandas DataFrame'deki \"Rating\" sütunundaki değerlerin sıklığını normalize ederek gösterir. Bu kodun her adımını açıklayalım:\n",
        "\n",
        "df.Rating: DataFrame içindeki \"Rating\" sütununu seçer.\n",
        "\n",
        "pd.Series(...): Seçilen sütunu bir Pandas Serisi'ne dönüştürür. Bu, Seri üzerinde çeşitli işlemleri gerçekleştirmenizi sağlar.\n",
        "\n",
        "value_counts(): Bu metod, Seri içindeki benzersiz değerlerin sayısını ve her bir değerin sıklığını hesaplar. Yani, \"Rating\" sütunundaki her benzersiz değerin kaç kez tekrarlandığını sayar.\n",
        "\n",
        "normalize=True: Bu parametre, sonuçların normalize edilmesini sağlar. Yani, her bir değerin toplam sayıya oranı hesaplanır. Sonuç, yüzde cinsinden ifade edilir.\n",
        "\n",
        "Sonuç olarak, bu kod satırı size \"Rating\" sütunundaki her benzersiz değerin yüzdelik sıklığını verir. Bu, veri dağılımını analiz etmek ve sütundaki değerlerin oranlarını anlamak için kullanışlı bir bilgi sağlar."
      ],
      "metadata": {
        "id": "wmU7z9dPS3rR"
      }
    },
    {
      "cell_type": "markdown",
      "source": [
        "normalize=True: value_counts() fonksiyonuna normalize=True parametresi verilir. Bu, sonuçların yüzdelik cinsinden normalize edilmesini sağlar. Her bir değerin toplam değerlere oranı olarak ifade edilir."
      ],
      "metadata": {
        "id": "ux-1lUfMS3rS"
      }
    },
    {
      "cell_type": "markdown",
      "source": [
        "ÇOK DENGESİZ BİR DATA SETİ"
      ],
      "metadata": {
        "id": "adbxzolrS3rT"
      }
    },
    {
      "cell_type": "markdown",
      "source": [
        "![image.png](attachment:image.png)"
      ],
      "metadata": {
        "id": "InWes9F0S3rT"
      }
    },
    {
      "cell_type": "markdown",
      "source": [
        "## Tokenization"
      ],
      "metadata": {
        "id": "ErzHzxUOMP3F"
      }
    },
    {
      "cell_type": "code",
      "source": [
        "X = df['comment'].values    # Deep Learning de datayı arraya çevirmek için .values ekliyoruz.\n",
        "y = df['recommended'].values"
      ],
      "metadata": {
        "id": "amDd007iMP3F",
        "execution": {
          "iopub.status.busy": "2024-02-20T11:08:26.146084Z",
          "iopub.execute_input": "2024-02-20T11:08:26.146470Z",
          "iopub.status.idle": "2024-02-20T11:08:26.153198Z",
          "shell.execute_reply.started": "2024-02-20T11:08:26.146439Z",
          "shell.execute_reply": "2024-02-20T11:08:26.152499Z"
        },
        "trusted": true
      },
      "execution_count": null,
      "outputs": []
    },
    {
      "cell_type": "markdown",
      "source": [
        "![image.png](attachment:image.png)"
      ],
      "metadata": {
        "id": "7Dzc9ZPqS3rV"
      }
    },
    {
      "cell_type": "markdown",
      "source": [
        "Bu şekilde, DataFrame verileri NumPy array'ine dönüştürülerek, derin öğrenme modeline giriş olarak kullanılabilir."
      ],
      "metadata": {
        "id": "Z9fZl5VrS3rV"
      }
    },
    {
      "cell_type": "code",
      "source": [
        "num_words= 15000   # corpusta geçen en fazla kullanılan ilk 15.000 kelimeyi(tokeni) alacağız gerisini yok sayacağız."
      ],
      "metadata": {
        "execution": {
          "iopub.status.busy": "2024-02-20T11:08:29.993550Z",
          "iopub.execute_input": "2024-02-20T11:08:29.994260Z",
          "iopub.status.idle": "2024-02-20T11:08:29.997704Z",
          "shell.execute_reply.started": "2024-02-20T11:08:29.994225Z",
          "shell.execute_reply": "2024-02-20T11:08:29.996949Z"
        },
        "trusted": true,
        "id": "s0Y5GdNTS3rV"
      },
      "execution_count": null,
      "outputs": []
    },
    {
      "cell_type": "markdown",
      "source": [
        "15000'den fazla seçmek maliyetli ve 1 defa geçen kelimeden model de iyi öğrenemez"
      ],
      "metadata": {
        "id": "zvNsBizgS3rW"
      }
    },
    {
      "cell_type": "code",
      "source": [
        "tokenizer = Tokenizer(num_words=num_words) #filters='!\"#$%&()*+,-./:;<=>?@[\\\\]^_`{|}~\\t\\n1234567890'\n",
        "# None değeri atanırsa tüm kelimeler dikkate alınır."
      ],
      "metadata": {
        "id": "3ltwlIS9MP3G",
        "execution": {
          "iopub.status.busy": "2024-02-20T11:08:33.156882Z",
          "iopub.execute_input": "2024-02-20T11:08:33.157233Z",
          "iopub.status.idle": "2024-02-20T11:08:33.161124Z",
          "shell.execute_reply.started": "2024-02-20T11:08:33.157206Z",
          "shell.execute_reply": "2024-02-20T11:08:33.160224Z"
        },
        "trusted": true
      },
      "execution_count": null,
      "outputs": []
    },
    {
      "cell_type": "markdown",
      "source": [
        "![image.png](attachment:image.png)"
      ],
      "metadata": {
        "id": "ISfySm-tS3rX"
      }
    },
    {
      "cell_type": "markdown",
      "source": [
        "num_words parametresini kullanmak, yalnızca belirli bir sayıda en yaygın kullanılan kelimenin Tokenizer tarafından tanınmasını ve diğerlerinin göz ardı edilmesini sağlar. Bu, bellek kullanımını kontrol altına alır ve modelin daha fazla anlamlı bilgiye odaklanmasını sağlar. Bu nedenle, büyük veri kümesiyle çalışırken veya bellek sınırlamalarıyla karşılaşırken num_words parametresini kullanmak faydalı olabilir."
      ],
      "metadata": {
        "id": "S_PAKJxwS3rz"
      }
    },
    {
      "cell_type": "markdown",
      "source": [
        "Burada Tokenizer sınıfını kullanarak bir metin verisini işleyecek bir tokenizer nesnesi oluşturuyorsunuz. num_words parametresi, kaç kelimeyi göz önünde bulunduracağınızı belirlemek için kullanılır.\n",
        "\n",
        "Tokenizer sınıfı, metin verilerini sayılara dönüştürmek ve daha sonra bu sayıları modelin girdisi olarak kullanmak için kullanılır. num_words parametresi, en sık kullanılan kelimelerin sayısını sınırlamaya yardımcı olur. Yani, num_words değeri kadar en sık kullanılan kelimeleri seçer ve diğer kelimeleri göz ardı eder.\n",
        "\n",
        "Örneğin, num_words=15000 olarak ayarladığınızda, tokenizer en sık kullanılan 15,000 kelimeyi dikkate alacak ve geri kalan kelimeleri görmezden gelecektir. Bu, daha fazla kelimenin işlenmesi ve gereksiz bilginin tutulmasının önlenmesi açısından faydalı olabilir, özellikle büyük bir sözcük dağarcığına sahipseniz."
      ],
      "metadata": {
        "id": "G4V1TtTBS3r0"
      }
    },
    {
      "cell_type": "markdown",
      "source": [
        "SADECE İLK 15.000 E TOKENIZER İŞLEMİ YAPILMIŞ OLUYOR.."
      ],
      "metadata": {
        "id": "xgZQpaxsS3r0"
      }
    },
    {
      "cell_type": "markdown",
      "source": [
        "![image.png](attachment:image.png)"
      ],
      "metadata": {
        "id": "WD7AP9aUS3r1"
      }
    },
    {
      "cell_type": "code",
      "source": [
        "X"
      ],
      "metadata": {
        "execution": {
          "iopub.status.busy": "2024-02-20T11:10:26.575674Z",
          "iopub.execute_input": "2024-02-20T11:10:26.576244Z",
          "iopub.status.idle": "2024-02-20T11:10:26.583178Z",
          "shell.execute_reply.started": "2024-02-20T11:10:26.576211Z",
          "shell.execute_reply": "2024-02-20T11:10:26.582336Z"
        },
        "trusted": true,
        "colab": {
          "base_uri": "https://localhost:8080/"
        },
        "id": "nYAlxJblS3r1",
        "outputId": "a8f55f65-5217-412e-9b0e-b75c04167331"
      },
      "execution_count": null,
      "outputs": [
        {
          "output_type": "execute_result",
          "data": {
            "text/plain": [
              "array([' Absolutely wonderful - silky and sexy and comfortable',\n",
              "       ' Love this dress!  it\\'s sooo pretty.  i happened to find it in a store, and i\\'m glad i did bc i never would have ordered it online bc it\\'s petite.  i bought a petite and am 5\\'8\".  i love the length on me- hits just a little below the knee.  would definitely be a true midi on someone who is truly petite.',\n",
              "       'Some major design flaws I had such high hopes for this dress and really wanted it to work for me. i initially ordered the petite small (my usual size) but i found this to be outrageously small. so small in fact that i could not zip it up! i reordered it in petite medium, which was just ok. overall, the top half was comfortable and fit nicely, but the bottom half had a very tight under layer and several somewhat cheap (net) over layers. imo, a major design flaw was the net over layer sewn directly into the zipper - it c',\n",
              "       ...,\n",
              "       \"Cute, but see through This fit well, but the top was very see through. this never would have worked for me. i'm glad i was able to try it on in the store and didn't order it online. with different fabric, it would have been great.\",\n",
              "       \"Very cute dress, perfect for summer parties and we I bought this dress for a wedding i have this summer, and it's so cute. unfortunately the fit isn't perfect. the medium fits my waist perfectly, but was way too long and too big in the bust and shoulders. if i wanted to spend the money, i could get it tailored, but i just felt like it might not be worth it. side note - this dress was delivered to me with a nordstrom tag on it and i found it much cheaper there after looking!\",\n",
              "       'Please make more like this one! This dress in a lovely platinum is feminine and fits perfectly, easy to wear and comfy, too! highly recommend!'],\n",
              "      dtype=object)"
            ]
          },
          "metadata": {},
          "execution_count": 171
        }
      ]
    },
    {
      "cell_type": "code",
      "source": [
        "  # Tensorflow un kendisinin geliştirdiği Tokenizer fonksiyonu... #otomatik olarak lower yapıyor..\n",
        "tokenizer.fit_on_texts(X)"
      ],
      "metadata": {
        "id": "7QnzlbfrMP3H",
        "execution": {
          "iopub.status.busy": "2024-02-20T11:10:48.269861Z",
          "iopub.execute_input": "2024-02-20T11:10:48.270205Z",
          "iopub.status.idle": "2024-02-20T11:10:49.295085Z",
          "shell.execute_reply.started": "2024-02-20T11:10:48.270175Z",
          "shell.execute_reply": "2024-02-20T11:10:49.294163Z"
        },
        "trusted": true
      },
      "execution_count": null,
      "outputs": []
    },
    {
      "cell_type": "markdown",
      "source": [
        "Deep learning de lemmatization ve stemming yapılmıyor !\n",
        "Bütün data cleaning islemlerini model kendisi yapıyor."
      ],
      "metadata": {
        "id": "dFckg4ZCS3r2"
      }
    },
    {
      "cell_type": "markdown",
      "source": [
        "![image.png](attachment:image.png)"
      ],
      "metadata": {
        "id": "4akwp_i8S3r3"
      }
    },
    {
      "cell_type": "markdown",
      "source": [
        "![image.png](attachment:image.png)"
      ],
      "metadata": {
        "id": "2EKo4H2kS3r3"
      }
    },
    {
      "cell_type": "markdown",
      "source": [
        "## Creating word index"
      ],
      "metadata": {
        "id": "qbBLA65iMP3I"
      }
    },
    {
      "cell_type": "markdown",
      "source": [
        "EN ÇOK KULLANILANLARI EN ÇOK KULLANIM SIKLIĞINA GÖRE SIRALAMAYA SOKUYOR."
      ],
      "metadata": {
        "id": "LVSFR-arS3r4"
      }
    },
    {
      "cell_type": "code",
      "source": [
        "tokenizer.word_index.items()"
      ],
      "metadata": {
        "colab": {
          "base_uri": "https://localhost:8080/"
        },
        "id": "ujCeRckiMP3I",
        "outputId": "521c93ef-785b-4021-efb4-8f0fc1389cf3",
        "execution": {
          "iopub.status.busy": "2024-02-20T10:17:27.389280Z",
          "iopub.execute_input": "2024-02-20T10:17:27.389542Z",
          "iopub.status.idle": "2024-02-20T10:17:27.399635Z",
          "shell.execute_reply.started": "2024-02-20T10:17:27.389516Z",
          "shell.execute_reply": "2024-02-20T10:17:27.398979Z"
        },
        "trusted": true
      },
      "execution_count": null,
      "outputs": [
        {
          "output_type": "execute_result",
          "data": {
            "text/plain": [
              "dict_items([('the', 1), ('i', 2), ('and', 3), ('a', 4), ('it', 5), ('is', 6), ('this', 7), ('to', 8), ('in', 9), ('but', 10), ('on', 11), ('for', 12), ('of', 13), ('with', 14), ('so', 15), ('was', 16), ('dress', 17), ('my', 18), ('love', 19), ('not', 20), ('that', 21), ('size', 22), ('very', 23), ('top', 24), ('have', 25), ('fit', 26), ('great', 27), ('like', 28), ('are', 29), ('be', 30), ('me', 31), ('as', 32), ('wear', 33), ('too', 34), (\"it's\", 35), ('or', 36), (\"i'm\", 37), ('just', 38), ('am', 39), ('you', 40), ('fabric', 41), ('small', 42), ('would', 43), ('they', 44), ('up', 45), ('color', 46), ('at', 47), ('cute', 48), ('perfect', 49), ('beautiful', 50), ('look', 51), ('if', 52), ('really', 53), ('more', 54), ('flattering', 55), ('little', 56), ('ordered', 57), ('these', 58), ('soft', 59), ('one', 60), ('will', 61), ('nice', 62), ('comfortable', 63), ('well', 64), ('an', 65), ('out', 66), ('back', 67), ('had', 68), ('can', 69), ('because', 70), ('shirt', 71), ('than', 72), ('large', 73), ('\\r', 74), ('bought', 75), ('all', 76), ('looks', 77), ('sweater', 78), ('down', 79), ('bit', 80), ('when', 81), ('fits', 82), ('material', 83), ('pretty', 84), ('much', 85), ('which', 86), ('them', 87), ('length', 88), ('jeans', 89), ('long', 90), ('also', 91), ('quality', 92), ('has', 93), ('colors', 94), ('petite', 95), ('got', 96), ('waist', 97), ('work', 98), ('medium', 99), ('skirt', 100), ('xs', 101), ('even', 102), ('think', 103), ('pants', 104), ('runs', 105), ('retailer', 106), ('good', 107), ('short', 108), ('big', 109), ('tried', 110), ('from', 111), ('super', 112), ('made', 113), ('store', 114), ('usually', 115), ('other', 116), ('about', 117), ('summer', 118), ('way', 119), ('get', 120), ('cut', 121), ('could', 122), ('only', 123), ('style', 124), ('see', 125), (\"didn't\", 126), (\"don't\", 127), ('black', 128), ('right', 129), ('still', 130), ('were', 131), ('true', 132), ('there', 133), ('design', 134), ('did', 135), ('no', 136), ('sleeves', 137), ('do', 138), ('online', 139), ('white', 140), ('go', 141), ('wearing', 142), ('lovely', 143), ('off', 144), ('purchased', 145), ('does', 146), ('feel', 147), ('tight', 148), ('however', 149), ('gorgeous', 150), ('enough', 151), ('perfectly', 152), ('fall', 153), ('person', 154), ('jacket', 155), ('some', 156), ('over', 157), ('model', 158), ('better', 159), ('definitely', 160), ('what', 161), ('price', 162), ('front', 163), ('blue', 164), ('sale', 165), ('4', 166), ('loved', 167), ('looked', 168), ('2', 169), ('though', 170), ('comfy', 171), ('been', 172), ('lbs', 173), ('how', 174), ('casual', 175), ('piece', 176), ('your', 177), ('body', 178), ('first', 179), ('high', 180), ('loose', 181), ('bottom', 182), ('wanted', 183), ('going', 184), ('try', 185), ('shape', 186), ('light', 187), ('looking', 188), ('time', 189), ('6', 190), ('around', 191), ('worn', 192), ('blouse', 193), ('regular', 194), ('many', 195), ('chest', 196), ('thin', 197), ('make', 198), ('both', 199), ('arms', 200), ('thought', 201), ('through', 202), ('shoulders', 203), ('saw', 204), ('makes', 205), ('pattern', 206), ('s', 207), ('recommend', 208), ('fun', 209), ('after', 210), ('bust', 211), ('compliments', 212), (\"doesn't\", 213), ('print', 214), ('need', 215), ('without', 216), ('unique', 217), ('want', 218), ('run', 219), ('buy', 220), ('find', 221), ('went', 222), ('side', 223), ('being', 224), ('pair', 225), ('wish', 226), ('weight', 227), ('sure', 228), ('tops', 229), ('found', 230), ('picture', 231), ('bra', 232), ('reviews', 233), (\"can't\", 234), ('wore', 235), ('different', 236), (\"i've\", 237), ('hips', 238), ('order', 239), ('usual', 240), ('since', 241), ('by', 242), ('easy', 243), ('dresses', 244), ('lot', 245), ('8', 246), ('detail', 247), ('normally', 248), ('absolutely', 249), ('its', 250), ('received', 251), ('quite', 252), ('while', 253), ('most', 254), ('tee', 255), ('overall', 256), ('any', 257), ('longer', 258), ('m', 259), ('boxy', 260), ('day', 261), ('leggings', 262), ('fitted', 263), ('may', 264), ('versatile', 265), ('another', 266), ('nicely', 267), ('two', 268), ('slightly', 269), ('keep', 270), ('tank', 271), ('return', 272), ('green', 273), ('adorable', 274), ('wide', 275), ('red', 276), ('then', 277), ('5', 278), ('might', 279), ('felt', 280), ('sizing', 281), ('neck', 282), ('lace', 283), ('stretch', 284), ('under', 285), ('underneath', 286), ('warm', 287), ('almost', 288), ('happy', 289), ('say', 290), ('now', 291), ('favorite', 292), ('extra', 293), (\"wasn't\", 294), ('photo', 295), ('t', 296), ('flowy', 297), ('probably', 298), ('10', 299), ('sheer', 300), ('worth', 301), ('low', 302), ('sizes', 303), ('something', 304), ('actually', 305), ('disappointed', 306), ('amazing', 307), ('spring', 308), ('purchase', 309), ('every', 310), ('smaller', 311), ('area', 312), ('pockets', 313), ('such', 314), ('huge', 315), ('fine', 316), ('best', 317), ('feels', 318), ('unfortunately', 319), ('dressed', 320), ('full', 321), ('shorter', 322), ('yet', 323), ('tall', 324), ('same', 325), ('into', 326), (\"5'4\", 327), ('glad', 328), ('everything', 329), ('between', 330), ('said', 331), ('put', 332), ('denim', 333), ('sized', 334), ('tts', 335), ('boots', 336), ('feminine', 337), ('give', 338), ('buttons', 339), ('always', 340), ('winter', 341), ('tunic', 342), ('navy', 343), ('shorts', 344), ('skinny', 345), ('reference', 346), ('details', 347), ('wait', 348), ('maybe', 349), ('coat', 350), ('line', 351), ('larger', 352), ('neckline', 353), ('should', 354), ('thick', 355), ('part', 356), ('liked', 357), ('pictured', 358), ('decided', 359), ('fitting', 360), ('lightweight', 361), ('above', 362), ('figure', 363), ('pink', 364), ('easily', 365), ('heavy', 366), ('where', 367), ('wash', 368), ('especially', 369), ('returned', 370), (\"i'd\", 371), ('expected', 372), ('problem', 373), ('grey', 374), ('came', 375), ('cardigan', 376), ('new', 377), ('take', 378), ('slip', 379), ('button', 380), ('snug', 381), ('thing', 382), ('cotton', 383), ('seems', 384), ('3', 385), ('room', 386), (\"isn't\", 387), ('reviewers', 388), ('cozy', 389), (\"couldn't\", 390), ('hem', 391), ('normal', 392), (\"5'3\", 393), ('knit', 394), ('classic', 395), ('stylish', 396), ('few', 397), ('know', 398), ('l', 399), ('kind', 400), ('knee', 401), ('beautifully', 402), ('embroidery', 403), ('curvy', 404), ('cami', 405), ('goes', 406), (\"that's\", 407), ('extremely', 408), ('took', 409), ('dark', 410), ('hit', 411), ('torso', 412), ('belt', 413), ('xl', 414), ('arm', 415), ('lining', 416), ('returning', 417), ('bad', 418), ('12', 419), ('before', 420), ('never', 421), ('works', 422), ('hits', 423), (\"5'5\", 424), ('cool', 425), ('lined', 426), ('reviewer', 427), ('frame', 428), (\"5'2\", 429), ('legs', 430), ('0', 431), ('show', 432), ('once', 433), ('typically', 434), ('excited', 435), (\"i'll\", 436), ('although', 437), ('washed', 438), ('able', 439), ('highly', 440), ('anything', 441), ('year', 442), ('shown', 443), ('who', 444), ('today', 445), ('ever', 446), ('someone', 447), ('either', 448), ('sleeve', 449), ('vest', 450), ('stunning', 451), ('those', 452), ('weather', 453), ('wardrobe', 454), ('zipper', 455), ('unflattering', 456), ('shoulder', 457), ('staple', 458), ('type', 459), ('xxs', 460), (\"you're\", 461), (\"5'7\", 462), ('issue', 463), ('photos', 464), ('simple', 465), ('ended', 466), ('sold', 467), ('stretchy', 468), ('suit', 469), ('things', 470), ('already', 471), ('gray', 472), ('needed', 473), ('below', 474), ('trying', 475), ('holes', 476), ('last', 477), (\"5'6\", 478), ('why', 479), ('exactly', 480), ('cheap', 481), ('swing', 482), ('agree', 483), ('tie', 484), ('fell', 485), ('must', 486), ('days', 487), ('hard', 488), ('layer', 489), ('otherwise', 490), ('arrived', 491), ('brand', 492), ('orange', 493), ('wonderful', 494), ('hoping', 495), ('hot', 496), ('add', 497), ('come', 498), ('sadly', 499), ('again', 500), ('straps', 501), ('across', 502), ('basic', 503), ('due', 504), ('26', 505), ('away', 506), ('skin', 507), ('1', 508), ('inches', 509), ('delicate', 510), ('tad', 511), ('local', 512), ('dry', 513), ('sides', 514), ('baggy', 515), ('least', 516), ('vibrant', 517), (\"5'8\", 518), ('itchy', 519), ('heels', 520), ('pilcro', 521), ('rather', 522), (\"wouldn't\", 523), ('keeping', 524), ('open', 525), (\"5'\", 526), ('slim', 527), ('surprised', 528), ('ran', 529), ('nothing', 530), ('straight', 531), ('getting', 532), ('pictures', 533), ('awesome', 534), ('odd', 535), (\"they're\", 536), ('plan', 537), ('others', 538), ('less', 539), ('weird', 540), ('waisted', 541), ('elegant', 542), ('several', 543), ('plus', 544), ('cropped', 545), ('item', 546), ('bright', 547), ('touch', 548), ('drape', 549), ('pull', 550), ('busty', 551), ('roomy', 552), ('yellow', 553), ('use', 554), ('ordering', 555), ('kept', 556), ('pounds', 557), ('based', 558), ('seem', 559), ('drapes', 560), ('years', 561), ('review', 562), ('version', 563), ('special', 564), ('lots', 565), ('shirts', 566), ('v', 567), ('worked', 568), ('night', 569), ('own', 570), ('hangs', 571), ('bigger', 572), ('jean', 573), ('tights', 574), ('oversized', 575), ('their', 576), ('sometimes', 577), ('27', 578), ('available', 579), ('season', 580), ('ok', 581), ('ankle', 582), ('tiny', 583), ('flat', 584), ('far', 585), ('myself', 586), ('paired', 587), ('seemed', 588), ('gives', 589), ('instead', 590), ('skirts', 591), ('jumpsuit', 592), ('times', 593), ('wedding', 594), ('sexy', 595), ('here', 596), (\"won't\", 597), ('ivory', 598), ('cover', 599), ('28', 600), ('immediately', 601), ('comes', 602), ('buying', 603), ('falls', 604), ('previous', 605), ('mine', 606), ('interesting', 607), ('layering', 608), ('she', 609), ('adds', 610), ('having', 611), ('completely', 612), ('end', 613), ('elastic', 614), ('totally', 615), ('flare', 616), ('mentioned', 617), ('making', 618), ('stiff', 619), ('collar', 620), (\"5'1\", 621), ('cold', 622), ('texture', 623), (\"5'9\", 624), ('higher', 625), ('lower', 626), ('athletic', 627), ('classy', 628), ('leg', 629), ('finally', 630), ('115', 631), ('wrong', 632), ('second', 633), ('curves', 634), ('form', 635), ('shows', 636), ('poor', 637), ('mid', 638), ('sandals', 639), ('chic', 640), ('booties', 641), ('wool', 642), ('pant', 643), ('cream', 644), ('slimming', 645), ('read', 646), (\"there's\", 647), ('yes', 648), ('people', 649), ('throw', 650), ('dressy', 651), ('fabulous', 652), ('else', 653), ('neutral', 654), ('knees', 655), ('bulky', 656), ('eye', 657), ('clothes', 658), ('used', 659), ('linen', 660), ('incredibly', 661), ('knew', 662), ('broad', 663), ('often', 664), ('worried', 665), ('addition', 666), ('thinking', 667), ('maternity', 668), ('months', 669), ('closet', 670), ('similar', 671), ('hourglass', 672), ('half', 673), ('close', 674), ('substantial', 675), ('outfit', 676), ('armholes', 677), ('clothing', 678), ('flow', 679), ('prefer', 680), ('120', 681), ('hip', 682), ('fact', 683), ('mind', 684), ('hope', 685), ('idea', 686), ('product', 687), ('peplum', 688), ('brown', 689), ('deep', 690), ('flats', 691), ('rich', 692), ('gotten', 693), ('inside', 694), ('amount', 695), ('awkward', 696), ('comfort', 697), ('sweaters', 698), ('appears', 699), ('b', 700), ('gave', 701), ('sad', 702), ('justice', 703), ('appropriate', 704), ('upper', 705), ('c', 706), ('stripes', 707), ('detailing', 708), ('home', 709), ('next', 710), ('30', 711), ('subtle', 712), ('except', 713), ('fantastic', 714), ('tent', 715), ('silk', 716), ('point', 717), ('couple', 718), ('washing', 719), ('reason', 720), ('strange', 721), ('during', 722), ('until', 723), ('rise', 724), ('mail', 725), ('25', 726), ('tell', 727), ('expect', 728), ('soon', 729), ('romper', 730), ('depending', 731), ('thighs', 732), ('purple', 733), ('135', 734), ('her', 735), ('34b', 736), ('left', 737), ('somewhat', 738), ('blazer', 739), ('sweatshirt', 740), ('colored', 741), ('thicker', 742), ('baby', 743), ('seam', 744), ('w', 745), ('hand', 746), ('floral', 747), ('hang', 748), ('please', 749), ('maeve', 750), ('issues', 751), ('fan', 752), ('forward', 753), ('complaint', 754), ('nude', 755), ('pleased', 756), ('disappointing', 757), ('taller', 758), ('case', 759), ('cannot', 760), ('truly', 761), ('exchange', 762), ('34c', 763), ('looser', 764), ('hold', 765), ('build', 766), ('needs', 767), ('bottoms', 768), ('125', 769), ('real', 770), ('darker', 771), ('perhaps', 772), ('140', 773), ('narrow', 774), ('middle', 775), ('everywhere', 776), ('flows', 777), ('sweet', 778), ('expecting', 779), ('anyway', 780), ('bodice', 781), ('deal', 782), ('together', 783), ('maxi', 784), ('fairly', 785), (\"haven't\", 786), ('scratchy', 787), ('gold', 788), ('old', 789), ('place', 790), ('live', 791), ('excellent', 792), ('slight', 793), ('gone', 794), ('130', 795), ('pieces', 796), ('butt', 797), ('hung', 798), ('typical', 799), ('spot', 800), ('girls', 801), ('added', 802), ('zip', 803), ('office', 804), ('along', 805), ('barely', 806), ('inch', 807), ('feeling', 808), ('three', 809), ('motif', 810), ('band', 811), ('heavier', 812), ('women', 813), ('tag', 814), ('sort', 815), ('anyone', 816), ('party', 817), ('opinion', 818), ('stitching', 819), ('transition', 820), ('whole', 821), ('items', 822), ('weekend', 823), ('34', 824), ('past', 825), ('imagine', 826), ('styling', 827), ('seen', 828), ('pulled', 829), ('unless', 830), ('wow', 831), ('tummy', 832), ('coverage', 833), ('noticed', 834), ('beach', 835), ('we', 836), ('waistband', 837), ('simply', 838), ('places', 839), ('seams', 840), ('relaxed', 841), ('frumpy', 842), ('airy', 843), ('chested', 844), ('everyday', 845), ('sewn', 846), ('showing', 847), ('belly', 848), ('34d', 849), ('reading', 850), ('leather', 851), ('meant', 852), ('itself', 853), ('14', 854), ('pairs', 855), ('sack', 856), ('lay', 857), ('lighter', 858), ('100', 859), ('says', 860), ('running', 861), ('clingy', 862), ('done', 863), ('rest', 864), ('each', 865), (\"5'10\", 866), ('plaid', 867), ('generally', 868), ('prettier', 869), ('believe', 870), ('husband', 871), ('29', 872), ('clean', 873), ('stay', 874), ('cup', 875), ('pregt', 876), ('wider', 877), ('difficult', 878), ('necklace', 879), ('glove', 880), ('everyone', 881), ('seasons', 882), (\"aren't\", 883), ('girl', 884), ('lines', 885), ('keeper', 886), ('height', 887), ('oh', 888), ('swingy', 889), ('surprise', 890), ('slender', 891), ('coral', 892), ('caught', 893), ('stars', 894), ('dinner', 895), ('tucked', 896), ('shaped', 897), ('forgiving', 898), ('portion', 899), ('chance', 900), ('okay', 901), ('help', 902), ('ago', 903), ('house', 904), ('bag', 905), ('money', 906), ('ladies', 907), ('care', 908), ('expensive', 909), ('slits', 910), ('shapeless', 911), ('silhouette', 912), ('average', 913), ('description', 914), ('structured', 915), ('d', 916), ('finding', 917), ('perfection', 918), ('tailored', 919), ('pear', 920), ('plenty', 921), ('life', 922), ('solid', 923), ('silky', 924), ('camisole', 925), ('petites', 926), ('option', 927), ('39', 928), ('beauty', 929), ('shade', 930), ('stock', 931), ('stomach', 932), ('adore', 933), ('pleats', 934), ('cuter', 935), ('flowing', 936), ('polyester', 937), ('vintage', 938), ('cooler', 939), ('p', 940), ('pricey', 941), ('romantic', 942), ('ag', 943), ('36', 944), ('hide', 945), ('ruffle', 946), ('despite', 947), ('pass', 948), ('patterns', 949), ('guess', 950), ('poncho', 951), ('uncomfortable', 952), ('website', 953), ('etc', 954), ('38', 955), ('send', 956), ('round', 957), ('thigh', 958), ('beige', 959), ('pencil', 960), ('40', 961), ('note', 962), ('hanging', 963), ('hole', 964), ('purchasing', 965), ('holiday', 966), ('given', 967), ('plain', 968), ('hoped', 969), ('beading', 970), ('terrible', 971), ('natural', 972), ('designed', 973), ('flowers', 974), ('32', 975), ('wrinkle', 976), ('yesterday', 977), ('dressing', 978), ('hanger', 979), ('jackets', 980), ('considering', 981), ('originally', 982), ('daughter', 983), ('crazy', 984), ('fence', 985), ('surprisingly', 986), ('recently', 987), ('layered', 988), ('us', 989), ('ways', 990), ('36c', 991), ('snag', 992), ('sit', 993), ('billowy', 994), ('sent', 995), ('afraid', 996), ('layers', 997), ('shrunk', 998), ('swimming', 999), ('twice', 1000), ('pale', 1001), ('stretched', 1002), ('pay', 1003), ('attractive', 1004), ('week', 1005), ('hides', 1006), ('machine', 1007), ('tend', 1008), ('covers', 1009), ('slit', 1010), ('let', 1011), ('flares', 1012), ('breezy', 1013), ('wrap', 1014), ('embroidered', 1015), ('unusual', 1016), ('velvet', 1017), ('stated', 1018), ('gets', 1019), ('receive', 1020), ('stand', 1021), ('flatter', 1022), ('consider', 1023), ('dream', 1024), ('hopes', 1025), ('turtleneck', 1026), ('coming', 1027), ('shrink', 1028), ('types', 1029), ('evening', 1030), ('careful', 1031), ('weeks', 1032), ('section', 1033), ('throughout', 1034), ('20', 1035), ('tighter', 1036), ('shoes', 1037), ('tons', 1038), ('sloppy', 1039), ('darling', 1040), ('helps', 1041), ('construction', 1042), ('woman', 1043), ('warmer', 1044), ('winner', 1045), ('supposed', 1046), ('rayon', 1047), ('trim', 1048), ('movement', 1049), ('structure', 1050), ('stripe', 1051), ('picked', 1052), ('garment', 1053), ('match', 1054), ('combination', 1055), ('scarf', 1056), ('against', 1057), ('flirty', 1058), ('feet', 1059), ('package', 1060), ('modern', 1061), ('moss', 1062), ('statement', 1063), ('hesitant', 1064), ('lays', 1065), ('hate', 1066), ('styles', 1067), ('thrilled', 1068), ('145', 1069), ('pop', 1070), ('twist', 1071), ('occasions', 1072), ('water', 1073), ('threads', 1074), ('taking', 1075), ('literally', 1076), ('thread', 1077), ('flimsy', 1078), ('wears', 1079), ('near', 1080), ('keeps', 1081), ('overly', 1082), ('dots', 1083), ('move', 1084), ('wine', 1085), ('tone', 1086), ('th', 1087), ('ones', 1088), ('multiple', 1089), ('appear', 1090), ('comfortably', 1091), ('tees', 1092), ('awful', 1093), ('muted', 1094), ('flaws', 1095), ('choice', 1096), ('wedges', 1097), ('likely', 1098), ('chose', 1099), ('washes', 1100), ('effect', 1101), ('pic', 1102), ('taken', 1103), ('bell', 1104), ('tuck', 1105), ('timeless', 1106), ('head', 1107), ('xsp', 1108), ('fix', 1109), ('unlike', 1110), ('olive', 1111), ('strapless', 1112), ('waistline', 1113), ('busted', 1114), ('wrinkles', 1115), ('tan', 1116), ('turquoise', 1117), ('early', 1118), ('bathing', 1119), ('cords', 1120), ('nicer', 1121), ('means', 1122), ('mostly', 1123), ('lb', 1124), ('notice', 1125), ('pleasantly', 1126), ('our', 1127), ('whether', 1128), ('rolled', 1129), ('boyfriend', 1130), ('opening', 1131), ('110', 1132), ('noted', 1133), ('muscular', 1134), ('vibe', 1135), ('pulling', 1136), ('paid', 1137), ('attached', 1138), ('difference', 1139), ('35', 1140), ('event', 1141), ('outside', 1142), ('date', 1143), ('occasion', 1144), ('im', 1145), ('36d', 1146), ('support', 1147), ('weigh', 1148), ('dd', 1149), (\"you'll\", 1150), ('change', 1151), ('thinner', 1152), ('peach', 1153), ('stick', 1154), ('jersey', 1155), ('00', 1156), ('seeing', 1157), ('attention', 1158), ('beware', 1159), ('fabrics', 1160), ('alone', 1161), ('wonderfully', 1162), ('upon', 1163), ('designer', 1164), ('0p', 1165), ('bother', 1166), ('disappointment', 1167), ('crop', 1168), (\"would've\", 1169), ('star', 1170), ('lost', 1171), ('quickly', 1172), ('areas', 1173), ('pocket', 1174), ('trend', 1175), ('apart', 1176), ('covered', 1177), ('disappoint', 1178), ('suggest', 1179), ('sending', 1180), ('exception', 1181), ('combo', 1182), ('boho', 1183), ('initially', 1184), ('adjustable', 1185), ('later', 1186), ('christmas', 1187), ('overwhelming', 1188), ('anywhere', 1189), ('med', 1190), ('roll', 1191), ('colorful', 1192), ('taupe', 1193), ('teal', 1194), ('negative', 1195), ('start', 1196), ('he', 1197), ('giving', 1198), ('mom', 1199), ('hemmed', 1200), ('blend', 1201), ('trip', 1202), ('mix', 1203), ('retro', 1204), ('swimsuit', 1205), ('sleeveless', 1206), ('whim', 1207), ('prints', 1208), ('faded', 1209), ('striped', 1210), ('compared', 1211), ('thank', 1212), ('currently', 1213), ('problems', 1214), ('thanks', 1215), ('concerned', 1216), ('entire', 1217), ('center', 1218), ('walk', 1219), ('interest', 1220), ('ties', 1221), ('ruffles', 1222), ('wrinkled', 1223), ('blouses', 1224), ('appreciate', 1225), ('bow', 1226), ('double', 1227), ('shopping', 1228), ('trousers', 1229), ('become', 1230), ('stores', 1231), ('pullover', 1232), ('showed', 1233), ('16', 1234), ('cuff', 1235), ('falling', 1236), ('worry', 1237), ('honestly', 1238), ('particularly', 1239), ('34dd', 1240), ('brighter', 1241), ('sits', 1242), ('x', 1243), ('bring', 1244), ('tied', 1245), ('trouble', 1246), ('lounge', 1247), ('ton', 1248), ('sturdy', 1249), ('behind', 1250), ('post', 1251), ('turned', 1252), ('xxsp', 1253), ('leave', 1254), ('36dd', 1255), ('brands', 1256), ('gift', 1257), ('silver', 1258), ('flair', 1259), ('flared', 1260), ('cleavage', 1261), ('ankles', 1262), ('bulk', 1263), ('chinos', 1264), ('saying', 1265), ('lavender', 1266), ('hugs', 1267), ('revealing', 1268), ('owned', 1269), ('errands', 1270), ('rack', 1271), ('bc', 1272), ('midi', 1273), ('jewelry', 1274), ('drawn', 1275), ('hopefully', 1276), ('decide', 1277), ('lose', 1278), ('rose', 1279), ('flower', 1280), ('carry', 1281), ('altered', 1282), ('hair', 1283), ('cuffs', 1284), ('funny', 1285), ('washable', 1286), ('bummed', 1287), ('number', 1288), ('cloth', 1289), ('dressier', 1290), ('waiting', 1291), ('135lbs', 1292), ('figured', 1293), ('strap', 1294), ('snap', 1295), ('moment', 1296), ('edge', 1297), ('set', 1298), ('bill', 1299), ('understand', 1300), ('beyond', 1301), ('bummer', 1302), ('weave', 1303), ('metallic', 1304), ('ish', 1305), ('realize', 1306), ('bum', 1307), ('buttoned', 1308), ('free', 1309), ('travel', 1310), ('contrast', 1311), ('tailor', 1312), ('drapey', 1313), ('150', 1314), ('seriously', 1315), ('32dd', 1316), ('liner', 1317), ('cashmere', 1318), ('vacation', 1319), ('miss', 1320), ('birthday', 1321), ('pilling', 1322), ('poorly', 1323), ('course', 1324), ('impressed', 1325), ('thru', 1326), ('particular', 1327), ('faux', 1328), ('stone', 1329), ('width', 1330), ('shot', 1331), ('holds', 1332), ('happened', 1333), ('stuck', 1334), ('recommended', 1335), ('32c', 1336), ('options', 1337), ('non', 1338), ('pics', 1339), ('shipping', 1340), ('smooth', 1341), ('oddly', 1342), ('volume', 1343), ('transitional', 1344), ('kimono', 1345), ('friends', 1346), ('closure', 1347), ('inseam', 1348), ('hemline', 1349), ('shift', 1350), ('avoid', 1351), ('crotch', 1352), ('boobs', 1353), ('wearable', 1354), ('chunky', 1355), ('hour', 1356), ('bonus', 1357), ('check', 1358), ('sleep', 1359), ('personally', 1360), ('obsessed', 1361), ('certainly', 1362), ('built', 1363), ('realized', 1364), ('discount', 1365), ('polka', 1366), ('mixed', 1367), ('ridiculous', 1368), ('late', 1369), ('pick', 1370), ('funky', 1371), ('started', 1372), ('constructed', 1373), ('generous', 1374), ('hours', 1375), ('styled', 1376), ('bohemian', 1377), ('allows', 1378), ('7', 1379), ('exchanged', 1380), ('yoga', 1381), ('waited', 1382), ('slouchy', 1383), ('cling', 1384), ('pros', 1385), ('require', 1386), ('hte', 1387), ('outer', 1388), ('opened', 1389), (\"weren't\", 1390), ('o', 1391), ('shame', 1392), ('hook', 1393), ('sales', 1394), ('lately', 1395), ('stop', 1396), ('air', 1397), ('sophisticated', 1398), ('nearly', 1399), ('voluminous', 1400), ('33', 1401), ('y', 1402), ('actual', 1403), ('minute', 1404), ('basically', 1405), ('lady', 1406), ('detailed', 1407), ('regret', 1408), ('sleeved', 1409), ('putting', 1410), ('properly', 1411), ('burgundy', 1412), ('cardi', 1413), ('118', 1414), ('modest', 1415), ('dye', 1416), ('possible', 1417), ('24', 1418), ('considered', 1419), ('fuller', 1420), ('breathable', 1421), ('instantly', 1422), ('cowl', 1423), ('dryer', 1424), ('materials', 1425), ('fur', 1426), ('edges', 1427), ('softness', 1428), ('fully', 1429), ('amp', 1430), ('mean', 1431), ('correct', 1432), ('chambray', 1433), ('working', 1434), ('gaping', 1435), ('background', 1436), ('00p', 1437), ('horrible', 1438), ('art', 1439), ('34a', 1440), ('call', 1441), ('warmth', 1442), ('floor', 1443), ('luxurious', 1444), ('closed', 1445), ('re', 1446), ('holding', 1447), (\"retailer's\", 1448), ('placement', 1449), ('31', 1450), ('standard', 1451), ('taste', 1452), ('alternative', 1453), ('business', 1454), ('cost', 1455), ('exchanging', 1456), ('expectations', 1457), ('closer', 1458), ('trendy', 1459), ('rib', 1460), ('gap', 1461), ('walked', 1462), ('feature', 1463), ('concept', 1464), ('grabbed', 1465), ('catalog', 1466), ('breaker', 1467), ('offered', 1468), ('tricky', 1469), ('grab', 1470), ('mention', 1471), ('designs', 1472), ('heel', 1473), ('mother', 1474), ('potential', 1475), ('adding', 1476), ('preferred', 1477), ('socks', 1478), ('pulls', 1479), ('heat', 1480), ('sitting', 1481), ('polished', 1482), ('accurate', 1483), ('asymmetrical', 1484), ('eyeing', 1485), ('six', 1486), ('purchases', 1487), ('instructions', 1488), ('ft', 1489), ('month', 1490), ('professional', 1491), ('unlined', 1492), ('flaw', 1493), ('crisp', 1494), ('versatility', 1495), ('disagree', 1496), ('slimmer', 1497), ('32d', 1498), ('planning', 1499), ('somehow', 1500), ('four', 1501), ('accessories', 1502), ('possibly', 1503), ('formal', 1504), ('mustard', 1505), ('casually', 1506), ('events', 1507), ('hug', 1508), ('ripped', 1509), ('takes', 1510), ('penny', 1511), ('passed', 1512), ('snagged', 1513), ('softer', 1514), ('flannel', 1515), ('reminds', 1516), ('functional', 1517), ('loves', 1518), ('single', 1519), ('downside', 1520), ('fancy', 1521), ('gals', 1522), ('plum', 1523), ('searching', 1524), ('cutest', 1525), ('helped', 1526), ('drop', 1527), ('empire', 1528), ('effortless', 1529), (\"it'll\", 1530), ('florida', 1531), ('rear', 1532), ('120lbs', 1533), ('legging', 1534), ('cups', 1535), ('dried', 1536), ('sooo', 1537), ('described', 1538), ('quirky', 1539), ('draped', 1540), ('age', 1541), ('boring', 1542), ('concern', 1543), ('measurements', 1544), ('coloring', 1545), ('matter', 1546), ('loving', 1547), ('2p', 1548), ('peasant', 1549), ('spend', 1550), ('softest', 1551), ('yarn', 1552), ('spandex', 1553), ('level', 1554), ('box', 1555), ('practical', 1556), ('comments', 1557), ('snaps', 1558), ('outfits', 1559), ('30dd', 1560), ('fashion', 1561), ('inner', 1562), ('blousy', 1563), ('write', 1564), ('summery', 1565), ('hei', 1566), ('sp', 1567), ('visible', 1568), ('tshirt', 1569), ('paige', 1570), ('job', 1571), ('bunch', 1572), ('missing', 1573), ('waste', 1574), ('fyi', 1575), ('asked', 1576), ('complements', 1577), ('calf', 1578), ('exposed', 1579), ('pregcy', 1580), ('aware', 1581), ('fringe', 1582), ('slacks', 1583), ('lounging', 1584), ('lean', 1585), ('ultimately', 1586), ('proportions', 1587), ('tanks', 1588), ('joggers', 1589), ('placed', 1590), ('9', 1591), ('additional', 1592), ('130lbs', 1593), ('spots', 1594), ('happier', 1595), ('doing', 1596), ('fair', 1597), ('positive', 1598), ('ribbon', 1599), ('robe', 1600), ('cage', 1601), ('rough', 1602), ('breasts', 1603), ('colder', 1604), ('hidden', 1605), ('matching', 1606), ('flatters', 1607), ('fast', 1608), ('striking', 1609), ('foot', 1610), ('pajama', 1611), ('scoop', 1612), ('suede', 1613), ('ready', 1614), ('fresh', 1615), ('split', 1616), ('zipped', 1617), (\"you'd\", 1618), ('noticeable', 1619), ('32b', 1620), ('held', 1621), ('holidays', 1622), ('lucky', 1623), ('suits', 1624), ('halter', 1625), ('cross', 1626), ('resist', 1627), ('pleated', 1628), ('pajamas', 1629), ('stretches', 1630), ('liking', 1631), ('enjoy', 1632), ('kinda', 1633), ('called', 1634), ('hands', 1635), ('incredible', 1636), ('parts', 1637), ('105', 1638), ('luckily', 1639), ('site', 1640), ('choose', 1641), ('laid', 1642), ('using', 1643), ('drawstring', 1644), ('ideal', 1645), ('win', 1646), ('matches', 1647), ('badly', 1648), ('snags', 1649), ('decent', 1650), ('third', 1651), ('smell', 1652), ('mauve', 1653), ('xsmall', 1654), ('catching', 1655), ('play', 1656), ('wise', 1657), ('soooo', 1658), ('sheen', 1659), ('meh', 1660), ('rarely', 1661), ('loosely', 1662), ('dot', 1663), ('cape', 1664), ('cycle', 1665), ('whimsical', 1666), ('sz', 1667), ('pin', 1668), ('variety', 1669), ('per', 1670), ('puffy', 1671), ('therefore', 1672), ('general', 1673), ('walking', 1674), ('range', 1675), ('sparkle', 1676), ('within', 1677), ('adjust', 1678), ('main', 1679), ('alas', 1680), ('lack', 1681), ('sense', 1682), ('label', 1683), ('fold', 1684), ('compliment', 1685), ('calves', 1686), ('biggest', 1687), ('crochet', 1688), ('iron', 1689), ('ironing', 1690), ('belted', 1691), ('thickness', 1692), ('stays', 1693), ('e', 1694), ('cardigans', 1695), ('shower', 1696), ('mark', 1697), ('minutes', 1698), ('hugging', 1699), ('comment', 1700), ('stylist', 1701), ('textured', 1702), ('115lbs', 1703), ('mess', 1704), (\"5'11\", 1705), ('autumn', 1706), ('create', 1707), ('patterned', 1708), ('enormous', 1709), ('rare', 1710), ('opted', 1711), ('ride', 1712), ('luck', 1713), ('figures', 1714), ('panel', 1715), ('booty', 1716), ('gathered', 1717), ('features', 1718), ('nervous', 1719), ('doubt', 1720), ('sorry', 1721), ('gal', 1722), ('receiving', 1723), ('con', 1724), ('beads', 1725), ('steal', 1726), ('sight', 1727), ('bumps', 1728), ('young', 1729), ('50', 1730), ('midsection', 1731), ('swim', 1732), ('amazingly', 1733), ('panels', 1734), ('whatever', 1735), ('tailoring', 1736), ('certain', 1737), ('nor', 1738), ('hi', 1739), ('upcoming', 1740), ('bold', 1741), ('charcoal', 1742), ('smallest', 1743), ('arrive', 1744), ('ruching', 1745), ('128', 1746), ('f', 1747), ('curvier', 1748), ('intricate', 1749), ('his', 1750), ('risk', 1751), ('shapes', 1752), ('sell', 1753), ('ease', 1754), ('woven', 1755), ('edgy', 1756), ('125lbs', 1757), ('recent', 1758), ('models', 1759), ('favorites', 1760), ('lift', 1761), ('splurge', 1762), ('bump', 1763), ('flops', 1764), ('weekends', 1765), ('armpit', 1766), ('wrist', 1767), ('hood', 1768), ('flip', 1769), ('allow', 1770), ('dreamy', 1771), ('shimmer', 1772), ('conservative', 1773), ('including', 1774), ('tends', 1775), ('unexpected', 1776), ('fat', 1777), ('stitched', 1778), ('wanting', 1779), ('obviously', 1780), ('chilly', 1781), ('distressed', 1782), ('capris', 1783), ('followed', 1784), ('ahead', 1785), ('traditional', 1786), ('wonder', 1787), ('pleat', 1788), ('awhile', 1789), ('experience', 1790), ('ends', 1791), ('armpits', 1792), ('friend', 1793), ('reality', 1794), ('self', 1795), ('necessary', 1796), ('printed', 1797), ('image', 1798), ('five', 1799), ('kids', 1800), ('justify', 1801), ('terms', 1802), ('nights', 1803), ('draping', 1804), ('rust', 1805), ('shop', 1806), ('drawback', 1807), ('skims', 1808), ('required', 1809), ('execution', 1810), ('ill', 1811), ('checked', 1812), ('terribly', 1813), ('cause', 1814), ('impossible', 1815), ('elegance', 1816), ('accentuates', 1817), ('square', 1818), ('sensitive', 1819), ('frayed', 1820), ('gentle', 1821), ('ribbed', 1822), ('sequins', 1823), ('younger', 1824), ('evenings', 1825), ('36b', 1826), ('unsure', 1827), ('mint', 1828), ('skinnies', 1829), ('durable', 1830), ('4p', 1831), ('pairing', 1832), ('accommodate', 1833), ('mesh', 1834), ('major', 1835), ('140lbs', 1836), ('creates', 1837), (\"could've\", 1838), ('overpriced', 1839), ('happen', 1840), ('tones', 1841), ('cons', 1842), ('suppose', 1843), (\"they'd\", 1844), ('definite', 1845), ('pxs', 1846), ('mistake', 1847), ('appeared', 1848), ('worse', 1849), ('earlier', 1850), (\"5'0\", 1851), ('swallowed', 1852), ('fixed', 1853), ('tempted', 1854), ('shiny', 1855), ('stands', 1856), ('space', 1857), ('jumper', 1858), ('constantly', 1859), ('37', 1860), ('customer', 1861), ('mock', 1862), ('trench', 1863), ('torn', 1864), ('priced', 1865), ('breast', 1866), ('clearly', 1867), ('california', 1868), ('turn', 1869), ('appearance', 1870), ('closely', 1871), ('debating', 1872), ('begin', 1873), ('advice', 1874), ('ruined', 1875), ('rompers', 1876), ('brought', 1877), ('raw', 1878), ('became', 1879), ('correctly', 1880), ('leaving', 1881), ('tough', 1882), ('bunched', 1883), ('backside', 1884), ('indeed', 1885), ('boy', 1886), ('eyelet', 1887), ('6p', 1888), ('semi', 1889), ('suggested', 1890), ('willing', 1891), ('original', 1892), ('missed', 1893), ('imo', 1894), ('describe', 1895), ('broke', 1896), ('appeal', 1897), ('vivid', 1898), ('anticipated', 1899), ('paying', 1900), ('117', 1901), ('pleating', 1902), ('ridiculously', 1903), ('personal', 1904), ('flutter', 1905), ('town', 1906), ('15', 1907), ('promo', 1908), ('dolman', 1909), ('cleaning', 1910), ('shrinks', 1911), ('sheath', 1912), ('fuzzy', 1913), ('stevie', 1914), ('pure', 1915), (\"what's\", 1916), ('strangely', 1917), ('tulle', 1918), ('poofy', 1919), ('remove', 1920), ('school', 1921), ('contrasting', 1922), ('138', 1923), ('worst', 1924), ('stopped', 1925), ('wants', 1926), ('attracted', 1927), ('awkwardly', 1928), ('byron', 1929), ('lars', 1930), ('neither', 1931), ('cap', 1932), ('curve', 1933), ('view', 1934), ('commented', 1935), (\"hadn't\", 1936), ('corduroy', 1937), ('cutouts', 1938), ('charming', 1939), ('mini', 1940), ('cinched', 1941), ('vs', 1942), ('folded', 1943), ('complete', 1944), ('stuff', 1945), ('hesitate', 1946), ('n', 1947), ('pinned', 1948), ('burnt', 1949), ('coats', 1950), ('obvious', 1951), ('significantly', 1952), ('reminded', 1953), ('crops', 1954), ('accentuate', 1955), ('complimented', 1956), ('elbow', 1957), ('busy', 1958), ('reasons', 1959), ('hoodie', 1960), ('matronly', 1961), ('giant', 1962), ('underwear', 1963), (\"model's\", 1964), ('heart', 1965), ('spare', 1966), ('yay', 1967), ('stretching', 1968), ('depends', 1969), ('relatively', 1970), ('tracy', 1971), ('reese', 1972), ('provides', 1973), ('zero', 1974), ('provide', 1975), ('easier', 1976), ('annoying', 1977), ('removed', 1978), ('sky', 1979), ('mirror', 1980), ('chiffon', 1981), ('ruffled', 1982), ('horses', 1983), ('absolute', 1984), ('quick', 1985), ('plunge', 1986), ('misleading', 1987), ('factor', 1988), ('minor', 1989), ('decision', 1990), ('sleek', 1991), ('meets', 1992), ('onto', 1993), ('wrinkly', 1994), ('nightgown', 1995), ('compare', 1996), ('wondering', 1997), ('cinch', 1998), ('assumed', 1999), ('transparent', 2000), ('brunch', 2001), ('bridal', 2002), ('eyes', 2003), ('meet', 2004), ('blah', 2005), ('known', 2006), ('bras', 2007), ('la', 2008), ('strong', 2009), ('total', 2010), ('alterations', 2011), ('turns', 2012), ('zippers', 2013), ('opaque', 2014), ('traveling', 2015), ('told', 2016), ('poly', 2017), ('family', 2018), ('complaints', 2019), ('sew', 2020), ('blanket', 2021), ('armhole', 2022), ('jumpsuits', 2023), ('moving', 2024), ('itch', 2025), ('step', 2026), ('balance', 2027), ('struggle', 2028), ('name', 2029), ('bikini', 2030), ('stitch', 2031), ('saturated', 2032), ('workout', 2033), ('seamstress', 2034), ('knitted', 2035), ('imagined', 2036), ('friday', 2037), ('raspberry', 2038), ('happens', 2039), ('sneakers', 2040), ('multi', 2041), ('sun', 2042), ('pill', 2043), ('cuts', 2044), ('forever', 2045), ('unbuttoned', 2046), ('endowed', 2047), ('debated', 2048), ('current', 2049), ('hitting', 2050), ('fear', 2051), ('blush', 2052), ('culottes', 2053), ('openings', 2054), ('fingers', 2055), ('boiled', 2056), ('sister', 2057), ('aesthetic', 2058), ('weddings', 2059), ('bomber', 2060), ('tunics', 2061), ('crossed', 2062), ('160', 2063), ('leaves', 2064), ('ps', 2065), ('lo', 2066), ('knot', 2067), ('loops', 2068), ('thankfully', 2069), ('sheds', 2070), ('purpose', 2071), (\"shouldn't\", 2072), ('string', 2073), ('cleaned', 2074), ('accent', 2075), ('unfortunate', 2076), ('key', 2077), ('wished', 2078), ('texas', 2079), ('ultra', 2080), ('exquisite', 2081), ('yourself', 2082), ('somewhere', 2083), ('horizontal', 2084), ('appealing', 2085), ('shipped', 2086), ('listed', 2087), ('parties', 2088), ('fashionable', 2089), ('textures', 2090), ('uniqueness', 2091), ('cant', 2092), ('south', 2093), ('cuffed', 2094), ('shortened', 2095), ('jsut', 2096), ('ground', 2097), ('chemise', 2098), ('hemming', 2099), ('bunching', 2100), ('excess', 2101), ('further', 2102), ('mainly', 2103), ('pops', 2104), ('older', 2105), ('list', 2106), ('sat', 2107), ('humid', 2108), ('fullness', 2109), ('word', 2110), ('shouldered', 2111), ('fragile', 2112), ('hyphen', 2113), ('108', 2114), ('sm', 2115), ('fleece', 2116), ('conscious', 2117), ('regarding', 2118), ('offer', 2119), ('church', 2120), ('145lbs', 2121), ('imperfections', 2122), ('inspired', 2123), ('silly', 2124), ('suspect', 2125), ('anymore', 2126), ('sparkly', 2127), ('suited', 2128), ('break', 2129), ('lol', 2130), ('hue', 2131), ('nature', 2132), ('moves', 2133), ('images', 2134), ('regardless', 2135), ('sucker', 2136), ('towards', 2137), ('vegan', 2138), ('bib', 2139), ('caused', 2140), ('various', 2141), ('world', 2142), ('finish', 2143), ('summers', 2144), ('muffin', 2145), ('tired', 2146), ('terrific', 2147), ('tightly', 2148), ('finished', 2149), ('duster', 2150), ('gauze', 2151), ('uneven', 2152), ('investment', 2153), ('preference', 2154), ('knowing', 2155), ('hint', 2156), ('raise', 2157), ('shocked', 2158), ('skimming', 2159), ('155', 2160), ('shrinkage', 2161), ('thus', 2162), (\"it'd\", 2163), ('bronze', 2164), ('shrank', 2165), ('hiding', 2166), ('5ft', 2167), ('combined', 2168), ('hardly', 2169), ('rating', 2170), ('requires', 2171), ('90', 2172), ('deciding', 2173), ('lilac', 2174), ('potato', 2175), ('stain', 2176), ('toned', 2177), ('rip', 2178), ('gaps', 2179), ('doll', 2180), ('aside', 2181), ('touches', 2182), ('prior', 2183), ('peachy', 2184), ('ti', 2185), ('understated', 2186), ('ample', 2187), ('depicted', 2188), ('watch', 2189), (\"70's\", 2190), ('stayed', 2191), ('boot', 2192), ('tassels', 2193), ('nope', 2194), ('spectacular', 2195), ('exact', 2196), ('dirty', 2197), ('important', 2198), ('gauzy', 2199), ('cocktail', 2200), ('110lbs', 2201), ('unwearable', 2202), ('tear', 2203), ('cheaply', 2204), ('drab', 2205), ('dolan', 2206), ('sewing', 2207), ('gathering', 2208), ('creating', 2209), ('shimmery', 2210), ('dull', 2211), ('reordered', 2212), ('tucking', 2213), ('standing', 2214), ('bare', 2215), ('teacher', 2216), ('lint', 2217), ('none', 2218), ('tapered', 2219), ('skeptical', 2220), ('entirely', 2221), ('sweat', 2222), ('associate', 2223), ('padding', 2224), ('definition', 2225), ('aqua', 2226), ('future', 2227), ('drying', 2228), ('warned', 2229), ('poof', 2230), ('generously', 2231), ('collection', 2232), ('yoke', 2233), ('search', 2234), (\"they'll\", 2235), ('accents', 2236), ('proportion', 2237), ('stet', 2238), ('prepared', 2239), ('wi', 2240), ('numerous', 2241), ('deeper', 2242), ('arrival', 2243), ('bend', 2244), ('unfinished', 2245), ('girly', 2246), ('lumps', 2247), ('notch', 2248), ('fab', 2249), ('lie', 2250), ('changed', 2251), ('overlay', 2252), ('ha', 2253), ('pjs', 2254), ('dusty', 2255), ('morning', 2256), ('equally', 2257), ('def', 2258), ('transitioning', 2259), ('pleasant', 2260), ('differently', 2261), ('undergarments', 2262), ('according', 2263), ('fill', 2264), ('becoming', 2265), ('lacy', 2266), ('service', 2267), ('draw', 2268), ('toward', 2269), ('neat', 2270), ('keyhole', 2271), ('massive', 2272), ('holly', 2273), (\"should've\", 2274), ('save', 2275), ('pre', 2276), ('clear', 2277), ('products', 2278), ('besides', 2279), ('likes', 2280), ('2nd', 2281), ('eventually', 2282), ('paris', 2283), ('push', 2284), ('darn', 2285), ('cartonnier', 2286), ('lbd', 2287), ('character', 2288), ('display', 2289), ('shorten', 2290), ('khaki', 2291), ('wasted', 2292), ('superb', 2293), ('dowdy', 2294), ('wedge', 2295), ('comparison', 2296), ('die', 2297), ('static', 2298), ('reach', 2299), ('j', 2300), ('whatsoever', 2301), ('horribly', 2302), ('effort', 2303), ('created', 2304), ('shed', 2305), ('apparent', 2306), ('shell', 2307), ('charm', 2308), ('million', 2309), ('goodness', 2310), ('listened', 2311), ('sticks', 2312), ('skort', 2313), ('strings', 2314), ('cutout', 2315), ('class', 2316), ('hesitated', 2317), ('intended', 2318), ('placket', 2319), ('ribbing', 2320), ('r', 2321), ('theory', 2322), ('rock', 2323), ('undone', 2324), ('34ddd', 2325), ('shirtdress', 2326), ('padded', 2327), ('opposed', 2328), ('fraying', 2329), ('prone', 2330), ('broader', 2331), (\"she's\", 2332), ('spotted', 2333), ('usa', 2334), ('wrists', 2335), ('control', 2336), ('carefully', 2337), ('rotation', 2338), ('ask', 2339), ('vests', 2340), ('asap', 2341), ('lunch', 2342), ('result', 2343), ('accentuated', 2344), ('defective', 2345), (\"5'4''\", 2346), ('meadow', 2347), ('sports', 2348), ('99', 2349), ('moth', 2350), ('needless', 2351), ('ordinary', 2352), ('accurately', 2353), ('don', 2354), ('states', 2355), ('ironed', 2356), ('apple', 2357), ('adn', 2358), ('window', 2359), ('ugly', 2360), ('snugly', 2361), ('synthetic', 2362), ('anyways', 2363), ('postpartum', 2364), ('admit', 2365), ('sheerness', 2366), ('rehearsal', 2367), ('threw', 2368), ('boxier', 2369), ('customers', 2370), ('pushed', 2371), ('hd', 2372), (\"one's\", 2373), ('hunt', 2374), ('trick', 2375), ('pool', 2376), ('outdoor', 2377), ('versions', 2378), ('gape', 2379), ('included', 2380), ('h', 2381), ('bone', 2382), ('oversize', 2383), ('divine', 2384), ('vary', 2385), ('mango', 2386), ('variation', 2387), ('undershirt', 2388), ('popped', 2389), ('whenever', 2390), ('strappy', 2391), ('spending', 2392), ('delighted', 2393), ('smalls', 2394), ('gem', 2395), ('setting', 2396), ('living', 2397), ('complimentary', 2398), ('capri', 2399), ('golden', 2400), ('8p', 2401), ('122', 2402), ('maroon', 2403), ('coverup', 2404), ('bustier', 2405), ('topper', 2406), ('glass', 2407), ('didnt', 2408), ('chart', 2409), ('boo', 2410), ('swings', 2411), ('ballet', 2412), ('covering', 2413), ('advertised', 2414), ('vertical', 2415), ('sunday', 2416), ('nonetheless', 2417), ('man', 2418), ('constricting', 2419), ('weirdly', 2420), ('undecided', 2421), ('lingerie', 2422), ('delight', 2423), ('cheaper', 2424), ('brings', 2425), ('shades', 2426), ('sag', 2427), ('consistently', 2428), ('acrylic', 2429), ('effortlessly', 2430), ('temps', 2431), ('baggier', 2432), ('60', 2433), ('confident', 2434), ('city', 2435), ('paper', 2436), ('hippy', 2437), ('112', 2438), ('starts', 2439), ('minimal', 2440), ('knotted', 2441), ('writing', 2442), ('illusion', 2443), ('gathers', 2444), ('heeled', 2445), ('hence', 2446), ('confused', 2447), ('gigantic', 2448), ('untucked', 2449), ('gym', 2450), ('losing', 2451), ('caution', 2452), ('meaning', 2453), ('surprising', 2454), ('shoe', 2455), ('overwhelmed', 2456), ('stats', 2457), ('busts', 2458), ('bralette', 2459), ('removable', 2460), ('tighten', 2461), ('pilled', 2462), ('taper', 2463), ('base', 2464), ('warning', 2465), ('handle', 2466), ('selling', 2467), ('creative', 2468), ('pointed', 2469), ('outstanding', 2470), ('pills', 2471), ('bandeau', 2472), ('peek', 2473), ('drew', 2474), ('fiber', 2475), ('honest', 2476), ('roomier', 2477), ('daytime', 2478), ('company', 2479), ('essential', 2480), ('degree', 2481), ('omg', 2482), ('defined', 2483), ('desired', 2484), ('consistent', 2485), ('trouser', 2486), ('squeeze', 2487), (\"let's\", 2488), (\"6'\", 2489), ('thoughts', 2490), ('overwhelm', 2491), ('gown', 2492), ('flexible', 2493), ('fave', 2494), ('seat', 2495), ('mp', 2496), ('deletta', 2497), ('moto', 2498), ('discovered', 2499), ('bed', 2500), ('rue', 2501), ('44', 2502), ('offers', 2503), ('honey', 2504), ('example', 2505), ('nursing', 2506), ('visual', 2507), ('straighter', 2508), ('planned', 2509), ('prevent', 2510), ('34f', 2511), ('reversible', 2512), ('practically', 2513), ('north', 2514), ('mild', 2515), ('complexion', 2516), ('chino', 2517), ('distressing', 2518), ('darts', 2519), ('buttondown', 2520), ('bunches', 2521), ('dramatic', 2522), ('plastic', 2523), ('function', 2524), ('floaty', 2525), ('causing', 2526), ('gapping', 2527), ('workmanship', 2528), ('170', 2529), ('value', 2530), ('speak', 2531), ('hated', 2532), ('buttery', 2533), ('u', 2534), ('guessing', 2535), ('spent', 2536), ('snuggly', 2537), ('opposite', 2538), ('riding', 2539), ('11', 2540), ('ages', 2541), ('princess', 2542), ('36ddd', 2543), ('bothered', 2544), ('specifically', 2545), ('tail', 2546), ('outs', 2547), ('sleeping', 2548), ('featured', 2549), ('brocade', 2550), ('ugh', 2551), ('strangers', 2552), ('scalloped', 2553), ('heathered', 2554), ('beneath', 2555), ('blazers', 2556), ('clings', 2557), ('g', 2558), ('precious', 2559), ('southern', 2560), ('necklaces', 2561), ('blonde', 2562), ('picky', 2563), ('bustline', 2564), ('tags', 2565), ('proportioned', 2566), ('sooooo', 2567), ('solved', 2568), ('climate', 2569), ('alter', 2570), ('dumpy', 2571), ('packaging', 2572), ('displayed', 2573), ('piping', 2574), ('fault', 2575), ('exceeded', 2576), ('environment', 2577), ('amazed', 2578), ('wiggle', 2579), ('bulges', 2580), ('dancing', 2581), ('catch', 2582), ('uniform', 2583), ('gently', 2584), ('saturday', 2585), ('nylon', 2586), ('viscose', 2587), ('diagonal', 2588), ('convinced', 2589), ('damaged', 2590), ('posted', 2591), ('treat', 2592), ('secure', 2593), ('slide', 2594), ('matched', 2595), ('poofs', 2596), ('marked', 2597), ('balloon', 2598), ('screen', 2599), ('boob', 2600), ('fl', 2601), ('elsewhere', 2602), ('saggy', 2603), ('95', 2604), ('helpful', 2605), ('restrictive', 2606), ('32a', 2607), ('teeny', 2608), ('appreciated', 2609), ('directions', 2610), ('content', 2611), ('stunner', 2612), ('fussy', 2613), ('becomes', 2614), ('thanksgiving', 2615), ('unattractive', 2616), ('personality', 2617), ('hopeful', 2618), ('platform', 2619), ('quot', 2620), ('supportive', 2621), ('ruin', 2622), ('sharp', 2623), ('stains', 2624), ('pooch', 2625), ('ref', 2626), ('friendly', 2627), ('curious', 2628), ('folds', 2629), ('salmon', 2630), ('irl', 2631), ('wrapped', 2632), ('starting', 2633), ('playful', 2634), ('tho', 2635), ('challenge', 2636), ('apparently', 2637), ('seaming', 2638), ('shawl', 2639), ('ten', 2640), ('128lbs', 2641), ('emphasized', 2642), ('reorder', 2643), ('clinging', 2644), ('instant', 2645), ('replacement', 2646), ('snatched', 2647), ('wind', 2648), ('delightful', 2649), (\"here's\", 2650), ('winters', 2651), ('sticking', 2652), ('crooked', 2653), ('graphic', 2654), ('widest', 2655), (\"dind't\", 2656), ('blues', 2657), ('garments', 2658), ('pumps', 2659), ('interested', 2660), ('beaded', 2661), ('accidentally', 2662), ('block', 2663), ('floreat', 2664), ('till', 2665), ('adjusting', 2666), ('interior', 2667), ('variations', 2668), ('following', 2669), ('broken', 2670), ('dance', 2671), ('tha', 2672), ('shedding', 2673), ('public', 2674), (\"you've\", 2675), ('bordeaux', 2676), ('pilcros', 2677), ('afternoon', 2678), ('cat', 2679), ('25p', 2680), ('makeup', 2681), ('birds', 2682), ('127', 2683), ('sells', 2684), (\"year's\", 2685), ('clearance', 2686), ('asking', 2687), ('specific', 2688), ('replace', 2689), ('rolls', 2690), ('contemporary', 2691), ('greenish', 2692), ('possibilities', 2693), ('henley', 2694), ('ca', 2695), ('pj', 2696), ('staying', 2697), ('title', 2698), ('unraveling', 2699), ('profile', 2700), ('dropped', 2701), ('heads', 2702), ('bulge', 2703), ('july', 2704), ('door', 2705), ('sewed', 2706), ('pleasing', 2707), ('continue', 2708), ('distinctive', 2709), ('separate', 2710), ('chesty', 2711), ('touched', 2712), ('began', 2713), ('halfway', 2714), ('aspect', 2715), (\"5'8''\", 2716), ('slate', 2717), ('child', 2718), ('previously', 2719), ('emerald', 2720), (\"they've\", 2721), ('70s', 2722), ('car', 2723), ('gripe', 2724), ('festive', 2725), ('strip', 2726), ('phone', 2727), ('easter', 2728), ('thats', 2729), ('inconsistent', 2730), ('photograph', 2731), ('earrings', 2732), ('alteration', 2733), ('shut', 2734), ('tweed', 2735), ('spanx', 2736), ('royal', 2737), ('ribcage', 2738), ('moo', 2739), ('neon', 2740), ('depth', 2741), ('washer', 2742), ('tissue', 2743), ('stevies', 2744), ('snagging', 2745), ('raised', 2746), ('stood', 2747), ('hat', 2748), ('unstructured', 2749), ('complement', 2750), ('breathtaking', 2751), ('jewel', 2752), ('engagement', 2753), ('teh', 2754), ('fluffy', 2755), ('dont', 2756), ('snapped', 2757), ('lazy', 2758), ('craftsmanship', 2759), ('book', 2760), ('adjusted', 2761), ('mediums', 2762), ('fo', 2763), ('ruched', 2764), ('costume', 2765), ('fibers', 2766), ('face', 2767), ('bucks', 2768), ('si', 2769), ('slipped', 2770), ('secondly', 2771), ('wings', 2772), ('charlie', 2773), ('enhance', 2774), ('lover', 2775), ('reviewed', 2776), ('fray', 2777), ('accessorize', 2778), ('soo', 2779), ('indoors', 2780), ('oatmeal', 2781), ('elbows', 2782), ('mannequin', 2783), ('li', 2784), ('scared', 2785), ('yikes', 2786), ('jeggings', 2787), ('suitable', 2788), ('btw', 2789), ('colour', 2790), ('emphasize', 2791), ('wet', 2792), ('fav', 2793), ('stiffer', 2794), ('copper', 2795), ('123', 2796), ('slips', 2797), ('sets', 2798), ('richer', 2799), ('brainer', 2800), ('instagram', 2801), ('dips', 2802), ('pastel', 2803), ('cobalt', 2804), ('hems', 2805), ('park', 2806), ('bird', 2807), (\"we'll\", 2808), ('fortunately', 2809), ('words', 2810), ('carried', 2811), ('stained', 2812), ('causal', 2813), ('exceptional', 2814), ('camel', 2815), ('twisted', 2816), ('tea', 2817), ('fading', 2818), ('promotion', 2819), ('reddish', 2820), ('achieve', 2821), ('simplicity', 2822), ('pinkish', 2823), ('beat', 2824), ('colorway', 2825), ('percent', 2826), ('zips', 2827), ('200', 2828), ('18', 2829), ('sa', 2830), ('pain', 2831), ('alot', 2832), ('hooks', 2833), ('overalls', 2834), ('buttoning', 2835), ('citizens', 2836), ('ribs', 2837), ('126', 2838), ('co', 2839), ('abt', 2840), ('graduation', 2841), ('military', 2842), ('necessarily', 2843), ('legged', 2844), ('useful', 2845), ('country', 2846), ('frames', 2847), ('38c', 2848), ('measured', 2849), ('designers', 2850), ('rides', 2851), ('remind', 2852), ('droopy', 2853), ('rolling', 2854), ('executed', 2855), ('cheerful', 2856), ('clown', 2857), ('goddess', 2858), ('narrower', 2859), ('floppy', 2860), ('132', 2861), ('question', 2862), ('attire', 2863), ('importantly', 2864), ('breathe', 2865), ('xspetite', 2866), ('chests', 2867), ('midriff', 2868), ('breath', 2869), ('significant', 2870), ('serious', 2871), ('overlook', 2872), ('messy', 2873), ('intrigued', 2874), ('continues', 2875), ('reservations', 2876), ('loungewear', 2877), ('spin', 2878), ('assume', 2879), ('endless', 2880), ('additionally', 2881), ('acceptable', 2882), ('knows', 2883), ('complain', 2884), ('butter', 2885), ('agreed', 2886), ('fluid', 2887), ('delivered', 2888), ('tomorrow', 2889), ('cable', 2890), ('uncomfortably', 2891), ('underwhelmed', 2892), ('bet', 2893), ('decorative', 2894), ('reg', 2895), ('clasp', 2896), ('loop', 2897), ('turtle', 2898), ('affordable', 2899), ('palette', 2900), ('bu', 2901), ('hawaii', 2902), ('common', 2903), ('wrote', 2904), ('looseness', 2905), ('116', 2906), ('drag', 2907), ('emphasizes', 2908), ('cutting', 2909), ('flap', 2910), ('proper', 2911), ('ensure', 2912), ('thi', 2913), ('fly', 2914), ('heaven', 2915), ('unbutton', 2916), ('versitile', 2917), ('flowed', 2918), ('heals', 2919), ('anytime', 2920), ('satisfied', 2921), ('trapeze', 2922), ('triangle', 2923), ('carries', 2924), ('mornings', 2925), ('mad', 2926), ('bubble', 2927), ('embellishment', 2928), ('written', 2929), ('periwinkle', 2930), ('netting', 2931), ('forth', 2932), (\"60's\", 2933), ('fade', 2934), ('climates', 2935), ('salesperson', 2936), ('eat', 2937), ('enhances', 2938), ('slightest', 2939), ('sticky', 2940), ('partially', 2941), ('element', 2942), ('fir', 2943), ('throwing', 2944), ('underarm', 2945), ('lightly', 2946), (\"woman's\", 2947), ('indigo', 2948), ('nautical', 2949), ('vanity', 2950), ('lacing', 2951), ('carrying', 2952), ('zipping', 2953), ('beginning', 2954), ('nowhere', 2955), ('worthy', 2956), ('impression', 2957), ('wa', 2958), ('shopper', 2959), ('107', 2960), ('brownish', 2961), ('limited', 2962), ('braless', 2963), ('web', 2964), ('basics', 2965), ('updated', 2966), ('34g', 2967), ('dainty', 2968), ('trust', 2969), ('unravel', 2970), ('steam', 2971), ('edging', 2972), ('k', 2973), ('150lbs', 2974), ('reasonable', 2975), ('wraps', 2976), ('jumped', 2977), ('computer', 2978), ('caveat', 2979), ('contrary', 2980), ('heather', 2981), ('uniquely', 2982), ('largest', 2983), ('rounded', 2984), ('gain', 2985), ('dip', 2986), ('random', 2987), ('sea', 2988), ('ball', 2989), ('happening', 2990), ('balloons', 2991), ('flawed', 2992), ('pxxs', 2993), ('lush', 2994), ('shrinking', 2995), ('splurged', 2996), ('extreme', 2997), ('flairs', 2998), ('allowing', 2999), ('regualr', 3000), ('tightness', 3001), ('boat', 3002), (\"mother's\", 3003), ('artistic', 3004), ('angles', 3005), ('test', 3006), ('flounce', 3007), ('bunchy', 3008), ('toe', 3009), ('frilly', 3010), ('biceps', 3011), ('waffle', 3012), ('contemplating', 3013), ('bailey', 3014), ('opt', 3015), ('carbon', 3016), ('upset', 3017), ('ship', 3018), ('moved', 3019), ('monitor', 3020), ('belts', 3021), ('lets', 3022), ('dislike', 3023), ('te', 3024), ('slipping', 3025), ('bargain', 3026), ('needing', 3027), ('forest', 3028), ('tacky', 3029), ('underarms', 3030), ('modesty', 3031), ('dollars', 3032), ('heck', 3033), ('popular', 3034), ('ethereal', 3035), ('deceiving', 3036), ('sagging', 3037), ('accessory', 3038), ('harder', 3039), ('kidding', 3040), ('skip', 3041), ('highlights', 3042), ('6ft', 3043), ('ddd', 3044), (\"hasn't\", 3045), ('134', 3046), ('college', 3047), ('pressed', 3048), ('stumbled', 3049), ('puckered', 3050), ('criss', 3051), ('cowboy', 3052), ('expose', 3053), ('temperatures', 3054), ('cart', 3055), ('distracting', 3056), ('fallen', 3057), ('manner', 3058), ('exceptionally', 3059), ('virtually', 3060), ('panty', 3061), ('flowey', 3062), ('frequently', 3063), ('tangerine', 3064), ('canvas', 3065), ('poplin', 3066), ('wife', 3067), ('lastly', 3068), ('tape', 3069), ('gapes', 3070), ('bringing', 3071), ('closures', 3072), ('occasionally', 3073), ('clung', 3074), ('results', 3075), ('hugged', 3076), ('disaster', 3077), ('scheme', 3078), ('intense', 3079), ('grabbing', 3080), ('bending', 3081), ('billowed', 3082), ('142', 3083), ('remember', 3084), ('board', 3085), ('stitches', 3086), ('active', 3087), ('ripping', 3088), ('grandma', 3089), ('detachable', 3090), ('irritating', 3091), ('cranberry', 3092), ('100lbs', 3093), ('patchwork', 3094), ('cleaner', 3095), ('causes', 3096), ('reaching', 3097), ('experienced', 3098), ('underwire', 3099), ('wondered', 3100), ('ness', 3101), ('unnecessary', 3102), ('snow', 3103), ('un', 3104), ('hassle', 3105), ('4th', 3106), ('visit', 3107), ('billow', 3108), ('uses', 3109), ('elements', 3110), ('basket', 3111), ('esp', 3112), ('eve', 3113), ('football', 3114), ('criticism', 3115), ('essentially', 3116), ('antro', 3117), ('italy', 3118), ('exaggerated', 3119), ('laying', 3120), ('artsy', 3121), ('shrug', 3122), ('caftan', 3123), ('98', 3124), ('drowning', 3125), ('weighty', 3126), ('knock', 3127), ('frustrating', 3128), ('brilliant', 3129), ('soften', 3130), ('met', 3131), ('sash', 3132), ('mod', 3133), ('exclusive', 3134), ('34aa', 3135), ('lacking', 3136), ('124', 3137), ('opportunity', 3138), ('puts', 3139), ('confusing', 3140), ('creamy', 3141), ('western', 3142), ('laundering', 3143), ('email', 3144), ('sporty', 3145), ('feelings', 3146), ('dragging', 3147), ('cocoon', 3148), ('femininity', 3149), ('sand', 3150), ('ability', 3151), ('st', 3152), ('brick', 3153), (\"husband's\", 3154), ('garden', 3155), ('striping', 3156), ('page', 3157), ('elevenses', 3158), ('32ddd', 3159), ('unbelievably', 3160), ('albeit', 3161), ('animal', 3162), ('themselves', 3163), ('men', 3164), ('dog', 3165), ('103', 3166), ('kelly', 3167), ('market', 3168), ('doesnt', 3169), ('angel', 3170), ('welcome', 3171), ('warms', 3172), ('european', 3173), ('ups', 3174), (\"daughter's\", 3175), ('tiered', 3176), ('sunny', 3177), ('aka', 3178), ('happily', 3179), ('satin', 3180), ('purposes', 3181), ('west', 3182), ('bizarre', 3183), ('blocking', 3184), ('august', 3185), ('europe', 3186), ('grayish', 3187), ('june', 3188), ('safe', 3189), ('camouflage', 3190), ('3rd', 3191), ('bent', 3192), ('share', 3193), ('dreaded', 3194), ('136', 3195), (\"5'5''\", 3196), ('shaping', 3197), ('fuzz', 3198), ('smocking', 3199), ('clogs', 3200), ('123lbs', 3201), ('developed', 3202), ('regularly', 3203), ('watching', 3204), ('breeze', 3205), ('alright', 3206), ('changes', 3207), ('managed', 3208), ('quarter', 3209), ('fringed', 3210), ('itching', 3211), ('stops', 3212), ('rainy', 3213), ('freezing', 3214), ('bias', 3215), ('count', 3216), ('serif', 3217), ('reveal', 3218), ('gained', 3219), ('cools', 3220), ('gather', 3221), ('rain', 3222), ('macrame', 3223), ('grow', 3224), ('exciting', 3225), ('naturally', 3226), ('lengths', 3227), ('42', 3228), ('loosen', 3229), ('laundered', 3230), ('smile', 3231), ('shortness', 3232), ('impeccable', 3233), ('circle', 3234), ('wld', 3235), (\"50's\", 3236), ('prob', 3237), ('touching', 3238), ('altering', 3239), ('lg', 3240), ('define', 3241), ('downs', 3242), ('antho', 3243), ('rave', 3244), ('bothers', 3245), ('subdued', 3246), ('slinky', 3247), ('highest', 3248), ('slub', 3249), ('laces', 3250), ('unforgiving', 3251), ('marled', 3252), ('flouncy', 3253), ('hubby', 3254), ('metal', 3255), ('mood', 3256), ('breasted', 3257), ('diamond', 3258), ('location', 3259), ('sleepwear', 3260), ('sigh', 3261), ('glamorous', 3262), ('kid', 3263), ('compelled', 3264), ('fancier', 3265), ('heavenly', 3266), ('scooped', 3267), ('eh', 3268), ('yeah', 3269), ('jogger', 3270), ('daily', 3271), ('magical', 3272), ('favors', 3273), ('knits', 3274), ('army', 3275), ('crepe', 3276), ('puff', 3277), ('scarves', 3278), ('bits', 3279), ('sherpa', 3280), ('whimsy', 3281), (\"'\", 3282), ('chemical', 3283), ('coarse', 3284), ('muumuu', 3285), ('movie', 3286), ('differences', 3287), ('yo', 3288), ('advantage', 3289), ('unraveled', 3290), ('ve', 3291), ('downfall', 3292), ('steep', 3293), ('shear', 3294), ('cord', 3295), ('checking', 3296), ('breathes', 3297), ('forget', 3298), ('flesh', 3299), ('elasticized', 3300), ('initial', 3301), ('frustrated', 3302), ('155lbs', 3303), ('rated', 3304), ('insanely', 3305), ('tearing', 3306), ('fail', 3307), ('state', 3308), ('1st', 3309), ('fuss', 3310), ('stress', 3311), ('shine', 3312), ('manage', 3313), ('problematic', 3314), ('coh', 3315), ('sandal', 3316), ('crushed', 3317), ('excessive', 3318), ('unbuttoning', 3319), ('snugger', 3320), ('modal', 3321), ('drinks', 3322), ('navel', 3323), ('elevates', 3324), ('forgot', 3325), ('clipped', 3326), ('plane', 3327), ('ski', 3328), ('flight', 3329), ('present', 3330), ('torsos', 3331), ('relaxing', 3332), ('bat', 3333), ('skimpy', 3334), ('summertime', 3335), ('rate', 3336), ('geometric', 3337), (\"80's\", 3338), ('blousey', 3339), ('unzipped', 3340), ('lookout', 3341), ('thrown', 3342), ('beachy', 3343), ('remover', 3344), ('belting', 3345), ('espadrilles', 3346), ('subtly', 3347), ('trimmed', 3348), ('bows', 3349), ('pricy', 3350), ('banded', 3351), ('backwards', 3352), ('30d', 3353), ('circus', 3354), ('va', 3355), ('directly', 3356), ('rid', 3357), ('photographed', 3358), ('130lb', 3359), ('binding', 3360), ('september', 3361), ('babydoll', 3362), ('80s', 3363), ('swallow', 3364), ('pronounced', 3365), ('sassy', 3366), ('113', 3367), ('sweats', 3368), ('approx', 3369), ('measures', 3370), ('process', 3371), ('assuming', 3372), ('tacked', 3373), ('nyc', 3374), ('tendency', 3375), ('beadwork', 3376), ('victorian', 3377), ('overlooked', 3378), ('update', 3379), ('struck', 3380), ('french', 3381), ('offering', 3382), ('lapels', 3383), ('game', 3384), ('youthful', 3385), ('haha', 3386), ('inappropriate', 3387), ('adequate', 3388), ('framed', 3389), ('cargo', 3390), ('category', 3391), ('restock', 3392), ('adored', 3393), ('exposure', 3394), ('skinnys', 3395), ('lifted', 3396), ('coffee', 3397), ('provided', 3398), ('concerns', 3399), ('follows', 3400), ('pinks', 3401), ('ponchos', 3402), ('bootie', 3403), ('102', 3404), ('moulinette', 3405), ('table', 3406), ('berry', 3407), ('manages', 3408), ('dissapointed', 3409), ('lends', 3410), ('finishing', 3411), ('paisley', 3412), ('cinches', 3413), ('labeled', 3414), ('bells', 3415), ('centered', 3416), ('shy', 3417), ('119', 3418), ('glance', 3419), ('resembles', 3420), ('boys', 3421), ('springy', 3422), ('exposing', 3423), ('buyer', 3424), ('impractical', 3425), ('attend', 3426), ('racer', 3427), ('indicated', 3428), ('eva', 3429), ('lump', 3430), ('poofed', 3431), ('bothersome', 3432), ('bathroom', 3433), ('impulse', 3434), ('106', 3435), ('muscle', 3436), ('dr', 3437), ('patch', 3438), ('wrinkling', 3439), ('represented', 3440), ('mismatched', 3441), ('billows', 3442), ('tucks', 3443), ('lies', 3444), ('inset', 3445), ('ignored', 3446), ('stopper', 3447), ('smidge', 3448), ('replaced', 3449), ('prefect', 3450), ('truth', 3451), ('street', 3452), ('shots', 3453), ('invisible', 3454), ('reinforced', 3455), ('undo', 3456), (\"reviewer's\", 3457), ('untied', 3458), ('luxe', 3459), ('detergent', 3460), ('handy', 3461), ('heft', 3462), ('intend', 3463), ('angle', 3464), ('wee', 3465), ('shall', 3466), ('114', 3467), ('substance', 3468), ('measurement', 3469), ('talking', 3470), ('kimonos', 3471), ('gotta', 3472), ('rounder', 3473), ('moderate', 3474), ('cleaners', 3475), ('bones', 3476), ('crew', 3477), ('yummy', 3478), ('failed', 3479), ('combinations', 3480), ('stuffed', 3481), ('curved', 3482), ('wo', 3483), ('explain', 3484), ('outings', 3485), ('chocolate', 3486), ('crocheted', 3487), ('retailers', 3488), ('popping', 3489), ('depicts', 3490), ('glam', 3491), ('jump', 3492), ('hippie', 3493), ('wound', 3494), ('unexpectedly', 3495), ('twirling', 3496), ('tack', 3497), ('kick', 3498), ('border', 3499), ('snails', 3500), ('wil', 3501), ('bough', 3502), ('flexibility', 3503), ('balances', 3504), ('wonky', 3505), ('dear', 3506), ('dimension', 3507), ('degrees', 3508), ('arrives', 3509), ('bo', 3510), ('greatest', 3511), ('10p', 3512), ('lighting', 3513), ('won', 3514), ('tumble', 3515), ('breathing', 3516), ('30s', 3517), ('challenging', 3518), ('condition', 3519), ('120lb', 3520), ('lik', 3521), ('figuring', 3522), ('flaps', 3523), ('piling', 3524), (\"friend's\", 3525), ('appropriately', 3526), ('returns', 3527), ('act', 3528), ('playing', 3529), ('itchiness', 3530), ('proportional', 3531), ('preppy', 3532), ('him', 3533), ('refreshing', 3534), ('confortable', 3535), ('stating', 3536), ('enjoyed', 3537), ('poppy', 3538), ('racerback', 3539), ('twill', 3540), ('tencel', 3541), ('swimsuits', 3542), ('lacks', 3543), ('seasonal', 3544), ('warn', 3545), ('weighs', 3546), ('refined', 3547), ('105lbs', 3548), ('discover', 3549), ('orangey', 3550), ('pm', 3551), ('bathrobe', 3552), ('answer', 3553), ('situation', 3554), ('27p', 3555), ('maker', 3556), ('luv', 3557), ('suggestion', 3558), ('picks', 3559), ('delicious', 3560), ('reveals', 3561), ('40s', 3562), ('surprises', 3563), ('bland', 3564), ('gorgeously', 3565), ('id', 3566), ('boned', 3567), (\"5'6''\", 3568), ('rejoice', 3569), ('quilted', 3570), ('undergarment', 3571), ('mara', 3572), ('hoffman', 3573), ('pinch', 3574), ('scallop', 3575), ('killer', 3576), ('borderline', 3577), ('sh', 3578), ('whereas', 3579), ('partum', 3580), ('upside', 3581), ('tube', 3582), ('folding', 3583), ('165', 3584), ('asymmetric', 3585), ('shapely', 3586), ('region', 3587), ('pouch', 3588), ('folks', 3589), ('reached', 3590), ('ensemble', 3591), ('seamless', 3592), ('graceful', 3593), ('prettiest', 3594), ('sagged', 3595), ('granted', 3596), ('mislabeled', 3597), ('hid', 3598), ('vertically', 3599), ('technically', 3600), ('coupon', 3601), ('hav', 3602), ('lived', 3603), ('skim', 3604), ('success', 3605), ('160lbs', 3606), ('embellishments', 3607), ('crosses', 3608), ('cottony', 3609), ('suggests', 3610), ('elevate', 3611), ('drive', 3612), (\"5'7'\", 3613), ('5ft2in', 3614), ('anyhow', 3615), ('patches', 3616), ('treasure', 3617), ('cal', 3618), ('defeats', 3619), ('bluish', 3620), ('versus', 3621), ('misses', 3622), ('noticeably', 3623), ('gravitate', 3624), ('watercolor', 3625), ('measure', 3626), ('lifestyle', 3627), ('balls', 3628), ('highlight', 3629), ('reservation', 3630), ('anticipate', 3631), ('prices', 3632), ('score', 3633), ('surely', 3634), ('wing', 3635), ('purse', 3636), ('settled', 3637), ('sections', 3638), ('fluttery', 3639), ('thumbs', 3640), ('durability', 3641), ('creases', 3642), (\"pj's\", 3643), ('bands', 3644), ('blends', 3645), ('didn', 3646), ('tying', 3647), ('suitcase', 3648), ('solution', 3649), ('sundress', 3650), ('textile', 3651), ('intentional', 3652), ('lil', 3653), ('cuddly', 3654), ('points', 3655), ('headed', 3656), ('employee', 3657), ('annoyed', 3658), ('pineapple', 3659), ('standards', 3660), ('washings', 3661), (\"women's\", 3662), ('changing', 3663), ('disappoints', 3664), ('pom', 3665), ('rhinestones', 3666), ('reminiscent', 3667), ('reasonably', 3668), ('rub', 3669), ('player', 3670), ('meeting', 3671), ('ive', 3672), ('develop', 3673), ('fake', 3674), (\"40's\", 3675), ('angled', 3676), ('accentuating', 3677), ('learned', 3678), (\"5'5'\", 3679), ('mexico', 3680), ('minus', 3681), ('standout', 3682), ('pack', 3683), ('26p', 3684), ('puffed', 3685), ('hesitation', 3686), ('inexpensive', 3687), ('strikes', 3688), ('reds', 3689), ('firm', 3690), ('drapery', 3691), ('immediate', 3692), ('petit', 3693), ('fasten', 3694), ('36a', 3695), ('butterflies', 3696), ('extended', 3697), ('smells', 3698), ('card', 3699), ('gonna', 3700), ('concert', 3701), ('growing', 3702), ('anticipating', 3703), ('potentially', 3704), ('plunging', 3705), ('death', 3706), ('superior', 3707), ('aline', 3708), ('advised', 3709), ('jacquard', 3710), ('desire', 3711), ('suddenly', 3712), ('majority', 3713), ('coast', 3714), ('october', 3715), ('picking', 3716), ('lapel', 3717), ('lend', 3718), ('enjoying', 3719), ('tonight', 3720), ('terry', 3721), ('cheery', 3722), ('ah', 3723), ('deter', 3724), ('104', 3725), ('pointelle', 3726), ('khakis', 3727), ('complained', 3728), ('bleed', 3729), ('mindful', 3730), ('jumpers', 3731), ('streamlined', 3732), (\"we're\", 3733), ('outline', 3734), ('flashy', 3735), ('san', 3736), ('intention', 3737), ('poms', 3738), ('symmetrical', 3739), ('enhancing', 3740), ('maxis', 3741), ('apply', 3742), ('proportionate', 3743), ('led', 3744), ('versitle', 3745), ('tapering', 3746), ('equivalent', 3747), ('reluctantly', 3748), ('ma', 3749), ('ballooned', 3750), ('bead', 3751), ('begins', 3752), ('trigger', 3753), ('audrey', 3754), ('talk', 3755), ('pet', 3756), ('errand', 3757), ('muscles', 3758), ('recommendation', 3759), ('safety', 3760), ('32g', 3761), ('closes', 3762), ('dres', 3763), ('pieced', 3764), ('indian', 3765), ('floats', 3766), ('heartbeat', 3767), ('worrying', 3768), ('challenged', 3769), ('franco', 3770), ('stil', 3771), ('daughters', 3772), ('niece', 3773), ('unrolled', 3774), ('flecks', 3775), ('seafolly', 3776), ('tennis', 3777), ('staples', 3778), ('maintece', 3779), ('backorder', 3780), ('cruise', 3781), ('sick', 3782), ('rigid', 3783), ('tush', 3784), ('partial', 3785), ('restricting', 3786), ('varies', 3787), ('laser', 3788), ('bracelet', 3789), ('seconds', 3790), ('hideous', 3791), ('marks', 3792), ('department', 3793), ('blessed', 3794), ('ruins', 3795), ('sapphire', 3796), ('laundry', 3797), ('travels', 3798), ('knocked', 3799), ('poufy', 3800), ('50s', 3801), ('admittedly', 3802), ('anniversary', 3803), ('video', 3804), ('ice', 3805), ('fridays', 3806), ('pound', 3807), ('reads', 3808), ('roller', 3809), ('envisioned', 3810), ('allowed', 3811), ('promptly', 3812), ('poster', 3813), ('dingy', 3814), ('final', 3815), ('al', 3816), ('improved', 3817), ('sausage', 3818), ('pushing', 3819), ('comically', 3820), ('tegan', 3821), ('boxes', 3822), ('ahve', 3823), (\"5'3'\", 3824), ('transitions', 3825), ('packing', 3826), ('flatteringly', 3827), ('code', 3828), ('muddy', 3829), ('news', 3830), ('plans', 3831), ('adjustment', 3832), ('swimwear', 3833), ('loud', 3834), ('studs', 3835), ('nevertheless', 3836), ('ad', 3837), ('pilco', 3838), ('catalogue', 3839), ('bar', 3840), ('relax', 3841), ('fabulously', 3842), ('affect', 3843), ('yuck', 3844), ('visited', 3845), ('outerwear', 3846), ('universally', 3847), ('turtlenecks', 3848), ('flying', 3849), ('60s', 3850), ('unusually', 3851), ('nubby', 3852), ('baseball', 3853), ('larges', 3854), ('lacey', 3855), ('violet', 3856), ('cinching', 3857), ('gingham', 3858), ('identical', 3859), ('umbrella', 3860), ('shortening', 3861), ('felted', 3862), ('smitten', 3863), (\"4'\", 3864), ('attitude', 3865), ('buckle', 3866), ('frankly', 3867), ('solves', 3868), ('wearer', 3869), ('elegantly', 3870), ('odor', 3871), ('rinse', 3872), ('soooooo', 3873), ('east', 3874), ('plush', 3875), ('wary', 3876), ('ticket', 3877), ('promise', 3878), ('ribbons', 3879), ('snatch', 3880), ('damage', 3881), ('nips', 3882), ('flatering', 3883), ('ot', 3884), ('teach', 3885), ('tab', 3886), ('trunk', 3887), ('dramatically', 3888), ('fe', 3889), ('indicates', 3890), ('varied', 3891), ('bagginess', 3892), ('zippered', 3893), ('appealed', 3894), ('160lb', 3895), ('cuz', 3896), ('florals', 3897), ('smart', 3898), ('heading', 3899), ('flattered', 3900), ('bod', 3901), ('sliding', 3902), ('luxury', 3903), ('heartbroken', 3904), ('revealed', 3905), ('bulkier', 3906), ('tinge', 3907), ('phenomenal', 3908), ('80', 3909), ('thinks', 3910), ('disappear', 3911), ('theme', 3912), ('sheet', 3913), ('position', 3914), ('puckering', 3915), ('camo', 3916), ('solve', 3917), ('disproportionate', 3918), ('wh', 3919), ('htey', 3920), ('gaped', 3921), ('55', 3922), ('gauge', 3923), ('sequin', 3924), ('glittery', 3925), ('loosened', 3926), ('boning', 3927), ('retain', 3928), ('ponte', 3929), ('fa', 3930), ('bodysuit', 3931), ('fairy', 3932), ('attending', 3933), ('horse', 3934), ('58', 3935), ('fluke', 3936), (\"4'11\", 3937), ('pearls', 3938), ('showstopper', 3939), ('coordinating', 3940), ('varying', 3941), ('considerably', 3942), ('stature', 3943), ('embarrassing', 3944), ('brighten', 3945), ('counts', 3946), ('12p', 3947), ('signature', 3948), ('waves', 3949), ('conceal', 3950), ('handkerchief', 3951), ('fee', 3952), ('spilled', 3953), ('rea', 3954), ('strongly', 3955), ('accident', 3956), ('hundred', 3957), ('bodies', 3958), ('tightened', 3959), ('137', 3960), ('direction', 3961), ('primary', 3962), ('informal', 3963), ('prominent', 3964), ('picnic', 3965), ('tip', 3966), ('hepburn', 3967), ('fox', 3968), ('raglan', 3969), (\"5'2''\", 3970), ('confidence', 3971), ('accommodates', 3972), ('listen', 3973), ('crossover', 3974), (\"5'7''\", 3975), ('understood', 3976), ('babies', 3977), ('steaming', 3978), ('dinners', 3979), ('sanctuary', 3980), ('hints', 3981), ('whoa', 3982), ('fabrication', 3983), ('45', 3984), ('bounce', 3985), ('loo', 3986), ('patiently', 3987), ('reaches', 3988), ('tint', 3989), ('combine', 3990), ('girlfriend', 3991), ('138lbs', 3992), ('burnout', 3993), ('clip', 3994), ('everybody', 3995), ('magenta', 3996), ('biased', 3997), ('undertones', 3998), ('bleach', 3999), ('cautious', 4000), ('de', 4001), ('stiffness', 4002), ('attempt', 4003), ('undertone', 4004), ('partly', 4005), ('insets', 4006), ('lumpy', 4007), ('choking', 4008), ('gapped', 4009), ('closing', 4010), ('aligned', 4011), ('crimson', 4012), ('expectation', 4013), ('england', 4014), ('lattice', 4015), ('hooked', 4016), ('24p', 4017), ('load', 4018), ('silvery', 4019), ('screams', 4020), ('gamble', 4021), ('thoroughly', 4022), ('uber', 4023), ('ginormous', 4024), ('billowing', 4025), ('118lbs', 4026), ('among', 4027), ('advise', 4028), ('wit', 4029), ('comical', 4030), ('28s', 4031), ('loads', 4032), ('speaking', 4033), ('dotted', 4034), ('draws', 4035), ('somebody', 4036), ('rubs', 4037), ('carpet', 4038), ('compensate', 4039), ('wedgie', 4040), ('impressive', 4041), ('unhappy', 4042), ('insert', 4043), ('antrho', 4044), ('flashing', 4045), ('lacework', 4046), ('stalking', 4047), ('neoprene', 4048), ('favor', 4049), ('wishing', 4050), ('falttering', 4051), ('collared', 4052), ('reinforce', 4053), ('leftover', 4054), ('tankini', 4055), ('children', 4056), ('cheeky', 4057), ('aesthetically', 4058), ('bug', 4059), ('sign', 4060), (\"who's\", 4061), ('laughing', 4062), ('story', 4063), ('cowlneck', 4064), ('restocked', 4065), ('pleasure', 4066), ('127lbs', 4067), ('sweatshirts', 4068), ('41', 4069), ('pins', 4070), ('defiantly', 4071), ('flawless', 4072), ('wearings', 4073), ('similarly', 4074), ('rushed', 4075), ('serve', 4076), ('opens', 4077), ('restaurant', 4078), ('gracefully', 4079), ('supple', 4080), ('regrets', 4081), ('gosh', 4082), ('sock', 4083), ('bear', 4084), ('trimester', 4085), ('laughed', 4086), ('underlay', 4087), ('crafted', 4088), ('inverted', 4089), ('luxuriously', 4090), ('apprehensive', 4091), ('buyers', 4092), ('foam', 4093), ('steamed', 4094), ('china', 4095), ('houston', 4096), (\"30's\", 4097), ('70', 4098), ('heavily', 4099), ('seamed', 4100), ('collected', 4101), ('australian', 4102), ('benefit', 4103), ('portrayed', 4104), ('translucent', 4105), ('female', 4106), ('dimensions', 4107), ('clever', 4108), ('boucle', 4109), ('sweatercoat', 4110), ('regard', 4111), ('positively', 4112), ('packed', 4113), ('esque', 4114), ('tested', 4115), ('unimpressed', 4116), ('zoom', 4117), ('highlighted', 4118), ('immodest', 4119), ('sexiness', 4120), ('weighted', 4121), ('complementary', 4122), ('workplace', 4123), ('surpassed', 4124), ('109lbs', 4125), ('mentioning', 4126), ('uncertain', 4127), ('19', 4128), ('vacations', 4129), ('boxiness', 4130), ('limit', 4131), ('hefty', 4132), ('shorty', 4133), ('costs', 4134), ('portland', 4135), ('judge', 4136), ('constricted', 4137), ('menswear', 4138), ('68', 4139), ('settle', 4140), ('grocery', 4141), ('occasional', 4142), ('tasteful', 4143), (\"5'1''\", 4144), ('43', 4145), ('wherever', 4146), ('eyed', 4147), ('em', 4148), ('heard', 4149), ('coveted', 4150), ('son', 4151), ('contains', 4152), ('purplish', 4153), ('upscale', 4154), ('strips', 4155), ('puckers', 4156), ('assets', 4157), ('switch', 4158), ('remaining', 4159), ('117lbs', 4160), ('camis', 4161), ('matters', 4162), ('mailbox', 4163), ('20s', 4164), ('epitome', 4165), ('abstract', 4166), ('term', 4167), ('shimmy', 4168), ('potatoes', 4169), ('remotely', 4170), ('everytime', 4171), ('telling', 4172), ('coz', 4173), ('jackpot', 4174), ('skimmed', 4175), ('poking', 4176), ('whiskering', 4177), ('deliver', 4178), ('caramel', 4179), ('wont', 4180), ('ratio', 4181), ('social', 4182), ('law', 4183), ('availability', 4184), ('photographs', 4185), ('evident', 4186), ('akemi', 4187), ('pile', 4188), ('spilling', 4189), ('rocking', 4190), ('panties', 4191), ('individual', 4192), ('secured', 4193), ('mature', 4194), ('glowing', 4195), ('disliked', 4196), ('express', 4197), ('row', 4198), ('rouching', 4199), ('choices', 4200), ('teen', 4201), ('133', 4202), ('turning', 4203), ('matte', 4204), ('jade', 4205), ('visually', 4206), ('peplums', 4207), ('rope', 4208), ('dipped', 4209), ('qualities', 4210), ('140lb', 4211), ('tug', 4212), ('camouflages', 4213), ('constant', 4214), ('demin', 4215), ('include', 4216), ('cheapens', 4217), ('bride', 4218), ('darting', 4219), ('triangles', 4220), ('flattened', 4221), ('complicated', 4222), ('hey', 4223), ('strike', 4224), ('flowly', 4225), ('doubled', 4226), ('twirl', 4227), ('road', 4228), ('northeast', 4229), (\"men's\", 4230), ('soeurs', 4231), ('colros', 4232), ('boyish', 4233), ('duty', 4234), ('approximately', 4235), ('banding', 4236), ('budget', 4237), ('nowadays', 4238), ('derriere', 4239), ('slides', 4240), ('cloths', 4241), ('defect', 4242), ('juvenile', 4243), ('skirted', 4244), ('choosing', 4245), ('chill', 4246), ('holy', 4247), ('brass', 4248), ('belled', 4249), ('ceremony', 4250), ('brightness', 4251), ('tiers', 4252), ('transparency', 4253), ('windowpane', 4254), ('jammies', 4255), ('hello', 4256), ('painting', 4257), ('mohair', 4258), ('pizzazz', 4259), ('chevron', 4260), ('transfer', 4261), ('filled', 4262), ('receipt', 4263), ('crown', 4264), ('punch', 4265), ('closest', 4266), ('lying', 4267), ('beauties', 4268), ('tears', 4269), ('grateful', 4270), ('magic', 4271), ('breastfeeding', 4272), ('threading', 4273), ('scissors', 4274), ('gaudy', 4275), ('club', 4276), ('steamer', 4277), ('feared', 4278), ('sounds', 4279), ('bosom', 4280), ('doable', 4281), ('downsides', 4282), ('wowed', 4283), ('staff', 4284), ('highlighting', 4285), ('abdomen', 4286), ('swinging', 4287), ('overpowering', 4288), ('undies', 4289), ('hunter', 4290), ('delivers', 4291), ('di', 4292), ('shelf', 4293), ('negatives', 4294), ('unzip', 4295), ('blown', 4296), ('flash', 4297), ('greatly', 4298), ('zone', 4299), ('nightmare', 4300), ('rode', 4301), ('coolest', 4302), ('garish', 4303), ('goal', 4304), ('stepping', 4305), ('finger', 4306), ('overlap', 4307), ('107lbs', 4308), ('petitie', 4309), ('ignore', 4310), ('ladylike', 4311), ('struggling', 4312), ('siz', 4313), ('workable', 4314), ('guest', 4315), ('painful', 4316), ('scene', 4317), ('leggy', 4318), ('knitting', 4319), ('dare', 4320), ('clasps', 4321), ('period', 4322), ('raincoat', 4323), ('itches', 4324), ('maintain', 4325), ('calling', 4326), ('bi', 4327), ('21', 4328), ('drawstrings', 4329), ('offset', 4330), ('stretchiness', 4331), ('loungers', 4332), ('scrunch', 4333), ('32f', 4334), ('cognac', 4335), ('loss', 4336), ('realizing', 4337), ('afford', 4338), ('mu', 4339), ('backordered', 4340), ('slenderizing', 4341), ('visiting', 4342), ('2015', 4343), ('humanity', 4344), ('versa', 4345), ('wea', 4346), ('joke', 4347), ('windy', 4348), ('steps', 4349), ('forearm', 4350), ('relationship', 4351), ('festival', 4352), ('merino', 4353), ('destroyed', 4354), ('unable', 4355), ('rules', 4356), ('junk', 4357), ('ar', 4358), (\"stevie's\", 4359), ('bees', 4360), ('motifs', 4361), ('presentation', 4362), ('stride', 4363), ('stranger', 4364), ('shoppers', 4365), ('ver', 4366), ('tigh', 4367), ('brunette', 4368), ('positioned', 4369), ('patter', 4370), ('catches', 4371), ('112lbs', 4372), ('recieved', 4373), ('cedar', 4374), ('wavy', 4375), ('snake', 4376), ('vent', 4377), ('puffer', 4378), ('lucked', 4379), ('fabri', 4380), ('stylists', 4381), ('impact', 4382), ('buckles', 4383), ('swtr', 4384), ('weak', 4385), ('colours', 4386), ('rumpled', 4387), ('tugging', 4388), ('ranna', 4389), ('richly', 4390), ('voila', 4391), ('handful', 4392), ('anxious', 4393), ('appearing', 4394), ('realistic', 4395), ('exclusively', 4396), ('aspects', 4397), ('information', 4398), ('maintaining', 4399), ('chair', 4400), ('glitter', 4401), ('squeezed', 4402), ('selection', 4403), ('solids', 4404), ('cutesy', 4405), ('148', 4406), ('longest', 4407), ('isnt', 4408), ('max', 4409), (\"season's\", 4410), ('droop', 4411), ('runner', 4412), ('htis', 4413), ('aesthetics', 4414), ('peacock', 4415), ('struggled', 4416), ('childish', 4417), ('belonged', 4418), ('fooled', 4419), ('corners', 4420), ('rag', 4421), (\"valentine's\", 4422), ('activities', 4423), ('moms', 4424), ('quote', 4425), ('improve', 4426), ('180', 4427), ('successfully', 4428), ('pucker', 4429), ('creasing', 4430), ('pit', 4431), ('seldom', 4432), ('tapers', 4433), ('sooner', 4434), ('pose', 4435), ('increase', 4436), ('flowiness', 4437), ('guys', 4438), ('tulip', 4439), ('maintains', 4440), ('laugh', 4441), ('verdict', 4442), ('southeast', 4443), ('disguise', 4444), ('implies', 4445), ('functionality', 4446), ('gladly', 4447), ('23', 4448), ('saved', 4449), ('hooded', 4450), ('sundry', 4451), ('tax', 4452), ('combines', 4453), ('wallet', 4454), ('puppy', 4455), (\"'s\", 4456), ('fastened', 4457), ('media', 4458), ('widen', 4459), ('exotic', 4460), ('thr', 4461), (\"fit's\", 4462), ('spite', 4463), ('lights', 4464), ('misshapen', 4465), ('deeply', 4466), ('peeve', 4467), ('desperately', 4468), ('apron', 4469), ('300', 4470), ('representation', 4471), ('teenage', 4472), ('associates', 4473), ('125lb', 4474), ('pe', 4475), ('yep', 4476), ('safely', 4477), ('36g', 4478), ('shortest', 4479), ('hospital', 4480), ('eclectic', 4481), ('peep', 4482), ('neatly', 4483), ('student', 4484), ('functions', 4485), ('crinkly', 4486), ('info', 4487), ('juxtaposition', 4488), ('velvety', 4489), ('december', 4490), ('thankful', 4491), ('snuggle', 4492), ('browsing', 4493), ('masculine', 4494), ('curtain', 4495), ('restroom', 4496), ('pads', 4497), ('countless', 4498), ('thinness', 4499), ('kin', 4500), ('treated', 4501), ('desert', 4502), ('handled', 4503), ('capsule', 4504), ('wild', 4505), ('music', 4506), ('representative', 4507), ('chosen', 4508), ('flipped', 4509), ('slept', 4510), ('3x', 4511), ('prevents', 4512), ('motion', 4513), ('carefree', 4514), ('hear', 4515), ('reunion', 4516), ('prefered', 4517), ('gill', 4518), ('platforms', 4519), ('rely', 4520), ('loser', 4521), ('decently', 4522), ('notes', 4523), ('finishes', 4524), (\"dress's\", 4525), ('randomly', 4526), ('levels', 4527), ('balanced', 4528), ('latter', 4529), ('protect', 4530), ('extends', 4531), ('rusty', 4532), ('breaks', 4533), ('joy', 4534), ('steel', 4535), ('upholstery', 4536), ('ac', 4537), ('encountered', 4538), ('incorrectly', 4539), ('mommy', 4540), ('scored', 4541), ('waaaaay', 4542), ('tassel', 4543), ('played', 4544), ('lemon', 4545), ('questionable', 4546), ('bath', 4547), ('opinions', 4548), ('shinier', 4549), ('greens', 4550), ('neutrals', 4551), ('rocks', 4552), ('territory', 4553), ('37ish', 4554), ('feedback', 4555), ('launder', 4556), ('prevented', 4557), ('waaay', 4558), ('sparkles', 4559), ('delightfully', 4560), ('corset', 4561), ('nip', 4562), ('sometime', 4563), ('nicest', 4564), ('requiring', 4565), ('intact', 4566), ('accented', 4567), ('checkered', 4568), ('throwback', 4569), ('minimizes', 4570), ('femine', 4571), ('90s', 4572), (\"child's\", 4573), ('frills', 4574), ('crease', 4575), ('useless', 4576), ('lengthwise', 4577), ('account', 4578), ('delivery', 4579), ('pastels', 4580), ('creme', 4581), ('spaghetti', 4582), ('eight', 4583), ('peeking', 4584), ('settings', 4585), ('manufacturer', 4586), ('combos', 4587), ('par', 4588), ('toddler', 4589), ('mistaken', 4590), ('helping', 4591), ('sided', 4592), ('feather', 4593), ('bags', 4594), ('lipstick', 4595), ('pu', 4596), ('imho', 4597), ('wasit', 4598), ('butterfly', 4599), ('cats', 4600), ('17', 4601), ('becasue', 4602), ('colorfast', 4603), ('converse', 4604), ('hyphens', 4605), ('anticipation', 4606), ('grew', 4607), ('reccomend', 4608), ('seemingly', 4609), ('dead', 4610), ('smock', 4611), ('170lbs', 4612), ('disguises', 4613), ('custom', 4614), ('halloween', 4615), ('loyal', 4616), ('skinnier', 4617), ('sparrow', 4618), ('softly', 4619), ('heights', 4620), ('contributes', 4621), ('defining', 4622), ('smocked', 4623), ('dust', 4624), ('handwash', 4625), ('reconsider', 4626), ('mo', 4627), ('refund', 4628), ('swiss', 4629), ('portions', 4630), ('firstly', 4631), ('difficulty', 4632), ('natori', 4633), ('thong', 4634), ('digging', 4635), ('lovers', 4636), ('lasts', 4637), (\"anyone's\", 4638), ('mumu', 4639), ('cure', 4640), ('justifies', 4641), ('mi', 4642), ('stalked', 4643), ('evenly', 4644), ('downhill', 4645), ('seattle', 4646), ('nails', 4647), ('sipping', 4648), ('error', 4649), ('access', 4650), ('situations', 4651), ('thumb', 4652), ('premium', 4653), ('couldnt', 4654), ('tuxedo', 4655), ('scream', 4656), ('leery', 4657), ('bled', 4658), ('cuteness', 4659), ('scratch', 4660), ('asymmetry', 4661), ('transferred', 4662), ('pendant', 4663), ('pa', 4664), ('103lbs', 4665), ('appliquã©', 4666), ('maid', 4667), (\"sister's\", 4668), ('fond', 4669), ('searched', 4670), ('favs', 4671), ('excessively', 4672), ('forming', 4673), ('22', 4674), ('ideas', 4675), ('quilting', 4676), ('sunshine', 4677), ('irregular', 4678), ('unwanted', 4679), ('rustic', 4680), ('substitute', 4681), ('peak', 4682), ('mis', 4683), ('tree', 4684), ('tiniest', 4685), ('palazzo', 4686), ('hers', 4687), ('ruining', 4688), ('bloated', 4689), ('widely', 4690), ('hipped', 4691), ('distance', 4692), ('shearling', 4693), ('fashioned', 4694), ('antique', 4695), ('mileage', 4696), ('unavailable', 4697), ('eyelets', 4698), ('mall', 4699), ('chubby', 4700), ('tenty', 4701), ('int', 4702), ('hurry', 4703), ('teaching', 4704), ('175', 4705), ('bullet', 4706), ('stuffy', 4707), ('offices', 4708), ('prairie', 4709), ('102lbs', 4710), ('coloration', 4711), ('galore', 4712), ('herself', 4713), ('article', 4714), ('vice', 4715), ('downsize', 4716), ('shifts', 4717), ('caved', 4718), ('supima', 4719), ('loses', 4720), ('internet', 4721), ('le', 4722), ('tla', 4723), ('studio', 4724), ('detached', 4725), ('pix', 4726), ('drama', 4727), ('silhouettes', 4728), ('wearability', 4729), ('48', 4730), ('descriptions', 4731), ('replacing', 4732), ('purely', 4733), ('fortunate', 4734), ('underwhelming', 4735), ('shimmering', 4736), ('boatneck', 4737), ('kinds', 4738), ('instincts', 4739), ('forced', 4740), ('mentions', 4741), (\"someone's\", 4742), ('coupled', 4743), ('net', 4744), ('oops', 4745), ('launders', 4746), ('doesn', 4747), ('sorbet', 4748), ('layed', 4749), ('peeks', 4750), ('ll', 4751), ('tablecloth', 4752), ('qu', 4753), ('providing', 4754), ('formfitting', 4755), ('burlap', 4756), ('weighing', 4757), ('ii', 4758), ('elongate', 4759), ('norm', 4760), (\"5'6'\", 4761), ('waists', 4762), ('29s', 4763), ('worlds', 4764), ('paint', 4765), ('dart', 4766), ('tore', 4767), ('bagging', 4768), ('113lbs', 4769), ('derby', 4770), ('twins', 4771), ('laced', 4772), ('earth', 4773), ('practice', 4774), ('drives', 4775), ('regrettably', 4776), ('named', 4777), ('wou', 4778), ('wayyy', 4779), ('amounts', 4780), ('kudos', 4781), ('admired', 4782), ('promising', 4783), ('outdoors', 4784), ('ms', 4785), ('bomb', 4786), ('boost', 4787), ('quest', 4788), ('raving', 4789), ('batch', 4790), ('showy', 4791), ('starters', 4792), ('185', 4793), ('38d', 4794), ('intent', 4795), ('judging', 4796), ('bodycon', 4797), ('shin', 4798), ('girlie', 4799), ('grip', 4800), ('convenient', 4801), ('distinct', 4802), ('colorways', 4803), ('heaviness', 4804), ('minnesota', 4805), ('squished', 4806), ('horrified', 4807), ('pl', 4808), ('risky', 4809), ('unnatural', 4810), ('midweight', 4811), ('graphics', 4812), ('reported', 4813), ('wispy', 4814), ('calls', 4815), ('expand', 4816), ('purchas', 4817), ('furry', 4818), ('28p', 4819), ('walks', 4820), ('158', 4821), ('northern', 4822), ('grace', 4823), ('trips', 4824), ('mazing', 4825), ('farm', 4826), ('reluctant', 4827), ('perspective', 4828), ('squeezing', 4829), ('curvey', 4830), ('drawbacks', 4831), ('leaner', 4832), ('comf', 4833), ('criteria', 4834), ('interestingly', 4835), ('crinkled', 4836), ('pouf', 4837), ('employees', 4838), ('represent', 4839), ('chartreuse', 4840), ('possibility', 4841), ('spill', 4842), ('miles', 4843), ('dying', 4844), ('brushed', 4845), ('definately', 4846), ('adjustments', 4847), ('chances', 4848), (\"brother's\", 4849), ('blond', 4850), ('moveable', 4851), ('detract', 4852), ('pointy', 4853), ('rows', 4854), ('intending', 4855), ('humidity', 4856), ('cancer', 4857), ('selected', 4858), ('spice', 4859), ('packaged', 4860), ('popsicles', 4861), ('nightie', 4862), ('me\\r', 4863), (\"3'\", 4864), ('meaty', 4865), ('sport', 4866), ('sorts', 4867), ('juts', 4868), ('88', 4869), ('paring', 4870), (\"5'9'\", 4871), ('atlanta', 4872), ('conditioning', 4873), ('interview', 4874), ('noting', 4875), ('puffing', 4876), ('british', 4877), ('kangaroo', 4878), ('physique', 4879), ('bridesmaid', 4880), ('regretting', 4881), ('pirate', 4882), ('poofing', 4883), ('stable', 4884), ('po', 4885), (\"'4\", 4886), ('foxes', 4887), ('multitude', 4888), ('suck', 4889), ('sleev', 4890), ('135lb', 4891), ('sexier', 4892), ('tier', 4893), ('defines', 4894), ('adult', 4895), ('pinning', 4896), ('existent', 4897), ('overdone', 4898), ('continuous', 4899), ('sacrificing', 4900), ('fastening', 4901), (\"5'3''\", 4902), ('pressing', 4903), ('ch', 4904), ('accessorized', 4905), ('satiny', 4906), ('emphasizing', 4907), ('braided', 4908), ('shells', 4909), ('questioned', 4910), ('sage', 4911), ('reduce', 4912), ('mile', 4913), ('limbs', 4914), ('organic', 4915), ('beforehand', 4916), ('longevity', 4917), ('fourth', 4918), ('yr', 4919), (\"maeve's\", 4920), ('prompted', 4921), ('worries', 4922), ('grease', 4923), ('swishy', 4924), ('towel', 4925), ('underlayer', 4926), ('crumpled', 4927), ('stark', 4928), ('dc', 4929), ('linebacker', 4930), ('january', 4931), ('hotel', 4932), ('tr', 4933), ('addicted', 4934), ('roses', 4935), ('modified', 4936), ('circulation', 4937), ('yarns', 4938), ('culotte', 4939), ('admire', 4940), ('shock', 4941), ('exposes', 4942), ('caribbean', 4943), ('drops', 4944), ('exterior', 4945), (\"fabric's\", 4946), ('translated', 4947), ('grommets', 4948), ('obnoxious', 4949), ('cherry', 4950), ('god', 4951), ('actuality', 4952), ('dad', 4953), ('awfully', 4954), ('lanky', 4955), ('gladiator', 4956), ('counter', 4957), ('buttonholes', 4958), ('ecstatic', 4959), ('finds', 4960), ('boston', 4961), ('torsoed', 4962), ('withstand', 4963), ('144', 4964), ('majorly', 4965), ('sweatpants', 4966), ('wasnt', 4967), ('basis', 4968), ('slouch', 4969), ('widening', 4970), ('coziness', 4971), ('track', 4972), ('recommendations', 4973), ('polo', 4974), ('genius', 4975), ('lenght', 4976), ('couch', 4977), ('pity', 4978), ('inappropriately', 4979), (\"pilcro's\", 4980), ('abundance', 4981), ('francisco', 4982), ('roominess', 4983), ('shabby', 4984), ('preserve', 4985), ('0petite', 4986), ('coated', 4987), (\"'em\", 4988), ('streaks', 4989), ('frock', 4990), ('laughable', 4991), ('member', 4992), ('hearing', 4993), ('27s', 4994), ('inviting', 4995), ('roughly', 4996), ('mossy', 4997), ('rosie', 4998), ('neira', 4999), ('tolerable', 5000), ('faves', 5001), ('ove', 5002), ('pits', 5003), ('78', 5004), ('retail', 5005), ('rises', 5006), ('packs', 5007), ('retains', 5008), ('leaf', 5009), (\"dress'\", 5010), ('32h', 5011), ('wouldnt', 5012), ('145lb', 5013), ('fluff', 5014), ('protrude', 5015), ('determine', 5016), ('bermuda', 5017), ('hates', 5018), ('warming', 5019), ('lycra', 5020), (\"girl's\", 5021), ('forearms', 5022), ('strategically', 5023), ('borders', 5024), (\"'red'\", 5025), ('kitten', 5026), ('compromise', 5027), ('deliciously', 5028), ('museum', 5029), ('sound', 5030), ('avoids', 5031), ('stumpy', 5032), ('mask', 5033), ('ensures', 5034), ('report', 5035), ('marrakech', 5036), ('midline', 5037), ('guy', 5038), ('stepped', 5039), ('unflatteringly', 5040), ('citizen', 5041), ('watched', 5042), ('faulty', 5043), ('burst', 5044), ('springtime', 5045), ('hardest', 5046), ('emerson', 5047), ('worthwhile', 5048), ('swam', 5049), (\"7'\", 5050), ('involved', 5051), ('tells', 5052), ('workers', 5053), ('justified', 5054), ('faint', 5055), ('underlying', 5056), ('animals', 5057), ('rougher', 5058), ('wonders', 5059), ('driving', 5060), ('4r', 5061), ('critique', 5062), ('lime', 5063), ('mama', 5064), ('ombrã©', 5065), ('linings', 5066), ('stellar', 5067), ('oomph', 5068), ('mixture', 5069), ('quibble', 5070), ('balck', 5071), ('dilemma', 5072), ('remain', 5073), ('faces', 5074), ('tastefully', 5075), ('footwear', 5076), ('discomfort', 5077), ('sum', 5078), ('moderately', 5079), ('sufficient', 5080), ('recall', 5081), ('gala', 5082), ('imperfect', 5083), ('simplistic', 5084), ('april', 5085), ('shipment', 5086), ('novelty', 5087), ('expense', 5088), ('splits', 5089), ('crossing', 5090), ('located', 5091), ('overweight', 5092), ('wallpaper', 5093), ('parachute', 5094), ('br', 5095), ('eating', 5096), ('gallery', 5097), ('ombre', 5098), ('smallish', 5099), ('giddy', 5100), ('seasonless', 5101), ('htem', 5102), ('couture', 5103), ('flop', 5104), ('largely', 5105), ('moon', 5106), ('devastated', 5107), ('flowered', 5108), ('spray', 5109), ('doubtful', 5110), ('dropping', 5111), ('slims', 5112), ('follow', 5113), ('skinned', 5114), ('handles', 5115), ('chicago', 5116), ('instance', 5117), ('conceals', 5118), ('select', 5119), ('cargos', 5120), ('floating', 5121), (\"5'9''\", 5122), ('rug', 5123), ('tapestry', 5124), ('browns', 5125), ('lovelier', 5126), ('heavyweight', 5127), ('claim', 5128), ('pilates', 5129), (\"t's\", 5130), ('glorious', 5131), ('orders', 5132), ('press', 5133), ('force', 5134), ('com', 5135), ('dozen', 5136), ('convert', 5137), ('fi', 5138), ('human', 5139), ('woul', 5140), ('food', 5141), ('steer', 5142), ('guessed', 5143), ('palm', 5144), ('avail', 5145), ('distracted', 5146), ('cornflower', 5147), ('delicately', 5148), ('upgrade', 5149), ('positives', 5150), ('mater', 5151), ('thinnest', 5152), ('necks', 5153), ('differ', 5154), ('verify', 5155), ('professor', 5156), ('stones', 5157), ('fire', 5158), ('branch', 5159), ('runway', 5160), ('speaks', 5161), ('robes', 5162), ('swishes', 5163), ('sequence', 5164), ('leisure', 5165), ('drove', 5166), ('puffs', 5167), ('stripped', 5168), ('kate', 5169), ('ocean', 5170), ('grecian', 5171), ('regretfully', 5172), ('ags', 5173), ('regretted', 5174), ('ecru', 5175), ('utility', 5176), ('wire', 5177), ('smelled', 5178), ('pinky', 5179), ('bling', 5180), ('ladder', 5181), ('alittle', 5182), ('socal', 5183), ('represents', 5184), ('unattractively', 5185), ('dangling', 5186), ('aged', 5187), ('lifting', 5188), ('remained', 5189), ('adequately', 5190), ('conversation', 5191), ('swimmer', 5192), ('celebration', 5193), ('indicate', 5194), ('desperate', 5195), ('pea', 5196), ('manufactured', 5197), ('er', 5198), ('column', 5199), ('scallops', 5200), ('95lbs', 5201), ('overdress', 5202), ('elasticity', 5203), ('1960s', 5204), ('alley', 5205), ('assured', 5206), (\"sweater's\", 5207), ('alike', 5208), ('hype', 5209), ('admiring', 5210), ('restricted', 5211), ('underskirt', 5212), ('micro', 5213), ('sweetheart', 5214), ('truthfully', 5215), ('bee', 5216), ('coveting', 5217), ('breaking', 5218), ('umbrellas', 5219), ('nipped', 5220), ('altogether', 5221), ('applied', 5222), ('hues', 5223), ('lab', 5224), ('comparable', 5225), ('reverse', 5226), ('unbelted', 5227), ('circles', 5228), ('failure', 5229), ('tended', 5230), ('yellowy', 5231), ('crowd', 5232), ('smoothly', 5233), ('gatherings', 5234), ('related', 5235), ('atleast', 5236), ('squat', 5237), ('wasn', 5238), ('thermal', 5239), ('questions', 5240), ('includes', 5241), ('beef', 5242), ('concealed', 5243), ('bralettes', 5244), (\"2''\", 5245), ('miraculously', 5246), ('massively', 5247), ('stronger', 5248), ('developing', 5249), ('pinched', 5250), ('eptite', 5251), ('lacked', 5252), ('faster', 5253), ('bbq', 5254), ('inaccurate', 5255), ('misrepresented', 5256), (\"summer's\", 5257), ('creation', 5258), ('brightens', 5259), ('111', 5260), ('lesson', 5261), ('dang', 5262), ('circa', 5263), ('extraordinary', 5264), ('elongating', 5265), ('scroll', 5266), ('vacationing', 5267), ('curls', 5268), ('chillier', 5269), ('p0', 5270), ('thrill', 5271), ('group', 5272), ('hottest', 5273), ('record', 5274), ('flattening', 5275), ('cleverly', 5276), ('enter', 5277), ('differs', 5278), ('mediocre', 5279), ('fasteners', 5280), ('tomato', 5281), ('melon', 5282), ('seater', 5283), ('vans', 5284), ('listing', 5285), ('pizazz', 5286), ('approach', 5287), ('forgotten', 5288), (\"5'0''\", 5289), ('fussing', 5290), ('tweaking', 5291), ('fails', 5292), ('rocker', 5293), ('goldenrod', 5294), ('squares', 5295), ('consistency', 5296), ('regulars', 5297), ('blk', 5298), ('toss', 5299), ('caveats', 5300), ('transitioned', 5301), ('consideration', 5302), ('cake', 5303), ('anti', 5304), ('repeat', 5305), ('da', 5306), ('remembered', 5307), ('killed', 5308), ('apt', 5309), ('floored', 5310), ('graze', 5311), ('humongous', 5312), ('mockneck', 5313), ('dense', 5314), ('bun', 5315), ('dime', 5316), ('messed', 5317), ('absurd', 5318), ('sans', 5319), ('tailors', 5320), ('speckled', 5321), ('slash', 5322), ('kicks', 5323), ('attachment', 5324), ('gifted', 5325), ('cases', 5326), ('candy', 5327), ('york', 5328), ('diff', 5329), ('lengthy', 5330), ('cocktails', 5331), ('grays', 5332), ('translate', 5333), ('baggie', 5334), ('november', 5335), ('train', 5336), ('role', 5337), ('strangest', 5338), ('squishy', 5339), ('stash', 5340), ('infinity', 5341), ('proportionally', 5342), ('alternate', 5343), ('deserves', 5344), ('lyocell', 5345), ('experiencing', 5346), ('tx', 5347), ('substantially', 5348), ('distorted', 5349), ('echo', 5350), ('grass', 5351), ('dragged', 5352), ('sequined', 5353), ('sunlight', 5354), ('clerk', 5355), ('irish', 5356), ('spirit', 5357), ('glow', 5358), ('cents', 5359), ('betty', 5360), ('complexions', 5361), ('xls', 5362), ('obscene', 5363), ('theres', 5364), ('dre', 5365), ('tents', 5366), ('limits', 5367), ('strands', 5368), ('freely', 5369), ('shrunken', 5370), ('talked', 5371), ('oop', 5372), ('spoke', 5373), ('popsicle', 5374), ('molded', 5375), ('contortionist', 5376), ('accidental', 5377), ('dresss', 5378), ('land', 5379), ('letting', 5380), ('understatement', 5381), ('evanthe', 5382), ('milder', 5383), ('american', 5384), ('accomodate', 5385), ('madly', 5386), ('til', 5387), ('mothers', 5388), ('sacrifice', 5389), ('snowy', 5390), ('earthy', 5391), ('formed', 5392), ('forewarned', 5393), ('143', 5394), ('expanding', 5395), ('nylons', 5396), ('jeweled', 5397), ('folk', 5398), ('bridesmaids', 5399), ('casing', 5400), ('dogs', 5401), (\"charlie's\", 5402), ('grid', 5403), ('charlies', 5404), ('coppery', 5405), (\"grandma's\", 5406), ('hiking', 5407), ('comfiest', 5408), ('alluring', 5409), ('grown', 5410), ('tastes', 5411), ('skit', 5412), ('unevenly', 5413), ('nine', 5414), ('saleswoman', 5415), ('map', 5416), (\"maxi's\", 5417), ('twin', 5418), ('skewed', 5419), ('kicky', 5420), ('kicking', 5421), ('champagne', 5422), ('diet', 5423), ('attempted', 5424), ('resulted', 5425), ('narrowest', 5426), ('respect', 5427), ('determined', 5428), ('traveled', 5429), ('magnificent', 5430), ('alaska', 5431), ('glamour', 5432), ('hunting', 5433), ('vee', 5434), ('tropical', 5435), ('dig', 5436), ('borrow', 5437), ('focus', 5438), ('upright', 5439), ('barefoot', 5440), ('hemlines', 5441), ('stray', 5442), ('ans', 5443), ('miami', 5444), ('referred', 5445), ('fairisle', 5446), ('intentionally', 5447), ('perception', 5448), ('flab', 5449), ('38dd', 5450), ('meetings', 5451), ('professionally', 5452), ('pefect', 5453), ('bac', 5454), ('dyed', 5455), ('gladiators', 5456), ('weightless', 5457), ('ia', 5458), ('sofa', 5459), ('sl', 5460), ('marshmallow', 5461), ('security', 5462), ('116lbs', 5463), ('repair', 5464), (\"it'\", 5465), ('downton', 5466), ('sisters', 5467), ('dressmaker', 5468), ('textiles', 5469), ('natured', 5470), ('pro', 5471), ('underslip', 5472), ('bus', 5473), ('unroll', 5474), ('splotchy', 5475), ('temperature', 5476), (\"levi's\", 5477), ('patten', 5478), ('incorrect', 5479), ('limp', 5480), ('arty', 5481), ('stroll', 5482), ('doubts', 5483), ('stoked', 5484), ('stacked', 5485), (\"mom's\", 5486), ('sweetest', 5487), ('redhead', 5488), ('combat', 5489), ('powder', 5490), ('classier', 5491), ('classical', 5492), ('percentage', 5493), ('horrendous', 5494), ('mystery', 5495), ('minimize', 5496), ('perf', 5497), ('eggplant', 5498), ('xxsmall', 5499), ('bind', 5500), ('grandmother', 5501), ('weekly', 5502), ('race', 5503), ('address', 5504), ('dallas', 5505), ('integrity', 5506), ('assumption', 5507), ('trenches', 5508), ('jut', 5509), ('deterred', 5510), ('downsized', 5511), ('serves', 5512), ('inserts', 5513), ('craftmanship', 5514), ('2016', 5515), ('offerings', 5516), ('146', 5517), ('puzzled', 5518), ('bagged', 5519), ('cloud', 5520), ('97', 5521), ('arrivals', 5522), ('chopped', 5523), ('sandles', 5524), ('exceeds', 5525), ('staring', 5526), ('midwest', 5527), ('4ft', 5528), ('tentlike', 5529), ('renaissance', 5530), ('straw', 5531), ('xmas', 5532), ('biggie', 5533), ('hotter', 5534), ('classes', 5535), ('luncheon', 5536), ('immensely', 5537), ('scratchier', 5538), ('modeling', 5539), ('124lbs', 5540), ('winning', 5541), ('cupro', 5542), ('lola', 5543), ('reversed', 5544), (\"xl's\", 5545), ('factory', 5546), ('mountain', 5547), ('checks', 5548), ('twirls', 5549), ('fluctuate', 5550), ('remedied', 5551), ('sturdier', 5552), ('feast', 5553), ('eek', 5554), ('applique', 5555), ('lightness', 5556), ('script', 5557), ('approaching', 5558), ('comfrotable', 5559), ('constrictive', 5560), ('overbearing', 5561), ('born', 5562), ('excitement', 5563), ('blades', 5564), ('bulged', 5565), ('trash', 5566), ('releases', 5567), ('scrubs', 5568), ('retained', 5569), ('nye', 5570), ('burn', 5571), ('coordinate', 5572), ('individuals', 5573), ('kn', 5574), ('complaining', 5575), ('drink', 5576), ('51', 5577), ('airport', 5578), ('object', 5579), ('neath', 5580), ('rail', 5581), ('rule', 5582), ('edgier', 5583), ('teensy', 5584), ('unzipping', 5585), ('guaranteed', 5586), ('lands', 5587), ('stocking', 5588), ('maillot', 5589), ('detracts', 5590), ('supports', 5591), ('lar', 5592), ('apricot', 5593), ('sotre', 5594), ('ahd', 5595), ('skier', 5596), ('interfered', 5597), ('primarily', 5598), ('trusty', 5599), ('bite', 5600), ('lifetime', 5601), (\"shirt's\", 5602), ('repaired', 5603), ('removing', 5604), ('substantive', 5605), ('drown', 5606), ('patience', 5607), (\"everyone's\", 5608), ('thickish', 5609), ('verdugo', 5610), ('derriã¨re', 5611), (\"others'\", 5612), ('shapewear', 5613), ('lowered', 5614), ('orde', 5615), ('peeked', 5616), ('rarity', 5617), ('stink', 5618), ('topped', 5619), ('ego', 5620), ('kentucky', 5621), ('honeymoon', 5622), ('cry', 5623), ('150lb', 5624), ('dries', 5625), ('leggins', 5626), ('necklines', 5627), ('chameleon', 5628), ('uncuff', 5629), ('stretchier', 5630), ('iridescent', 5631), ('outing', 5632), ('oth', 5633), ('smooths', 5634), ('mr', 5635), ('maize', 5636), ('56', 5637), ('resembling', 5638), ('mona', 5639), ('grabs', 5640), ('thou', 5641), ('sacklike', 5642), ('comfotable', 5643), ('marriage', 5644), ('piles', 5645), ('jury', 5646), ('flaring', 5647), ('island', 5648), ('reaction', 5649), ('duller', 5650), ('petal', 5651), ('repurchase', 5652), ('apparel', 5653), ('elevated', 5654), ('granny', 5655), ('sprayed', 5656), ('lengthen', 5657), ('painted', 5658), ('retailerpolgie', 5659), ('drawing', 5660), ('pds', 5661), ('ada', 5662), ('bulging', 5663), ('catcher', 5664), ('rubbed', 5665), ('mildly', 5666), ('und', 5667), ('snipped', 5668), ('ab', 5669), ('optimistic', 5670), ('heal', 5671), ('afterwards', 5672), ('ts', 5673), (\"5'3ish\", 5674), ('deceptive', 5675), ('manufacturing', 5676), ('handmade', 5677), ('cali', 5678), ('stunned', 5679), ('uk', 5680), ('puffiness', 5681), ('longish', 5682), ('fight', 5683), ('ex', 5684), ('popover', 5685), ('yucky', 5686), ('sideways', 5687), ('cheeks', 5688), ('49', 5689), ('cascade', 5690), ('contact', 5691), ('flabby', 5692), ('sublime', 5693), ('sees', 5694), ('dollar', 5695), ('reduced', 5696), ('movements', 5697), ('marigold', 5698), ('ochre', 5699), ('hanky', 5700), ('invested', 5701), ('rifle', 5702), ('irresistible', 5703), ('toes', 5704), ('utterly', 5705), ('lead', 5706), ('fluctuates', 5707), ('pepto', 5708), ('curiosity', 5709), ('cowled', 5710), ('triple', 5711), (\"top's\", 5712), ('honolulu', 5713), ('protection', 5714), ('easiest', 5715), ('anorak', 5716), ('posture', 5717), ('fixes', 5718), ('se', 5719), ('production', 5720), ('lifeless', 5721), ('discrepancy', 5722), (\"manufacturer's\", 5723), ('bedtime', 5724), ('sti', 5725), ('battle', 5726), ('mixing', 5727), ('modeled', 5728), ('vey', 5729), ('remarked', 5730), ('tire', 5731), ('extensive', 5732), ('overheated', 5733), ('colo', 5734), ('bumpy', 5735), ('discounted', 5736), ('hall', 5737), ('backs', 5738), ('clients', 5739), (\"'s'\", 5740), ('tartan', 5741), (\"ag's\", 5742), ('float', 5743), ('via', 5744), ('reflect', 5745), ('resistant', 5746), ('cash', 5747), ('cosy', 5748), (\"1970's\", 5749), ('war', 5750), ('stiching', 5751), ('appliquã©s', 5752), ('minimum', 5753), ('toasty', 5754), ('understanding', 5755), ('embellished', 5756), ('underside', 5757), ('reordering', 5758), ('147', 5759), ('shoot', 5760), ('hesitating', 5761), ('discreet', 5762), ('flora', 5763), ('airplanes', 5764), ('pilly', 5765), ('rendition', 5766), ('bam', 5767), ('lambswool', 5768), ('slant', 5769), ('guide', 5770), ('masterpiece', 5771), ('hurt', 5772), ('mih', 5773), ('power', 5774), ('prima', 5775), ('recommending', 5776), ('attach', 5777), ('snd', 5778), ('severe', 5779), ('dozens', 5780), ('proved', 5781), ('distress', 5782), ('alpaca', 5783), ('colorado', 5784), ('um', 5785), ('former', 5786), ('resulting', 5787), ('splotches', 5788), ('securely', 5789), ('sites', 5790), ('crisscross', 5791), ('warmed', 5792), ('pricier', 5793), ('ratty', 5794), ('listening', 5795), ('mottled', 5796), ('affair', 5797), ('dreams', 5798), ('thoughtfully', 5799), ('tips', 5800), ('opportunities', 5801), ('accordingly', 5802), ('isn', 5803), ('herringbone', 5804), ('carissima', 5805), ('tented', 5806), ('grosgrain', 5807), ('complimenting', 5808), ('fish', 5809), ('hoxton', 5810), ('relaxes', 5811), ('ons', 5812), ('effects', 5813), ('activewear', 5814), ('miracle', 5815), ('hooray', 5816), ('baily', 5817), ('signs', 5818), ('silicone', 5819), ('amd', 5820), ('hover', 5821), ('goofy', 5822), ('inbetween', 5823), ('gifts', 5824), ('blow', 5825), ('supported', 5826), ('horrid', 5827), ('basketweave', 5828), ('release', 5829), ('catchy', 5830), ('shocking', 5831), ('loafers', 5832), ('girlfriends', 5833), (\"son's\", 5834), ('describes', 5835), ('hollywood', 5836), ('separates', 5837), ('tiger', 5838), ('35a', 5839), ('fraction', 5840), ('tickled', 5841), ('ne', 5842), ('prepare', 5843), ('skintone', 5844), ('garnet', 5845), ('switched', 5846), (\"reviewers'\", 5847), ('claims', 5848), ('elongated', 5849), ('artist', 5850), ('ink', 5851), ('orleans', 5852), ('birkenstocks', 5853), ('finely', 5854), ('trial', 5855), ('fans', 5856), ('arrows', 5857), ('pur', 5858), ('looooove', 5859), ('raising', 5860), ('tutu', 5861), ('trusted', 5862), ('vinegar', 5863), ('rep', 5864), ('feb', 5865), ('savvy', 5866), ('whit', 5867), (\"5''\", 5868), ('subpar', 5869), ('span', 5870), ('redeeming', 5871), ('retuning', 5872), ('backpack', 5873), ('wavering', 5874), ('sweep', 5875), ('raved', 5876), ('parka', 5877), ('dim', 5878), ('ads', 5879), ('hh', 5880), ('articles', 5881), ('nailed', 5882), ('summary', 5883), ('umph', 5884), ('soul', 5885), ('shook', 5886), ('discounts', 5887), ('install', 5888), (\"cami's\", 5889), ('q', 5890), ('conform', 5891), ('gut', 5892), ('trimming', 5893), ('overpower', 5894), ('downward', 5895), ('heed', 5896), ('equals', 5897), ('pearl', 5898), (\"'swing'\", 5899), ('weathered', 5900), ('groom', 5901), ('bingo', 5902), ('merely', 5903), ('wrapping', 5904), ('peekaboo', 5905), ('demure', 5906), ('eagerly', 5907), ('awaited', 5908), ('reviewing', 5909), ('129lbs', 5910), ('flutters', 5911), ('tinier', 5912), ('middl', 5913), ('depiction', 5914), ('splash', 5915), ('embossed', 5916), ('favorable', 5917), ('clipdot', 5918), ('thirty', 5919), (\"today's\", 5920), ('ge', 5921), ('tolerance', 5922), ('xx', 5923), ('nod', 5924), ('accommodating', 5925), ('bouncy', 5926), ('144lb', 5927), ('bumped', 5928), ('deodorant', 5929), ('collarbone', 5930), ('edition', 5931), ('relegated', 5932), ('existed', 5933), ('indication', 5934), ('108lbs', 5935), ('129', 5936), ('awaiting', 5937), ('dive', 5938), ('cheek', 5939), ('getaway', 5940), ('waters', 5941), ('velcro', 5942), ('facing', 5943), ('backyard', 5944), ('camisol', 5945), ('smaill', 5946), ('denimy', 5947), ('mailing', 5948), ('faltering', 5949), ('ordere', 5950), ('xxl', 5951), ('funnel', 5952), ('glasses', 5953), ('amalfi', 5954), ('lokka', 5955), (\"skinny's\", 5956), ('reliable', 5957), ('imaginable', 5958), ('10lbs', 5959), ('deducted', 5960), ('bloom', 5961), ('ditto', 5962), ('swallowing', 5963), ('mill', 5964), ('georgeous', 5965), ('classics', 5966), ('collage', 5967), ('shimmers', 5968), ('smoothing', 5969), ('inspires', 5970), ('coal', 5971), ('kaki', 5972), ('beloved', 5973), ('wel', 5974), ('jackie', 5975), ('shout', 5976), ('distribution', 5977), ('op', 5978), ('classically', 5979), ('shading', 5980), ('ig', 5981), ('anna', 5982), ('attracting', 5983), ('mellow', 5984), ('whites', 5985), ('throu', 5986), ('drip', 5987), ('separately', 5988), (\"32d's\", 5989), ('su', 5990), ('gun', 5991), ('youre', 5992), ('loooove', 5993), ('squared', 5994), ('droops', 5995), ('toosh', 5996), ('photoshoot', 5997), ('overlaid', 5998), ('variable', 5999), ('truer', 6000), ('blood', 6001), ('building', 6002), (\"lot's\", 6003), ('drowned', 6004), ('camisoles', 6005), ('blob', 6006), ('midst', 6007), ('envision', 6008), ('mary', 6009), ('wishlist', 6010), ('40d', 6011), ('nipple', 6012), ('urge', 6013), ('survivor', 6014), ('attended', 6015), ('starched', 6016), ('zig', 6017), ('zag', 6018), ('petticoat', 6019), ('largish', 6020), ('32e', 6021), (\"5'11''\", 6022), ('convertible', 6023), (\"''\", 6024), ('oil', 6025), ('inconvenience', 6026), ('pettie', 6027), ('cupcake', 6028), (\"4''\", 6029), ('30f', 6030), ('confess', 6031), ('buckled', 6032), ('sunglasses', 6033), ('freeze', 6034), ('volumous', 6035), ('usable', 6036), ('register', 6037), ('fingernail', 6038), ('delaney', 6039), ('camp', 6040), ('versital', 6041), ('meal', 6042), ('offsets', 6043), ('seeking', 6044), ('impress', 6045), ('lifts', 6046), ('sienna', 6047), ('pooled', 6048), ('muc', 6049), ('isabella', 6050), ('sinclair', 6051), ('simultaneously', 6052), ('getter', 6053), ('mailed', 6054), ('mode', 6055), ('delicates', 6056), ('fiance', 6057), ('squishing', 6058), ('feminie', 6059), ('whilst', 6060), ('straining', 6061), ('owner', 6062), ('incorporate', 6063), ('supply', 6064), (\"2'\", 6065), ('tylho', 6066), ('damp', 6067), ('118lb', 6068), ('lov', 6069), ('hahaha', 6070), ('completed', 6071), ('seersucker', 6072), ('belle', 6073), ('community', 6074), ('widens', 6075), ('promised', 6076), (\"1'\", 6077), ('pinstripe', 6078), ('ta', 6079), ('greek', 6080), ('eloise', 6081), ('multicolor', 6082), ('repeated', 6083), ('relieved', 6084), ('small\\r', 6085), ('mass', 6086), ('behold', 6087), ('pen', 6088), ('mission', 6089), ('som', 6090), ('agreement', 6091), ('grazing', 6092), ('nobody', 6093), ('sandels', 6094), ('dish', 6095), ('preface', 6096), ('summe', 6097), ('0r', 6098), ('nto', 6099), ('hunched', 6100), ('lon', 6101), ('wri', 6102), ('whirl', 6103), ('dated', 6104), ('anybody', 6105), ('crewneck', 6106), ('shirtdresses', 6107), ('builds', 6108), ('comparing', 6109), ('landed', 6110), ('skintight', 6111), ('batwing', 6112), ('embroidering', 6113), ('sheep', 6114), ('trashy', 6115), ('rump', 6116), ('oddity', 6117), ('65', 6118), ('eliminates', 6119), ('dimples', 6120), ('becau', 6121), ('collect', 6122), ('hurts', 6123), ('wearin', 6124), ('oompa', 6125), ('loompa', 6126), ('credit', 6127), ('relation', 6128), ('hardware', 6129), ('monday', 6130), ('necessity', 6131), ('lightened', 6132), ('twenty', 6133), ('anxiously', 6134), ('30e', 6135), ('gappy', 6136), ('sucks', 6137), ('peeps', 6138), ('sandy', 6139), ('protruding', 6140), ('pricepoint', 6141), ('danger', 6142), ('deterrent', 6143), ('posterior', 6144), ('praise', 6145), ('wooly', 6146), ('cares', 6147), ('blouson', 6148), ('scratchiness', 6149), ('blueish', 6150), ('wooden', 6151), ('blows', 6152), ('swap', 6153), ('lengthening', 6154), ('avoided', 6155), ('starchy', 6156), ('bubbled', 6157), ('dynamite', 6158), ('mermaid', 6159), ('diaper', 6160), ('flirt', 6161), ('thereby', 6162), ('bundle', 6163), (\"1940's\", 6164), ('ur', 6165), ('gaucho', 6166), ('1980s', 6167), ('frequent', 6168), ('coul', 6169), ('budge', 6170), ('blotchy', 6171), ('mirrors', 6172), ('175lbs', 6173), ('theses', 6174), ('ludicrous', 6175), ('levis', 6176), ('afterward', 6177), ('flamingos', 6178), ('dealt', 6179), ('softened', 6180), ('wais', 6181), ('voluptuous', 6182), ('abo', 6183), ('boardwalk', 6184), ('rockets', 6185), ('regain', 6186), ('lives', 6187), ('concerning', 6188), ('costly', 6189), ('quirk', 6190), ('extras', 6191), ('redo', 6192), ('fabr', 6193), ('team', 6194), ('swear', 6195), ('twirly', 6196), ('awards', 6197), ('cooling', 6198), ('glide', 6199), ('perennial', 6200), ('transformed', 6201), ('woolite', 6202), ('polish', 6203), ('outcome', 6204), ('146lbs', 6205), ('rex', 6206), ('ed', 6207), ('unfamiliar', 6208), ('blocked', 6209), ('supper', 6210), ('agreeing', 6211), ('reshaped', 6212), ('burgandy', 6213), ('colr', 6214), ('speck', 6215), ('cozier', 6216), ('cafe', 6217), (\"people's\", 6218), ('fla', 6219), ('survived', 6220), ('snappy', 6221), ('throat', 6222), ('fool', 6223), ('accessorizing', 6224), ('seaside', 6225), ('overnight', 6226), ('students', 6227), ('source', 6228), ('newly', 6229), ('butts', 6230), ('residual', 6231), ('detect', 6232), ('gear', 6233), ('midway', 6234), ('interpretation', 6235), ('saddle', 6236), ('grunge', 6237), ('released', 6238), ('historically', 6239), ('blog', 6240), ('innocent', 6241), ('essence', 6242), ('numbers', 6243), ('letters', 6244), ('pi', 6245), ('stinking', 6246), ('jazzed', 6247), ('13', 6248), ('trimmer', 6249), ('abby', 6250), ('symmetry', 6251), ('128lb', 6252), ('claimed', 6253), ('athleisure', 6254), ('peite', 6255), ('dishes', 6256), ('mes', 6257), ('knocks', 6258), ('backed', 6259), ('imaging', 6260), ('str', 6261), ('terra', 6262), ('tick', 6263), ('imagination', 6264), ('liquid', 6265), ('charge', 6266), ('postcard', 6267), ('adorbs', 6268), ('deceptively', 6269), ('hybrid', 6270), ('failing', 6271), ('message', 6272), ('authentic', 6273), ('scandalous', 6274), ('reminding', 6275), ('peaking', 6276), ('appliquã©d', 6277), ('pilcrow', 6278), (\"5'10''\", 6279), ('uncovered', 6280), ('rectangular', 6281), ('conference', 6282), ('flattery', 6283), ('nipples', 6284), (\"la's\", 6285), ('insecurities', 6286), ('offs', 6287), ('eyeballing', 6288), ('bachelorette', 6289), ('nurse', 6290), ('foxy', 6291), ('flowery', 6292), ('distract', 6293), ('165lbs', 6294), ('midnight', 6295), ('clo', 6296), ('speed', 6297), ('dryel', 6298), ('baffled', 6299), ('stashed', 6300), ('symmetric', 6301), ('smashing', 6302), ('leaning', 6303), ('manageable', 6304), ('predict', 6305), ('scale', 6306), ('pr', 6307), ('ratings', 6308), (\"'v'\", 6309), ('hunchback', 6310), ('hipsters', 6311), ('ador', 6312), ('palate', 6313), ('sle', 6314), ('26s', 6315), ('overpowered', 6316), ('mocha', 6317), ('rings', 6318), ('boyfriends', 6319), ('wave', 6320), ('110lb', 6321), ('screamed', 6322), ('statuesque', 6323), ('fades', 6324), ('slow', 6325), ('uppe', 6326), ('dealbreaker', 6327), ('styl', 6328), ('ny', 6329), ('childhood', 6330), ('keds', 6331), ('embroiding', 6332), ('turner', 6333), ('viewers', 6334), ('saving', 6335), ('wayyyy', 6336), ('likewise', 6337), ('2r', 6338), ('translates', 6339), ('attempting', 6340), ('fingernails', 6341), ('abroad', 6342), ('stumble', 6343), ('whoever', 6344), ('emergency', 6345), ('pays', 6346), ('thoughtful', 6347), ('stunningly', 6348), ('fro', 6349), ('amterial', 6350), ('sting', 6351), ('75', 6352), ('entertaining', 6353), ('spectrum', 6354), ('feed', 6355), ('contain', 6356), ('intentions', 6357), ('conversationalist', 6358), ('whi', 6359), ('produced', 6360), ('bicep', 6361), ('overkill', 6362), ('woodland', 6363), ('bes', 6364), ('shredded', 6365), ('dept', 6366), ('blossoms', 6367), ('compliant', 6368), ('starkly', 6369), ('detach', 6370), ('definitively', 6371), ('grade', 6372), ('toy', 6373), ('loom', 6374), ('longtime', 6375), ('sucked', 6376), ('app', 6377), ('internal', 6378), ('utilitarian', 6379), ('38b', 6380), ('sung', 6381), ('shorties', 6382), ('ruler', 6383), ('disgusting', 6384), ('souers', 6385), ('frontal', 6386), ('anther', 6387), ('warranted', 6388), ('flatten', 6389), ('daisy', 6390), ('leap', 6391), ('purposely', 6392), ('36h', 6393), ('downsizing', 6394), ('outweigh', 6395), ('looove', 6396), ('107lb', 6397), ('sultry', 6398), ('cow', 6399), ('loke', 6400), ('sudden', 6401), ('drooped', 6402), ('honor', 6403), ('lit', 6404), ('stilts', 6405), ('wins', 6406), ('align', 6407), ('alignment', 6408), ('socially', 6409), ('wildest', 6410), ('structural', 6411), ('warrants', 6412), ('cowboys', 6413), ('bubbles', 6414), ('solo', 6415), ('tru', 6416), ('geared', 6417), ('unwieldy', 6418), ('relative', 6419), ('upgraded', 6420), ('p2', 6421), ('debuted', 6422), ('marvelous', 6423), ('dara', 6424), ('als', 6425), ('queen', 6426), ('subtlety', 6427), ('bday', 6428), ('fare', 6429), ('cas', 6430), ('laura', 6431), ('maintained', 6432), ('trade', 6433), ('finishings', 6434), ('connected', 6435), ('diameter', 6436), ('bot', 6437), ('upsize', 6438), ('buyi', 6439), ('bog', 6440), ('defin', 6441), ('fifties', 6442), ('perky', 6443), ('popcorn', 6444), ('beca', 6445), ('hike', 6446), ('owning', 6447), ('30p', 6448), ('lavendar', 6449), ('striations', 6450), ('cardy', 6451), ('recommen', 6452), ('uh', 6453), ('opera', 6454), ('acts', 6455), ('hipster', 6456), ('pillowcase', 6457), ('sophistication', 6458), ('mexican', 6459), ('hmmm', 6460), ('looses', 6461), (\"5'8'\", 6462), ('secret', 6463), ('corner', 6464), ('counting', 6465), ('frustration', 6466), ('dreaming', 6467), ('frill', 6468), ('whic', 6469), ('roder', 6470), ('unreasonable', 6471), ('poke', 6472), ('whitish', 6473), ('formally', 6474), ('motorcycle', 6475), ('myriad', 6476), ('decoration', 6477), ('newest', 6478), ('yellowish', 6479), ('sucking', 6480), ('becuase', 6481), ('skorts', 6482), ('diego', 6483), ('dresse', 6484), ('epaulets', 6485), ('craving', 6486), ('smoother', 6487), ('dubious', 6488), ('phase', 6489), ('irritated', 6490), (\"8's\", 6491), (\"5'4'\", 6492), ('tempting', 6493), ('stocked', 6494), ('resemble', 6495), ('2x', 6496), ('method', 6497), ('continued', 6498), ('conditioned', 6499), ('incomplete', 6500), ('maaji', 6501), ('cheekier', 6502), ('surrounded', 6503), ('waaaay', 6504), ('practicality', 6505), ('erin', 6506), ('fetherston', 6507), ('creep', 6508), ('16s', 6509), ('cumbersome', 6510), ('chunk', 6511), ('brushing', 6512), ('teens', 6513), ('lake', 6514), ('sumptuous', 6515), ('moreover', 6516), ('quintessential', 6517), ('recognize', 6518), ('ope', 6519), ('dirt', 6520), ('footless', 6521), ('embodies', 6522), (\"to's\", 6523), ('sliced', 6524), ('journey', 6525), ('diaphanous', 6526), ('slubby', 6527), ('holders', 6528), ('patters', 6529), ('sins', 6530), ('misplaced', 6531), ('yrs', 6532), ('spreading', 6533), ('shooties', 6534), ('forces', 6535), ('unsightly', 6536), ('risked', 6537), ('grad', 6538), ('swooned', 6539), ('strawberry', 6540), ('exist', 6541), ('uncommon', 6542), ('conforms', 6543), ('physically', 6544), (\"time's\", 6545), ('unshapely', 6546), ('internship', 6547), ('colorblock', 6548), ('history', 6549), ('project', 6550), ('flapper', 6551), ('dominate', 6552), ('anatomy', 6553), ('experiences', 6554), ('bay', 6555), ('reserve', 6556), ('spunk', 6557), ('minded', 6558), ('timely', 6559), ('petties', 6560), ('seek', 6561), ('cushion', 6562), ('perfecto', 6563), ('keen', 6564), ('paradise', 6565), ('trainers', 6566), ('trapezoid', 6567), ('freshly', 6568), ('nuts', 6569), ('boyshort', 6570), ('balled', 6571), ('upbeat', 6572), ('shadow', 6573), ('zigzag', 6574), ('mismatch', 6575), ('beautifu', 6576), ('pointing', 6577), ('daring', 6578), ('28dd', 6579), ('heirloom', 6580), ('sc', 6581), ('bout', 6582), ('coworker', 6583), ('cuffing', 6584), ('target', 6585), ('rec', 6586), ('tremendously', 6587), ('inevitably', 6588), ('reflection', 6589), ('prove', 6590), ('milk', 6591), ('disintegrated', 6592), ('dobby', 6593), ('murky', 6594), ('2s', 6595), ('litt', 6596), ('log', 6597), ('summ', 6598), ('aa', 6599), ('gre', 6600), ('chanel', 6601), ('embrace', 6602), ('encouraged', 6603), ('snugness', 6604), ('sunset', 6605), ('tw', 6606), ('8in', 6607), ('forgiveness', 6608), ('nighty', 6609), ('gowns', 6610), ('shirring', 6611), ('swept', 6612), ('barre', 6613), ('vacillate', 6614), ('ruffly', 6615), ('doily', 6616), ('jus', 6617), ('compression', 6618), ('salesgirl', 6619), ('compromising', 6620), ('stamped', 6621), ('asia', 6622), ('fluctuations', 6623), ('hindsight', 6624), ('tit', 6625), ('detial', 6626), ('fleetwood', 6627), ('ir', 6628), ('coworkers', 6629), ('yesteryear', 6630), ('warehouse', 6631), ('31p', 6632), ('stets', 6633), (\"don'\", 6634), ('automatically', 6635), ('linty', 6636), ('fatal', 6637), ('multiples', 6638), ('pliable', 6639), ('flannels', 6640), ('gradually', 6641), ('saucy', 6642), ('swea', 6643), ('eager', 6644), ('knitwear', 6645), ('action', 6646), ('wring', 6647), ('itty', 6648), ('yogis', 6649), ('overdressed', 6650), ('clips', 6651), ('thinnish', 6652), ('rectangle', 6653), ('52', 6654), ('tra', 6655), ('overboard', 6656), ('spaced', 6657), ('moments', 6658), ('defeated', 6659), ('workhorse', 6660), ('contrasts', 6661), ('domit', 6662), ('fist', 6663), ('camera', 6664), ('cheesecloth', 6665), ('ply', 6666), ('iffy', 6667), ('orderd', 6668), ('eyelash', 6669), ('onesie', 6670), ('paquerette', 6671), ('disguised', 6672), ('mobility', 6673), ('bleeds', 6674), ('mullet', 6675), ('molds', 6676), ('fingertips', 6677), (\"6'2\", 6678), ('improvement', 6679), ('crafty', 6680), ('127lb', 6681), ('sorta', 6682), ('presumably', 6683), ('urged', 6684), ('spicy', 6685), ('cusp', 6686), ('tule', 6687), ('decade', 6688), ('cities', 6689), ('encourage', 6690), ('accept', 6691), ('5in', 6692), ('channeling', 6693), ('250', 6694), ('yup', 6695), ('alexandria', 6696), ('nouveau', 6697), ('minimalist', 6698), ('stinks', 6699), ('john', 6700), ('guilty', 6701), (\"28's\", 6702), ('rips', 6703), (\"jean's\", 6704), ('sateen', 6705), ('1920s', 6706), ('chasing', 6707), ('bank', 6708), ('rediculously', 6709), ('pie', 6710), ('paranoid', 6711), ('dislikes', 6712), ('successful', 6713), ('fringes', 6714), ('eliminated', 6715), ('marilyn', 6716), ('postmark', 6717), ('aren', 6718), ('beatiful', 6719), ('garnered', 6720), ('remarkable', 6721), ('rosettes', 6722), ('clutch', 6723), ('148lbs', 6724), ('inadequate', 6725), ('dies', 6726), ('sprang', 6727), ('keepers', 6728), ('shir', 6729), ('members', 6730), ('clerks', 6731), ('impeccably', 6732), ('tedious', 6733), ('confining', 6734), ('prego', 6735), ('preggers', 6736), ('cohesive', 6737), ('mesmerizing', 6738), ('lively', 6739), ('ruffling', 6740), ('interwoven', 6741), ('eliminate', 6742), ('dancer', 6743), ('142lbs', 6744), ('needle', 6745), ('rising', 6746), ('togethers', 6747), ('dangly', 6748), ('periods', 6749), ('blacks', 6750), ('concur', 6751), ('unseamed', 6752), ('66', 6753), ('bootcut', 6754), ('muggy', 6755), ('nape', 6756), ('chemicals', 6757), ('cracked', 6758), ('ripples', 6759), ('poodle', 6760), ('raves', 6761), ('exudes', 6762), ('stupid', 6763), ('capped', 6764), ('optional', 6765), ('blousing', 6766), ('shee', 6767), ('balloony', 6768), (\"27's\", 6769), ('warmers', 6770), ('circumference', 6771), ('minimized', 6772), (\"money's\", 6773), ('tolerate', 6774), ('severely', 6775), (\"'m'\", 6776), ('exaggeration', 6777), ('gr', 6778), ('suspected', 6779), ('anth', 6780), ('57', 6781), ('knotting', 6782), ('absolutley', 6783), ('detracting', 6784), ('pane', 6785), ('hills', 6786), ('polkadots', 6787), ('dashed', 6788), ('scrunched', 6789), ('fr', 6790), ('lengthened', 6791), ('ultimate', 6792), ('bloused', 6793), ('favourite', 6794), ('dissappointed', 6795), ('chuckle', 6796), ('bolero', 6797), ('nad', 6798), ('smudge', 6799), ('finer', 6800), ('playground', 6801), ('perforated', 6802), ('solely', 6803), ('splendid', 6804), ('haute', 6805), ('warrant', 6806), ('rinsed', 6807), ('funeral', 6808), ('begging', 6809), ('gypsy', 6810), ('pickup', 6811), ('fantastically', 6812), ('raises', 6813), ('magnet', 6814), ('prett', 6815), ('examining', 6816), ('pinching', 6817), ('tangled', 6818), ('missoni', 6819), (\"material's\", 6820), ('recomend', 6821), ('corrected', 6822), ('leading', 6823), ('sailor', 6824), ('ehhh', 6825), ('168', 6826), ('rocket', 6827), ('pilazzo', 6828), ('cancelled', 6829), ('dismay', 6830), ('hurray', 6831), ('chase', 6832), ('voom', 6833), ('stack', 6834), ('vpl', 6835), ('allison', 6836), ('kicked', 6837), ('109', 6838), ('barrel', 6839), ('delicacy', 6840), ('amadi', 6841), ('vein', 6842), ('tu', 6843), ('â\\xa0â\\xa0i', 6844), ('italian', 6845), ('underneat', 6846), ('busting', 6847), (\"31's\", 6848), ('24s', 6849), ('cardio', 6850), ('ke', 6851), ('grea', 6852), ('spillage', 6853), ('cooperate', 6854), ('occassion', 6855), ('discolored', 6856), ('seamlessly', 6857), ('bulkiness', 6858), ('pillow', 6859), ('london', 6860), ('disproportionately', 6861), ('traps', 6862), ('outward', 6863), ('sweating', 6864), ('strictly', 6865), ('140b', 6866), ('willowy', 6867), ('shoul', 6868), ('slouchier', 6869), ('arranged', 6870), ('xtra', 6871), ('curling', 6872), ('stockings', 6873), ('96', 6874), ('focal', 6875), ('soak', 6876), ('desk', 6877), ('lampshade', 6878), ('slippery', 6879), ('snail', 6880), ('svelte', 6881), ('sticker', 6882), ('calia', 6883), ('nearby', 6884), ('tamed', 6885), ('checkout', 6886), ('blocks', 6887), ('jimmy', 6888), ('markdown', 6889), ('patterning', 6890), ('cutie', 6891), ('mankind', 6892), ('cellophane', 6893), ('farrah', 6894), ('fewer', 6895), ('treatment', 6896), ('guard', 6897), (\"artist's\", 6898), ('names', 6899), ('dazzling', 6900), ('seea', 6901), ('outrageously', 6902), ('prefectly', 6903), ('ejans', 6904), ('larkspur', 6905), ('emb', 6906), ('rocked', 6907), ('collarless', 6908), ('unsnapped', 6909), (\"3''\", 6910), ('plasticy', 6911), ('continuously', 6912), ('meda', 6913), ('layout', 6914), ('waterproof', 6915), ('03', 6916), ('france', 6917), ('limitless', 6918), ('pernette', 6919), ('undoubtedly', 6920), ('mud', 6921), ('wth', 6922), ('vast', 6923), ('jammie', 6924), ('locations', 6925), ('fifth', 6926), ('definetly', 6927), ('prompt', 6928), ('limiting', 6929), ('cld', 6930), (\"that'll\", 6931), ('autumnal', 6932), ('masking', 6933), ('completes', 6934), ('unbearably', 6935), ('huuuuge', 6936), ('increasingly', 6937), ('2008', 6938), ('fever', 6939), ('dreadful', 6940), ('disappeared', 6941), ('tallest', 6942), ('edginess', 6943), ('toget', 6944), ('planet', 6945), ('dn', 6946), ('sal', 6947), ('considerations', 6948), ('ri', 6949), ('loveee', 6950), ('sake', 6951), ('repeating', 6952), ('reallly', 6953), ('bicycle', 6954), ('elaborate', 6955), ('clay', 6956), ('unimpressive', 6957), ('compete', 6958), ('quirkiness', 6959), ('qualm', 6960), ('puffier', 6961), ('lux', 6962), ('material\\r', 6963), ('charts', 6964), ('wor', 6965), ('mcguire', 6966), ('proof', 6967), ('tightening', 6968), ('boobies', 6969), ('misaligned', 6970), ('vinyasa', 6971), ('los', 6972), ('angeles', 6973), ('airiness', 6974), ('contained', 6975), ('text', 6976), (\"god's\", 6977), ('stage', 6978), ('manette', 6979), ('evens', 6980), ('trans', 6981), ('flirtiness', 6982), ('skater', 6983), ('crave', 6984), ('iterations', 6985), ('sipper', 6986), ('pardon', 6987), ('hmm', 6988), ('intarsia', 6989), (\"purchaser's\", 6990), ('nauseating', 6991), ('viewed', 6992), ('hungry', 6993), ('sincerely', 6994), ('icing', 6995), ('poolside', 6996), ('loosens', 6997), ('recognized', 6998), ('flips', 6999), ('fal', 7000), ('horseshoe', 7001), ('indecent', 7002), ('shortcomings', 7003), ('othewise', 7004), ('choke', 7005), ('peter', 7006), ('pan', 7007), ('comforable', 7008), ('refresher', 7009), ('underestimated', 7010), ('fiancã©', 7011), (\"1950's\", 7012), ('perfer', 7013), ('considerable', 7014), ('nap', 7015), ('envelope', 7016), ('misled', 7017), ('asian', 7018), ('foldover', 7019), ('refuses', 7020), (\"to'\", 7021), ('persimmon', 7022), ('requested', 7023), ('eira', 7024), ('facebook', 7025), ('unworn', 7026), ('swagger', 7027), ('whose', 7028), ('bloomed', 7029), ('jungle', 7030), ('calssic', 7031), ('sooooooo', 7032), ('halters', 7033), ('tires', 7034), (\"5''6\", 7035), ('everthing', 7036), ('verging', 7037), ('114lbs', 7038), (\"26's\", 7039), ('quit', 7040), ('tat', 7041), ('bueno', 7042), ('robin', 7043), ('latte', 7044), ('excellently', 7045), ('ugg', 7046), ('serving', 7047), ('habit', 7048), ('bash', 7049), ('83', 7050), ('outdone', 7051), ('154', 7052), ('standpoint', 7053), ('reno', 7054), ('flecked', 7055), ('thickest', 7056), ('loosest', 7057), ('saleslady', 7058), ('iphone', 7059), ('framing', 7060), ('treats', 7061), ('llama', 7062), ('compliements', 7063), ('sewer', 7064), ('blowzy', 7065), ('gravity', 7066), ('heftier', 7067), ('squirming', 7068), ('sundresses', 7069), (\"where'd\", 7070), ('sui', 7071), ('lin', 7072), ('instructed', 7073), ('jogging', 7074), ('alternations', 7075), ('snakeskin', 7076), ('soaking', 7077), ('sporting', 7078), ('chloe', 7079), ('flattens', 7080), ('sorely', 7081), ('exercise', 7082), ('bei', 7083), ('decolletage', 7084), (\"xs's\", 7085), ('bolo', 7086), ('disneyland', 7087), ('shap', 7088), ('fest', 7089), ('crossbody', 7090), ('exploring', 7091), ('healed', 7092), ('starbucks', 7093), ('keys', 7094), ('realllly', 7095), ('136lbs', 7096), ('tide', 7097), ('flattrering', 7098), ('views', 7099), ('draper', 7100), ('remedy', 7101), (\"1920's\", 7102), ('downright', 7103), ('theirs', 7104), ('silkier', 7105), ('reinforces', 7106), ('boarder', 7107), ('skir', 7108), ('seed', 7109), ('umm', 7110), ('exaggerating', 7111), ('fuchsia', 7112), ('objections', 7113), ('ine', 7114), ('cherished', 7115), ('language', 7116), ('unpleasant', 7117), ('stole', 7118), ('sailboats', 7119), ('allover', 7120), ('ou', 7121), ('littl', 7122), ('punk', 7123), ('lyocel', 7124), ('cutoffs', 7125), ('demonstrates', 7126), ('encompasses', 7127), ('slighty', 7128), ('liekd', 7129), ('mos', 7130), ('iso', 7131), ('presentations', 7132), ('aforementioned', 7133), ('slick', 7134), ('donating', 7135), ('dynamic', 7136), ('50th', 7137), ('ful', 7138), ('flipping', 7139), ('stat', 7140), ('sown', 7141), ('paints', 7142), ('defense', 7143), ('solidly', 7144), ('xxxl', 7145), ('louisiana', 7146), ('deserve', 7147), ('pasties', 7148), ('landscape', 7149), ('clinged', 7150), ('splendidly', 7151), ('becaus', 7152), ('to\\r', 7153), ('addict', 7154), ('atrocious', 7155), ('beutiful', 7156), ('blindly', 7157), ('edged', 7158), ('brush', 7159), ('ranch', 7160), ('occurrence', 7161), ('156', 7162), ('swallows', 7163), ('az', 7164), ('straightening', 7165), (\"we've\", 7166), ('accommodated', 7167), ('blu', 7168), ('pice', 7169), ('woke', 7170), ('shortwaisted', 7171), ('summed', 7172), ('gorgeus', 7173), ('cancel', 7174), ('talented', 7175), ('spirited', 7176), ('fighting', 7177), ('netural', 7178), ('ike', 7179), ('avid', 7180), ('biker', 7181), ('plaids', 7182), ('bordering', 7183), ('prettiness', 7184), ('welcomed', 7185), ('trepidation', 7186), ('spruce', 7187), ('retired', 7188), ('mustardy', 7189), ('gamut', 7190), ('lucious', 7191), ('greeny', 7192), ('famous', 7193), ('neede', 7194), ('decidedly', 7195), ('20lbs', 7196), ('oozes', 7197), ('proba', 7198), ('offensive', 7199), ('stra', 7200), (\"29'\", 7201), ('repellent', 7202), ('the\\r', 7203), ('glorified', 7204), ('peels', 7205), ('recd', 7206), ('observation', 7207), ('contour', 7208), ('lnever', 7209), ('cabernet', 7210), ('retu', 7211), ('glue', 7212), ('decades', 7213), ('goldilocks', 7214), ('rosey', 7215), ('unicorn', 7216), ('maneuver', 7217), ('foresee', 7218), ('hoops', 7219), ('34dddd', 7220), ('lackluster', 7221), ('122lbs', 7222), ('othe', 7223), (\"cant'\", 7224), ('druzy', 7225), ('pace', 7226), ('applaud', 7227), ('cushy', 7228), ('tex', 7229), ('capelet', 7230), ('trees', 7231), ('suggesting', 7232), ('avoiding', 7233), ('batwings', 7234), ('insisted', 7235), ('filmy', 7236), ('tending', 7237), ('great\\r', 7238), ('nut', 7239), ('input', 7240), ('dusky', 7241), ('swish', 7242), ('chub', 7243), (\"5'1'\", 7244), ('resolved', 7245), ('bandage', 7246), ('softens', 7247), ('exchanges', 7248), ('dripped', 7249), ('wheelhouse', 7250), ('nieces', 7251), ('134lbs', 7252), ('sk', 7253), (\"'boyfriend'\", 7254), ('arielle', 7255), ('denver', 7256), ('cc', 7257), ('1x', 7258), ('empty', 7259), ('ewww', 7260), ('tightest', 7261), ('updates', 7262), ('plays', 7263), ('supremely', 7264), ('womanly', 7265), ('prim', 7266), ('pantie', 7267), ('surface', 7268), ('innovative', 7269), ('frigid', 7270), ('concrete', 7271), ('bff', 7272), ('showered', 7273), (\"din't\", 7274), ('kne', 7275), ('unbalanced', 7276), ('english', 7277), ('disclosure', 7278), ('flown', 7279), ('finicky', 7280), ('inventory', 7281), ('rockefeller', 7282), (\"5'2'\", 7283), ('costa', 7284), ('rica', 7285), ('crush', 7286), ('lengthens', 7287), ('suprisingly', 7288), ('sexiest', 7289), ('fisher', 7290), ('abbey', 7291), ('metalic', 7292), ('arts', 7293), ('crafts', 7294), ('collector', 7295), ('mate', 7296), ('heeded', 7297), ('cones', 7298), ('bein', 7299), ('festivals', 7300), ('cam', 7301), ('bellow', 7302), ('cast', 7303), ('gauchos', 7304), ('overseas', 7305), ('overs', 7306), ('weary', 7307), ('advantages', 7308), ('kneecap', 7309), ('unheard', 7310), (\"day's\", 7311), ('ligher', 7312), ('poured', 7313), ('chrolox', 7314), ('sensational', 7315), ('approved', 7316), ('quicker', 7317), ('referance', 7318), ('epic', 7319), ('aggressive', 7320), ('erring', 7321), ('lap', 7322), ('upkeep', 7323), (\"did't\", 7324), ('choker', 7325), ('widened', 7326), ('vulgar', 7327), ('forgive', 7328), ('rendered', 7329), ('curl', 7330), ('sty', 7331), ('hikes', 7332), ('noise', 7333), ('originality', 7334), ('crinkle', 7335), ('6th', 7336), ('grail', 7337), ('shining', 7338), ('affected', 7339), ('tugged', 7340), ('owns', 7341), ('ordinarily', 7342), ('granite', 7343), ('excuse', 7344), ('noce', 7345), ('frays', 7346), ('colors\\r', 7347), ('excelle', 7348), ('explains', 7349), ('bf', 7350), ('reminder', 7351), (\"t'shirt\", 7352), ('eying', 7353), ('85', 7354), ('36dds', 7355), ('girlish', 7356), (\"collector's\", 7357), ('thirteen', 7358), ('grabber', 7359), ('entry', 7360), ('nightshirt', 7361), ('selves', 7362), ('armed', 7363), ('convey', 7364), ('slee', 7365), ('climb', 7366), ('tremendous', 7367), ('jewels', 7368), ('purc', 7369), ('reweave', 7370), ('espadrille', 7371), ('arbor', 7372), ('fiddled', 7373), ('straighten', 7374), ('extraordinarily', 7375), ('presses', 7376), ('absolutly', 7377), ('senses', 7378), ('adventure', 7379), ('wireless', 7380), ('companion', 7381), ('ahoy', 7382), ('oxfords', 7383), ('stout', 7384), ('astounded', 7385), ('uncut', 7386), ('leopard', 7387), ('ju', 7388), ('conformed', 7389), ('harem', 7390), ('tile', 7391), ('rubber', 7392), ('lotta', 7393), ('palest', 7394), ('transform', 7395), ('crude', 7396), ('adults', 7397), ('instinct', 7398), (\"'t\", 7399), ('salon', 7400), ('detracted', 7401), ('weights', 7402), ('silouette', 7403), ('sie', 7404), ('sweetly', 7405), ('tracking', 7406), ('georgette', 7407), ('lifesaver', 7408), ('attendant', 7409), ('restriction', 7410), ('materi', 7411), ('liberty', 7412), ('partner', 7413), ('mn', 7414), ('cleans', 7415), ('covet', 7416), ('purcha', 7417), ('clumps', 7418), ('demoiselles', 7419), ('linin', 7420), ('54', 7421), ('scout', 7422), ('disgustingly', 7423), ('irresistibly', 7424), ('twists', 7425), ('ack', 7426), ('durham', 7427), ('nc', 7428), ('reckon', 7429), ('restrained', 7430), ('meat', 7431), ('5lbs', 7432), ('ambiguous', 7433), ('pump', 7434), ('squashed', 7435), ('atl', 7436), ('underlining', 7437), ('beaches', 7438), ('bahamas', 7439), ('strangling', 7440), ('regions', 7441), (\"'60s\", 7442), ('reflected', 7443), ('separating', 7444), ('extent', 7445), ('leary', 7446), ('backless', 7447), ('bread', 7448), ('155lb', 7449), ('realllllly', 7450), ('waif', 7451), ('napa', 7452), ('wineries', 7453), ('leans', 7454), ('colleagues', 7455), ('neater', 7456), ('exaggerates', 7457), ('civil', 7458), ('shake', 7459), ('glossy', 7460), ('produ', 7461), ('top\\r', 7462), ('sur', 7463), ('crepey', 7464), ('lurex', 7465), ('overwhelmingly', 7466), ('darned', 7467), ('promotional', 7468), ('charged', 7469), ('manufacturers', 7470), ('eptites', 7471), ('tey', 7472), ('lwait', 7473), ('slanted', 7474), ('ubiquitous', 7475), ('recovering', 7476), ('kansas', 7477), ('unclear', 7478), ('elysian', 7479), (\"'red\", 7480), ('regularl', 7481), ('skinniest', 7482), ('bellybutton', 7483), ('labeling', 7484), ('lovethis', 7485), ('ingredients', 7486), ('evokes', 7487), ('36e', 7488), ('jet', 7489), ('mins', 7490), ('stairs', 7491), ('quilt', 7492), ('cooled', 7493), ('hwoever', 7494), ('debate', 7495), ('mentioend', 7496), ('deserved', 7497), ('ideally', 7498), ('extend', 7499), ('disguising', 7500), ('eliminating', 7501), ('flags', 7502), ('peasy', 7503), ('sisterhood', 7504), ('nd', 7505), ('descriptor', 7506), ('conscience', 7507), ('requirement', 7508), ('reed', 7509), ('otk', 7510), ('shortie', 7511), ('packable', 7512), ('lightwei', 7513), ('quali', 7514), ('14p', 7515), ('stripey', 7516), ('contributed', 7517), ('reattaching', 7518), ('wrestle', 7519), ('peice', 7520), ('115ish', 7521), ('categorized', 7522), ('books', 7523), ('claws', 7524), ('causally', 7525), ('thier', 7526), ('flag', 7527), ('tote', 7528), ('desi', 7529), ('madras', 7530), ('whimsically', 7531), ('restricts', 7532), ('kno', 7533), ('restrictions', 7534), ('staggered', 7535), ('bainbridge', 7536), ('crisply', 7537), ('workwear', 7538), ('destroying', 7539), ('frosty', 7540), ('40th', 7541), ('medical', 7542), ('tyhlo', 7543), ('ga', 7544), ('sandscape', 7545), ('joined', 7546), ('onsie', 7547), ('ther', 7548), ('exclusives', 7549), ('hobby', 7550), ('everygirl', 7551), ('offwhite', 7552), ('felty', 7553), ('palazzos', 7554), ('spoken', 7555), ('lithe', 7556), ('task', 7557), ('smiling', 7558), ('darted', 7559), ('colorblocked', 7560), ('washability', 7561), ('spanks', 7562), ('fears', 7563), ('powering', 7564), ('fullest', 7565), ('6petite', 7566), ('broach', 7567), ('puffin', 7568), ('awkwardness', 7569), ('buttondowns', 7570), ('penguin', 7571), ('z', 7572), ('inconsistently', 7573), ('yellows', 7574), ('2010', 7575), ('memories', 7576), ('pond', 7577), ('skiers', 7578), ('hemant', 7579), ('dita', 7580), ('habitus', 7581), ('reconstructed', 7582), ('discontinue', 7583), ('japanese', 7584), ('usu', 7585), ('preggo', 7586), ('sli', 7587), ('boutique', 7588), ('weght', 7589), ('napkin', 7590), ('flowier', 7591), ('splashes', 7592), ('reconsidered', 7593), ('hued', 7594), ('arc', 7595), ('limitations', 7596), ('swims', 7597), (\"children's\", 7598), ('fiddling', 7599), ('predomit', 7600), ('screaming', 7601), ('shirtwaist', 7602), ('confirm', 7603), ('vanilla', 7604), ('hemstitch', 7605), ('little\\r', 7606), ('brisk', 7607), ('status', 7608), (\"rec'd\", 7609), ('outrageous', 7610), ('distorts', 7611), ('finest', 7612), ('monstrosity', 7613), ('recommends', 7614), ('horizon', 7615), ('miniature', 7616), ('basketball', 7617), ('highwaisted', 7618), ('henleys', 7619), ('skins', 7620), (\"law's\", 7621), ('corodorys', 7622), ('urban', 7623), ('121', 7624), ('coverall', 7625), ('zillion', 7626), ('era', 7627), ('skipping', 7628), ('jasper', 7629), ('jeera', 7630), (\"we'd\", 7631), ('scrooge', 7632), (\"niece's\", 7633), ('elementary', 7634), ('tasting', 7635), ('soccer', 7636), ('wobbly', 7637), ('dangerous', 7638), ('displays', 7639), ('stunted', 7640), ('abs', 7641), ('yea', 7642), ('111lbs', 7643), ('kneecaps', 7644), ('dresser', 7645), ('cactus', 7646), ('retur', 7647), ('yee', 7648), ('haw', 7649), ('noticing', 7650), ('chore', 7651), ('misnomer', 7652), ('cacti', 7653), ('mat', 7654), ('faced', 7655), ('definitly', 7656), ('minty', 7657), ('allusion', 7658), ('optical', 7659), ('bel', 7660), ('lightest', 7661), (\"jacket's\", 7662), ('destined', 7663), ('clashed', 7664), (\"y'all\", 7665), ('openwork', 7666), ('converted', 7667), ('ashley', 7668), ('roomie', 7669), ('unfitted', 7670), ('whoop', 7671), ('triangular', 7672), ('undressed', 7673), ('doorstep', 7674), (\"atlanta's\", 7675), ('holder', 7676), ('inbox', 7677), ('wandered', 7678), ('coolness', 7679), ('squash', 7680), ('wintery', 7681), ('sixties', 7682), ('nymph', 7683), ('fireside', 7684), ('weekender', 7685), ('curly', 7686), ('latest', 7687), ('demon', 7688), ('cabled', 7689), ('lopsided', 7690), ('equal', 7691), (\"v's\", 7692), ('breasting', 7693), ('waffled', 7694), ('disastrous', 7695), ('gorge', 7696), ('relish', 7697), ('agin', 7698), ('rosy', 7699), ('11inches', 7700), ('scoops', 7701), ('briefs', 7702), ('multicolored', 7703), ('blazing', 7704), ('beside', 7705), ('mar', 7706), ('i\\r', 7707), ('bonnet', 7708), ('transported', 7709), (\"winter's\", 7710), ('spetite', 7711), ('complected', 7712), (\"like'\", 7713), ('intertwined', 7714), ('looooooove', 7715), ('willingness', 7716), ('eprson', 7717), ('brief', 7718), ('abnormally', 7719), ('completel', 7720), ('nah', 7721), ('nit', 7722), ('slack', 7723), ('excels', 7724), ('plentiful', 7725), ('139', 7726), ('seats', 7727), ('streamline', 7728), ('shirttail', 7729), ('unnoticeable', 7730), ('friction', 7731), ('mended', 7732), ('link', 7733), ('altho', 7734), ('forgiven', 7735), ('filipino', 7736), ('unfort', 7737), ('flo', 7738), ('amply', 7739), ('suffer', 7740), ('shawls', 7741), ('priceless', 7742), ('games', 7743), ('maw', 7744), (\"i'\", 7745), ('lighten', 7746), ('repeats', 7747), ('romance', 7748), ('southwest', 7749), ('disservice', 7750), ('lp', 7751), ('origami', 7752), ('mediterranean', 7753), ('waaaaaay', 7754), ('unreliable', 7755), ('p6', 7756), ('thee', 7757), ('formality', 7758), (\"ann's\", 7759), ('factors', 7760), ('meanwhile', 7761), ('gauzey', 7762), ('critters', 7763), ('besutiful', 7764), ('sculpting', 7765), ('reoccurring', 7766), ('chucks', 7767), (\"5''3\", 7768), ('strength', 7769), ('whisper', 7770), ('stumped', 7771), ('muslin', 7772), ('col', 7773), ('intensely', 7774), ('buns', 7775), ('endora', 7776), ('228', 7777), ('drugstore', 7778), ('jazz', 7779), ('knockoff', 7780), ('shins', 7781), ('showers', 7782), ('hacked', 7783), ('stretc', 7784), ('speckles', 7785), ('plackets', 7786), ('versat', 7787), ('clownish', 7788), ('costumer', 7789), ('pokes', 7790), ('spotlight', 7791), ('campus', 7792), ('browse', 7793), ('charleston', 7794), ('icky', 7795), ('greener', 7796), (\"6''\", 7797), ('shifted', 7798), ('thes', 7799), ('heartbreakingly', 7800), ('featuring', 7801), ('assistance', 7802), ('preparing', 7803), ('cheese', 7804), ('plate', 7805), ('tuesday', 7806), ('cousins', 7807), ('protrusion', 7808), ('compatible', 7809), ('counted', 7810), ('133lbs', 7811), ('clock', 7812), ('saddlebag', 7813), ('underdressed', 7814), ('unreal', 7815), ('utter', 7816), ('gourgeous', 7817), ('semblance', 7818), ('closeup', 7819), ('faith', 7820), ('nordstrom', 7821), ('tis', 7822), ('assistant', 7823), ('deny', 7824), ('focused', 7825), ('birth', 7826), ('smelly', 7827), ('leifsdottir', 7828), ('daylight', 7829), ('cloudy', 7830), ('recomme', 7831), ('awesomely', 7832), ('longing', 7833), ('staticky', 7834), ('lasting', 7835), ('breathtakingly', 7836), ('bottons', 7837), ('rushing', 7838), ('petroleum', 7839), ('effective', 7840), ('theater', 7841), ('twisty', 7842), ('shops', 7843), ('impulsively', 7844), ('professorial', 7845), ('salt', 7846), ('parcel', 7847), ('unfortunatly', 7848), ('medallion', 7849), ('roaming', 7850), ('moors', 7851), ('intricately', 7852), ('sandpaper', 7853), ('proceed', 7854), ('cahrm', 7855), ('clunky', 7856), ('chiller', 7857), ('cigarette', 7858), ('forewarning', 7859), ('sensitivity', 7860), ('tinted', 7861), ('clingier', 7862), ('gravitating', 7863), ('bismol', 7864), ('horror', 7865), ('overstretched', 7866), ('overtly', 7867), ('materia', 7868), ('camouflaging', 7869), ('lumberjack', 7870), ('gems', 7871), ('voile', 7872), ('undernea', 7873), ('translation', 7874), ('sentence', 7875), ('polar', 7876), ('unfolded', 7877), ('juuuust', 7878), ('wrestling', 7879), ('ring', 7880), ('pelvis', 7881), ('slowly', 7882), ('bea', 7883), ('spade', 7884), ('challenges', 7885), ('orangy', 7886), ('confirmed', 7887), ('dimensional', 7888), ('hoop', 7889), ('branches', 7890), ('milky', 7891), ('manipulation', 7892), ('convince', 7893), ('join', 7894), ('elle', 7895), ('woods', 7896), ('crack', 7897), ('grows', 7898), ('taught', 7899), ('latch', 7900), ('loosing', 7901), ('mend', 7902), ('bla', 7903), ('abso', 7904), ('weaned', 7905), ('quality\\r', 7906), ('accepted', 7907), ('scratching', 7908), ('masks', 7909), ('session', 7910), ('neighborhood', 7911), ('flawlessly', 7912), ('ba', 7913), ('greenville', 7914), ('demographic', 7915), ('cou', 7916), ('canary', 7917), ('lowest', 7918), ('marring', 7919), ('unnecessarily', 7920), ('pas', 7921), ('scottish', 7922), ('diner', 7923), ('provence', 7924), ('magnolia', 7925), ('tracey', 7926), ('electric', 7927), ('native', 7928), ('cinderella', 7929), ('explanation', 7930), ('ceases', 7931), ('amaze', 7932), ('wether', 7933), ('preferably', 7934), ('llonger', 7935), ('skipped', 7936), ('perfe', 7937), ('opting', 7938), ('fluctuating', 7939), ('hilarious', 7940), ('mamaw', 7941), ('momma', 7942), ('kiddos', 7943), ('readjusting', 7944), ('35c', 7945), ('tshirts', 7946), ('librarian', 7947), ('loooooove', 7948), ('prom', 7949), ('mulling', 7950), ('dragonflies', 7951), ('balked', 7952), ('boxing', 7953), ('champion', 7954), ('congratulations', 7955), ('distraction', 7956), ('merchandise', 7957), ('unlikely', 7958), ('racks', 7959), ('pallet', 7960), ('intensity', 7961), ('pai', 7962), (\"4'10\", 7963), ('pudge', 7964), ('pixie', 7965), ('en', 7966), ('celadon', 7967), ('tattoo', 7968), ('ant', 7969), (\"20's\", 7970), ('unbearable', 7971), ('aquaflora', 7972), ('with\\r', 7973), ('tanner', 7974), ('roc', 7975), ('fronts', 7976), ('diminish', 7977), ('critical', 7978), ('coldest', 7979), ('err', 7980), ('paler', 7981), ('strategic', 7982), ('tale', 7983), ('kim', 7984), ('ooh', 7985), ('february', 7986), ('snowflake', 7987), ('bleached', 7988), ('entering', 7989), ('patent', 7990), ('hangar', 7991), ('moot', 7992), ('godsend', 7993), ('google', 7994), (\"10's\", 7995), (\"'m\", 7996), ('accomplish', 7997), ('classroom', 7998), ('borrowed', 7999), ('inherent', 8000), ('rugged', 8001), ('pared', 8002), ('pintucks', 8003), ('payed', 8004), ('declining', 8005), ('existing', 8006), ('fluttered', 8007), ('unrealistic', 8008), ('bec', 8009), ('glanced', 8010), ('lumpiness', 8011), ('oranges', 8012), ('106lbs', 8013), ('disintegrate', 8014), ('graduating', 8015), ('confusion', 8016), ('distinction', 8017), ('blended', 8018), ('elder', 8019), ('fanatic', 8020), ('king', 8021), ('houndstooth', 8022), ('shortly', 8023), ('sham', 8024), ('overexposed', 8025), ('bodytype', 8026), ('lasted', 8027), ('rotate', 8028), ('havent', 8029), ('scrolling', 8030), ('inquiries', 8031), ('bunny', 8032), ('prep', 8033), ('imply', 8034), ('fuzziness', 8035), ('unwrapped', 8036), ('pineapples', 8037), ('sartorial', 8038), ('defi', 8039), ('unbelievable', 8040), ('pampered', 8041), ('bordered', 8042), ('nicked', 8043), ('storm', 8044), ('minneapolis', 8045), ('repeller', 8046), ('avant', 8047), ('garde', 8048), ('kedia', 8049), ('irritate', 8050), ('jane', 8051), ('62', 8052), ('menopause', 8053), ('36aa', 8054), ('53', 8055), ('imperfection', 8056), ('flocked', 8057), ('costumes', 8058), ('29p', 8059), ('geometrical', 8060), ('craze', 8061), ('sliming', 8062), ('qua', 8063), ('sends', 8064), ('tossed', 8065), ('toothpicks', 8066), ('ahhh', 8067), ('greatness', 8068), ('saddened', 8069), ('descri', 8070), (\"chino's\", 8071), ('vision', 8072), ('hrs', 8073), (\"body's\", 8074), ('dreary', 8075), ('sf', 8076), ('ohio', 8077), ('snuck', 8078), ('worsened', 8079), ('blight', 8080), ('eu', 8081), ('grable', 8082), ('fundraiser', 8083), ('fees', 8084), ('wrangle', 8085), ('shared', 8086), ('trie', 8087), ('divinely', 8088), ('endlessly', 8089), ('burned', 8090), ('dates', 8091), ('burns', 8092), ('singing', 8093), ('especia', 8094), ('pause', 8095), ('sepia', 8096), ('fatty', 8097), ('pondering', 8098), ('district', 8099), ('disposable', 8100), ('reall', 8101), ('pilcos', 8102), ('longs', 8103), ('blank', 8104), ('coloured', 8105), ('remembering', 8106), ('mattress', 8107), ('luncheons', 8108), ('perhap', 8109), ('remade', 8110), ('torture', 8111), ('device', 8112), ('recipient', 8113), ('evergreen', 8114), ('mountains', 8115), ('ingalls', 8116), ('milkmaid', 8117), ('lunches', 8118), ('eastern', 8119), ('greater', 8120), ('jutted', 8121), ('unreasonably', 8122), ('disappoin', 8123), ('carrie', 8124), ('bradshaw', 8125), ('optimal', 8126), ('finesse', 8127), ('guilt', 8128), (\"coh's\", 8129), ('mold', 8130), ('cartoon', 8131), ('mysteriously', 8132), ('pricing', 8133), ('furniture', 8134), ('popback', 8135), ('invites', 8136), ('stomachs', 8137), ('1987', 8138), ('raiding', 8139), ('stud', 8140), ('foo', 8141), ('dazzled', 8142), ('cutaway', 8143), (\"she'd\", 8144), ('forms', 8145), ('maximizes', 8146), ('buxom', 8147), ('chin', 8148), ('sizi', 8149), ('broaden', 8150), ('assessing', 8151), ('petities', 8152), ('sways', 8153), ('pushup', 8154), ('thesis', 8155), ('monet', 8156), ('situated', 8157), ('colorwise', 8158), ('stare', 8159), ('femme', 8160), ('sw', 8161), ('photoshopped', 8162), ('monica', 8163), ('sexyness', 8164), ('risquã©', 8165), ('overwhelms', 8166), ('rent', 8167), ('danced', 8168), ('headband', 8169), ('smoky', 8170), ('periodically', 8171), ('corduroys', 8172), ('fluttering', 8173), ('musical', 8174), ('cinnamon', 8175), ('sparingly', 8176), ('yours', 8177), ('midrise', 8178), ('cashier', 8179), ('accenting', 8180), ('pounced', 8181), ('mateiral', 8182), ('amazon', 8183), ('thermals', 8184), ('whale', 8185), ('95lb', 8186), ('joan', 8187), ('abou', 8188), ('shaper', 8189), ('20th', 8190), ('waits', 8191), ('woolen', 8192), ('spun', 8193), ('genie', 8194), ('horizontally', 8195), ('harsh', 8196), ('breton', 8197), ('married', 8198), ('awe', 8199), ('melt', 8200), ('repertoire', 8201), (\"5'10'\", 8202), ('surf', 8203), ('yacht', 8204), ('shortcake', 8205), ('replenished', 8206), ('annoyance', 8207), ('wideness', 8208), ('jodphurs', 8209), ('eternal', 8210), ('ficial', 8211), ('30th', 8212), ('bliss', 8213), ('terrified', 8214), ('effortlessness', 8215), ('noticable', 8216), ('sloppiness', 8217), ('glory', 8218), ('awsome', 8219), ('wadded', 8220), ('mules', 8221), ('enthusiast', 8222), ('corals', 8223), ('cigar', 8224), ('sofisticated', 8225), ('departure', 8226), ('chuckled', 8227), ('really\\r', 8228), ('it\\r', 8229), ('hunch', 8230), ('casu', 8231), (\"nephew's\", 8232), ('fools', 8233), ('poufs', 8234), ('host', 8235), ('cellulite', 8236), ('synch', 8237), ('survey', 8238), ('howeve', 8239), ('panama', 8240), ('fierce', 8241), ('blogger', 8242), ('crucial', 8243), ('scores', 8244), ('lemons', 8245), ('encounter', 8246), ('dipping', 8247), ('affects', 8248), ('grazed', 8249), ('hawk', 8250), ('celebrate', 8251), ('hypen', 8252), (\"brand's\", 8253), ('exceptions', 8254), ('itsy', 8255), ('cehst', 8256), ('frump', 8257), ('newport', 8258), ('2petite', 8259), ('sailboat', 8260), ('bitter', 8261), ('pooches', 8262), ('unflatering', 8263), ('sill', 8264), ('parrot', 8265), ('knockout', 8266), ('disappears', 8267), ('sin', 8268), ('swell', 8269), ('cartoonish', 8270), ('amoret', 8271), ('shifting', 8272), ('guests', 8273), ('killing', 8274), ('slice', 8275), ('courderoy', 8276), ('loft', 8277), ('curtains', 8278), ('nicks', 8279), ('roast', 8280), ('pesky', 8281), ('brioche', 8282), ('crisscrossed', 8283), ('bikinis', 8284), ('larkhill', 8285), ('unstitched', 8286), ('smoothes', 8287), ('petitte', 8288), ('uplifting', 8289), ('placing', 8290), ('crinoline', 8291), ('fractals', 8292), ('dahlia', 8293), ('slig', 8294), ('components', 8295), ('ho', 8296), ('consequently', 8297), (\"might've\", 8298), ('zippery', 8299), ('uncuffed', 8300), ('intriguing', 8301), ('choir', 8302), ('mmmmm', 8303), ('taupey', 8304), ('regards', 8305), ('sleevless', 8306), ('courage', 8307), ('allergic', 8308), ('incidentally', 8309), ('siyu', 8310), ('sheers', 8311), ('depict', 8312), ('inspiration', 8313), ('dud', 8314), ('swoop', 8315), ('athlete', 8316), (\"'tent'\", 8317), ('60th', 8318), ('webs', 8319), ('studied', 8320), ('defini', 8321), ('vendor', 8322), ('sweaterknit', 8323), ('emails', 8324), ('sags', 8325), ('broadened', 8326), ('blankets', 8327), ('passes', 8328), ('incorporated', 8329), ('shore', 8330), ('user', 8331), ('showcase', 8332), ('vinyl', 8333), ('saundra', 8334), ('scrub', 8335), ('learning', 8336), ('investing', 8337), ('muddled', 8338), ('reader', 8339), ('stretchs', 8340), (\"else's\", 8341), ('smoking', 8342), ('exit', 8343), ('pluses', 8344), ('differen', 8345), ('seeming', 8346), ('38in', 8347), (\"'runs\", 8348), ('collecting', 8349), ('forcing', 8350), (\"29's\", 8351), ('huh', 8352), ('mushroom', 8353), ('youth', 8354), ('shallow', 8355), ('straightforward', 8356), ('fellow', 8357), ('climbing', 8358), ('forwar', 8359), (\"it''s\", 8360), ('unique\\r', 8361), ('newer', 8362), ('testing', 8363), ('nearest', 8364), ('jegging', 8365), ('introduced', 8366), ('800', 8367), ('marguerite', 8368), ('satisfactory', 8369), ('isle', 8370), ('righ', 8371), ('expe', 8372), ('fluorescent', 8373), ('pnw', 8374), ('weirdest', 8375), ('angora', 8376), ('bottomed', 8377), ('threaded', 8378), (\"6'0\", 8379), ('backward', 8380), ('nicel', 8381), ('potatoe', 8382), ('legnth', 8383), ('mrs', 8384), ('roper', 8385), ('girth', 8386), ('xlarge', 8387), ('bette', 8388), ('hink', 8389), ('posters', 8390), ('trek', 8391), ('villain', 8392), ('dissuade', 8393), ('shaved', 8394), ('oct', 8395), ('networking', 8396), ('pictur', 8397), ('sunflower', 8398), ('printing', 8399), ('capture', 8400), ('hubs', 8401), ('michael', 8402), ('scotty', 8403), (\"4's\", 8404), ('retuned', 8405), ('crushing', 8406), ('tickles', 8407), ('leeway', 8408), ('pippa', 8409), ('formless', 8410), ('makers', 8411), ('bran', 8412), ('beautify', 8413), ('appalled', 8414), ('enthralled', 8415), ('accordian', 8416), ('materiel', 8417), ('weightier', 8418), ('huuuge', 8419), ('bedspread', 8420), ('drool', 8421), ('shortish', 8422), ('watermelon', 8423), ('negatively', 8424), ('scrumptious', 8425), ('barley', 8426), ('hol', 8427), ('1950s', 8428), ('pedal', 8429), ('inexplicably', 8430), ('grand', 8431), ('visions', 8432), ('resistance', 8433), ('memory', 8434), ('expands', 8435), ('maiden', 8436), ('duper', 8437), ('grandmas', 8438), ('giv', 8439), ('exquisitely', 8440), ('village', 8441), ('remains', 8442), ('aize', 8443), ('grandpa', 8444), ('blissfully', 8445), ('unmatched', 8446), ('kennedy', 8447), ('orangish', 8448), ('hallelujah', 8449), ('wid', 8450), (\"can'\", 8451), ('jelly', 8452), ('thre', 8453), ('matador', 8454), ('insulting', 8455), ('impatiently', 8456), ('overnighted', 8457), ('regulat', 8458), ('flar', 8459), ('feathers', 8460), ('learn', 8461), ('ikat', 8462), ('airplane', 8463), ('capes', 8464), ('labor', 8465), ('lawn', 8466), ('undoing', 8467), ('mui', 8468), ('digit', 8469), ('clicked', 8470), ('venture', 8471), ('wither', 8472), ('workouts', 8473), ('breakers', 8474), ('neve', 8475), ('gracious', 8476), ('invest', 8477), ('compfy', 8478), ('overlapping', 8479), ('panic', 8480), ('stadium', 8481), ('shou', 8482), ('overlaps', 8483), ('squarish', 8484), ('presented', 8485), (\"who've\", 8486), ('cascades', 8487), ('flatte', 8488), ('doe', 8489), ('cheshire', 8490), ('charity', 8491), ('peel', 8492), (\"out'\", 8493), ('goo', 8494), ('cardis', 8495), ('accompanying', 8496), ('upsizing', 8497), ('excitedly', 8498), (\"skirt's\", 8499), (\"up'\", 8500), ('sons', 8501), ('dread', 8502), ('cotta', 8503), ('briefly', 8504), ('creatively', 8505), ('terracotta', 8506), ('stetson', 8507), ('aunt', 8508), ('everleigh', 8509), ('67', 8510), ('devoted', 8511), ('ick', 8512), ('melodist', 8513), ('ths', 8514), ('barbecue', 8515), ('sassiness', 8516), ('monogram', 8517), ('wowza', 8518), ('tacks', 8519), ('subsequently', 8520), ('roof', 8521), ('grommet', 8522), ('enlarged', 8523), ('handling', 8524), (\"there'd\", 8525), ('3d', 8526), ('perceived', 8527), ('hacking', 8528), ('extravagant', 8529), ('study', 8530), ('beautifil', 8531), ('25s', 8532), ('tropic', 8533), ('spans', 8534), ('marroon', 8535), ('specks', 8536), ('spec', 8537), ('crumples', 8538), ('disagreed', 8539), ('116lb', 8540), ('volumes', 8541), ('rewarded', 8542), ('btu', 8543), ('pul', 8544), ('patio', 8545), ('dangle', 8546), ('request', 8547), ('asymetrical', 8548), ('10th', 8549), ('elongates', 8550), ('waht', 8551), ('retailerpologist', 8552), ('consumers', 8553), ('extensively', 8554), ('drastically', 8555), ('jcrew', 8556), ('sink', 8557), ('surrounding', 8558), ('spills', 8559), ('discoloration', 8560), ('binder', 8561), (\"pant's\", 8562), ('hipline', 8563), ('gross', 8564), ('gawdy', 8565), ('baroque', 8566), ('pregcies', 8567), ('cave', 8568), ('adores', 8569), ('artwork', 8570), ('hugger', 8571), ('grandmothers', 8572), ('foggy', 8573), ('ware', 8574), ('construct', 8575), ('saffron', 8576), ('housewife', 8577), ('dreamed', 8578), ('trapped', 8579), ('ye', 8580), ('plainer', 8581), ('containing', 8582), ('discouraged', 8583), ('lovey', 8584), ('kitty', 8585), ('000', 8586), ('transforms', 8587), ('iis', 8588), ('approximate', 8589), ('dining', 8590), ('twee', 8591), ('cell', 8592), ('hats', 8593), ('chirpy', 8594), ('sleepy', 8595), ('royalty', 8596), ('mys', 8597), ('brooklyn', 8598), ('attaches', 8599), ('proves', 8600), ('prado', 8601), ('calvin', 8602), ('klein', 8603), ('ate', 8604), ('gianormous', 8605), ('coordinates', 8606), ('chain', 8607), ('hill', 8608), ('27r', 8609), ('minuet', 8610), ('mega', 8611), ('garbage', 8612), ('anrtho', 8613), ('resting', 8614), ('backup', 8615), ('winds', 8616), ('greige', 8617), ('delayed', 8618), ('contribute', 8619), ('ethnic', 8620), (\"that'd\", 8621), ('decorations', 8622), ('buttonhole', 8623), ('taylored', 8624), ('favorably', 8625), ('producing', 8626), ('freedom', 8627), ('5th', 8628), ('swamp', 8629), ('posts', 8630), ('shld', 8631), ('soap', 8632), ('tub', 8633), ('burgers', 8634), ('8s', 8635), ('rona', 8636), ('rubbing', 8637), ('charisma', 8638), ('dryclean', 8639), ('obi', 8640), ('invariably', 8641), ('ru', 8642), ('india', 8643), ('informed', 8644), ('securing', 8645), ('poofiness', 8646), ('typica', 8647), ('winery', 8648), ('squish', 8649), ('savings', 8650), ('petals', 8651), ('rooms', 8652), ('acetate', 8653), ('sheerest', 8654), ('scrappy', 8655), ('recheck', 8656), ('showcases', 8657), ('dawn', 8658), (\"wasn'\", 8659), ('enveloping', 8660), ('slighly', 8661), (\"pullover's\", 8662), ('bunchiness', 8663), ('lvoe', 8664), ('airing', 8665), ('m\\r', 8666), ('shocker', 8667), ('ov', 8668), ('3in', 8669), ('sour', 8670), ('temp', 8671), ('rubbery', 8672), ('graham', 8673), ('spencer', 8674), ('untie', 8675), ('conformable', 8676), ('47', 8677), ('housedress', 8678), ('pkg', 8679), ('shopped', 8680), ('shouts', 8681), ('protruded', 8682), ('ahs', 8683), ('batches', 8684), ('horns', 8685), ('pintuck', 8686), ('tennies', 8687), ('hump', 8688), (\"lovin'\", 8689), ('riverdeck', 8690), ('egg', 8691), ('deco', 8692), ('2in', 8693), ('trashed', 8694), ('bof', 8695), ('shortens', 8696), ('fupa', 8697), ('chunkiness', 8698), ('sloths', 8699), ('charging', 8700), ('hap', 8701), ('moisture', 8702), ('gel', 8703), ('shoddy', 8704), ('akward', 8705), ('prongs', 8706), ('simplest', 8707), ('exacerbated', 8708), ('definitive', 8709), ('painfully', 8710), ('middleton', 8711), ('film', 8712), ('jolly', 8713), ('damask', 8714), ('apprx', 8715), ('lats', 8716), ('continually', 8717), ('eased', 8718), ('spied', 8719), (\"d'orsay\", 8720), ('theatre', 8721), ('estella', 8722), ('coincidence', 8723), ('flatttering', 8724), ('biggish', 8725), ('geranium', 8726), ('odering', 8727), ('bugs', 8728), ('generic', 8729), ('impossibly', 8730), ('oversight', 8731), ('inseams', 8732), ('strangly', 8733), ('booster', 8734), ('industry', 8735), ('produce', 8736), ('preferring', 8737), ('thsi', 8738), ('bolder', 8739), ('eit', 8740), ('wearers', 8741), ('mismarked', 8742), ('schoolmarm', 8743), ('lariat', 8744), ('weaved', 8745), ('fuschia', 8746), ('cu', 8747), ('boyleg', 8748), (\"joe's\", 8749), ('bid', 8750), ('unco', 8751), ('heats', 8752), ('tanktop', 8753), ('disturbed', 8754), ('sigourney', 8755), ('weaver', 8756), ('hose', 8757), ('default', 8758), ('terrycloth', 8759), ('knuckles', 8760), ('embroidary', 8761), ('pans', 8762), ('picotage', 8763), ('meantime', 8764), ('purposeful', 8765), ('sounded', 8766), ('spokane', 8767), ('saleswomen', 8768), ('swayed', 8769), ('coins', 8770), ('fountain', 8771), ('coveralls', 8772), ('unruly', 8773), ('purples', 8774), ('madewell', 8775), ('conclusion', 8776), ('owls', 8777), ('oval', 8778), ('gripper', 8779), ('gateway', 8780), ('eberjey', 8781), ('mosaic', 8782), ('martie', 8783), ('chokey', 8784), ('decadent', 8785), ('wiast', 8786), ('haven', 8787), ('dds', 8788), ('rainbow', 8789), ('ribboned', 8790), ('rhinestone', 8791), ('bl', 8792), ('132lbs', 8793), ('themed', 8794), ('foamy', 8795), ('waterfall', 8796), ('intervals', 8797), ('bettys', 8798), ('riff', 8799), ('furthermore', 8800), ('brow', 8801), ('creativity', 8802), ('exmaple', 8803), ('bluishgreen', 8804), ('hae', 8805), ('characteristic', 8806), ('wamp', 8807), ('crusty', 8808), ('worker', 8809), ('yank', 8810), ('mensware', 8811), ('crosswrap', 8812), ('narrowing', 8813), ('cagrcoal', 8814), ('aded', 8815), ('mintue', 8816), ('darkler', 8817), ('mathced', 8818), ('everythiing', 8819), ('msallet', 8820), ('jkeep', 8821), ('matvehd', 8822), ('waas', 8823), ('compaint', 8824), ('ldecide', 8825), ('reliant', 8826), ('estimation', 8827), ('reveiws', 8828), ('grrrrrrrrrrr', 8829), ('nightwear', 8830), ('grazes', 8831), ('cried', 8832), ('layerng', 8833), ('redoing', 8834), ('goodhyouman', 8835), ('forehead', 8836), ('kisses', 8837), ('underrated', 8838), ('oerson', 8839), ('chubbiness', 8840), ('mehh', 8841), ('malfun', 8842), ('winding', 8843), (\"1''\", 8844), ('intimates', 8845), ('handwoven', 8846), ('rt', 8847), ('daughte', 8848), ('ã¼ber', 8849), ('insulated', 8850), ('camsiole', 8851), ('tooks', 8852), ('campole', 8853), ('neckli', 8854), ('sharkbite', 8855), ('che', 8856), ('tickets', 8857), ('homes', 8858), ('slithering', 8859), ('funds', 8860), ('owend', 8861), (\"'stressed'\", 8862), ('entirel', 8863), ('exclamations', 8864), ('digress', 8865), ('intrepid', 8866), ('contralaterally', 8867), ('mistaking', 8868), ('pretry', 8869), (\"ii'm\", 8870), ('firned', 8871), ('peittes', 8872), (\"ap's\", 8873), ('divulging', 8874), ('welp', 8875), ('botton', 8876), ('apetite', 8877), ('gutted', 8878), (\"'faux\", 8879), (\"cardi'\", 8880), ('slvs', 8881), ('antoher', 8882), ('wt', 8883), ('bestowed', 8884), ('maternityish', 8885), ('cheapish', 8886), (\"'curves'\", 8887), ('unfrotuantely', 8888), ('ehm', 8889), ('wishful', 8890), ('easel', 8891), ('minimally', 8892), ('partake', 8893), ('shirty', 8894), ('flouncier', 8895), ('maza', 8896), (\"'smoky'\", 8897), ('pilcr', 8898), ('piled', 8899), ('trumped', 8900), ('stitchwork', 8901), ('flashes', 8902), ('hsould', 8903), ('peple', 8904), ('nottom', 8905), ('gegt', 8906), ('inchess', 8907), ('waiat', 8908), ('musclea', 8909), ('plaform', 8910), ('heeks', 8911), ('overtaken', 8912), ('aske', 8913), ('attributes', 8914), ('mediterenian', 8915), ('pinstripes', 8916), ('gambl', 8917), ('asset', 8918), ('alst', 8919), ('smae', 8920), ('ddresses', 8921), ('aprts', 8922), ('loooooong', 8923), ('equates', 8924), ('sooooooooo', 8925), ('27inches', 8926), ('rceived', 8927), ('unfolding', 8928), ('alless', 8929), ('endo', 8930), ('streets', 8931), ('resisted', 8932), ('whe', 8933), ('cakes', 8934), ('padderns', 8935), ('ai', 8936), ('priority', 8937), ('particulars', 8938), ('drooling', 8939), ('composed', 8940), ('unfold', 8941), ('work\\r', 8942), ('petite\\r', 8943), ('lauer', 8944), ('mor', 8945), ('wks', 8946), ('invent', 8947), ('exacerbate', 8948), ('jagged', 8949), ('fulle', 8950), (\"'layered\", 8951), ('sadie', 8952), (\"top'\", 8953), ('ghillie', 8954), ('unkept', 8955), ('necklne', 8956), ('32p', 8957), ('asscoaites', 8958), ('33a', 8959), ('ion', 8960), ('standup', 8961), ('partway', 8962), ('libs', 8963), ('prudish', 8964), ('34ds', 8965), ('tum', 8966), ('jardin', 8967), ('recurrent', 8968), ('excuses', 8969), ('anoth', 8970), ('fitter', 8971), ('shirter', 8972), ('adopted', 8973), ('curatorial', 8974), ('itchytown', 8975), ('tubes', 8976), ('hinder', 8977), ('hearted', 8978), ('puttin', 8979), ('bagg', 8980), ('cursed', 8981), ('cheerleading', 8982), ('ore', 8983), ('bendable', 8984), ('prety', 8985), ('jlo', 8986), ('expens', 8987), ('indifference', 8988), ('seductive', 8989), ('garner', 8990), ('dolly', 8991), ('patched', 8992), ('preschool', 8993), ('123lbssize', 8994), ('pillowy', 8995), ('slimmingly', 8996), ('400', 8997), ('laughs', 8998), ('perfume', 8999), ('disturbing', 9000), ('chokers', 9001), ('jack', 9002), ('pinstriped', 9003), ('asser', 9004), ('braid', 9005), ('regained', 9006), ('fate', 9007), ('camoflage', 9008), ('gerat', 9009), ('scuba', 9010), ('someday', 9011), ('wasa', 9012), ('lecturing', 9013), ('undergrads', 9014), ('tennys', 9015), ('polite', 9016), ('juice', 9017), ('venice', 9018), (\"'slim'\", 9019), ('midday', 9020), ('ipad', 9021), ('lychnis', 9022), ('flights', 9023), ('schlumpy', 9024), ('naval', 9025), ('marking', 9026), ('jessa', 9027), ('mediumd', 9028), ('hoo', 9029), ('cared', 9030), ('oklahoma', 9031), ('stinky', 9032), ('crinolined', 9033), ('clouds', 9034), ('primula', 9035), ('autobots', 9036), ('symbol', 9037), ('transformers', 9038), ('tur', 9039), ('imperial', 9040), ('wed', 9041), ('thursday', 9042), ('knitter', 9043), ('normall', 9044), ('unifying', 9045), ('happyinpdx', 9046), (\"'go\", 9047), ('attendants', 9048), ('instruction', 9049), ('wrin', 9050), ('taffeta', 9051), ('oven', 9052), ('necked', 9053), ('theo', 9054), ('nly', 9055), ('lis', 9056), ('disappoitned', 9057), ('sice', 9058), (\"anthto's\", 9059), ('from\\r', 9060), ('unwashed', 9061), ('86', 9062), ('cardinal', 9063), ('rme', 9064), ('vents', 9065), ('threatening', 9066), ('flex', 9067), ('iris', 9068), ('slouched', 9069), ('rectified', 9070), ('boats', 9071), (\"'hip\", 9072), ('bozo', 9073), ('examination', 9074), ('pirchasing', 9075), ('iliked', 9076), (\"'cause\", 9077), (\"red'\", 9078), (\"'nubby'\", 9079), ('maxed', 9080), (\"'i\", 9081), (\"color'\", 9082), ('numer', 9083), ('alway', 9084), ('aholed', 9085), ('relived', 9086), ('dove', 9087), ('person\\r', 9088), ('gawking', 9089), ('compl', 9090), ('stylized', 9091), ('mildish', 9092), ('nw', 9093), ('impeded', 9094), ('ecept', 9095), ('woodsy', 9096), ('merry', 9097), ('hunted', 9098), ('aptly', 9099), ('sawn', 9100), ('reveries', 9101), ('castles', 9102), ('legends', 9103), ('papaya', 9104), ('geiger', 9105), ('remembers', 9106), ('independently', 9107), ('shiop', 9108), ('prewashed', 9109), (\"won's\", 9110), ('carolyn', 9111), ('blair', 9112), ('helpfu', 9113), ('bautiful', 9114), ('drearriest', 9115), ('5ft3in', 9116), ('quadricep', 9117), ('staright', 9118), ('rolle', 9119), ('conspicuous', 9120), ('trus', 9121), ('rooster', 9122), ('sewers', 9123), ('36dddd', 9124), ('concepts', 9125), ('surrender', 9126), ('yelling', 9127), ('respects', 9128), ('grrr', 9129), ('sinc', 9130), ('globally', 9131), ('sourced', 9132), ('pla', 9133), ('iand', 9134), ('garmets', 9135), ('omits', 9136), ('often\\r', 9137), ('ban', 9138), ('judy', 9139), ('jetson', 9140), ('stright', 9141), (\"din'dt\", 9142), ('wrikling', 9143), ('wwear', 9144), ('eyecatching', 9145), ('envious', 9146), ('althleisure', 9147), ('spain', 9148), ('flamenco', 9149), ('nue', 9150), ('shani', 9151), ('colorfastness', 9152), ('fitness', 9153), ('wires', 9154), ('researched', 9155), ('interchangeable', 9156), ('artificial', 9157), ('hula', 9158), ('recei', 9159), ('lightweat', 9160), ('wiastband', 9161), (\"idea's\", 9162), ('wante', 9163), ('ro', 9164), ('abolutely', 9165), ('bando', 9166), ('3xs', 9167), ('incalled', 9168), ('flir', 9169), ('sleepable', 9170), ('descent', 9171), (\"i'am\", 9172), ('165lb', 9173), ('throug', 9174), ('flings', 9175), ('hub', 9176), (\"barista's\", 9177), ('tissues', 9178), ('phones', 9179), ('bryson', 9180), ('portrays', 9181), ('monthly', 9182), ('trhrow', 9183), ('eregular', 9184), ('hearty', 9185), ('laika', 9186), ('inca', 9187), ('unnoticable', 9188), ('ooopss', 9189), (\"aaaaandidon'twanttopayforshipping\", 9190), ('maine', 9191), ('pasadena', 9192), ('contributer', 9193), ('amazingness', 9194), ('desideria', 9195), ('dakota', 9196), ('cheetah', 9197), ('korean', 9198), (\"'tunic\", 9199), ('sooooooooooooo', 9200), ('pashminas', 9201), ('connecting', 9202), ('loveliness', 9203), ('doldrums', 9204), ('powdery', 9205), ('janes', 9206), ('starch', 9207), ('yeh', 9208), ('upping', 9209), ('resewn', 9210), ('barn', 9211), ('allllllmost', 9212), ('keepin', 9213), ('impending', 9214), ('disintegrating', 9215), ('discard', 9216), ('cervical', 9217), ('dealing', 9218), ('health', 9219), ('divers', 9220), ('diving', 9221), ('cutsie', 9222), ('dangled', 9223), ('sel', 9224), ('nv', 9225), ('skarlett', 9226), ('demi', 9227), ('drycleaning', 9228), ('fascinating', 9229), (\"am5'4'\", 9230), ('giantess', 9231), ('transistional', 9232), ('beau', 9233), ('hysterically', 9234), ('hurting', 9235), ('8yo', 9236), ('whiteness', 9237), ('hypos', 9238), ('fantasia', 9239), ('tiem', 9240), ('otherwsie', 9241), ('mifnight', 9242), ('laways', 9243), ('matl', 9244), ('jearns', 9245), ('finially', 9246), ('besid', 9247), ('sutble', 9248), ('remiss', 9249), ('faculty', 9250), (\"father's\", 9251), ('outstretched', 9252), ('conside', 9253), ('awesomesauce', 9254), ('eyeglass', 9255), ('sunglass', 9256), ('nuance', 9257), ('favulous', 9258), ('jewlery', 9259), ('sumo', 9260), ('wrestler', 9261), ('allergies', 9262), ('sateens', 9263), ('frabic', 9264), ('constraining', 9265), ('coke', 9266), ('bottle', 9267), ('beauti', 9268), ('ple', 9269), ('adhesive', 9270), ('fuzzes', 9271), ('sample', 9272), ('twig', 9273), ('sma', 9274), ('categorize', 9275), ('goon', 9276), ('dapper', 9277), (\"it'a\", 9278), (\"'fluffy'\", 9279), ('bridgette', 9280), ('30lbs', 9281), (\"5'2'm\", 9282), ('xspwas', 9283), ('crisper', 9284), ('hwy', 9285), ('colla', 9286), ('meatiness', 9287), (\"'almost'\", 9288), ('adoring', 9289), ('takeaway', 9290), (\"'yes'\", 9291), ('strokes', 9292), ('im5', 9293), ('discourages', 9294), ('minneapol', 9295), ('battling', 9296), ('tucker', 9297), ('simpleness', 9298), (\"'dry\", 9299), (\"only'\", 9300), ('quads', 9301), ('attn', 9302), ('photographers', 9303), ('eaisly', 9304), ('gentlemen', 9305), ('irvine', 9306), ('revert', 9307), ('arise', 9308), ('elastisized', 9309), ('aleardy', 9310), ('drawer', 9311), ('pretties', 9312), ('dusters', 9313), ('amenable', 9314), ('bandages', 9315), ('godets', 9316), ('florascura', 9317), ('possess', 9318), ('inward', 9319), ('boobed', 9320), ('appopriate', 9321), ('dolce', 9322), ('vita', 9323), ('daydreaming', 9324), ('honeymooning', 9325), ('cinque', 9326), ('terre', 9327), ('outsi', 9328), ('dryers', 9329), ('imagining', 9330), ('sueded', 9331), ('mimic', 9332), ('sari', 9333), ('polyestery', 9334), ('tinselly', 9335), ('whatnot', 9336), ('assemblage', 9337), ('tahoe', 9338), ('boze', 9339), ('botto', 9340), ('stamps', 9341), ('cupped', 9342), ('rial', 9343), ('dippy', 9344), ('hs', 9345), ('bohoranna', 9346), ('rhapsody', 9347), ('chock', 9348), ('poufing', 9349), ('embroarding', 9350), ('delegate', 9351), ('ingenious', 9352), ('introduction', 9353), ('unaware', 9354), ('snatching', 9355), ('owe', 9356), ('1990s', 9357), ('property', 9358), ('taxes', 9359), ('iordered', 9360), ('rregualr', 9361), ('deciced', 9362), ('lavaialble', 9363), ('blueness', 9364), ('acutually', 9365), ('comfie', 9366), ('gothic', 9367), ('alerations', 9368), ('basement', 9369), ('swore', 9370), ('lied', 9371), ('powerless', 9372), ('10s', 9373), ('talls', 9374), ('holdup', 9375), (\"girlfriends'\", 9376), ('muse', 9377), ('beamed', 9378), ('provocative', 9379), ('hawed', 9380), ('decen', 9381), ('winth', 9382), (\"jammie's\", 9383), ('interlocking', 9384), ('creatures', 9385), ('salivating', 9386), ('homework', 9387), ('swatch', 9388), ('worrisome', 9389), ('aaaahmazing', 9390), ('sohpisticated', 9391), ('loungin', 9392), ('uhhhmmmazing', 9393), ('adjustability', 9394), ('plum\\r', 9395), ('arctic', 9396), ('greenhouse', 9397), ('weara', 9398), ('1940s', 9399), ('ensured', 9400), ('pooling', 9401), ('shortt', 9402), (\"sevigny's\", 9403), ('lineman', 9404), ('sept', 9405), ('tayloring', 9406), (\"'wings'\", 9407), ('undertaking', 9408), ('satisfying', 9409), ('laye', 9410), ('length\\r', 9411), ('boucles', 9412), ('elevating', 9413), (\"'cotton'\", 9414), (\"'p\", 9415), ('stuggle', 9416), ('tmie', 9417), ('isthe', 9418), ('lfit', 9419), ('overstated', 9420), ('shaking', 9421), ('ravel', 9422), ('isses', 9423), (\"m'l\", 9424), ('external', 9425), (\"tiny's\", 9426), ('greece', 9427), ('winder', 9428), ('perfec', 9429), ('oxblood', 9430), ('eno', 9431), ('pulles', 9432), ('upsetting', 9433), ('conditionally', 9434), ('deteriorates', 9435), ('shave', 9436), ('experts', 9437), ('tulips', 9438), ('plucked', 9439), ('recipe', 9440), ('brogues', 9441), ('bacon', 9442), ('syle', 9443), ('pep', 9444), ('restocks', 9445), ('freaking', 9446), ('refused', 9447), ('fol', 9448), ('hange', 9449), ('vienne', 9450), ('print\\r', 9451), ('cranky', 9452), ('peruse', 9453), ('ornate', 9454), ('bidding', 9455), (\"kid's\", 9456), ('auction', 9457), ('brightened', 9458), ('cleave', 9459), ('digan', 9460), ('continuity', 9461), ('trickier', 9462), ('grungy', 9463), ('compounded', 9464), (\"'cos\", 9465), ('msitake', 9466), ('sweeater', 9467), ('michelin', 9468), ('disappointingly', 9469), ('assoc', 9470), ('yummiest', 9471), ('bryon', 9472), ('reseam', 9473), ('motivate', 9474), ('exploding', 9475), ('amking', 9476), ('discern', 9477), ('251', 9478), ('3rds', 9479), ('ie', 9480), ('tlc', 9481), ('whirlwind', 9482), ('markings', 9483), ('obsession', 9484), ('erratic', 9485), ('flyi', 9486), ('surpring', 9487), ('compartments', 9488), ('waved', 9489), ('indra', 9490), ('workday', 9491), ('limb', 9492), ('purrrfect', 9493), ('fearful', 9494), ('largeness', 9495), ('bunchee', 9496), ('shapelier', 9497), ('division', 9498), (\"'larger'\", 9499), ('unacceptable', 9500), ('pijamas', 9501), (\"building's\", 9502), ('blasting', 9503), ('toplayer', 9504), ('stubborn', 9505), ('wintry', 9506), ('controversial', 9507), ('confine', 9508), ('structures', 9509), ('ark', 9510), ('respectable', 9511), ('spoiler', 9512), ('creepy', 9513), ('combining', 9514), ('unwrapping', 9515), ('otherw', 9516), (\"pantie's\", 9517), ('humd', 9518), ('psuedo', 9519), ('disapppointing', 9520), ('thorough', 9521), ('anthto', 9522), ('mammoth', 9523), ('ponder', 9524), ('vermillion', 9525), ('2017', 9526), ('34e', 9527), ('sparkled', 9528), ('proclaimed', 9529), ('japan', 9530), ('collars', 9531), ('laden', 9532), ('kit', 9533), ('shoddily', 9534), ('repairs', 9535), ('misty', 9536), ('flaunt', 9537), ('defectiv', 9538), ('asummig', 9539), ('secular', 9540), ('bridey', 9541), ('myyyy', 9542), ('espeically', 9543), (\"fisher's\", 9544), ('murder', 9545), ('mysteries', 9546), ('eliott', 9547), ('priviledge', 9548), ('gatsby', 9549), ('lovelovelovelovelove', 9550), ('passion', 9551), ('treasured', 9552), ('charles', 9553), ('rennie', 9554), ('macintosh', 9555), (\"back's\", 9556), ('dressmakers', 9557), ('sailcloth', 9558), ('velour', 9559), ('hoisted', 9560), ('arri', 9561), ('1930', 9562), ('arriving', 9563), ('protected', 9564), ('sz4', 9565), ('impecable', 9566), ('cayucos', 9567), ('pullers', 9568), ('cleared', 9569), ('hokey', 9570), ('aquarelle', 9571), ('chord', 9572), ('backlit', 9573), (\"years'\", 9574), ('powerful', 9575), ('untreatable', 9576), ('plcro', 9577), (\"voila'\", 9578), ('tweedy', 9579), ('beautivul', 9580), ('gorgeous\\r', 9581), ('lotus', 9582), ('else\\r', 9583), ('congratulated', 9584), (\"'comfort\", 9585), (\"zone'\", 9586), (\"6's\", 9587), ('belongs', 9588), ('trucker', 9589), ('rana', 9590), ('suprised', 9591), ('ita', 9592), ('ummmmm', 9593), ('bodices', 9594), ('enhancement', 9595), ('toucan', 9596), ('seeeee', 9597), ('38inch', 9598), ('conceptualizing', 9599), ('toucans', 9600), ('repeatedly', 9601), (\"'off\", 9602), (\"shoulder'\", 9603), ('inching', 9604), ('balooned', 9605), ('pebbled', 9606), ('shares', 9607), ('knakis', 9608), ('noisy', 9609), ('disastrously', 9610), ('bellowy', 9611), ('muffins', 9612), ('chime', 9613), ('noooo', 9614), ('sinch', 9615), ('iike', 9616), ('heihei', 9617), ('scar', 9618), ('arose', 9619), ('thinki', 9620), ('filmsy', 9621), ('clasped', 9622), ('sharking', 9623), ('veyr', 9624), ('wiggling', 9625), ('vine', 9626), ('4115', 9627), ('30ss', 9628), (\"denim'\", 9629), ('deign', 9630), ('attent', 9631), ('modifications', 9632), ('skills', 9633), ('imay', 9634), ('vineyard', 9635), ('clue', 9636), ('2001', 9637), ('bailly', 9638), ('instuctions', 9639), ('dryable', 9640), ('goodwill', 9641), ('florilege', 9642), ('nonsolid', 9643), ('russian', 9644), ('parks', 9645), ('recreation', 9646), ('episode', 9647), ('enhanced', 9648), ('ageless', 9649), ('ding', 9650), ('saggier', 9651), ('ours', 9652), ('youve', 9653), ('cons\\r', 9654), ('seethrough', 9655), ('sweltering', 9656), ('necklac', 9657), ('unlaced', 9658), ('exci', 9659), ('directed', 9660), ('annoys', 9661), ('underweight', 9662), ('slot', 9663), ('ahhhh', 9664), ('my3', 9665), ('architectural', 9666), ('swindled', 9667), ('round\\r', 9668), ('ruf', 9669), ('clevage', 9670), ('rippled', 9671), ('easil', 9672), ('commonly', 9673), ('116bs', 9674), ('daly', 9675), (\"dog's\", 9676), ('claw', 9677), ('tightener', 9678), ('prance', 9679), ('del', 9680), ('conforming', 9681), ('squishes', 9682), ('differrent', 9683), ('vermont', 9684), ('readjustment', 9685), (\"'green'\", 9686), ('pasted', 9687), ('darkly', 9688), ('yoo', 9689), ('framws', 9690), ('nove', 9691), ('hwoevcer', 9692), ('for\\r', 9693), ('73', 9694), ('yasss', 9695), ('announce', 9696), ('nonsense', 9697), ('elouise', 9698), ('vintagey', 9699), (\"25''\", 9700), ('saratoga', 9701), ('agitated', 9702), ('contacts', 9703), ('jeeps', 9704), ('au', 9705), ('lait', 9706), ('unuseable', 9707), ('glob', 9708), ('couches', 9709), ('stifling', 9710), ('distribute', 9711), ('refernce', 9712), ('splotch', 9713), ('molting', 9714), ('cozying', 9715), ('wrappi', 9716), ('slippers', 9717), ('alerted', 9718), ('perkier', 9719), ('crass', 9720), ('supervisor', 9721), ('ninja', 9722), ('lop', 9723), ('diss', 9724), ('loaded', 9725), ('yards', 9726), ('customize', 9727), ('indispensable', 9728), ('additonal', 9729), ('movability', 9730), ('clavicle', 9731), ('maximize', 9732), ('huesca', 9733), ('curled', 9734), ('widelegs', 9735), ('peplm', 9736), ('handpainted', 9737), ('saddlebags', 9738), ('captain', 9739), ('lodge', 9740), ('holey', 9741), ('melita', 9742), ('smocks', 9743), ('beautiful\\r', 9744), ('115llbs', 9745), ('fuz', 9746), ('false', 9747), ('triue', 9748), ('letter', 9749), ('ey', 9750), ('flatteuing', 9751), ('happiest', 9752), ('perspiring', 9753), ('controlled', 9754), ('ventilation', 9755), ('ventured', 9756), ('indoor', 9757), ('oredered', 9758), ('overemphasize', 9759), ('embroi', 9760), (\"doe'n'tt\", 9761), ('htough', 9762), ('greay', 9763), ('lcan', 9764), ('staining', 9765), ('gaining', 9766), ('inclined', 9767), ('inspirational', 9768), ('pdx', 9769), ('darks', 9770), ('streaked', 9771), (\"hyphen's\", 9772), ('lightheaded', 9773), ('crime', 9774), ('exams', 9775), ('foolishly', 9776), ('workplaces', 9777), ('towns', 9778), ('henly', 9779), ('detal', 9780), ('dissapoint', 9781), ('azure', 9782), ('fills', 9783), ('arched', 9784), ('collapses', 9785), ('sactuary', 9786), ('reutn', 9787), ('woud', 9788), ('smalllllll', 9789), ('withou', 9790), ('compareed', 9791), ('144lbs', 9792), ('sizable', 9793), ('ordred', 9794), ('winnrer', 9795), ('monstrously', 9796), ('vibrancy', 9797), ('31st', 9798), ('swoon', 9799), ('revisiting', 9800), ('uptight', 9801), ('mouth', 9802), ('runways', 9803), ('lightens', 9804), ('dressey', 9805), ('waiste', 9806), ('elongatesy', 9807), ('layes', 9808), (\"rue's\", 9809), ('peaked', 9810), ('hilary', 9811), ('clinton', 9812), ('brownies', 9813), ('trendier', 9814), ('jeaens', 9815), (\"'great\", 9816), ('wilt', 9817), ('piped', 9818), ('dl1961s', 9819), ('faire', 9820), ('suffering', 9821), ('improvements', 9822), ('manufacture', 9823), ('beneficial', 9824), ('proving', 9825), ('underpinnings', 9826), ('cassia', 9827), ('sorcha', 9828), ('silkscreen', 9829), ('deviated', 9830), ('thighed', 9831), ('arrangements', 9832), ('encourages', 9833), ('strappiness', 9834), ('arcata', 9835), ('motivated', 9836), ('font', 9837), (\"hawai'i\", 9838), ('aw', 9839), ('cl', 9840), ('lat', 9841), ('tuns', 9842), ('wood', 9843), ('isalmsot', 9844), ('zipepr', 9845), ('sheets', 9846), ('pragmatics', 9847), ('humor', 9848), ('slimline', 9849), ('notwithstanding', 9850), ('lightwash', 9851), ('umpire', 9852), ('shyle', 9853), ('bressay', 9854), ('squats', 9855), ('loooooooow', 9856), ('pasta', 9857), ('crossback', 9858), ('negativ', 9859), ('xsm', 9860), ('outwards', 9861), ('embarrassed', 9862), ('relies', 9863), ('cleanly', 9864), ('proven', 9865), ('newborn', 9866), ('126lbs', 9867), ('webbed', 9868), ('cro', 9869), ('contraire', 9870), ('sacky', 9871), ('eq', 9872), ('readings', 9873), ('unpack', 9874), ('bootees', 9875), ('thylo', 9876), ('customizable', 9877), ('gloss', 9878), ('eases', 9879), ('lovelovelove', 9880), ('nightbelle', 9881), (\"he's\", 9882), ('gto', 9883), (\"'perfect'\", 9884), ('recognition', 9885), ('pictured\\r', 9886), ('down\\r', 9887), ('stiffy', 9888), ('michigans', 9889), ('overywhelming', 9890), (\"'peach'\", 9891), ('incase', 9892), ('unpick', 9893), ('reeked', 9894), ('patchouli', 9895), ('mont', 9896), ('blanc', 9897), ('chamomix', 9898), ('unmistakable', 9899), ('matterhorn', 9900), ('zermatt', 9901), ('frist', 9902), (\"ii've\", 9903), ('hamper', 9904), ('kakhi', 9905), ('ulitimately', 9906), ('undesired', 9907), ('yummysweater', 9908), ('pric', 9909), ('buttt', 9910), ('advertisement', 9911), ('ltitle', 9912), ('speckle', 9913), ('peite0', 9914), ('assessed', 9915), ('swearter', 9916), ('emailing', 9917), ('response', 9918), ('coziest', 9919), ('simpler', 9920), ('fu', 9921), ('fluffiest', 9922), ('gilded', 9923), ('slings', 9924), ('obtrusive', 9925), ('plaza', 9926), ('mediately', 9927), ('shelves', 9928), ('limps', 9929), ('tbose', 9930), ('colorblocking', 9931), ('sing', 9932), ('waggle', 9933), (\"seinfeld's\", 9934), ('policy', 9935), ('eghhh', 9936), ('emulate', 9937), ('hampered', 9938), (\"orange'\", 9939), (\"'drape'\", 9940), ('coored', 9941), ('butta', 9942), ('petittes', 9943), ('reoommend', 9944), ('tearoom', 9945), ('foods', 9946), ('lifespan', 9947), ('combed', 9948), ('pinterest', 9949), ('latigo', 9950), ('carmel', 9951), ('masters', 9952), ('qualification', 9953), ('inst', 9954), ('sauce', 9955), ('inky', 9956), ('bleeding', 9957), ('hasn', 9958), ('balc', 9959), ('legginss', 9960), ('botos', 9961), ('sublte', 9962), ('noyte', 9963), ('themes', 9964), ('scrip', 9965), ('formerly', 9966), ('blade', 9967), (\"'sugary'\", 9968), (\"'pop\", 9969), (\"'poor\", 9970), (\"boy'\", 9971), ('maz', 9972), ('ing', 9973), ('comcerns', 9974), (\"stone's\", 9975), ('regualar', 9976), ('binge', 9977), ('addtl', 9978), ('analogy', 9979), ('irr', 9980), ('cadigan', 9981), ('125ibs', 9982), ('camouflaged', 9983), ('styish', 9984), ('quarters', 9985), ('materal', 9986), ('palmarosa', 9987), ('march', 9988), ('barnyard', 9989), ('litght', 9990), (\"'90's\", 9991), ('hosiery', 9992), ('brave', 9993), ('vain', 9994), ('goodone', 9995), ('mjuch', 9996), ('huhm', 9997), ('twinsies', 9998), ('sharing', 9999), ('oversharing', 10000), ('30gg', 10001), ('mens', 10002), ('returnable', 10003), ('junctions', 10004), ('np', 10005), ('improperly', 10006), ('spank', 10007), ('impressions', 10008), ('budges', 10009), ('stargazer', 10010), (\"'go'\", 10011), ('attering', 10012), ('spins', 10013), ('loveeeeeeee', 10014), ('heathy', 10015), ('sweetens', 10016), ('plug', 10017), ('swirly', 10018), ('thousand', 10019), ('apex', 10020), ('beauiful', 10021), ('realign', 10022), ('recalled', 10023), ('lilt', 10024), ('howev', 10025), ('drastic', 10026), ('chocking', 10027), ('farther', 10028), ('ingratiating', 10029), ('texturally', 10030), ('outermost', 10031), ('comforta', 10032), ('wer', 10033), ('purcahse', 10034), ('striked', 10035), (\"'nightgown'\", 10036), ('contri', 10037), ('impr', 10038), ('repurchasing', 10039), ('irradiated', 10040), ('crab', 10041), ('surgery', 10042), ('decorated', 10043), (\"pilcro'\", 10044), ('reco', 10045), ('paws', 10046), ('delay', 10047), ('perferred', 10048), ('amazement', 10049), ('handsome', 10050), ('famine', 10051), ('brainier', 10052), ('chewed', 10053), ('taggart', 10054), ('blingy', 10055), ('explosing', 10056), ('f\\r', 10057), ('bight', 10058), ('muscley', 10059), ('geeze', 10060), ('mortif', 10061), ('fem', 10062), ('inkish', 10063), ('goings', 10064), ('venting', 10065), ('115lb', 10066), ('unpredictable', 10067), ('disgusted', 10068), ('4d', 10069), ('hulk', 10070), ('10x', 10071), ('bretin', 10072), ('undeniable', 10073), (\"'dear\", 10074), (\"everywhere'\", 10075), ('tropics', 10076), ('ballroom', 10077), (\"nobody's\", 10078), ('romp', 10079), ('only\\r', 10080), ('owed', 10081), ('professionalism', 10082), (\"'peeks'\", 10083), ('flanking', 10084), ('toscana', 10085), ('revelations', 10086), ('bandwagon', 10087), ('akin', 10088), ('desgn', 10089), ('difficu', 10090), ('meanings', 10091), ('cucumber', 10092), ('minis', 10093), ('clesrly', 10094), ('loopholes', 10095), ('tahari', 10096), ('affords', 10097), ('9between', 10098), ('toed', 10099), ('inwardly', 10100), ('parisian', 10101), ('scrolled', 10102), ('zed', 10103), ('ret', 10104), ('fixture', 10105), ('versitality', 10106), ('idaho', 10107), (\"patrick's\", 10108), ('meleri', 10109), ('accepts', 10110), ('strays', 10111), ('reve', 10112), ('rhianna', 10113), ('ingest', 10114), ('itnended', 10115), ('aame', 10116), ('apttern', 10117), ('babes', 10118), ('scoring', 10119), ('nix', 10120), ('herls', 10121), ('nuce', 10122), (\"'timeless'\", 10123), ('gi', 10124), ('moulded', 10125), ('4petite', 10126), ('diy', 10127), ('litter', 10128), ('couldve', 10129), ('submitting', 10130), ('sjut', 10131), ('braod', 10132), ('deceided', 10133), ('seriosu', 10134), ('purcahses', 10135), ('wonderland', 10136), ('numerically', 10137), ('wiill', 10138), ('skiiers', 10139), ('incongruous', 10140), ('secretly', 10141), ('dvf', 10142), ('vines', 10143), ('penguins', 10144), ('ears', 10145), ('nose', 10146), ('winking', 10147), ('liners', 10148), ('183lbs', 10149), ('bless', 10150), ('2006', 10151), ('skating', 10152), (\"wheatley's\", 10153), ('area\\r', 10154), ('suuuuper', 10155), ('tuned', 10156), ('purchaser', 10157), ('squealed', 10158), ('enamor', 10159), ('sloping', 10160), ('shark', 10161), ('tenting', 10162), (\"isn'\", 10163), ('ord', 10164), ('mak', 10165), ('obligated', 10166), ('pettite', 10167), ('spontaneous', 10168), ('clicking', 10169), ('cuteandcomfy', 10170), ('discontinued', 10171), ('vaguely', 10172), ('looovvveee', 10173), ('liittle', 10174), ('mashing', 10175), (\"6'3\", 10176), ('primas', 10177), ('streeeeetches', 10178), ('noni', 10179), ('verstaile', 10180), ('longwaisted', 10181), ('resonates', 10182), ('veterinarian', 10183), ('overcoming', 10184), (\"neckline's\", 10185), ('accordion', 10186), ('constrict', 10187), ('boobage', 10188), ('organza', 10189), ('closu', 10190), ('drooled', 10191), ('spelled', 10192), ('sprea', 10193), ('armscye', 10194), ('banquet', 10195), ('nimble', 10196), (\"36dd's\", 10197), ('lurve', 10198), ('espradilles', 10199), ('review\\r', 10200), ('nutty', 10201), ('rusn', 10202), ('transcend', 10203), ('grossly', 10204), ('crafting', 10205), ('lke', 10206), ('clearer', 10207), ('pricely', 10208), ('nubs', 10209), ('turkey', 10210), ('amelia', 10211), ('bedelia', 10212), ('whacky', 10213), ('cotto', 10214), ('melting', 10215), ('refit', 10216), ('heater', 10217), ('echoing', 10218), ('remarks', 10219), ('mixtures', 10220), (\"swimmer's\", 10221), ('nee', 10222), ('expertly', 10223), ('143lbs', 10224), ('separation', 10225), ('pools', 10226), ('newbury', 10227), ('reliably', 10228), ('bites', 10229), ('est', 10230), (\"store's\", 10231), ('joyful', 10232), ('appropr', 10233), ('flatforms', 10234), ('workw', 10235), ('jt', 10236), ('134lb', 10237), ('activity', 10238), ('prickly', 10239), ('strained', 10240), ('kota', 10241), ('pun', 10242), ('chicness', 10243), ('fuddy', 10244), ('duddy', 10245), ('visibly', 10246), ('toxic', 10247), ('weightlessness', 10248), ('painterly', 10249), ('shield', 10250), ('repurchased', 10251), ('vacillating', 10252), ('theblack', 10253), ('destroys', 10254), ('misread', 10255), ('blac', 10256), ('nook', 10257), ('cranny', 10258), ('oaks', 10259), ('stiffly', 10260), ('mave', 10261), ('cooing', 10262), ('clowns', 10263), ('flattering1', 10264), ('rivet', 10265), ('reallllly', 10266), (\"driver's\", 10267), ('advises', 10268), ('surfaces', 10269), ('irregularities', 10270), ('pbly', 10271), ('circular', 10272), ('arguably', 10273), ('onl', 10274), ('surprizingly', 10275), ('nbeed', 10276), ('laws', 10277), ('comic', 10278), ('narrows', 10279), ('beautigul', 10280), ('boxey', 10281), ('sweather', 10282), ('interpret', 10283), ('stretchey', 10284), ('outfitter', 10285), ('yum', 10286), ('mia', 10287), ('farrow', 10288), (\"rosemary's\", 10289), ('nighttime', 10290), ('unpleasantly', 10291), ('gol', 10292), ('ahhhhmazing', 10293), ('wishy', 10294), ('washy', 10295), ('shh', 10296), ('tame', 10297), ('crawl', 10298), ('examined', 10299), ('proceeded', 10300), ('x3', 10301), ('approriate', 10302), ('thermostat', 10303), ('lucy', 10304), ('lui', 10305), ('screeching', 10306), ('halt', 10307), ('chilling', 10308), ('field', 10309), ('fel', 10310), ('reviwes', 10311), ('pancholicious', 10312), ('spruces', 10313), ('permits', 10314), ('103lb', 10315), ('roommate', 10316), ('insistence', 10317), ('accidents', 10318), ('maneuvering', 10319), (\"o'clock\", 10320), (\"tee's\", 10321), ('because\\r', 10322), ('succulents', 10323), ('fun\\r', 10324), ('sooooooooooooooo', 10325), ('intrusive', 10326), ('oversizing', 10327), ('goldilicks', 10328), ('nellore', 10329), ('midsummer', 10330), ('ja', 10331), ('indulgent', 10332), ('grandson', 10333), ('underestimating', 10334), ('scenery', 10335), ('earthly', 10336), ('cowgirls', 10337), ('mashed', 10338), ('aroun', 10339), ('nuff', 10340), ('packages', 10341), ('fastenings', 10342), ('glows', 10343), ('fitt', 10344), ('36j', 10345), ('ls', 10346), ('minimizing', 10347), ('hardy', 10348), ('xxxs', 10349), ('usefulness', 10350), ('scope', 10351), (\"sparrow's\", 10352), ('awareness', 10353), ('sai', 10354), ('mountaire', 10355), (\"'fall'\", 10356), ('sungarden', 10357), ('trusting', 10358), ('uptown', 10359), ('spattering', 10360), ('dr4ess', 10361), ('density', 10362), ('42dd', 10363), ('betrayed', 10364), ('naught', 10365), ('qa', 10366), (\"'cut'\", 10367), ('sherbet', 10368), (\"'tattered\", 10369), (\"'cuts\", 10370), ('choise', 10371), ('ought', 10372), ('punks', 10373), ('uniquenesses', 10374), ('pvc', 10375), ('relazation', 10376), ('dictated', 10377), ('frankenstein', 10378), ('experiment', 10379), ('lens', 10380), ('marching', 10381), ('cloying', 10382), ('invited', 10383), ('restretched', 10384), ('inauthentic', 10385), ('modei', 10386), ('repackaged', 10387), ('deleted', 10388), ('comfey', 10389), ('exhilarating', 10390), ('duffs', 10391), ('substancial', 10392), ('tirst', 10393), ('tme', 10394), ('prisoner', 10395), ('maui', 10396), ('msut', 10397), ('wrng', 10398), ('bude', 10399), ('flounces', 10400), (\"pomona's\", 10401), ('grandmotherly', 10402), ('130pounds', 10403), ('loooks', 10404), ('satisfy', 10405), ('daytripper', 10406), ('tanned', 10407), ('porcelain', 10408), ('chick', 10409), ('brushstroke', 10410), ('cinderalla', 10411), ('bustle', 10412), (\"preggo's\", 10413), ('aided', 10414), ('measur', 10415), ('resembled', 10416), ('attachments', 10417), ('races', 10418), ('genuine', 10419), ('purchasable', 10420), ('thx', 10421), ('blowsy', 10422), (\"i'ts\", 10423), ('blowsey', 10424), ('canopy', 10425), ('neighbor', 10426), ('international', 10427), ('worldly', 10428), ('somethin', 10429), ('wintergreens', 10430), ('lisette', 10431), ('produbt', 10432), ('hovered', 10433), ('preview', 10434), (\"'long\", 10435), (\"heavy'\", 10436), ('downed', 10437), ('striving', 10438), ('botom', 10439), ('loosly', 10440), ('btoh', 10441), ('mite', 10442), ('vanit', 10443), ('cables', 10444), ('fifty', 10445), (\"'jeans'\", 10446), ('revisitation', 10447), ('afghan', 10448), ('136lb', 10449), ('darkness', 10450), ('wierd', 10451), ('loook', 10452), ('camre', 10453), ('beuatiful', 10454), ('retrospect', 10455), (\"i'm\\r\", 10456), ('fit\\r', 10457), ('is\\r', 10458), ('paleface', 10459), ('speechless', 10460), ('aaaaannnnnnd', 10461), ('southwesternish', 10462), ('series', 10463), ('chronic', 10464), ('dock', 10465), ('ize', 10466), ('112lb', 10467), ('appreciation', 10468), ('obscured', 10469), ('acceptabl', 10470), ('southwestern', 10471), ('mamas', 10472), ('jns', 10473), ('montclair', 10474), ('overused', 10475), ('sx', 10476), ('33d', 10477), ('comfortab', 10478), ('widths', 10479), ('michigan', 10480), ('ave', 10481), ('punched', 10482), ('importance', 10483), ('chubneck', 10484), ('pattten', 10485), ('saldly', 10486), (\"'pink'\", 10487), ('mystified', 10488), ('references', 10489), ('transfers', 10490), ('purportedly', 10491), ('attaching', 10492), ('slik', 10493), ('sbags', 10494), ('perfectionist', 10495), ('ole', 10496), ('heaps', 10497), ('glendale', 10498), (\"'fur'\", 10499), ('windier', 10500), ('accesso', 10501), ('501', 10502), ('candlestick', 10503), ('ebenezer', 10504), ('carol', 10505), ('shmata', 10506), ('yiddish', 10507), ('rags', 10508), ('swe', 10509), ('bearing', 10510), ('oldie', 10511), ('goodie', 10512), ('prowl', 10513), ('psychedelic', 10514), ('lowering', 10515), ('slapping', 10516), (\"'petite'\", 10517), ('individuality', 10518), ('matted', 10519), ('beautuful', 10520), ('peeled', 10521), ('forties', 10522), ('1982', 10523), ('circumstances', 10524), ('perk', 10525), ('fri', 10526), ('direct', 10527), ('froth', 10528), (\"'right'\", 10529), ('bulls', 10530), ('perusing', 10531), (\"'sweater\", 10532), ('carful', 10533), ('trough', 10534), ('sass', 10535), ('ocd', 10536), ('rpetty', 10537), ('ide', 10538), ('morrissey', 10539), ('moz', 10540), ('underthings', 10541), ('grapeish', 10542), ('doors', 10543), ('bustling', 10544), ('lysee', 10545), ('chicken', 10546), ('tres', 10547), (\"hei's\", 10548), ('witho', 10549), ('sugge', 10550), ('preventing', 10551), ('repel', 10552), ('retailerpolgy', 10553), ('problemo', 10554), ('referenced', 10555), ('weakness', 10556), ('scratches', 10557), ('conspicuously', 10558), ('wired', 10559), ('reward', 10560), ('manipulate', 10561), ('hadent', 10562), ('dones', 10563), ('sneaks', 10564), ('avai', 10565), (\"antropologie's\", 10566), ('consept', 10567), ('hlding', 10568), ('seaters', 10569), ('flowinng', 10570), ('astronomical', 10571), ('5ft4', 10572), ('someon', 10573), ('wedgewood', 10574), ('instagrams', 10575), (\"one'\", 10576), ('trifle', 10577), ('vintag', 10578), ('comfrotbale', 10579), ('alining', 10580), ('petie', 10581), ('stared', 10582), ('not\\r', 10583), ('floofs', 10584), (\"9'\", 10585), ('valid', 10586), ('stonewashing', 10587), ('linear', 10588), ('consequence', 10589), ('carribean', 10590), ('contouring', 10591), ('openness', 10592), ('frest', 10593), ('corey', 10594), ('lynn', 10595), ('calter', 10596), ('paeonia', 10597), ('rosebud', 10598), ('thoug', 10599), ('consciousness', 10600), ('152', 10601), ('seashells', 10602), ('palettes', 10603), ('conjecture', 10604), ('malabar', 10605), ('uhm', 10606), (\"blouse's\", 10607), ('coffe', 10608), ('boxed', 10609), ('tenfold', 10610), ('strategy', 10611), (\"6'1\", 10612), ('suction', 10613), ('surviving', 10614), (\"combo's\", 10615), ('reserved', 10616), ('regardi', 10617), ('vas', 10618), ('thinkness', 10619), ('hearts', 10620), ('examples', 10621), ('vaca', 10622), ('kneeled', 10623), ('35ab', 10624), ('undress', 10625), ('droppy', 10626), ('wayup', 10627), ('non0muscular', 10628), ('drawings', 10629), ('outlining', 10630), ('unvariating', 10631), ('kitchen', 10632), ('countertops', 10633), ('wiping', 10634), ('counters', 10635), ('underlayment', 10636), ('racier', 10637), ('weddi', 10638), ('anthopology', 10639), ('nostalgia', 10640), ('genes', 10641), ('deshn', 10642), ('notorious', 10643), ('size\\r', 10644), ('biggy', 10645), (\"'details'\", 10646), ('tasseled', 10647), ('madonna', 10648), ('rockies', 10649), ('raccoons', 10650), ('donning', 10651), ('statue', 10652), ('firming', 10653), ('lounges', 10654), ('undamaged', 10655), ('enamored', 10656), ('santee', 10657), ('escalante', 10658), ('but\\r', 10659), ('letdown', 10660), ('cutewith', 10661), ('46', 10662), ('raided', 10663), ('swapping', 10664), ('firmness', 10665), ('funk', 10666), ('pullovers', 10667), ('sheek', 10668), ('launderings', 10669), ('shaded', 10670), ('belling', 10671), ('phot', 10672), ('supporting', 10673), ('click', 10674), ('remarkably', 10675), ('afterwork', 10676), ('marie', 10677), (\"kondo's\", 10678), ('sparks', 10679), ('creeps', 10680), ('cahnce', 10681), ('howeverm', 10682), ('64', 10683), ('hadley', 10684), ('gretta', 10685), ('wildly', 10686), ('pharmacist', 10687), ('tassles', 10688), ('asymetric', 10689), ('cheapness', 10690), ('oood', 10691), ('rtw', 10692), ('14s', 10693), ('poise', 10694), ('wrinkel', 10695), ('brunches', 10696), ('beatrice', 10697), ('scuff', 10698), ('ridic', 10699), ('bothering', 10700), ('constrained', 10701), ('nydj', 10702), ('unfini', 10703), ('explained', 10704), ('goner', 10705), ('execute', 10706), ('poofier', 10707), ('fostering', 10708), ('38ish', 10709), ('implied', 10710), ('toronto', 10711), ('columbia', 10712), ('jaundice', 10713), ('0dd', 10714), ('tranforms', 10715), ('bouncier', 10716), ('ahirt', 10717), ('texturing', 10718), ('captivating', 10719), ('teepee', 10720), ('dinosaur', 10721), ('nesrly', 10722), ('martial', 10723), ('committed', 10724), ('neckhole', 10725), ('variance', 10726), ('blossom', 10727), ('lily', 10728), ('doggedly', 10729), ('withe', 10730), (\"individual's\", 10731), ('receives', 10732), ('sushi', 10733), ('hostess', 10734), ('laziest', 10735), ('resigned', 10736), ('tweak', 10737), ('overtook', 10738), ('sidezip', 10739), ('140ish', 10740), ('anthousai', 10741), ('gypsie', 10742), (\"momma's\", 10743), ('0in', 10744), ('peaches', 10745), ('santa', 10746), ('barbara', 10747), ('dividends', 10748), ('presents', 10749), ('ferry', 10750), ('unit', 10751), ('expec', 10752), (\"mothers'\", 10753), ('unsecured', 10754), ('11in', 10755), ('guarantee', 10756), ('up1it', 10757), ('outweighs', 10758), ('swim\\r', 10759), ('unmodest', 10760), (\"'supposed\", 10761), ('ships', 10762), ('addit', 10763), ('villa', 10764), ('cascadia', 10765), ('sightseeing', 10766), ('analysis', 10767), ('jiffy', 10768), (\"24''\", 10769), ('aghast', 10770), ('waify', 10771), ('materical', 10772), ('zeros', 10773), ('saga', 10774), ('superfast', 10775), ('complection', 10776), ('rodeo', 10777), ('banking', 10778), ('deteriorating', 10779), ('unsewn', 10780), ('oetite', 10781), ('nemesis', 10782), ('master', 10783), ('brownettes', 10784), ('restoring', 10785), ('suuuuuper', 10786), ('consultant', 10787), ('sensual', 10788), ('purr', 10789), ('dimpling', 10790), ('ruggy', 10791), ('sheepskin', 10792), ('pinches', 10793), ('vibes', 10794), ('ct', 10795), ('females', 10796), ('ahem', 10797), ('qualit', 10798), ('behin', 10799), ('believed', 10800), ('tassled', 10801), ('dorotea', 10802), ('lign', 10803), ('duties', 10804), ('buckling', 10805), ('brides', 10806), ('reviewwers', 10807), ('unavail', 10808), ('poochy', 10809), ('smar', 10810), ('electricity', 10811), ('cutwork', 10812), ('boos', 10813), ('allroads', 10814), ('namely', 10815), ('anyt', 10816), ('staticy', 10817), ('retailerplpogie', 10818), ('betcha', 10819), ('succumb', 10820), ('buttock', 10821), (\"4'9\", 10822), ('branding', 10823), ('unhealthily', 10824), ('peppery', 10825), ('patchworked', 10826), ('flattereing', 10827), ('turqouise', 10828), ('knots', 10829), ('zigzagging', 10830), ('phisique', 10831), ('quietly', 10832), ('quiet', 10833), ('soaked', 10834), ('bleu', 10835), ('thorax', 10836), ('scraps', 10837), ('unintentionally', 10838), ('sly', 10839), ('198', 10840), ('volumptuous', 10841), ('glitzy', 10842), ('metallics', 10843), ('devery', 10844), ('pepper', 10845), ('knee0', 10846), ('flirtier', 10847), ('dylan', 10848), ('mccartney', 10849), ('roger', 10850), ('walters', 10851), ('neil', 10852), ('40something', 10853), ('audience', 10854), ('leathery', 10855), ('haunt', 10856), ('roaring', 10857), (\"90's\", 10858), ('magically', 10859), ('examine', 10860), ('117bl', 10861), ('antheropologie', 10862), ('plata', 10863), ('recoiled', 10864), ('magica', 10865), ('etiher', 10866), ('stell', 10867), ('disapppointed', 10868), ('corn', 10869), ('cello', 10870), ('loooong', 10871), ('stag', 10872), ('6in', 10873), ('sillouhette', 10874), ('ttt', 10875), ('mages', 10876), ('exampl', 10877), ('107pound', 10878), ('unstable', 10879), ('collaboration', 10880), ('flour', 10881), ('reject', 10882), ('cheating', 10883), ('dine', 10884), ('sctrachy', 10885), ('distracts', 10886), ('filter', 10887), ('drier', 10888), ('turtlenceck', 10889), ('tails', 10890), ('camellia', 10891), ('dropwaist', 10892), ('decked', 10893), (\"thought'd\", 10894), ('offlate', 10895), ('skimmer', 10896), ('justifiable', 10897), ('constr', 10898), ('rebuy', 10899), ('bugged', 10900), ('magnification', 10901), ('keg', 10902), ('plump', 10903), ('apres', 10904), ('batik', 10905), ('shaggy', 10906), ('didnot', 10907), ('freepeople', 10908), ('baggies', 10909), ('eliding', 10910), ('loun', 10911), ('minimalistic', 10912), (\"'sheds'\", 10913), ('haying', 10914), ('juuuuussst', 10915), ('huuuuggge', 10916), ('flawy', 10917), ('ldecided', 10918), ('seemd', 10919), ('detaisl', 10920), ('unatural', 10921), ('passing', 10922), ('hallways', 10923), ('sheerer', 10924), ('fore', 10925), ('admirin', 10926), ('discription', 10927), ('contender', 10928), ('disppaointed', 10929), ('whte', 10930), ('supercute', 10931), ('contrived', 10932), ('lengt', 10933), ('tdf', 10934), ('loooovvvvveee', 10935), ('geneva', 10936), ('channel', 10937), ('joanna', 10938), ('gaines', 10939), ('genetic', 10940), ('selective', 10941), (\"'glide'\", 10942), (\"'easy'\", 10943), ('amorphous', 10944), ('intexas', 10945), ('murdered', 10946), ('needles', 10947), ('pricking', 10948), ('tolerating', 10949), ('bin', 10950), ('georgetown', 10951), ('ahtro', 10952), ('therapy', 10953), ('ette', 10954), ('lepore', 10955), ('enable', 10956), ('cuddled', 10957), ('tropicale', 10958), ('130ibs', 10959), ('spacedye', 10960), ('whip', 10961), ('buggier', 10962), ('calsual', 10963), ('shiryt', 10964), ('reservedly', 10965), ('risking', 10966), ('smear', 10967), ('prod', 10968), (\"'short'\", 10969), ('shove', 10970), ('ut', 10971), ('inspection', 10972), ('recreate', 10973), ('unrepairable', 10974), ('merit', 10975), ('redeemed', 10976), (\"'delicateness'\", 10977), (\"kimono's\", 10978), ('purcahsed', 10979), ('vogue', 10980), ('boney', 10981), ('humble', 10982), ('pregant', 10983), (\"wedge's\", 10984), ('unfortunetly', 10985), ('wills', 10986), ('possessing', 10987), ('ugliest', 10988), ('antebellum', 10989), ('depictes', 10990), ('sharply', 10991), ('mellows', 10992), ('sabina', 10993), ('eileen', 10994), ('tehse', 10995), ('unsee', 10996), ('petra', 10997), ('lb\\r', 10998), ('sofla', 10999), ('sweaty', 11000), ('sizingwise', 11001), ('bode', 11002), ('fess', 11003), ('allowance', 11004), ('sprites', 11005), ('intolerable', 11006), ('steamy', 11007), ('overruled', 11008), ('towels', 11009), ('shriks', 11010), ('benefited', 11011), ('fruit', 11012), ('swingier', 11013), ('dioes', 11014), ('180lbs', 11015), ('toothpaste', 11016), ('insult', 11017), ('frocks', 11018), ('assessments', 11019), ('belief', 11020), ('embrodering', 11021), ('survive', 11022), ('defects', 11023), ('trials', 11024), ('quibb', 11025), ('porportions', 11026), ('gardens', 11027), ('versalles', 11028), ('syllish', 11029), ('mila', 11030), ('stirrup', 11031), ('bound', 11032), ('organization', 11033), ('somethig', 11034), ('lwd', 11035), ('broen', 11036), ('colde', 11037), ('resolutions', 11038), (\"'warm\", 11039), (\"pullover'\", 11040), ('perfects', 11041), ('adjacent', 11042), ('drappiness', 11043), ('oceanside', 11044), ('breathability', 11045), ('attest', 11046), ('trumpet', 11047), ('sleeper', 11048), ('diagonals', 11049), ('trampy', 11050), ('prettie', 11051), ('nubbly', 11052), ('agai', 11053), ('handbags', 11054), ('chains', 11055), ('eggshell', 11056), ('snigger', 11057), ('reattach', 11058), ('sympath', 11059), ('folklorica', 11060), ('folkloric', 11061), ('catchc', 11062), ('merchandised', 11063), ('the10', 11064), ('astoria', 11065), ('shoeless', 11066), ('jiggle', 11067), ('hassel', 11068), ('don\\r', 11069), ('up\\r', 11070), ('color\\r', 11071), ('fabric\\r', 11072), ('much\\r', 11073), ('readjust', 11074), (\"pocket's\", 11075), ('stages', 11076), ('precisely', 11077), ('logged', 11078), ('addiction', 11079), ('uneasy', 11080), ('loooooooove', 11081), ('dangerously', 11082), ('ands', 11083), ('littel', 11084), ('subtleties', 11085), ('beauitful', 11086), ('zippie', 11087), ('pict', 11088), ('nhl', 11089), ('unfit', 11090), ('waistcoat', 11091), ('drooping', 11092), ('lovin', 11093), (\"kind've\", 11094), (\"'70's\", 11095), ('imwas', 11096), ('imput', 11097), ('bountiful', 11098), (\"'i'm\", 11099), ('embrodiery', 11100), ('ouside', 11101), (\"'shorts'\", 11102), ('suburban', 11103), ('lable', 11104), ('flax', 11105), ('rustle', 11106), ('users', 11107), ('sha', 11108), ('joe', 11109), ('wellies', 11110), ('flipflops', 11111), ('powers', 11112), ('belong', 11113), ('gravitated', 11114), ('awakward', 11115), ('disappearing', 11116), ('hopped', 11117), ('camping', 11118), ('remake', 11119), (\"there're\", 11120), ('intracately', 11121), ('mending', 11122), ('et', 11123), ('stitchin', 11124), ('incidental', 11125), ('slightlyyyy', 11126), ('diminished', 11127), (\"'in\", 11128), (\"person'\", 11129), (\"'nice'\", 11130), ('yessssss', 11131), ('buildings', 11132), ('tunnels', 11133), ('30in', 11134), (\"petite's\", 11135), ('annie', 11136), ('overa', 11137), ('cme', 11138), ('reccomended', 11139), ('savannah', 11140), ('diva', 11141), ('gushing', 11142), ('lengh', 11143), ('kindof', 11144), ('bpttoms', 11145), ('minmized', 11146), ('everyth', 11147), ('notices', 11148), ('elosie', 11149), ('zoe', 11150), ('vulnerability', 11151), ('bedskirt', 11152), (\"does't\", 11153), ('merging', 11154), ('versio', 11155), ('earned', 11156), ('quaiity', 11157), ('warped', 11158), ('befo', 11159), ('accomadate', 11160), ('downtime', 11161), (\"'teeny\", 11162), (\"bop'\", 11163), ('hugely', 11164), ('shirred', 11165), ('slam', 11166), ('dunk', 11167), ('prefe', 11168), ('thyre', 11169), ('peru', 11170), ('responsible', 11171), (\"mode's\", 11172), ('bui', 11173), ('toile', 11174), ('luna', 11175), ('tencil', 11176), ('ama', 11177), ('motos', 11178), ('jacker', 11179), ('swag', 11180), ('xxp', 11181), ('ladybug', 11182), ('wicked', 11183), ('dragonfly', 11184), ('84', 11185), ('saves', 11186), ('system', 11187), ('ocassionally', 11188), ('modernity', 11189), ('38f', 11190), ('x2', 11191), ('influx', 11192), ('enduring', 11193), ('vinta', 11194), ('oclor', 11195), ('sema', 11196), ('pari', 11197), (\"hasn'\", 11198), ('brags', 11199), ('birkinstocks', 11200), ('breakfast', 11201), ('bootles', 11202), ('someth', 11203), (\"doesn'\", 11204), ('inexcusable', 11205), ('somethings', 11206), ('lark', 11207), ('cooking', 11208), ('oblong', 11209), ('odette', 11210), ('floreale', 11211), ('detaches', 11212), (\"yo'self\", 11213), ('unsung', 11214), ('hero', 11215), ('flies', 11216), ('whom', 11217), ('quite\\r', 11218), ('very\\r', 11219), ('sunless', 11220), ('anyday', 11221), ('filtting', 11222), ('harness', 11223), ('lusciousness', 11224), ('bizarrely', 11225), ('slid', 11226), ('admirable', 11227), ('2fit', 11228), ('hourgass', 11229), ('unbeatable', 11230), ('purchse', 11231), ('tir', 11232), (\"complaint'\", 11233), ('yumi', 11234), ('redish', 11235), ('creamish', 11236), ('necessa', 11237), ('backpacker', 11238), ('amsterdam', 11239), ('clin', 11240), ('asthetically', 11241), ('rests', 11242), ('attrac', 11243), ('lthink', 11244), ('ebough', 11245), ('lofty', 11246), (\"'stitch'\", 11247), (\"cutesy'\", 11248), ('ichy', 11249), ('daceous', 11250), ('stratosphere', 11251), ('snowflske', 11252), ('4in', 11253), ('128b', 11254), ('liiiiiittle', 11255), ('tulling', 11256), ('guise', 11257), ('supersexy', 11258), ('titled', 11259), ('integrated', 11260), ('proofed', 11261), ('homespun', 11262), ('vulnerable', 11263), ('darla', 11264), ('gulped', 11265), (\"c'mon\", 11266), ('athropologie', 11267), ('230lbs', 11268), ('felting', 11269), ('26r', 11270), ('boohoo', 11271), ('fatter', 11272), ('overlapped', 11273), ('timeframe', 11274), ('heav', 11275), (\"'fitted'\", 11276), ('thinning', 11277), ('sleeeves', 11278), ('tweet', 11279), ('replenishing', 11280), ('wildfire', 11281), ('prohibitively', 11282), ('fasionable', 11283), ('vieques', 11284), ('mutes', 11285), ('nikrooz', 11286), ('lef', 11287), ('connects', 11288), ('xsma', 11289), ('timing', 11290), ('begun', 11291), (\"'older'\", 11292), ('cowgirl', 11293), ('bedecked', 11294), ('nerdy', 11295), (\"embellishment's\", 11296), ('disclaimer', 11297), (\"'hard'\", 11298), ('sof', 11299), ('deposited', 11300), ('particle', 11301), ('gasped', 11302), ('hahahaha', 11303), ('encouraging', 11304), ('retailerday', 11305), ('mosly', 11306), ('joking', 11307), (\"'body\", 11308), (\"skimming'\", 11309), (\"'parallel'\", 11310), ('cartwheels', 11311), ('technicolor', 11312), ('orderer', 11313), (\"person's\", 11314), (\"they'r\", 11315), ('dons', 11316), ('sissy', 11317), ('spacek', 11318), (\"'greener'\", 11319), ('intricacy', 11320), ('spark', 11321), ('believable', 11322), ('expensiv', 11323), ('flake', 11324), (\"'vegan'\", 11325), ('creations', 11326), ('chelsea', 11327), ('pos', 11328), ('goto', 11329), ('sweathsirt', 11330), ('engine', 11331), ('aztec', 11332), ('takeover', 11333), ('mus', 11334), ('slimmest', 11335), ('alread', 11336), ('discourage', 11337), ('glides', 11338), ('korkease', 11339), ('peruvian', 11340), ('opal', 11341), ('loosley', 11342), ('shel', 11343), ('oft', 11344), ('conservatively', 11345), ('airyness', 11346), ('walker', 11347), ('drappy', 11348), ('toposition', 11349), (\"'must\", 11350), (\"have'\", 11351), ('armh', 11352), ('elita', 11353), ('glimmer', 11354), ('winh', 11355), ('areturn', 11356), ('legwear', 11357), ('politely', 11358), ('craft', 11359), ('ironic', 11360), ('trally', 11361), ('specified', 11362), (\"mayn't\", 11363), ('boutiques', 11364), ('leaking', 11365), ('petticoats', 11366), ('bulked', 11367), ('lbs\\r', 11368), ('32c\\r', 11369), ('misunderstood', 11370), ('numbingly', 11371), ('2000s', 11372), ('flashbacks', 11373), ('angling', 11374), ('ben', 11375), ('expectant', 11376), ('payer', 11377), ('predictably', 11378), ('handwashed', 11379), ('aga', 11380), ('monitoring', 11381), ('armful', 11382), ('bangles', 11383), ('textiled', 11384), ('yogi', 11385), ('smiles', 11386), ('averting', 11387), ('oo', 11388), ('studying', 11389), ('university', 11390), ('rat', 11391), ('leaned', 11392), ('mirabella', 11393), (\"husband''s\", 11394), ('prefers', 11395), ('wansup', 11396), ('frail', 11397), ('joes', 11398), ('poses', 11399), ('yogini', 11400), (\"old's\", 11401), ('gymnastics', 11402), ('chandelier', 11403), (\"'swinging'\", 11404), ('parcels', 11405), ('carriers', 11406), ('postage', 11407), ('unadjustable', 11408), ('athough', 11409), ('transports', 11410), ('prototype', 11411), ('tanvi', 11412), ('40dd', 11413), ('locate', 11414), ('mittens', 11415), ('ooo', 11416), ('blondes', 11417), (\"'73\", 11418), ('slopes', 11419), ('wich', 11420), ('microfiber', 11421), ('jams', 11422), ('slubbed', 11423), ('looged', 11424), ('binging', 11425), ('ddd36', 11426), (\"'different\", 11427), (\"'puckered'\", 11428), ('coverd', 11429), ('highl', 11430), ('shearer', 11431), ('awwww', 11432), ('bronzed', 11433), ('my\\r', 11434), ('pseudo', 11435), ('dinged', 11436), ('engagements', 11437), ('clasic', 11438), ('bubblegum', 11439), ('hippier', 11440), ('baggage', 11441), ('assure', 11442), ('emphasis', 11443), ('comb', 11444), ('bismal', 11445), ('fondly', 11446), ('gum', 11447), ('acquaintance', 11448), ('checklist', 11449), ('bodily', 11450), ('unsuited', 11451), ('miid', 11452), ('satisfactorily', 11453), ('undistinguished', 11454), ('quadriceps', 11455), ('celebrations', 11456), ('snack', 11457), ('teenager', 11458), ('geometry', 11459), ('carnival', 11460), ('epitomized', 11461), ('suri', 11462), ('polyamide', 11463), ('hutch', 11464), ('camos', 11465), ('shied', 11466), ('tjhis', 11467), ('hopeless', 11468), ('proble', 11469), ('nippley', 11470), ('visibility', 11471), ('headlights', 11472), ('vouch', 11473), ('ode', 11474), ('attentio', 11475), ('outlined', 11476), ('shotty', 11477), ('desirable', 11478), ('pokey', 11479), ('bauble', 11480), (\"catalog's\", 11481), ('anorexic', 11482), ('unhealthy', 11483), ('softener', 11484), ('0verall', 11485), ('baring', 11486), ('guazy', 11487), ('nutcracker', 11488), ('ackerley', 11489), ('amputated', 11490), (\"barbie's\", 11491), ('hulked', 11492), ('vexing', 11493), (\"'ol\", 11494), ('blessing', 11495), ('tries', 11496), ('biokleen', 11497), ('permanent', 11498), ('fluxes', 11499), ('luggage', 11500), ('bandaid', 11501), ('removal', 11502), ('fromm', 11503), ('nancydee', 11504), ('md', 11505), (\"'throw\", 11506), (\"away'\", 11507), ('wrinkley', 11508), ('jacked', 11509), ('curren', 11510), ('fiits', 11511), ('avg', 11512), ('realy', 11513), ('bitterly', 11514), ('warnings', 11515), (\"small's\", 11516), ('cardigen', 11517), ('whimper', 11518), ('measly', 11519), ('symptoms', 11520), ('praised', 11521), ('swamped', 11522), ('scoping', 11523), ('cuncun', 11524), ('wrecks', 11525), ('otw', 11526), ('oder', 11527), ('althetic', 11528), ('cr', 11529), ('mutton', 11530), ('lamb', 11531), ('cheesecake', 11532), ('grave', 11533), ('cont', 11534), (\"ladies'\", 11535), ('mashine', 11536), ('discolors', 11537), ('dyes', 11538), ('perrfect', 11539), ('abject', 11540), ('terror', 11541), ('invented', 11542), ('contortion', 11543), ('sup', 11544), (\"sewer's\", 11545), ('rethinking', 11546), ('chorizo', 11547), ('smedium', 11548), ('fallacy', 11549), ('masses', 11550), ('gar', 11551), ('vince', 11552), ('waiver', 11553), ('erred', 11554), ('goods', 11555), ('cookie', 11556), ('cutter', 11557), (\"9''\", 11558), (\"lapel's\", 11559), ('nephew', 11560), ('declared', 11561), ('cuddles', 11562), ('andfestive', 11563), ('thirties', 11564), ('specialist', 11565), ('4yrs', 11566), (\"30''\", 11567), (\"31''\", 11568), ('athletically', 11569), ('thang', 11570), ('foiled', 11571), ('uncomfotably', 11572), ('vocoder', 11573), (\"5'0'\", 11574), ('25petite', 11575), ('suggestions', 11576), ('fadng', 11577), ('lenox', 11578), ('geek', 11579), ('cheezy', 11580), (\"'look'\", 11581), ('alleviated', 11582), ('spy', 11583), ('sacramento', 11584), ('downplaying', 11585), ('bracelets', 11586), ('sneak', 11587), ('wen', 11588), (\"1990's\", 11589), ('violetta', 11590), ('unconnected', 11591), ('lone', 11592), ('dissenter', 11593), ('leathers', 11594), ('husbands', 11595), ('alllll', 11596), ('stumpified', 11597), (\"n'flare\", 11598), ('lemonade', 11599), ('aft', 11600), ('sassing', 11601), ('symphony', 11602), ('equipped', 11603), ('pallette', 11604), ('sensati', 11605), ('possession', 11606), ('greal', 11607), ('crocheting', 11608), ('breeziness', 11609), ('flood', 11610), ('seson', 11611), ('178', 11612), ('mishaped', 11613), ('riders', 11614), ('insirpring', 11615), ('disapointed', 11616), ('marvilously', 11617), ('inlay', 11618), ('musually', 11619), ('washington', 11620), ('jerusalem', 11621), ('cooommfey', 11622), ('dug', 11623), ('medieval', 11624), ('liposuction', 11625), ('mayb', 11626), ('piecing', 11627), ('assymetrical', 11628), ('2007', 11629), ('big\\r', 11630), ('stiff\\r', 11631), ('brutal', 11632), ('thruout', 11633), ('nevery', 11634), ('connecticut', 11635), ('iin', 11636), ('depths', 11637), ('mongolian', 11638), ('operatic', 11639), ('arias', 11640), ('sole', 11641), ('reache', 11642), ('wilder', 11643), ('olde', 11644), ('towne', 11645), ('hippies', 11646), ('woodstock', 11647), ('drawcord', 11648), ('george', 11649), ('venson', 11650), ('vousta', 11651), ('bears', 11652), ('deer', 11653), ('imaginative', 11654), (\"etro's\", 11655), ('thousands', 11656), ('nordic', 11657), ('notable', 11658), ('aid', 11659), ('magazine', 11660), ('lithuanian', 11661), ('impressionist', 11662), ('stilettos', 11663), (\"beardedlady's\", 11664), ('beardedlady', 11665), ('julie', 11666), ('andrews', 11667), ('toughen', 11668), ('ludlow', 11669), ('walzing', 11670), ('mayer', 11671), ('troubles', 11672), ('strenuous', 11673), ('unfixable', 11674), ('joliette', 11675), ('hirt', 11676), ('schemes', 11677), ('desperat', 11678), ('2013', 11679), ('124lb', 11680), ('parker', 11681), ('toro', 11682), ('exceess', 11683), ('throb', 11684), ('trunks', 11685), ('swathed', 11686), ('rested', 11687), ('synthetics', 11688), ('annual', 11689), ('switzerland', 11690), ('plasticky', 11691), ('lineba', 11692), ('ante', 11693), ('clog', 11694), ('differnt', 11695), ('lent', 11696), ('supposedly', 11697), (\"friday's\", 11698), ('dd34', 11699), ('conflict', 11700), ('honored', 11701), ('orignal', 11702), ('tucke', 11703), ('schooler', 11704), ('overflowing', 11705), ('5star', 11706), ('quantity', 11707), ('composition', 11708), ('compar', 11709), ('abhor', 11710), ('pleather', 11711), ('considerate', 11712), ('pleases', 11713), ('witing', 11714), ('finale', 11715), ('enthusiastic', 11716), ('sprung', 11717), ('eveyone', 11718), ('gambled', 11719), ('axtra', 11720), ('frivolous', 11721), ('89', 11722), ('unassuming', 11723), ('absurdly', 11724), ('fron', 11725), ('ruc', 11726), ('pilcor', 11727), ('nonpetite', 11728), ('elorn', 11729), (\"don't'\", 11730), ('unhemmed', 11731), ('snl', 11732), ('woah', 11733), ('supermodels', 11734), ('raunching', 11735), ('wond', 11736), ('loca', 11737), ('acacia', 11738), ('unveil', 11739), ('shapelessness', 11740), ('137lbs', 11741), ('charmeuse', 11742), ('presumptive', 11743), ('intuition', 11744), ('preferences', 11745), ('awate', 11746), ('snakes', 11747), ('shirtsleeves', 11748), ('olsen', 11749), ('neighboring', 11750), ('allelujah', 11751), ('absence', 11752), ('7in', 11753), ('whiplash', 11754), ('regulr', 11755), ('appr', 11756), ('collections', 11757), ('shininess', 11758), ('berkeley', 11759), ('readers', 11760), ('martini', 11761), ('thereof', 11762), (\"'help'\", 11763), ('harm', 11764), ('huuuuuuge', 11765), ('marred', 11766), ('tummies', 11767), ('sz26', 11768), ('waistless', 11769), ('fabricators', 11770), ('sweeps', 11771), ('downplay', 11772), ('mussed', 11773), ('harmonious', 11774), ('resolution', 11775), ('collarbones', 11776), ('mislabel', 11777), ('slimmed', 11778), ('nec', 11779), ('contoured', 11780), ('distinguishable', 11781), ('fleetwoods', 11782), (\"must've\", 11783), ('urrrrgh', 11784), ('discovering', 11785), (\"mcguire's\", 11786), ('breastline', 11787), (\"i''m\", 11788), ('sn', 11789), ('amidst', 11790), ('choral', 11791), ('remark', 11792), ('boom', 11793), ('melodies', 11794), ('6r', 11795), ('hundreds', 11796), ('conflicted', 11797), ('suggestive', 11798), ('julep', 11799), (\"'default'\", 11800), ('distinctly', 11801), ('lesser', 11802), ('affixed', 11803), ('cavernous', 11804), ('32nd', 11805), ('fleshy', 11806), ('gorjuss', 11807), ('yoself', 11808), ('achieved', 11809), ('195lbs', 11810), ('vol', 11811), ('dressi', 11812), ('elegent', 11813), ('barrettes', 11814), ('lip', 11815), ('lips', 11816), ('parisienne', 11817), ('bermudas', 11818), ('freakishly', 11819), ('slinder', 11820), ('peti', 11821), ('avergage', 11822), ('memorable', 11823), ('boudoir', 11824), ('dit', 11825), ('riffle', 11826), ('superficial', 11827), ('lass', 11828), ('oprefer', 11829), ('aottern', 11830), ('pallas', 11831), ('cardie', 11832), ('realness', 11833), ('swlim', 11834), ('emobroidery', 11835), ('generate', 11836), ('junior', 11837), ('rural', 11838), ('countries', 11839), ('pages', 11840), ('drapi', 11841), ('kris', 11842), ('handed', 11843), (\"cardigan's\", 11844), ('enroute', 11845), ('unforgetable', 11846), ('untill', 11847), ('strolls', 11848), ('restaurants', 11849), ('sunblock', 11850), ('enourmous', 11851), ('stichting', 11852), ('oot', 11853), ('nijar', 11854), ('kaftan', 11855), ('xtr', 11856), ('polyster', 11857), ('sellers', 11858), ('balling', 11859), ('beached', 11860), ('stoe', 11861), ('hating', 11862), ('flushed', 11863), ('rails', 11864), ('evidently', 11865), ('gapless', 11866), ('manually', 11867), ('embracing', 11868), (\"marvel's\", 11869), ('agent', 11870), ('carter', 11871), ('gor', 11872), ('geous', 11873), ('tease', 11874), ('davy', 11875), ('crockett', 11876), ('fathom', 11877), ('jokes', 11878), ('swin', 11879), ('planes', 11880), ('167', 11881), ('preordered', 11882), ('props', 11883), ('enchanted', 11884), ('assessment', 11885), ('swirled', 11886), ('tequila', 11887), ('ginger', 11888), ('srink', 11889), ('snuggest', 11890), ('disgraceful', 11891), ('lusting', 11892), ('impersonator', 11893), ('circumferentially', 11894), ('strechable', 11895), ('cloer', 11896), ('stylistically', 11897), ('destroy', 11898), ('honesty', 11899), ('picot', 11900), ('outweighed', 11901), ('excell', 11902), ('dizzying', 11903), ('obscures', 11904), ('embraces', 11905), ('cut\\r', 11906), ('neckline\\r', 11907), ('skin\\r', 11908), ('thread\\r', 11909), ('bummers', 11910), ('ash', 11911), ('incidents', 11912), ('sunning', 11913), ('5ft8inches', 11914), ('rackerback', 11915), ('growths', 11916), ('resent', 11917), ('athro', 11918), ('notches', 11919), ('geez', 11920), ('association', 11921), ('candidate', 11922), ('bracket', 11923), ('sheerling', 11924), ('ins', 11925), ('parti', 11926), ('runa', 11927), ('seated', 11928), ('unforced', 11929), ('sexified', 11930), ('spoil', 11931), ('appeals', 11932), ('fina', 11933), ('tidier', 11934), ('canna', 11935), ('complainers', 11936), ('cluster', 11937), (\"5''9\", 11938), ('feasible', 11939), ('lea', 11940), ('beigey', 11941), ('duck', 11942), ('physicality', 11943), ('impromptu', 11944), ('dk', 11945), ('midrift', 11946), ('inconsistency', 11947), ('janeausten', 11948), ('overshadow', 11949), ('ongoing', 11950), ('furball', 11951), ('trailered', 11952), ('maxidress', 11953), ('boarded', 11954), ('mallard', 11955), ('detaling', 11956), ('tallettes', 11957), ('alexa', 11958), ('chung', 11959), ('measuring', 11960), ('colos', 11961), ('am\\r', 11962), ('were\\r', 11963), ('irons', 11964), ('therefor', 11965), ('fairs', 11966), ('orientation', 11967), ('luscious', 11968), ('luster', 11969), ('tripping', 11970), ('skew', 11971), ('summation', 11972), ('recievied', 11973), ('hmmmm', 11974), ('litttle', 11975), ('yankee', 11976), ('pavin', 11977), ('buttyondown', 11978), ('toms', 11979), ('artfully', 11980), ('diversity', 11981), (\"city's\", 11982), ('trent', 11983), ('tthe', 11984), ('polyurethane', 11985), ('alt', 11986), ('envisioning', 11987), ('legit', 11988), ('prettily', 11989), ('contrastin', 11990), ('kissed', 11991), ('uncomfy', 11992), ('eex', 11993), ('digs', 11994), ('sis', 11995), ('sholulder', 11996), ('requirements', 11997), ('hastle', 11998), ('slimly', 11999), ('bryden', 12000), ('emailed', 12001), ('reply', 12002), ('compliement', 12003), ('irritation', 12004), ('averaged', 12005), ('accentuatea', 12006), ('ranks', 12007), ('babe', 12008), ('modes', 12009), ('resort', 12010), ('whiz', 12011), ('needlessly', 12012), ('rotund', 12013), ('unaltered', 12014), ('silh', 12015), ('outwear', 12016), ('maturity', 12017), ('delineator', 12018), ('hysterical', 12019), ('wrapover', 12020), ('seal', 12021), ('ziploc', 12022), ('freezer', 12023), ('anyou', 12024), ('flatform', 12025), ('bods', 12026), (\"arm's\", 12027), ('cheapy', 12028), ('flufff', 12029), ('greys', 12030), ('received\\r', 12031), ('loose\\r', 12032), ('reverts', 12033), ('acceptably', 12034), ('vented', 12035), ('instantaneously', 12036), ('hometown', 12037), ('peoppe', 12038), ('casul', 12039), ('loungey', 12040), ('herbalist', 12041), ('hoepfulyl', 12042), ('orffice', 12043), ('hosed', 12044), ('thiner', 12045), ('cooold', 12046), ('kelby', 12047), ('comfotably', 12048), ('litle', 12049), ('veratile', 12050), ('occurred', 12051), ('thrift', 12052), ('tallish', 12053), ('flecking', 12054), ('dubbed', 12055), (\"man's\", 12056), ('pairings', 12057), ('argh', 12058), (\"'cream'\", 12059), ('really0', 12060), ('lslightly', 12061), ('spacious', 12062), (\"'vintage\", 12063), (\"sage'\", 12064), ('undertsated', 12065), ('askew', 12066), ('training', 12067), ('obsessively', 12068), ('annnnd', 12069), ('spider', 12070), ('sheerish', 12071), ('fp', 12072), ('htere', 12073), ('differentials', 12074), ('necessairly', 12075), ('similr', 12076), ('alce', 12077), ('drkest', 12078), ('flatetering', 12079), ('lunging', 12080), ('105lb', 12081), ('havin', 12082), ('vers', 12083), ('cop', 12084), ('milestone', 12085), ('you\\r', 12086), ('mellowed', 12087), ('hightower', 12088), ('sheeny', 12089), ('flea', 12090), ('teller', 12091), ('leng', 12092), ('slitted', 12093), ('stilt', 12094), ('palo', 12095), ('alto', 12096), ('edessa', 12097), ('bitsy', 12098), ('ear', 12099), ('bumpkin', 12100), (\"summer'ness\", 12101), ('obsessive', 12102), ('revi', 12103), ('tagged', 12104), ('influenced', 12105), (\"mind's\", 12106), ('costumed', 12107), ('descriptive', 12108), ('route', 12109), ('shattered', 12110), ('deem', 12111), (\"'sweater'\", 12112), ('discrepancies', 12113), ('tig', 12114), ('dress\\r', 12115), ('stored', 12116), ('gas', 12117), ('station', 12118), ('inflexibility', 12119), (\"nolan's\", 12120), ('claire', 12121), ('underwood', 12122), ('flung', 12123), ('colony', 12124), ('cratsmanship', 12125), ('apttenrs', 12126), ('seasonality', 12127), ('sleeps', 12128), ('prolong', 12129), ('pancho', 12130), ('restretching', 12131), ('stretchable', 12132), ('predominately', 12133), ('fiattering', 12134), ('shaver', 12135), ('accompany', 12136), ('colw', 12137), ('tummmy', 12138), ('purchae', 12139), (\"'chunky'\", 12140), (\"'softens'\", 12141), (\"'more'\", 12142), ('smal', 12143), ('brests', 12144), ('chicks', 12145), ('alleviate', 12146), ('tops\\r', 12147), ('valo', 12148), ('dressiness', 12149), ('huit', 12150), ('eden', 12151), ('lagoon', 12152), ('tassle', 12153), ('poodles', 12154), ('estatic', 12155), ('substan', 12156), ('nevermind', 12157), ('horizont', 12158), ('perceive', 12159), ('raindrops', 12160), ('upsid', 12161), ('monaco', 12162), ('homage', 12163), ('wake', 12164), (\"sundry's\", 12165), ('27in', 12166), ('sloft', 12167), ('negligee', 12168), ('matetial', 12169), ('planner', 12170), ('rol', 12171), ('nala', 12172), ('lookers', 12173), ('teenagers', 12174), ('jum', 12175), ('starburst', 12176), ('menti', 12177), ('retailerpligie', 12178), ('ter', 12179), ('rsty', 12180), ('nitpick', 12181), ('insulating', 12182), ('shillouette', 12183), ('104lbs', 12184), ('notched', 12185), ('lune', 12186), ('wale', 12187), ('peace', 12188), ('sable', 12189), ('20lb', 12190), ('donated', 12191), ('toggles', 12192), ('hoods', 12193), ('rates', 12194), ('sumer', 12195), ('smash', 12196), ('ballerina', 12197), ('badass', 12198), ('cookout', 12199), ('westher', 12200), ('meta', 12201), ('ornamental', 12202), (\"it's'\", 12203), ('groups', 12204), ('wonce', 12205), ('fringing', 12206), ('flatteri', 12207), ('recipients', 12208), ('errs', 12209), ('poker', 12210), ('flyaway', 12211), ('mulit', 12212), ('decreases', 12213), ('fuzzies', 12214), ('lifelessly', 12215), ('4inches', 12216), ('inc', 12217), ('adoreable', 12218), ('deaux', 12219), ('les', 12220), ('fauves', 12221), ('retaining', 12222), ('neckband', 12223), ('slayed', 12224), ('mesmerized', 12225), ('fancied', 12226), ('casualed', 12227), ('cadet', 12228), ('scruffy', 12229), ('plainly', 12230), ('whomever', 12231), ('noon', 12232), ('sway', 12233), (\"'flair'\", 12234), ('sb', 12235), ('alined', 12236), ('dansko', 12237), ('inconsistencies', 12238), ('twisting', 12239), ('juneberry', 12240), (\"i'\\r\", 12241), ('degrade', 12242), ('amost', 12243), ('rediculous', 12244), ('wellmade', 12245), ('alrea', 12246), ('occas', 12247), ('fanicer', 12248), ('hipbones', 12249), (\"aren'\", 12250), ('prevalent', 12251), ('peplu', 12252), ('xxxxxxxxs', 12253), (\"'flow'\", 12254), ('buthe', 12255), ('iether', 12256), (\"there'll\", 12257), ('timey', 12258), ('worm', 12259), ('7months', 12260), ('preggars', 12261), ('specs', 12262), ('complimen', 12263), ('flatting', 12264), (\"hemline's\", 12265), ('medora', 12266), ('sho', 12267), ('catelog', 12268), ('ithas', 12269), ('dah', 12270), ('pursuit', 12271), ('writer', 12272), (\"'add\", 12273), (\"cart'\", 12274), ('sweets', 12275), ('retailerp', 12276), ('collects', 12277), ('applies', 12278), ('cotteny', 12279), ('ourselves', 12280), ('sneaker', 12281), ('a32', 12282), ('pumpkin', 12283), ('constriction', 12284), ('isolated', 12285), ('selvage', 12286), ('stubby', 12287), ('125ish', 12288), ('heathery', 12289), (\"'cuz\", 12290), ('remaindered', 12291), ('identify', 12292), (\"'soft\", 12293), (\"coral'\", 12294), ('postnatal', 12295), ('occassions', 12296), ('pettte', 12297), ('cutely', 12298), ('adjusts', 12299), ('neckes', 12300), ('upstairs', 12301), ('exaggerate', 12302), ('postur', 12303), ('bcup', 12304), ('2regular', 12305), ('fallback', 12306), ('incred', 12307), ('tasking', 12308), ('passions', 12309), ('anomaly', 12310), ('39ish', 12311), ('tneck', 12312), ('ssxp', 12313), ('stings', 12314), ('unopened', 12315), ('medlum', 12316), ('snowing', 12317), ('thise', 12318), ('puctures', 12319), ('ilike', 12320), ('importatn', 12321), ('matieral', 12322), ('comfortbale', 12323), ('ilfelt', 12324), ('waking', 12325), ('anhtro', 12326), ('elastaine', 12327), ('definitel', 12328), ('foundation', 12329), ('talle', 12330), ('imported', 12331), ('promos', 12332), ('treatments', 12333), ('retailerpologists', 12334), ('blaclk', 12335), (\"'trapeze'\", 12336), ('snuggy', 12337), ('sadl', 12338), ('categories', 12339), ('dec', 12340), ('smudged', 12341), ('identically', 12342), (\"wearer's\", 12343), ('outlin', 12344), ('imitations', 12345), ('disap', 12346), ('detest', 12347), ('nay', 12348), ('clincher', 12349), ('topish', 12350), ('fringy', 12351), ('of\\r', 12352), ('hesistant', 12353), ('seven', 12354), ('palid', 12355), ('dummy', 12356), ('housecoat', 12357), ('charter', 12358), ('hawing', 12359), ('remt', 12360), ('simlpe', 12361), ('denium', 12362), ('ghis', 12363), ('probabley', 12364), ('flew', 12365), ('blinded', 12366), ('poorl', 12367), ('pelats', 12368), ('scrunchy', 12369), ('yey', 12370), ('restrict', 12371), ('marketing', 12372), ('fireengine', 12373), ('woohoo', 12374), ('heartedly', 12375), (\"lilke's\", 12376), ('tideline', 12377), ('wrn', 12378), ('nightdress', 12379), ('reviewe', 12380), ('shoreline', 12381), ('pillsville', 12382), ('doubles', 12383), ('profession', 12384), ('whig', 12385), ('pta', 12386), ('saturdays', 12387), ('exclaimed', 12388), ('gnarly', 12389), ('boxt', 12390), ('slovenly', 12391), ('creased', 12392), ('radiating', 12393), ('reissued', 12394), ('haging', 12395), ('morher', 12396), ('neony', 12397), ('highe', 12398), ('cab', 12399), ('curb', 12400), ('nicley', 12401), ('centering', 12402), ('reworked', 12403), ('toothpick', 12404), ('trolling', 12405), ('strains', 12406), ('overhead', 12407), ('supersoft', 12408), ('prarie', 12409), ('orphan', 12410), ('perfectly\\r', 12411), (\"'shell'\", 12412), ('butchers', 12413), ('rainproof', 12414), ('adj', 12415), ('assorted', 12416), ('careless', 12417), ('discouraging', 12418), ('minuscule', 12419), ('checkboard', 12420), ('jars', 12421), ('jam', 12422), ('berries', 12423), ('spoons', 12424), ('succeed', 12425), ('ballgowns', 12426), ('attribute', 12427), ('stratchy', 12428), ('knuc', 12429), ('teachers', 12430), ('iop', 12431), ('ned', 12432), ('sofy', 12433), ('nexk', 12434), ('szie', 12435), ('looke', 12436), ('aweful', 12437), ('ahge', 12438), ('hur', 12439), ('palelike', 12440), ('asflattering', 12441), ('swimmers', 12442), ('pacific', 12443), ('northwest', 12444), ('8petite', 12445), ('openly', 12446), ('opitome', 12447), ('drees', 12448), ('imhave', 12449), ('confection', 12450), ('regency', 12451), ('synched', 12452), ('eighties', 12453), ('bends', 12454), ('duds', 12455), ('bearable', 12456), ('mummy', 12457), ('acid', 12458), ('tangible', 12459), ('mainstay', 12460), ('labelled', 12461), ('80f', 12462), ('strecth', 12463), ('aprã¨s', 12464), ('otth', 12465), ('cheered', 12466), ('betwe', 12467), ('funnily', 12468), ('disrobe', 12469), ('clingi', 12470), ('botih', 12471), ('tme0', 12472), ('wheelchair', 12473), ('temporarily', 12474), ('dã©colletã©', 12475), ('35x28x39', 12476), ('slightl', 12477), ('ff', 12478), ('racing', 12479), ('accessorizes', 12480), ('crutches', 12481), ('6am', 12482), ('4am', 12483), ('cirque', 12484), ('chaos', 12485), ('du', 12486), ('contentment', 12487), ('movies', 12488), ('reeled', 12489), ('prompting', 12490), ('boundaries', 12491), ('roughness', 12492), ('incarnations', 12493), (\"large'\", 12494), ('commission', 12495), ('brochure', 12496), ('strops', 12497), ('costumey', 12498), (\"69's\", 12499), ('2004', 12500), ('2005', 12501), (\"'amazing\", 12502), ('coatigan', 12503), ('consolation', 12504), ('prize', 12505), ('interfere', 12506), ('chang', 12507), ('economical', 12508), ('bsck', 12509), (\"hepburn's\", 12510), ('boyishly', 12511), ('pal', 12512), ('materila', 12513), ('strecthy', 12514), ('brr', 12515), ('exepct', 12516), (\"fall'\", 12517), ('body\\r', 12518), ('knowledge', 12519), ('fress', 12520), ('port', 12521), ('posey', 12522), ('sloped', 12523), ('190lbs', 12524), ('coope', 12525), ('diffe', 12526), (\"'tangerine'\", 12527), ('bricky', 12528), ('ttried', 12529), ('firmly', 12530), ('sprint', 12531), ('saccharine', 12532), ('153', 12533), ('slenderize', 12534), ('fanciness', 12535), ('gorgeousness', 12536), ('percentages', 12537), ('unnaturally', 12538), ('dash', 12539), ('forarms', 12540), ('fau', 12541), ('slende', 12542), ('fixable', 12543), ('scramble', 12544), ('greyed', 12545), ('1000', 12546), ('manu', 12547), ('andddddd', 12548), ('tommy', 12549), ('bahama', 12550), ('apre', 12551), ('donna', 12552), ('morgan', 12553), ('awesomeness', 12554), ('lusted', 12555), ('glancing', 12556), ('needlenose', 12557), ('crimped', 12558), ('lnd', 12559), ('pliers', 12560), ('unhook', 12561), ('clamp', 12562), ('loopy', 12563), ('notably', 12564), ('dividing', 12565), ('underdone', 12566), ('devotee', 12567), ('representations', 12568), ('midwestern', 12569), ('seciton', 12570), ('narrowly', 12571), ('149', 12572), ('surpasses', 12573), ('burdensome', 12574), ('contort', 12575), ('argument', 12576), ('accomplishing', 12577), ('shank', 12578), ('embodiment', 12579), ('seasonally', 12580), ('bursting', 12581), ('hal', 12582), ('caliber', 12583), ('whisking', 12584), ('18th', 12585), ('assurance', 12586), ('nov', 12587), ('24th', 12588), ('upturned', 12589), ('alicia', 12590), ('outdated', 12591), ('pratically', 12592), ('healthy', 12593), ('hangy', 12594), ('tracked', 12595), ('tightens', 12596), (\"monkey's\", 12597), ('uncle', 12598), ('retie', 12599), ('jared', 12600), (\"subway's\", 12601), ('lowcut', 12602), ('airly', 12603), ('overhangs', 12604), ('sensed', 12605), ('thh', 12606), ('beign', 12607), ('hsaped', 12608), ('houseboat', 12609), ('nirsing', 12610), ('mottle', 12611), ('rebound', 12612), ('exoected', 12613), ('overcast', 12614), ('puddle', 12615), ('wildberry', 12616), ('blizzard', 12617), ('fin', 12618), ('coordinated', 12619), ('breaths', 12620), ('unappealing', 12621), ('tap', 12622), ('lous', 12623), ('dow', 12624), ('marginally', 12625), ('preg', 12626), ('sinched', 12627), ('bilious', 12628), ('pretyy', 12629), ('steve', 12630), ('myuch', 12631), ('deliberately', 12632), ('polarized', 12633), ('02', 12634), ('clarify', 12635), (\"superman'd\", 12636), ('schoolboy', 12637), ('sillhoette', 12638), ('blazy', 12639), ('pri', 12640), ('ast', 12641), ('forrest', 12642), ('flipp', 12643), ('ausaria', 12644), ('mutliple', 12645), ('scarfs', 12646), ('requests', 12647), ('risks', 12648), ('baltimore', 12649), ('waaaaaaaay', 12650), ('millimeter', 12651), ('richness', 12652), ('approaches', 12653), ('infatuated', 12654), ('harkened', 12655), ('pushes', 12656), ('thoat', 12657), ('trumps', 12658), ('comfortabl', 12659), ('yello', 12660), ('moths', 12661), ('sophistica', 12662), ('appropriarely', 12663), ('swapped', 12664), ('browner', 12665), ('tricep', 12666), ('blunders', 12667), ('3xl', 12668), ('comeback', 12669), ('simplifie', 12670), ('male', 12671), ('different\\r', 12672), ('belted\\r', 12673), ('kors', 12674), ('universal', 12675), ('complaintbis', 12676), ('sta', 12677), ('loosness', 12678), (\"floreat's\", 12679), ('unstitch', 12680), ('brooding', 12681), ('doc', 12682), ('martins', 12683), ('werid', 12684), ('unpacked', 12685), ('feely', 12686), (\"ol'\", 12687), ('tickle', 12688), ('lol\\r', 12689), ('intimidate', 12690), ('jingle', 12691), ('jingling', 12692), ('barney', 12693), ('unusial', 12694), ('accessorize\\r', 12695), ('fantasy', 12696), (\"'belt'\", 12697), (\"'tuck'\", 12698), ('bass', 12699), ('meghan', 12700), ('trainor', 12701), ('song', 12702), ('disintegrates', 12703), ('sarong', 12704), ('miniskirt', 12705), ('resew', 12706), ('hawthorne', 12707), (\"'maybe'\", 12708), ('seatbelt', 12709), ('childlike', 12710), ('lasership', 12711), ('deliveries', 12712), ('surpass', 12713), ('fedex', 12714), ('usps', 12715), ('crams', 12716), ('unprotected', 12717), ('soapbox', 12718), ('resilient', 12719), ('reigned', 12720), ('officewear', 12721), ('28dddd', 12722), ('30ddd', 12723), ('sparklecolor', 12724), ('closets', 12725), ('andheavy', 12726), ('comfo', 12727), ('expectecd', 12728), ('whelming', 12729), ('ensuring', 12730), ('mattered', 12731), ('trired', 12732), ('lvoed', 12733), ('fifteen', 12734), ('snuggles', 12735), ('orangutan', 12736), ('jaw', 12737), ('overlying', 12738), ('spades', 12739), ('recreated', 12740), ('mabli', 12741), ('bitty', 12742), ('6inches\\r', 12743), ('135lbs\\r', 12744), ('kneelength', 12745), (\"sayin'\", 12746), ('surroundings', 12747), ('posy', 12748), ('dooooown', 12749), ('vitamin', 12750), ('anastasia', 12751), ('handwashable', 12752), ('upto', 12753), (\"sui's\", 12754), ('garme', 12755), ('pinker', 12756), ('satin0like', 12757), ('larkin', 12758), ('hedging', 12759), ('bets', 12760), ('pitiful', 12761), ('adorned', 12762), ('patagonia', 12763), ('oozing', 12764), ('eucalan', 12765), ('unavoidable', 12766), ('glimpse', 12767), ('viewable', 12768), ('disrupts', 12769), ('jog', 12770), ('pusher', 12771), ('bolt', 12772), ('chagrin', 12773), ('hire', 12774), (\"lady's\", 12775), ('cosiest', 12776), ('absoluty', 12777), ('preserved', 12778), ('everday', 12779), ('hurdle', 12780), ('topic', 12781), ('rearranging', 12782), ('packagei', 12783), ('sarah', 12784), ('beg', 12785), ('draperies', 12786), ('fairer', 12787), ('array', 12788), ('differing', 12789), ('sentiments', 12790), ('ni', 12791), ('troublesome', 12792), ('yuk', 12793), ('whoops', 12794), ('unbeliev', 12795), ('tor', 12796), ('ripple', 12797), ('cottons', 12798), ('elephant', 12799), ('rippling', 12800), ('circumstance', 12801), (\"suit's\", 12802), ('justification', 12803), ('afforded', 12804), ('172lbs', 12805), ('notta', 12806), ('believing', 12807), ('knocking', 12808), ('chiquita', 12809), ('sundays', 12810), ('prr', 12811), (\"5'61\", 12812), ('hanged', 12813), ('thakoon', 12814), ('500', 12815), ('mum', 12816), ('balmy', 12817), ('coverin', 12818), ('leopards', 12819), ('coth', 12820), ('stonw', 12821), ('inspecting', 12822), ('domino', 12823), ('swatches', 12824), ('zing', 12825), ('plu', 12826), ('phoenix', 12827), ('surplice', 12828), ('epite', 12829), ('actualyl', 12830), ('tyla', 12831), ('morel', 12832), ('a34b', 12833), ('ahold', 12834), ('aaaaaaamazing', 12835), ('purch', 12836), ('dumped', 12837), ('harkens', 12838), ('conversational', 12839), ('pinafore', 12840), ('abundant', 12841), ('buldging', 12842), ('wynwood', 12843), ('playfulness', 12844), ('internationally', 12845), ('excursions', 12846), ('uuuuggghhh', 12847), ('underbust', 12848), ('differemt', 12849), ('respite', 12850), ('nonexistent', 12851), ('recom', 12852), ('notebook', 12853), ('lititle', 12854), ('ooooo', 12855), ('overjoyed', 12856), ('iteration', 12857), ('swisuit', 12858), ('rusching', 12859), ('exclude', 12860), ('tankinis', 12861), ('obese', 12862), ('awww', 12863), ('availalbe', 12864), ('htin', 12865), ('baptism', 12866), ('c34', 12867), ('fantabulous', 12868), ('agrees', 12869), ('114lb', 12870), ('damaging', 12871), ('vowed', 12872), ('bleachers', 12873), ('italians', 12874), ('spell', 12875), ('wight', 12876), ('toll', 12877), ('wnat', 12878), ('sift', 12879), ('babys', 12880), ('hams', 12881), ('nab', 12882), ('flutes', 12883), ('coobie', 12884), ('heated', 12885), ('piqued', 12886), ('factored', 12887), (\"'moss'\", 12888), ('constructions', 12889), ('fort', 12890), ('knox', 12891), ('gauntlet', 12892), ('shapless', 12893), ('specious', 12894), ('allot', 12895), ('everywhe', 12896), ('obsxessing', 12897), ('whcich', 12898), ('workedc', 12899), ('seas', 12900), ('marni', 12901), ('prada', 12902), ('completer', 12903), ('functioning', 12904), ('drinking', 12905), ('florescent', 12906), ('190', 12907), ('sectioning', 12908), ('rider', 12909), ('owing', 12910), ('cartionnier', 12911), ('seasoned', 12912), ('buttoms', 12913), ('elastized', 12914), ('preaching', 12915), ('altar', 12916), ('hail', 12917), (\"'gathered\", 12918), ('undie', 12919), ('syked', 12920), ('134b', 12921), ('subject', 12922), ('honoring', 12923), ('applying', 12924), ('thy', 12925), ('gett', 12926), ('luisa', 12927), (\"'ivory'\", 12928), ('yellowed', 12929), ('newspapers', 12930), ('acco', 12931), ('quibbles', 12932), ('niche', 12933), ('compa', 12934), ('flapping', 12935), ('relief', 12936), ('recurve', 12937), ('alludes', 12938), ('caftans', 12939), ('crossfit', 12940), ('abdominal', 12941), ('cardboard', 12942), ('tory', 12943), ('burch', 12944), ('fantasies', 12945), ('teased', 12946), ('valentine', 12947), ('playa', 12948), ('nocal', 12949), ('foundations', 12950), ('deceived', 12951), ('moniker', 12952), ('hoodies', 12953), ('suspicious', 12954), ('hobbit', 12955), ('comor', 12956), ('180lb', 12957), ('christma', 12958), ('poppies', 12959), ('horrifying', 12960), ('1993', 12961), ('jiggles', 12962), ('jiggling', 12963), ('accord', 12964), ('veered', 12965), ('brethren', 12966), ('dã©colletage', 12967), ('knobby', 12968), ('goose', 12969), ('abercrombie', 12970), ('newsies', 12971), (\"sunday's\", 12972), ('caressing', 12973), ('interim', 12974), ('summarize', 12975), ('tossing', 12976), ('min', 12977), ('creamsicle', 12978), ('positing', 12979), ('withhold', 12980), ('squarple', 12981), ('haired', 12982), ('minority', 12983), ('through\\r', 12984), ('4fits', 12985), ('ier', 12986), ('cartagena', 12987), ('nigh', 12988), ('delaine', 12989), ('ruggedness', 12990), ('easyily', 12991), ('sotra', 12992), ('cleani', 12993), ('34ff', 12994), ('bue', 12995), ('23b', 12996), ('inwas', 12997), ('lsit', 12998), ('modl', 12999), ('ute', 13000), ('brught', 13001), ('onin', 13002), ('somuch', 13003), ('laec', 13004), ('temple', 13005), ('chafe', 13006), ('fought', 13007), ('toddlers', 13008), ('frumpiness', 13009), ('rath', 13010), ('laceing', 13011), ('punches', 13012), (\"'distressed'\", 13013), ('corresponded', 13014), ('howeverl', 13015), ('henely', 13016), ('futuristic', 13017), ('pry', 13018), ('minimalism', 13019), ('oatmealish', 13020), ('trapezey', 13021), ('renatkable', 13022), ('patt', 13023), ('deminished', 13024), ('nutmeg', 13025), (\"'bell\", 13026), (\"'khaki'\", 13027), ('amt', 13028), ('seperate', 13029), ('stroke', 13030), ('unprofessionally', 13031), ('peacoat', 13032), ('orangeish', 13033), (\"lab's\", 13034), ('attractively', 13035), ('taco', 13036), ('measument', 13037), (\"'baggish'\", 13038), ('bonette', 13039), ('submit', 13040), ('whiled', 13041), ('ooohed', 13042), ('aaahed', 13043), ('hurriedly', 13044), ('belive', 13045), ('veltevty', 13046), ('carton', 13047), ('comfim', 13048), ('dissapointing', 13049), ('enormously', 13050), ('marsupial', 13051), ('smack', 13052), ('dab', 13053), ('nonuniform', 13054), ('pacifica', 13055), (\"'cover\", 13056), ('comparat', 13057), ('leana', 13058), ('farthest', 13059), ('staged', 13060), ('surplus', 13061), ('behemian', 13062), ('pencils', 13063), ('unsuccessful', 13064), ('zooming', 13065), ('wanna', 13066), ('cue', 13067), ('darlings', 13068), (\"girls'\", 13069), ('snowstorm', 13070), ('foldable', 13071), ('reflective', 13072), ('died', 13073), ('aro', 13074), ('bombshell', 13075), ('availab', 13076), ('fallish', 13077), ('intimidating', 13078), ('beckons', 13079), ('lapels\\r', 13080), (\"it's\\r\", 13081), ('strikingly', 13082), ('eri', 13083), ('ali', 13084), ('lululemons', 13085), ('victim', 13086), ('substituting', 13087), ('horrors', 13088), ('sweatshirty', 13089), ('contours', 13090), ('washout', 13091), ('eg', 13092), ('largo', 13093), ('buttah', 13094), (\"didm't\", 13095), ('peekaboos', 13096), ('sherbrooke', 13097), ('5ft7', 13098), ('androgynous', 13099), ('sunrose', 13100), ('allusione', 13101), ('yepeee', 13102), (\"grandpa's\", 13103), ('submerge', 13104), ('northeastern', 13105), ('bottam', 13106), ('tbale', 13107), ('elngth', 13108), ('almsot', 13109), ('referenc', 13110), ('washers', 13111), ('distraught', 13112), ('fatiques', 13113), ('biweekly', 13114), ('casua', 13115), ('bored', 13116), ('fisherman', 13117), ('whats', 13118), ('messing', 13119), ('purpley', 13120), ('earnest', 13121), ('inter', 13122), ('crossfront', 13123), ('tailered', 13124), ('ahahahaha', 13125), ('ladyish', 13126), ('runching', 13127), ('gush', 13128), ('indecently', 13129), ('marian', 13130), ('ace', 13131), (\"mumu's\", 13132), ('dolor', 13133), ('sophia', 13134), ('loren', 13135), ('touring', 13136), ('museums', 13137), ('churches', 13138), ('tattoos', 13139), ('hugh', 13140), ('blossoming', 13141), ('tic', 13142), ('embedded', 13143), ('strides', 13144), ('silks', 13145), ('bamboo', 13146), ('panky', 13147), ('xxi', 13148), ('toasting', 13149), ('pho', 13150), ('nick', 13151), ('defe', 13152), ('matchy', 13153), ('cleo', 13154), ('jumsuit', 13155), ('momish', 13156), ('soup', 13157), ('ican', 13158), ('rehersal', 13159), ('answe', 13160), ('sandstripe', 13161), (\"your'e\", 13162), ('fiddly', 13163), ('spreads', 13164), ('throught', 13165), ('theoretically', 13166), ('cya', 13167), ('arrange', 13168), ('ridge', 13169), ('shorebird', 13170), ('shlumpy', 13171), ('purposefully', 13172), ('haystack', 13173), ('diagnol', 13174), ('fights', 13175), ('thickeness', 13176), ('368', 13177), ('edgey', 13178), ('lai', 13179), (\"grandmother's\", 13180), ('marin', 13181), ('likea', 13182), ('har', 13183), ('dtime', 13184), ('peites', 13185), ('registry', 13186), ('reeeeally', 13187), ('grrrrr8', 13188), ('exa', 13189), ('manufactures', 13190), ('enables', 13191), ('leggier', 13192), ('easilly', 13193), ('crawling', 13194), ('darby', 13195), ('uplifted', 13196), ('thum', 13197), ('destructed', 13198), ('clumsy', 13199), ('thirst', 13200), ('bloomsbury', 13201), ('tiokeep', 13202), ('caroline', 13203), ('sizing\\r', 13204), ('attack', 13205), ('merlot', 13206), ('perspiration', 13207), ('benea', 13208), ('sisz', 13209), ('sipped', 13210), ('loely', 13211), ('79', 13212), ('likded', 13213), (\"'one\", 13214), (\"colors'\", 13215), ('versi', 13216), ('quincy', 13217), ('iusually', 13218), ('otherwse', 13219), ('inever', 13220), ('size4', 13221), ('necessitated', 13222), ('paned', 13223), ('63', 13224), ('modernized', 13225), ('revie', 13226), ('turend', 13227), ('thanskgiving', 13228), ('blou', 13229), ('refgular', 13230), ('strectchy', 13231), ('stiched', 13232), ('ucan', 13233), ('adjsut', 13234), ('tk', 13235), ('quadruplets', 13236), ('na', 13237), ('nightgowns', 13238), ('spongy', 13239), ('spurt', 13240), ('snapping', 13241), ('guffawed', 13242), ('implore', 13243), ('retailerpolog', 13244), ('oompaloompa', 13245), ('ghost', 13246), ('purchasi', 13247), ('folklore', 13248), (\"zoolander's\", 13249), ('derelict', 13250), ('campaign', 13251), ('repellar', 13252), ('liberating', 13253), ('stitc', 13254), ('flamingo', 13255), ('behave', 13256), ('yellower', 13257), ('hops', 13258), ('hist', 13259), ('interviewer', 13260), ('amnesty', 13261), ('contrasted', 13262), ('guarantees', 13263), ('vribant', 13264), ('welcoming', 13265), ('scree', 13266), ('stri', 13267), ('whack', 13268), ('9inches', 13269), ('scaled', 13270), ('proportionately', 13271), ('verstile', 13272), ('allways', 13273), (\"7's\", 13274), ('enlarging', 13275), ('dissapointment', 13276), ('formula', 13277), ('advertising', 13278), ('strech', 13279), ('emroidered', 13280), ('qualify', 13281), ('dice', 13282), ('32s', 13283), ('27tall', 13284), ('26tall', 13285), ('ageing', 13286), ('fast\\r', 13287), ('3hr', 13288), ('undnerneath', 13289), ('resounding', 13290), ('decid', 13291), ('pained', 13292), ('141', 13293), ('tucket', 13294), ('instea', 13295), ('spotty', 13296), ('chalked', 13297), ('saver', 13298), ('picro', 13299), ('discontinues', 13300), ('stability', 13301), ('washcloth', 13302), ('colorless', 13303), (\"don''t\", 13304), ('africa', 13305), ('chinolicious', 13306), ('pony', 13307), ('goody', 13308), ('boggling', 13309), ('anafa', 13310), ('nipping', 13311), ('lbds', 13312), ('uniqlo', 13313), ('airism', 13314), ('these\\r', 13315), ('acquiring', 13316), ('unproportioned', 13317), ('willa', 13318), ('flub', 13319), ('cadi', 13320), ('yippee', 13321), ('religious', 13322), (\"stylist's\", 13323), ('colsely', 13324), ('mentione', 13325), ('unbreathable', 13326), ('drug', 13327), ('stre', 13328), ('verses', 13329), ('elephants', 13330), ('upped', 13331), ('fortune', 13332), ('personalities', 13333), ('gabardia', 13334), ('lacausa', 13335), ('92', 13336), ('derriã©re', 13337), ('flavor', 13338), ('cervix', 13339), ('cartoonishly', 13340), ('wench', 13341), ('denying', 13342), ('unforgettable', 13343), ('snu', 13344), ('indulge', 13345), ('30aa', 13346), ('quasi', 13347), (\"lars'\", 13348), ('slighting', 13349), ('stunna', 13350), ('lust', 13351), ('greedy', 13352), ('losses', 13353), ('ken', 13354), ('alive', 13355), ('insist', 13356), (\"retailerpolgies'\", 13357), ('freshen', 13358), (\"44's\", 13359), ('instants', 13360), ('wuzzy', 13361), ('3inches', 13362), ('referring', 13363), ('graduated', 13364), ('photography', 13365), ('wiry', 13366), ('soucotache', 13367), ('handwork', 13368), ('expert', 13369), ('goldish', 13370), ('xxxxxs', 13371), ('exists', 13372), ('3xxxl', 13373), ('positions', 13374), ('cone', 13375), ('plusher', 13376), ('washa', 13377), ('hags', 13378), ('sentimental', 13379), ('anlobn', 13380), ('assist', 13381), ('musty', 13382), ('purrfect', 13383), ('denins', 13384), ('doenst', 13385), ('greyish', 13386), ('crowded', 13387), ('morocco', 13388), ('rehemmed', 13389), (\"'summer'\", 13390), ('fabled', 13391), (\"medium's\", 13392), ('indifferent', 13393), ('pommed', 13394), ('jutting', 13395), ('sfylish', 13396), ('wax', 13397), ('poetic', 13398), (\"'weather'\", 13399), ('salesclerk', 13400), ('poetry', 13401), ('fluevogs', 13402), ('festoon', 13403), ('granddaughter', 13404), ('proposed', 13405), ('browsed', 13406), ('faryl', 13407), ('cane', 13408), ('ithis', 13409), (\"they''d\", 13410), ('size10', 13411), ('rejected', 13412), ('howe', 13413), ('scenario', 13414), ('beac', 13415), ('puerto', 13416), ('rico', 13417), ('epice', 13418), ('wedged', 13419), ('mcpherson', 13420), ('waitband', 13421), ('energy', 13422), ('bookmarking', 13423), ('straightish', 13424), ('laidback', 13425), ('sacred', 13426), ('throws', 13427), ('coastal', 13428), ('testy', 13429), ('shimmying', 13430), ('whittle', 13431), ('overexposure', 13432), ('depend', 13433), ('thei', 13434), ('topics', 13435), ('pegged', 13436), ('98lbs', 13437), ('crowns', 13438), ('nifty', 13439), ('has\\r', 13440), ('as\\r', 13441), ('hipefully', 13442), ('wuality', 13443), ('central', 13444), ('burning', 13445), ('densest', 13446), ('cunning', 13447), ('loreley', 13448), ('someway', 13449), ('lilka', 13450), ('straightened', 13451), ('pyjama', 13452), ('disturb', 13453), ('inwonderland', 13454), ('hesitancy', 13455), ('uploaded', 13456), ('birdy', 13457), ('domitly', 13458), ('hairy', 13459), ('practicing', 13460), ('hairs', 13461), ('actively', 13462), ('pup', 13463), ('lovingly', 13464), (\"shoulder'd\", 13465), ('demosilles', 13466), ('incorporates', 13467), ('riley', 13468), ('asthetic', 13469), ('kil', 13470), ('ergo', 13471), ('harsher', 13472), ('complex', 13473), ('choosi', 13474), ('patient', 13475), ('atrociously', 13476), ('bravely', 13477), ('traditionally', 13478), ('qualifier', 13479), ('anthletic', 13480), ('tendencies', 13481), ('teksture', 13482), ('elswhere', 13483), ('elliot', 13484), ('cecilia', 13485), ('floraknit', 13486), ('linguini', 13487), ('hel', 13488), ('fabiric', 13489), ('sleveless', 13490), ('garmet', 13491), ('sub', 13492), ('fauna', 13493), ('houses', 13494), ('ireland', 13495), ('30inch', 13496), (\"130'\", 13497), (\"5''6'\", 13498), ('naps', 13499), ('itt', 13500), ('bike', 13501), ('feign', 13502), ('athleticism', 13503), ('modelesque', 13504), ('consequences', 13505), ('minuses', 13506), ('bendy', 13507), ('wouldn', 13508), ('insane', 13509), ('bares', 13510), ('deliberating', 13511), ('soooooooo', 13512), ('doen', 13513), ('mephistos', 13514), ('tthis', 13515), ('estimating', 13516), ('classiest', 13517), (\"passe'\", 13518), ('conflicts', 13519), ('once\\r', 13520), ('at\\r', 13521), ('monotony', 13522), ('deconstructs', 13523), ('hangups', 13524), ('uo', 13525), ('28r', 13526), ('ev', 13527), ('probable', 13528), ('christmastime', 13529), ('mumsy', 13530), ('chief', 13531), ('bouse', 13532), ('machines', 13533), ('wih', 13534), ('alpinia', 13535), (\"whatever's\", 13536), ('adorably', 13537), ('eccentric', 13538), ('boxer', 13539), ('volition', 13540), ('fetching', 13541), ('filthy', 13542), ('fearing', 13543), ('belia', 13544), ('disheveled', 13545), ('centers', 13546), ('moomoo', 13547), ('pinup', 13548), ('tod', 13549), ('eleveness', 13550), ('santuary', 13551), ('ahe', 13552), ('clack', 13553), ('resemblance', 13554), ('bmeant', 13555), ('ljsut', 13556), ('overwearing', 13557), ('scandelously', 13558), ('swishier', 13559), ('chintzy', 13560), ('coverages', 13561), ('docked', 13562), ('picure', 13563), ('peac', 13564), (\"reese's\", 13565), ('iconic', 13566), ('ashamed', 13567), ('bombers', 13568), ('cutr', 13569), ('rescue', 13570), ('conversely', 13571), ('served', 13572), ('outsized', 13573), (\"'floppy'\", 13574), (\"'sack\", 13575), ('125b', 13576), ('sinches', 13577), ('gonga', 13578), ('reveive', 13579), ('imlove', 13580), ('perks', 13581), ('heavens', 13582), ('nail', 13583), ('retailerplogy', 13584), ('showcasing', 13585), ('irritable', 13586), ('stetchy', 13587), ('asylum', 13588), ('gloomy', 13589), ('foret', 13590), ('lucsiously', 13591), ('annoy', 13592), ('middi', 13593), ('completly', 13594), ('oppressive', 13595), ('lug', 13596), ('antrhopologie', 13597), ('especailly', 13598), ('hourglasses', 13599), ('fortuny', 13600), ('peeves', 13601), ('compromised', 13602), ('whispered', 13603), ('dramaticly', 13604), (\"naomi's\", 13605), ('taza', 13606), ('construc', 13607), ('dynam', 13608), ('zowie', 13609), ('format', 13610), ('wasting', 13611), ('ivories', 13612), ('creams', 13613), ('childsize', 13614), ('colwyn', 13615), ('leads', 13616), ('conundrum', 13617), ('depressing', 13618), ('hoiday', 13619), ('plesantly', 13620), ('taffita', 13621), ('foil', 13622), ('withstood', 13623), (\"33's\", 13624), ('discarded', 13625), ('whyyyyyyyyyyy', 13626), ('4l', 13627), ('creature', 13628), ('comforts', 13629), ('comnfortable', 13630), ('liatris', 13631), ('12th', 13632), ('dial', 13633), ('1990', 13634), ('apocolypse', 13635), ('imminent', 13636), ('ankl', 13637), ('feat', 13638), ('1994', 13639), ('freshman', 13640), ('highschool', 13641), ('dusted', 13642), ('rachel', 13643), ('sz12', 13644), ('creeping', 13645), ('maternit', 13646), ('larg', 13647), ('40yo', 13648), ('surprisngly', 13649), ('tightish', 13650), ('retire', 13651), (\"sleeves'\", 13652), ('deff', 13653), ('slouches', 13654), ('insta', 13655), ('beautifull', 13656), ('layover', 13657), ('experie', 13658), ('gunmetal', 13659), ('beacheress', 13660), ('recover', 13661), ('chokes', 13662), ('jodhpurs', 13663), ('miserable', 13664), ('islander', 13665), ('concentrates', 13666), ('beauttiful', 13667), ('slumps', 13668), ('glinting', 13669), ('leaflets', 13670), ('lovelies', 13671), ('gorgous', 13672), ('restore', 13673), ('cheesy', 13674), ('minorly', 13675), ('kitschy', 13676), ('googling', 13677), ('tsp', 13678), ('conditioner', 13679), ('yer', 13680), ('haul', 13681), (\"wren't\", 13682), ('pressure', 13683), ('redyed', 13684), ('substandard', 13685), ('dimple', 13686), ('maintena', 13687), ('sheed', 13688), ('sternum', 13689), ('understandable', 13690), ('trading', 13691), ('immaculate', 13692), ('monthe', 13693), ('abut', 13694), ('intrinsic', 13695), ('attracts', 13696), ('shrinking\\r', 13697), ('touted', 13698), ('wells', 13699), ('loc', 13700), ('singer', 13701), ('performance', 13702), ('reflex', 13703), ('suppre', 13704), ('hovering', 13705), ('topnotch', 13706), ('abnormal', 13707), ('tri', 13708), ('topping', 13709), ('blouse\\r', 13710), ('hor', 13711), ('overbeari', 13712), ('conceptually', 13713), ('softening', 13714), ('sheik', 13715), ('photographer', 13716), ('dits', 13717), ('wimpy', 13718), ('biit', 13719), ('shuffle', 13720), ('cozily', 13721), (\"world's\", 13722), ('cars', 13723), ('chamois', 13724), ('shammy', 13725), ('blousier', 13726), ('transpa', 13727), ('reef', 13728), ('explaining', 13729), ('chairs', 13730), ('cur', 13731), ('cellular', 13732), ('injury', 13733), ('lenth', 13734), ('6s', 13735), ('bejeweled', 13736), ('wayyyyy', 13737), ('hundo', 13738), (\"product's\", 13739), ('ewwww', 13740), ('waistbands', 13741), ('counterbalance', 13742), ('chestiness', 13743), ('fattiness', 13744), ('101', 13745), ('concealing', 13746), ('roman', 13747), ('cosplay', 13748), ('hoochie', 13749), ('mamma', 13750), ('weeding', 13751), ('yielded', 13752), ('combi', 13753), ('flamboyant', 13754), ('angela', 13755), ('tv', 13756), ('consists', 13757), ('controls', 13758), ('uncured', 13759), ('airier', 13760), ('caz', 13761), ('gooooorgeous', 13762), ('04', 13763), ('06', 13764), ('surmountable', 13765), ('benefits', 13766), ('loos', 13767), ('cringing', 13768), ('deba', 13769), ('disco', 13770), ('hight', 13771), ('lessened', 13772), ('paneling', 13773), ('robs', 13774), ('relly', 13775), (\"daughter'\", 13776), ('beautifullllll', 13777), ('netted', 13778), ('hps', 13779), ('grading', 13780), ('tryi', 13781), ('lackadaisical', 13782), ('boxines', 13783), (\"'rope'\", 13784), ('cardig', 13785), ('raining', 13786), ('jules', 13787), ('nyt', 13788), ('reto', 13789), ('stinkin', 13790), ('inadvertently', 13791), ('focuses', 13792), ('raggy', 13793), ('p8', 13794), ('racy', 13795), ('resources', 13796), ('fuscia', 13797), ('purpleish', 13798), ('peony', 13799), ('environs', 13800), ('35x27x36', 13801), ('builder', 13802), ('complemented', 13803), ('demands', 13804), ('yourselves', 13805), ('flory', 13806), ('presentable', 13807), ('rig', 13808), (\"'5\", 13809), ('cury', 13810), ('uiu', 13811), ('beautifullly', 13812), ('indiscretions', 13813), ('wilted', 13814), ('avery', 13815), ('sampler', 13816), ('deligthfully', 13817), ('hallmarks', 13818), ('cosmetic', 13819), ('downwards', 13820), (\"'shear\", 13821), ('6t', 13822), ('carefull', 13823), ('qual', 13824), ('managing', 13825), ('corpse', 13826), ('tbu', 13827), ('hite', 13828), ('tot', 13829), (\"'t'\", 13830), ('seaso', 13831), ('subway', 13832), ('bench', 13833), ('shingles', 13834), ('instore', 13835), (\"'railroad\", 13836), (\"tracks'\", 13837), ('nominal', 13838), ('ruffl', 13839), ('gravely', 13840), ('preshrunk', 13841), ('evocative', 13842), ('wowser', 13843), (\"36d's\", 13844), ('procrastinate', 13845), ('illustrations', 13846), ('outfitting', 13847), ('wanderlust', 13848), ('gifting', 13849), ('blunt', 13850), ('450', 13851), ('bulkly', 13852), ('cacoon', 13853), ('pouching', 13854), ('jaclket', 13855), (\"'honey\", 13856), (\"slip'\", 13857), ('ballooning', 13858), ('cocoony', 13859), ('vividly', 13860), ('pining', 13861), ('dwarfed', 13862), ('enveloped', 13863), ('catog', 13864), ('448', 13865), ('issued', 13866), ('whispering', 13867), ('wisteria', 13868), ('beefier', 13869), ('blus', 13870), ('seafoam', 13871), (\"'pockets'\", 13872), ('onlin', 13873), ('jsutice', 13874), ('percect', 13875), ('yfit', 13876), ('styllsit', 13877), ('insiting', 13878), ('lstretch', 13879), ('shal', 13880), ('poooofffy', 13881), ('frmae', 13882), ('playfully', 13883), ('ext', 13884), ('streaking', 13885), ('spinning', 13886), ('airflow', 13887), ('bunnies', 13888), (\"other's\", 13889), (\"there'no\", 13890), ('sillier', 13891), ('drumstick', 13892), ('ordinar', 13893), ('30b', 13894), ('calming', 13895), ('visitors', 13896), ('ansy', 13897), ('confuse', 13898), ('tobacco', 13899), ('bhldn', 13900), ('reception', 13901), ('artistically', 13902), (\"'blue'\", 13903), ('angels', 13904), ('angelinas', 13905), ('pooched', 13906), ('prepregcy', 13907), ('vanja', 13908), ('wht', 13909), ('ranchers', 13910), ('stylewise', 13911), ('graciously', 13912), ('enclosed', 13913), ('embroider', 13914), ('plico', 13915), ('righter', 13916), ('gargantuan', 13917), ('grips', 13918), ('voice', 13919), ('vix', 13920), ('stickers', 13921), ('reticketed', 13922), (\"'girls'\", 13923), (\"i'lll\", 13924), ('suprise', 13925), ('captivated', 13926), ('nike', 13927), ('radiant', 13928), ('slumpy', 13929), ('realistically', 13930), ('thongs', 13931), ('accounts', 13932), ('reacts', 13933), ('loro', 13934), ('piana', 13935), ('ticks', 13936), (\"'sunless\", 13937), ('skies', 13938), (\"shift'\", 13939), ('nat', 13940), ('pouffier', 13941), ('toppers', 13942), ('inwards', 13943), ('unders', 13944), ('taylor', 13945), ('observed', 13946), ('humiliated', 13947), ('salesgirls', 13948), ('installing', 13949), ('consuming', 13950), ('tween', 13951), ('layi', 13952), ('122lb', 13953), (\"'closet\", 13954), (\"sitter'\", 13955), ('wowsa', 13956), ('intimate', 13957), ('unto', 13958), ('lobster', 13959), (\"'bubble\", 13960), (\"butt'\", 13961), ('loosed', 13962), ('shirting', 13963), ('webbing', 13964), ('10mths', 13965), ('vi', 13966), ('beginnings', 13967), ('delish', 13968), ('petted', 13969), ('theighs', 13970), ('corny', 13971), ('fields', 13972), ('proud', 13973), ('reshipped', 13974), ('smidgen', 13975), ('fluffiness', 13976), ('strangled', 13977), ('accompanies', 13978), ('03dd', 13979), ('acquisition', 13980), ('gameday', 13981), ('ambitious', 13982), ('attic', 13983), ('0xs', 13984), ('tests', 13985), ('fluffs', 13986), ('transcends', 13987), ('unattached', 13988), ('embroid', 13989), ('baskets', 13990), ('panniers', 13991), ('comfortable\\r', 13992), ('casualties', 13993), ('expedited', 13994), ('insides', 13995), ('corer', 13996), ('opaqueness', 13997), ('askedher', 13998), (\"dones't\", 13999), ('nonte', 14000), ('locally', 14001), ('wardrobes', 14002), ('produces', 14003), (\"mightn't\", 14004), ('mola', 14005), (\"spring's\", 14006), ('poked', 14007), ('disadvantage', 14008), (\"'true\", 14009), (\"size'\", 14010), ('exteemely', 14011), ('dual', 14012), ('clas', 14013), ('hone', 14014), ('itried', 14015), ('keeo', 14016), ('deresses', 14017), ('commet', 14018), ('lifelong', 14019), ('bathed', 14020), ('impresssionistic', 14021), ('suspicion', 14022), ('contest', 14023), ('murkier', 14024), ('smokey', 14025), ('discerning', 14026), ('then\\r', 14027), ('legs\\r', 14028), ('cerise', 14029), ('sustainably', 14030), ('ghana', 14031), ('responsibly', 14032), ('drapy', 14033), ('pilcto', 14034), ('puckery', 14035), ('38dds', 14036), ('f21', 14037), ('horrific', 14038), (\"part's\", 14039), ('bulking', 14040), ('10l', 14041), ('bs', 14042), ('monroe', 14043), ('rage', 14044), ('modcloth', 14045), ('20x', 14046), ('amber', 14047), ('fillerup', 14048), ('clark', 14049), ('mono', 14050), ('kini', 14051), ('inferior', 14052), ('sava', 14053), ('doomed', 14054), ('gate', 14055), ('splashed', 14056), ('startled', 14057), ('happiness', 14058), ('splashy', 14059), ('numeric', 14060), ('swimmingly', 14061), ('joked', 14062), ('wars', 14063), ('rotating', 14064), ('bodied', 14065), ('comp', 14066), ('uch', 14067), ('materil', 14068), ('ocol', 14069), ('itlooks', 14070), ('farmhand', 14071), ('zombie', 14072), ('swanky', 14073), ('consumed', 14074), ('shortedr', 14075), (\"g's\", 14076), ('pessimist', 14077), ('nothings', 14078), ('tuc', 14079), ('picturing', 14080), ('snaggariffic', 14081), ('wisely', 14082), ('benefitted', 14083), ('christening', 14084), (\"'dressed\", 14085), (\"'dressing\", 14086), (\"down'\", 14087), ('alert', 14088), ('appetite', 14089), (\"print's\", 14090), ('toenails', 14091), ('pierce', 14092), ('spa', 14093), ('garter', 14094), ('mourn', 14095), ('xsp\\r', 14096), ('xxs\\r', 14097), ('xxsp\\r', 14098), ('evaluate', 14099), ('checkers', 14100), ('grams', 14101), ('readily', 14102), ('choppy', 14103), ('repurpose', 14104), ('accumulate', 14105), ('zara', 14106), ('copy', 14107), ('sierra', 14108), ('mishap', 14109), ('beating', 14110), ('batty', 14111), ('genuinely', 14112), ('buys', 14113), ('nabbed', 14114), ('billowly', 14115), ('wetting', 14116), ('tipping', 14117), ('deails', 14118), ('kuddos', 14119), ('puella', 14120), ('flexibly', 14121), ('objection', 14122), ('smelling', 14123), ('gasoline', 14124), ('aubergine', 14125), ('demential', 14126), ('bagger', 14127), ('hare', 14128), ('hallway', 14129), ('sto', 14130), ('recommemd', 14131), ('wretched', 14132), ('passable', 14133), ('incentive', 14134), ('pushers', 14135), ('fiend', 14136), ('mavis', 14137), ('briar', 14138), ('ml', 14139), ('dalls', 14140), ('seychelles', 14141), ('fusing', 14142), ('airline', 14143), ('jess', 14144), ('condensation', 14145), ('drips', 14146), ('tabby', 14147), ('breezie', 14148), ('coobies', 14149), ('tangl', 14150), ('orderin', 14151), ('bravo', 14152), ('beauitiful', 14153), ('yore', 14154), ('92lbs', 14155), ('deserving', 14156), ('crystals', 14157), ('cherish', 14158), ('thinkng', 14159), ('pets', 14160), (\"haven'\", 14161), ('christmas1', 14162), ('mediu', 14163), ('rinestones', 14164), ('onwearing', 14165), ('citrus', 14166), ('extremes', 14167), ('nela', 14168), ('caccoon', 14169), ('veille', 14170), ('sausages', 14171), ('lrg', 14172), ('meandered', 14173), ('mortar', 14174), ('cna', 14175), ('eyelits', 14176), ('notfor', 14177), ('a9dn', 14178), ('sizw', 14179), ('bonfire', 14180), ('approachable', 14181), ('sec', 14182), ('tournament', 14183), ('hack', 14184), ('fairness', 14185), ('frumpier', 14186), ('2inches', 14187), ('whey', 14188), ('absorbent', 14189), ('goodbye', 14190), ('mischievous', 14191), ('lounger', 14192), ('terrace', 14193), ('3c', 14194), ('ehh', 14195), ('delettas', 14196), ('teaser', 14197), ('revisit', 14198), ('tact', 14199), ('fluffier', 14200), ('wall', 14201), ('goodthing', 14202), ('overal', 14203), ('returrn', 14204), ('perso', 14205), ('pastries', 14206), ('continuing', 14207), ('escape', 14208), ('starring', 14209), ('noir', 14210), ('specifies', 14211), ('witches', 14212), ('leapt', 14213), (\"e'mail\", 14214), ('incr', 14215), ('warmest', 14216), ('repacked', 14217), ('tentative', 14218), ('100lb', 14219), ('contra', 14220), ('discrepency', 14221), ('throwaway', 14222), ('armhoes', 14223), ('birks', 14224), ('shotgun', 14225), ('rented', 14226), ('carrot', 14227), ('teardrop', 14228), ('cheapest', 14229), ('exhausting', 14230), ('marathoner', 14231), ('guidance', 14232), ('portrait', 14233), ('mou', 14234), ('sickly', 14235), ('gunny', 14236), ('sax', 14237), ('ecause', 14238), ('miley', 14239), ('cirus', 14240), ('exp', 14241), ('stopping', 14242), ('huey', 14243), ('bip', 14244), ('indicative', 14245), ('bailley', 14246), ('biking', 14247), ('minny', 14248), ('wonderul', 14249), ('sore', 14250), ('manipulating', 14251), ('narrowis', 14252), ('bypassed', 14253), ('lighweight', 14254), ('reins', 14255), ('bloop', 14256), ('squirrel', 14257), ('rogers', 14258), ('soared', 14259), ('curating', 14260), ('freestyle', 14261), ('rechecking', 14262), ('ehhhh', 14263), ('grill', 14264), ('immediatley', 14265), ('amaz', 14266), ('sweeter', 14267), (\"'body'\", 14268), ('official', 14269), ('157', 14270), ('senitive', 14271), ('approprialty', 14272), ('crumply', 14273), ('headwaters', 14274), ('seychelle', 14275), ('colorsblocking', 14276), ('falters', 14277), ('massaged', 14278), ('photoshop', 14279), (\"3000's\", 14280), ('11and', 14281), ('tendd', 14282), ('midwe', 14283), ('stair', 14284), ('hum', 14285), (\"who'd\", 14286), ('curvaceous', 14287), ('disposed', 14288), (\"designer's\", 14289), ('neccissarily', 14290), ('starts\\r', 14291), ('givinng', 14292), (\"dnd't\", 14293), ('robins', 14294), ('tennessee', 14295), ('messes', 14296), ('nubbed', 14297), ('spruced', 14298), ('immature', 14299), ('fai', 14300), ('hoisting', 14301), ('racetrack', 14302), (\"'pedal\", 14303), (\"pushers'\", 14304), (\"'cropped'\", 14305), ('anticpated', 14306), ('blotches', 14307), ('craftsman', 14308), ('unravelling', 14309), ('antropologie', 14310), ('austin', 14311), ('nerves', 14312), ('canadian', 14313), ('graces', 14314), ('headache', 14315), ('lure', 14316), ('invaluable', 14317), ('1970', 14318), ('revieved', 14319), ('actuallly', 14320), ('hopefulluy', 14321), ('enjoyment', 14322), ('torquoise', 14323), ('likee', 14324), ('anchors', 14325), (\"don'tr\", 14326), ('btohered', 14327), ('ewre', 14328), ('thopugh', 14329), ('kleep', 14330), ('especiall', 14331), ('searing', 14332), ('whine', 14333), ('component', 14334), ('swiftly', 14335), ('memorial', 14336), ('thighness', 14337), ('lanka', 14338), ('flaiir', 14339), ('mere', 14340), ('claiming', 14341), ('naughty', 14342), ('flail', 14343), ('brilliantly', 14344), ('filigree', 14345), (\"tank's\", 14346), ('tanl', 14347), ('bridging', 14348), ('liberation', 14349), ('repairing', 14350), ('wicks', 14351), ('boodie', 14352), ('kee', 14353), ('prioritized', 14354), ('placements', 14355), ('coutour', 14356), ('wrardrobe', 14357), ('portray', 14358), ('cracking', 14359), ('59', 14360), ('bity', 14361), ('embroiderer', 14362), ('qualms', 14363), ('relentless', 14364), ('phd', 14365), ('bejewels', 14366), ('orginially', 14367), ('palced', 14368), ('appropirate', 14369), ('opinion0', 14370), ('worsk', 14371), ('dreses', 14372), ('neitral', 14373), ('complementing', 14374), ('terrifically', 14375), ('limbed', 14376), (\"36'\", 14377), ('sweeping', 14378), ('pigmented', 14379), ('assures', 14380), ('factoring', 14381), ('daybreak', 14382), ('casula', 14383), ('gorilla', 14384), ('5stars', 14385), ('petiite', 14386), ('crunchy', 14387), ('moonscape', 14388), ('uncomplicated', 14389), ('dose', 14390), ('travelling', 14391), ('halterneck', 14392), ('skylar', 14393), ('predicted', 14394), ('inclination', 14395), ('tt', 14396), ('abck', 14397), ('engulfed', 14398), ('silkiness', 14399), ('whereof', 14400), ('enlarges', 14401), ('pouff', 14402), ('advising', 14403), ('stinning', 14404), ('smashed', 14405), ('neverth', 14406), ('exercises', 14407), ('bhanuni', 14408), ('craves', 14409), ('labels', 14410), ('commissioned', 14411), ('decorating', 14412), (\"'oversized'\", 14413), ('alls', 14414), ('addressed', 14415), ('earnings', 14416), ('datetop', 14417), ('wiskering', 14418), ('buttercup', 14419), (\"'lacy'\", 14420), ('miffed', 14421), ('glitch', 14422), ('satisfi', 14423), ('idid', 14424), ('cameo', 14425), ('brooch', 14426), ('whiskered', 14427), ('currant', 14428), ('brigh', 14429), ('pleaser', 14430), ('anothe', 14431), ('shoulder\\r', 14432), ('tomboy', 14433), ('earrin', 14434), ('attraction', 14435), ('cough', 14436), ('flexors', 14437), ('nudist', 14438), ('typi', 14439), ('25th', 14440), ('wetsuit', 14441), ('fawcett', 14442), ('scouting', 14443), ('bettors', 14444), ('peche', 14445), ('masquerade', 14446), ('comjfortable', 14447), ('fastener', 14448), ('numbered', 14449), (\"'online\", 14450), (\"exclusive'\", 14451), ('notation', 14452), ('teared', 14453), ('awed', 14454), ('greatcsweater', 14455), ('snatc', 14456), ('ranged', 14457), ('hyperhidrosis', 14458), ('fluidity', 14459), ('versatille', 14460), ('av', 14461), ('shoulda', 14462), ('imp', 14463), ('fatale', 14464), ('mannikin', 14465), ('finalized', 14466), (\"'off'\", 14467), ('showpiece', 14468), ('blew', 14469), ('isth', 14470), ('predomitly', 14471), ('canton', 14472), ('taping', 14473), ('nary', 14474), ('enoug', 14475), ('advertise', 14476), ('lingere', 14477), ('thinne', 14478), (\"'side\", 14479), (\"armpit'\", 14480), ('turqoise', 14481), (\"5'130lbs\", 14482), ('cub', 14483), (\"doesn't'\", 14484), ('tech', 14485), ('174', 14486), ('brightening', 14487), ('lite', 14488), ('smurf', 14489), ('adirondacks', 14490), ('commets', 14491), ('nline', 14492), ('flaterring', 14493), ('rebviews', 14494), ('enticed', 14495), ('displaying', 14496), ('sllm', 14497), ('freebird', 14498), ('cecelia', 14499), ('sealed', 14500), ('pocketsi', 14501), ('complains', 14502), ('potentail', 14503), ('greatz', 14504), ('easiness', 14505), ('indul', 14506), ('upwards', 14507), ('supplied', 14508), ('judgment', 14509), ('classify', 14510), ('plague', 14511), ('yanking', 14512), ('cubanas', 14513), ('ciara', 14514), ('rush', 14515), ('editions', 14516), ('answered', 14517), ('prayers', 14518), ('varieties', 14519), ('adieu', 14520), ('permanently', 14521), ('wtih', 14522), ('loden', 14523), ('missouri', 14524), ('thro', 14525), ('throughou', 14526), ('backend', 14527), ('regal', 14528), ('harrison', 14529), ('ford', 14530), ('1988', 14531), ('smartly', 14532), ('container', 14533), (\"'slim\", 14534), (\"tailored'\", 14535), ('icecream', 14536), ('delicate\\r', 14537), ('weston', 14538), ('jewelery', 14539), ('mixe', 14540), ('fulfills', 14541), ('generaly', 14542), ('sen', 14543), ('jumps', 14544), ('void', 14545), ('lauzet', 14546), ('plethora', 14547), ('cinchers', 14548), ('tackle', 14549), ('hassles', 14550), ('surpise', 14551), ('bronzy', 14552), ('clusters', 14553), ('pumped', 14554), ('os', 14555), (\"ddind't\", 14556), ('beter', 14557), ('lcome', 14558), ('navy\\r', 14559), ('2000', 14560), (\"jacket'ish\", 14561), ('inconvenient', 14562), ('warns', 14563), ('sihrt', 14564), ('milan', 14565), (\"2's\", 14566), (\"models'\", 14567), (\"something's\", 14568), ('rega', 14569), ('beachside', 14570), ('circulates', 14571), ('inquiry', 14572), ('manella', 14573), ('centimeter', 14574), ('gumby', 14575), ('supermodel', 14576), ('asheville', 14577), ('13th', 14578), (\"merchants'\", 14579), ('websites', 14580), ('shelling', 14581), ('30percent', 14582), ('subset', 14583), ('nonsensical', 14584), ('goof', 14585), ('farrier', 14586), ('crossword', 14587), ('brilliance', 14588), ('downtown', 14589), ('contempos', 14590), ('cycl', 14591), ('pocketed', 14592), ('lightwe', 14593), ('elated', 14594), ('heartbreaker', 14595), ('femenine', 14596), ('crwal', 14597), ('fals', 14598), ('awkwards', 14599), ('pot', 14600), ('comfrtable', 14601), ('speaker', 14602), ('fundraising', 14603), ('homeless', 14604), ('abused', 14605), ('affluent', 14606), ('physical', 14607), ('heartfelt', 14608), ('inclusive', 14609), ('authenticity', 14610), ('encouragement', 14611), ('checkerboard', 14612), ('untanned', 14613), ('aggressively', 14614), ('lampshades', 14615), ('acknowledge', 14616), ('mixes', 14617), ('storage', 14618), (\"'stuck'\", 14619), ('beaufully', 14620), ('cheep', 14621), ('definelty', 14622), ('siamese', 14623), ('kittens', 14624), ('lovelove', 14625), ('falll', 14626), ('mismatching', 14627), ('canyon', 14628), ('poky', 14629), (\"'empty\", 14630), (\"nester'\", 14631), ('2035', 14632), ('accessorizer', 14633), ('prickling', 14634), ('arrangement', 14635), ('prev', 14636), ('carra', 14637), ('charente', 14638), ('gender', 14639), ('formalness', 14640), ('agustable', 14641), ('attributed', 14642), ('deduce', 14643), ('beautful', 14644), ('woop', 14645), ('refrain', 14646), ('sailing', 14647), ('linger', 14648), ('9lower', 14649), ('lbsm', 14650), ('nbut', 14651), ('rahter', 14652), ('grooves', 14653), ('forh', 14654), ('sculpted', 14655), ('kill', 14656), ('mainstream', 14657), ('neda', 14658), ('weightiness', 14659), ('ping', 14660), ('el', 14661), ('keel', 14662), ('riddled', 14663), ('unike', 14664), ('slinkiness', 14665), ('hammy', 14666), ('prominently', 14667), ('insubstantial', 14668), ('nred', 14669), ('ascetics', 14670), ('incomparable', 14671), (\"'just'\", 14672), (\"'digi\", 14673), ('aligning', 14674), ('fusible', 14675), ('interfacing', 14676), ('neatness', 14677), ('washi', 14678), ('people\\r', 14679), (\"junior's\", 14680), ('silouett', 14681), ('modification', 14682), ('thrille', 14683), ('shearliing', 14684), ('kilter', 14685), ('optic', 14686), ('tattooed', 14687), ('lovelyt', 14688), ('influence', 14689), ('enthusiasm', 14690), ('brazilian', 14691), ('428', 14692), ('highland', 14693), ('woodlands', 14694), ('employing', 14695), ('peasanty', 14696), ('possi', 14697), ('tyically', 14698), ('signed', 14699), ('informing', 14700), ('meredith', 14701), ('gemline', 14702), ('monkey', 14703), ('furthe', 14704), ('manicure', 14705), (\"i's\", 14706), ('sweatering', 14707), ('pesonal', 14708), ('hess', 14709), ('colorblind', 14710), ('dowton', 14711), ('flowwy', 14712), ('ragged', 14713), ('anyw', 14714), ('scattered', 14715), ('artistry', 14716), ('commercial', 14717), ('myers', 14718), ('dissippointment', 14719), ('damages', 14720), ('dissipointed', 14721), ('contemplated', 14722), ('indecisive', 14723), ('overt', 14724), ('reports', 14725), ('123lb', 14726), ('mastectomy', 14727), ('drains', 14728), ('strolled', 14729), ('accomplishment', 14730), ('princessy', 14731), ('spanned', 14732), ('tranquil', 14733), ('130l', 14734), ('hipbone', 14735), (\"the150's\", 14736), ('ottoman', 14737), ('neaten', 14738), ('arrow', 14739), ('buto', 14740), (\"sa's\", 14741), ('whisked', 14742), ('debuting', 14743), ('brother', 14744), ('weddingrehearsal', 14745), ('las', 14746), ('vegas', 14747), ('elasticised', 14748), ('fleur', 14749), ('kahki', 14750), ('spree', 14751), ('tow', 14752), ('stumps', 14753), ('discolor', 14754), ('sahm', 14755), ('predictable', 14756), ('shakes', 14757), ('clears', 14758), ('bustiest', 14759), ('linens', 14760), ('betwixt', 14761), ('birthed', 14762), ('birthing', 14763), ('crimplene', 14764), ('skylark', 14765), ('boooo', 14766), ('appliques', 14767), ('timy', 14768), ('beast', 14769), ('schedule', 14770), ('globs', 14771), ('chauvet', 14772), ('acrossed', 14773), ('sac', 14774), (\"harper's\", 14775), ('spiffy', 14776), (\"143lb's\", 14777), ('determining', 14778), ('lilitz', 14779), ('yak', 14780), ('whaa', 14781), ('ws', 14782), ('iwould', 14783), ('ehels', 14784), ('perhpas', 14785), ('frnt', 14786), ('paintings', 14787), ('nestled', 14788), ('keer', 14789), ('asters', 14790), ('satisfaction', 14791), ('crumple', 14792), ('springlike', 14793), ('hesitantly', 14794), ('smushed', 14795), ('weekday', 14796), ('cabo', 14797), ('fiery', 14798), ('conventional', 14799), ('shapelessly', 14800), ('experimenting', 14801), ('retailerplogie', 14802), ('crispy', 14803), ('sizeable', 14804), (\"26''\", 14805), ('dire', 14806), (\"yo'\", 14807), ('mentality', 14808), ('studious', 14809), ('owl', 14810), ('promises', 14811), ('apprehension', 14812), ('artists', 14813), ('verge', 14814), ('beefy', 14815), ('routinely', 14816), ('appropriateness', 14817), (\"heart's\", 14818), ('marala', 14819), ('strand', 14820), ('embarassingly', 14821), ('glimmery', 14822), ('valuable', 14823), ('wotb', 14824), ('magnify', 14825), ('retun', 14826), ('receptionist', 14827), (\"5's\", 14828), ('skews', 14829), ('normaly', 14830), ('looped', 14831), ('3was', 14832), ('jeunet', 14833), ('supah', 14834), ('glistening', 14835), ('ahh', 14836), ('harper', 14837), ('strestch', 14838), ('a0', 14839), ('shapel', 14840), ('deceive', 14841), ('silicon', 14842), ('sid', 14843), ('coating', 14844), ('blisters', 14845), (\"5''5\", 14846), ('perc', 14847), ('posting', 14848), ('cappier', 14849), ('hwr', 14850), ('sprinkled', 14851), ('fig', 14852), ('innie', 14853), ('outgoing', 14854), (\"cartonnier's\", 14855), ('knicker', 14856), ('teeshirt', 14857), ('frank', 14858), ('albert', 14859), ('fullish', 14860), ('propensity', 14861), ('teds', 14862), ('ehre', 14863), ('sling', 14864), ('pirchase', 14865), ('experimented', 14866), (\"'pull\", 14867), ('irritatingly', 14868), ('agitates', 14869), ('vacating', 14870), ('weer', 14871), (\"'charlie'\", 14872), ('diamonds', 14873), ('whew', 14874), ('redundant', 14875), ('chooses', 14876), ('154lbs', 14877), ('pizzaz', 14878), ('retailerpo', 14879), ('bane', 14880), ('existence', 14881), ('burdened', 14882), ('swollen', 14883), ('bubbling', 14884), ('ladi', 14885), ('georgia', 14886), ('assembled', 14887), ('soothing', 14888), ('retreat', 14889), ('gloves', 14890), ('posed', 14891), ('creater', 14892), ('28l', 14893), ('johns', 14894), ('mitif', 14895), ('reinforcements', 14896), ('dressied', 14897), ('demarcated', 14898), ('rooftop', 14899), ('piece\\r', 14900), (\"34g's\", 14901), ('gadget', 14902), ('sallow', 14903), ('mound', 14904), ('thorwback', 14905), ('xxxxs', 14906), ('timelessness', 14907), ('century', 14908), ('tuts', 14909), ('suite', 14910), ('hamstrings', 14911), ('accuracy', 14912), ('opposing', 14913), ('hifh', 14914), ('swath', 14915), ('marry', 14916), ('glams', 14917), ('contributing', 14918), ('mashups', 14919), ('entered', 14920), ('puzzling', 14921), ('conditionied', 14922), ('perches', 14923), ('feline', 14924), ('marine', 14925), ('dismayed', 14926), ('cracks', 14927), ('goi', 14928), ('forgettin', 14929), ('tmi', 14930), (\"good'ol\", 14931), ('rosette', 14932), ('afterthought', 14933), ('regu', 14934), ('naming', 14935), (\"'beware\", 14936), ('rounds', 14937), ('overtime', 14938), ('safari', 14939), ('galleria', 14940), ('vaired', 14941), ('additio', 14942), ('frompy', 14943), ('pig', 14944), ('expexted', 14945), ('companies', 14946), ('pictu', 14947), ('colters', 14948), ('objectionably', 14949), ('bohemain', 14950), ('meek', 14951), ('alternately', 14952), ('potbellied', 14953), ('skosh', 14954), ('friendliness', 14955), ('beatifully', 14956), ('flopped', 14957), ('tonal', 14958), ('saizing', 14959), ('peiople', 14960), ('cutis', 14961), ('forgivin', 14962), ('tushy', 14963), ('skiny', 14964), ('skimps', 14965), ('stills', 14966), ('commenters', 14967), ('balancing', 14968), ('definetely', 14969), ('expects', 14970), ('harbinger', 14971), ('burgundies', 14972), ('jessica', 14973), ('rabbit', 14974), ('lightening', 14975), ('1973', 14976), ('hesitent', 14977), ('shines', 14978), ('valentino', 14979), ('aplique', 14980), ('mansions', 14981), ('rhode', 14982), ('fruns', 14983), ('soooooooooooooo', 14984), ('oohs', 14985), ('aaaahs', 14986), (\"'flare'\", 14987), ('draft', 14988), ('kindly', 14989), ('untextured', 14990), (\"preschooler's\", 14991), ('sleeker', 14992), ('cascading', 14993), ('tiiny', 14994), ('craziest', 14995), ('149lbs', 14996), ('6\\r', 14997), ('htat', 14998), ('poc', 14999), ('30g', 15000), ('store\\r', 15001), ('lowness', 15002), ('pouffy', 15003), (\"cheerleader's\", 15004), ('rename', 15005), ('gazillion', 15006), ('rash', 15007), ('wering', 15008), ('whips', 15009), ('steadly', 15010), ('tooth', 15011), ('separated', 15012), ('comber', 15013), ('precise', 15014), ('withing', 15015), ('130b', 15016), ('smokes', 15017), ('justifying', 15018), ('standalone', 15019), ('fancies', 15020), ('sligh', 15021), ('itll', 15022), ('soles', 15023), ('goood', 15024), ('latetly', 15025), ('lists', 15026), ('instruct', 15027), ('shorted', 15028), ('pieties', 15029), ('concensus', 15030), ('218', 15031), ('reinforcing', 15032), ('invert', 15033), ('ingnore', 15034), ('itso', 15035), ('enjoyable', 15036), ('scandy', 15037), ('fleecy', 15038), ('homerun', 15039), ('breakthable', 15040), ('sought', 15041), ('longline', 15042), ('creppy', 15043), ('sabrina', 15044), ('ftt', 15045), (\"'2\", 15046), ('believer', 15047), ('treading', 15048), ('wiht6', 15049), ('apartment', 15050), ('clarification', 15051), ('corporate', 15052), ('teeter', 15053), ('commenting', 15054), ('begrudgingly', 15055), ('youthfull', 15056), ('overstitching', 15057), ('ribbbed', 15058), ('slapped', 15059), ('dickey', 15060), ('earl', 15061), ('offen', 15062), ('romier', 15063), ('sizze', 15064), ('hev', 15065), ('essentiel', 15066), ('antwerp', 15067), ('glassy', 15068), ('accordance', 15069), ('wok', 15070), ('suddently', 15071), ('boosh', 15072), (\"mean's\", 15073), ('misrepresent', 15074), ('aiming', 15075), ('exorbitant', 15076), ('charges', 15077), ('dol', 15078), ('spor', 15079), ('planted', 15080), ('navigate', 15081), ('louis', 15082), ('vuitton', 15083), ('homebase', 15084), ('strapped', 15085), ('scated', 15086), ('madeline', 15087), ('stories', 15088), (\"'car\", 15089), (\"coat'\", 15090), ('chores', 15091), (\"weather's\", 15092), ('splendor', 15093), ('wreaked', 15094), ('subsequent', 15095), ('bottomless', 15096), ('estimate', 15097), ('editing', 15098), ('passersby', 15099), ('misrepresents', 15100), ('warren', 15101), ('ang', 15102), (\"ty's\", 15103), ('recognizable', 15104), ('bcasue', 15105), ('anothr', 15106), ('proably', 15107), ('hydrogen', 15108), ('peroxide', 15109), ('toying', 15110), ('unsolvable', 15111), ('elected', 15112), ('furrowing', 15113), ('irradiates', 15114), ('slovak', 15115), ('oddest', 15116), ('discuss', 15117), ('pers', 15118), ('singly', 15119), ('leblon', 15120), ('atypical', 15121), ('decolltage', 15122), ('irks', 15123), ('lizard', 15124), ('frye', 15125), ('connector', 15126), ('sunnies', 15127), ('attempts', 15128), ('annoyingly', 15129), ('undefined', 15130), ('disappointedly', 15131), ('pacquerette', 15132), ('anwen', 15133), ('cris', 15134), ('butit', 15135), ('marvel', 15136), ('unqiue', 15137), ('riiiiiiiiiip', 15138), ('fleeced', 15139), ('tula', 15140), ('chestier', 15141), ('sanded', 15142), ('suport', 15143), (\"'re\", 15144), ('limned', 15145), ('strang', 15146), ('viewing', 15147), ('organ', 15148), ('organist', 15149), ('scratched', 15150), ('ironically', 15151), ('wicking', 15152), ('embroiderey', 15153), ('slone', 15154), ('rouge', 15155), ('readying', 15156), (\"o'\", 15157), (\"all'\", 15158), ('twiggy', 15159), ('broadness', 15160), ('cringed', 15161), ('112llbs', 15162), ('pret', 15163), ('aversion', 15164), ('underdress', 15165), ('blute', 15166), ('adventurous', 15167), ('ilove', 15168), ('nora', 15169), ('rap', 15170), ('imagin', 15171), ('snuggie', 15172), ('raspberries', 15173), ('odrdered', 15174), ('swaeter', 15175), ('diligent', 15176), ('pristine', 15177), ('concho', 15178), ('rasberry', 15179), ('alr', 15180), ('ginerva', 15181), ('familiar', 15182), ('practices', 15183), ('involve', 15184), ('gogo', 15185), ('utiful', 15186), ('116ibs', 15187), ('whihc', 15188), (\"havne't\", 15189), ('abruptly', 15190), ('buzz', 15191), ('bumble', 15192), ('looooong', 15193), ('izing', 15194), ('numero', 15195), ('uno', 15196), ('boogie', 15197), ('roars', 15198), ('2012', 15199), ('anita', 15200), ('dongre', 15201), ('graduations', 15202), ('cations', 15203), ('sufficiently', 15204), ('cinchable', 15205), ('big0', 15206), ('mw', 15207), ('orlando', 15208), ('divide', 15209), ('fins', 15210), ('220lbs', 15211), ('horticulture', 15212), ('core', 15213), ('cuten', 15214), ('unexciting', 15215), ('ladybugs', 15216), ('stunninng', 15217), ('toyed', 15218), ('1970s', 15219), ('inlet', 15220), ('secondhand', 15221), ('succumbed', 15222), ('temptation', 15223), ('melange', 15224), ('nonconsequential', 15225), ('exhausted', 15226), ('renamed', 15227), ('motiff', 15228), ('mistakenly', 15229), ('brocades', 15230), (\"0's\", 15231), ('memorials', 15232), ('honeybees', 15233), ('opacity', 15234), ('shown\\r', 15235), ('mist', 15236), ('sued', 15237), ('sian', 15238), ('canter', 15239), ('branded', 15240), ('rava', 15241), ('mainstreamed', 15242), ('linkages', 15243), ('flabbergasted', 15244), ('salespeople', 15245), ('yest', 15246), ('swishing', 15247), (\"'wear\", 15248), ('ocher', 15249), ('unbuttons', 15250), ('eclat', 15251), ('detsils', 15252), ('recomnend', 15253), ('dazzle', 15254), ('5mo', 15255), ('cycles', 15256), ('chlorine', 15257), ('pradollano', 15258), ('blurred', 15259), ('tints', 15260), ('updo', 15261), ('wanderer', 15262), ('sortof', 15263), ('warrent', 15264), ('nuetral', 15265), ('40c', 15266), ('adorn', 15267), ('snugged', 15268), ('scoured', 15269), ('defected', 15270), ('arr', 15271), ('retirement', 15272), ('jacksons', 15273), (\"i'l\", 15274), ('thera', 15275), ('bronzey', 15276), ('toothed', 15277), ('duplicated', 15278), ('unfasten', 15279), ('cau', 15280), ('afterall', 15281), ('cook', 15282), ('fateful', 15283), ('couples', 15284), ('suffocating', 15285), ('swingyness', 15286), ('groin', 15287), ('quire', 15288), ('hermosa', 15289), ('zuma', 15290), (\"seea's\", 15291), ('surfing', 15292), ('padd', 15293), ('pathetic', 15294), ('inaccurately', 15295), ('challange', 15296), ('mighty', 15297), ('meduim', 15298), ('bating', 15299), ('inconsistant', 15300), ('descided', 15301), ('instagr', 15302), ('struggles', 15303), ('import', 15304), ('silves', 15305), ('rigidity', 15306), ('volumnous', 15307), (\"'ride'\", 15308), ('unstretched', 15309), ('usuall', 15310), ('kindest', 15311), ('homemade', 15312), ('lovel', 15313), ('chelan', 15314), ('weighed', 15315), ('temperate', 15316), ('tkhe', 15317), ('cmpliments', 15318), (\"won'\", 15319), ('volu', 15320), ('slipper', 15321), ('grippies', 15322), ('tabs', 15323), ('bruises', 15324), ('ending', 15325), (\"wish'd\", 15326), ('rebought', 15327), ('nabbing', 15328), ('testament', 15329), ('28t', 15330), ('troubadour', 15331), ('pirces', 15332), ('nexl', 15333), ('pcture', 15334), ('pantless', 15335), ('relent', 15336), (\"stink'n\", 15337), ('roomies', 15338), ('combing', 15339), ('jaggedly', 15340), ('haphazardly', 15341), ('spoilers', 15342), ('traverse', 15343), ('oxford', 15344), ('rouched', 15345), ('doo', 15346), ('codes', 15347), ('spendy', 15348), ('withstanding', 15349), ('tensile', 15350), (\"they'\", 15351), ('maayyyyybe', 15352), ('polyes', 15353), ('receiv', 15354), ('am5', 15355), (\"'3\", 15356), ('been\\r', 15357), ('yoked', 15358), ('walnut', 15359), ('creek', 15360), ('storeroom', 15361), ('roared', 15362), ('kills', 15363), ('drags', 15364), ('yield', 15365), (\"40''\", 15366), ('yolk', 15367), ('admiration', 15368), ('objected', 15369), ('insufficient', 15370), (\"twinkle's\", 15371), ('coplaints', 15372), ('mauv', 15373), ('contract', 15374), (\"picture's\", 15375), ('fiends', 15376), ('pantyhose', 15377), ('inducing', 15378), ('peephole', 15379), ('chu', 15380), ('linking', 15381), ('33b', 15382), ('bett', 15383), ('daker', 15384), ('bottome', 15385), ('peitte', 15386), (\"donse't\", 15387), ('population', 15388), ('camoflauges', 15389), ('entrancing', 15390), ('blaring', 15391), ('platinum', 15392)])"
            ]
          },
          "metadata": {},
          "execution_count": 173
        }
      ]
    },
    {
      "cell_type": "markdown",
      "source": [
        "tokenizer.fit_on_texts(X) ve tokenizer.texts_to_sequences(X) iki farklı işlemi temsil eder ve farklı amaçlar taşır:\n",
        "\n",
        "tokenizer.fit_on_texts(X):\n",
        "\n",
        "Bu işlem, verilen metin verisi (X) üzerinden çalışır ve Tokenizer'ın içsel sözcük indekslerini oluşturur.\n",
        "Her kelimenin bir sayı ile eşleştirildiği bir sözlük oluşturur. Bu sözlük, metindeki her benzersiz kelimenin sayısal bir indeksi ile ilişkilendirilmesini sağlar.\n",
        "Bu işlem, Tokenizer'ın metindeki kelimeleri sayısal dizilere dönüştürmek için hangi indeksleri kullanacağını belirler.\n",
        "Genellikle, eğitim verisi üzerinde yapılır ve eğitim verisi içindeki tüm benzersiz kelimelerin Tokenizer tarafından tanınmasını sağlar.\n",
        "tokenizer.texts_to_sequences(X):\n",
        "\n",
        "Bu işlem, Tokenizer tarafından tanınan kelimeleri kullanarak verilen metin verisini sayısal dizilere dönüştürür.\n",
        "fit_on_texts(X) işlemi tamamlandıktan sonra kullanılabilir çünkü Tokenizer artık metindeki kelimeleri anlar.\n",
        "Her kelimeyi ilgili sayısal indeksiyle değiştirir ve her cümleyi veya metni sayısal dizilere dönüştürür.\n",
        "Bu işlem, metin verisini makine öğrenimi modellerine veya derin öğrenme modellerine beslemek için kullanılır.\n",
        "Özetle, fit_on_texts(X) Tokenizer'ın metindeki kelimeleri anlamasını sağlar, texts_to_sequences(X) ise Tokenizer tarafından tanınan kelimeleri kullanarak metin verisini sayısal dizilere dönüştürür. İkinci adımı gerçekleştirebilmek için önce birinci adımı tamamlamak gerekmektedir.\n",
        "\n",
        "\n",
        "\n",
        "\n",
        "\n"
      ],
      "metadata": {
        "id": "9Zzr9DtAS3r5"
      }
    },
    {
      "cell_type": "markdown",
      "source": [
        "## Converting tokens to numeric"
      ],
      "metadata": {
        "id": "1sENSxrzMP3J"
      }
    },
    {
      "cell_type": "code",
      "source": [
        "X_num_tokens = tokenizer.texts_to_sequences(X)   # TEXT IMI TOKENIZE IŞLEMİNE TABİ TUT."
      ],
      "metadata": {
        "id": "OL-LESXtMP3J",
        "execution": {
          "iopub.status.busy": "2024-02-20T11:17:49.442498Z",
          "iopub.execute_input": "2024-02-20T11:17:49.442839Z",
          "iopub.status.idle": "2024-02-20T11:17:50.127560Z",
          "shell.execute_reply.started": "2024-02-20T11:17:49.442810Z",
          "shell.execute_reply": "2024-02-20T11:17:50.126761Z"
        },
        "trusted": true
      },
      "execution_count": null,
      "outputs": []
    },
    {
      "cell_type": "markdown",
      "source": [
        "tokenizer.texts_to_sequences(X) kod satırı, bir metin verisini sayısal dizilere dönüştürmek için kullanılır. İşte bu kod satırının ne yaptığını adım adım açıklayalım:\n",
        "\n",
        "tokenizer: Önceden tanımlanmış bir Tokenizer nesnesi. Bu nesne, metin verisini dönüştürmek için kullanılan Tokenizer'dır.\n",
        "\n",
        "X: Dönüştürülmek istenen metin verisi. Bu metin verisi, bir liste veya bir dizi içinde bulunmalıdır. Her bir öğe, bir metin belgesini veya cümleyi temsil eder.\n",
        "\n",
        "tokenizer.texts_to_sequences(X): Bu metod, Tokenizer nesnesini kullanarak metin verisini sayısal dizilere dönüştürür. Her kelimenin veya tokenin (metindeki her bir öğenin) bir sayı ile temsil edildiği bir dizi oluşturur. Her kelime, bu dizide belirli bir sayısal değere sahiptir. Bu, metin verisini sayısal olarak temsil etmek için kullanışlıdır ve genellikle makine öğrenimi modellerine beslemek için gereklidir."
      ],
      "metadata": {
        "id": "1IJSv8P6S3r7"
      }
    },
    {
      "cell_type": "code",
      "source": [
        "#X_num_tokens"
      ],
      "metadata": {
        "trusted": true,
        "id": "OefA8SpWS3r8"
      },
      "execution_count": null,
      "outputs": []
    },
    {
      "cell_type": "code",
      "source": [
        "# 105. index comment\n",
        "X[105]"
      ],
      "metadata": {
        "colab": {
          "base_uri": "https://localhost:8080/",
          "height": 70
        },
        "id": "UR0ED18aMP3K",
        "outputId": "62f5999f-15ac-42c8-8316-baeaf5f20e14",
        "execution": {
          "iopub.status.busy": "2024-02-20T11:17:55.437392Z",
          "iopub.execute_input": "2024-02-20T11:17:55.438151Z",
          "iopub.status.idle": "2024-02-20T11:17:55.442863Z",
          "shell.execute_reply.started": "2024-02-20T11:17:55.438118Z",
          "shell.execute_reply": "2024-02-20T11:17:55.442240Z"
        },
        "trusted": true
      },
      "execution_count": null,
      "outputs": [
        {
          "output_type": "execute_result",
          "data": {
            "text/plain": [
              "'Perfect fall shirt! The shirt is exactly as it is pictured, i have the burnt orange color and love it! i received numerous compliments both paired with jeans and tucked into a fun skirt. it fits true to size, as i normally wear a small in all retailer however it is the slightest bit tight in the shoulders. i would give this top a 5/5.'"
            ],
            "application/vnd.google.colaboratory.intrinsic+json": {
              "type": "string"
            }
          },
          "metadata": {},
          "execution_count": 176
        }
      ]
    },
    {
      "cell_type": "code",
      "source": [
        "# 105. index token numbers\n",
        "print(X_num_tokens[105])  # burda sayı olarak tokenlere ayırıyor. ama her kelimenin sayısı yok ilk 15bin aldığımız için"
      ],
      "metadata": {
        "colab": {
          "base_uri": "https://localhost:8080/"
        },
        "id": "sFpOQBoqMP3K",
        "outputId": "4b4c61f8-d1f6-4fee-a37b-8d30c9b13cb4",
        "execution": {
          "iopub.status.busy": "2024-02-20T11:17:58.382865Z",
          "iopub.execute_input": "2024-02-20T11:17:58.383214Z",
          "iopub.status.idle": "2024-02-20T11:17:58.387363Z",
          "shell.execute_reply.started": "2024-02-20T11:17:58.383184Z",
          "shell.execute_reply": "2024-02-20T11:17:58.386717Z"
        },
        "trusted": true
      },
      "execution_count": null,
      "outputs": [
        {
          "output_type": "stream",
          "name": "stdout",
          "text": [
            "[49, 153, 71, 1, 71, 6, 480, 32, 5, 6, 358, 2, 25, 1, 1949, 493, 46, 3, 19, 5, 2, 251, 2241, 212, 199, 587, 14, 89, 3, 896, 326, 4, 209, 100, 5, 82, 132, 8, 22, 32, 2, 248, 33, 4, 42, 9, 76, 106, 149, 5, 6, 1, 2939, 80, 148, 9, 1, 203, 2, 43, 338, 7, 24, 4, 278, 278]\n"
          ]
        }
      ]
    },
    {
      "cell_type": "code",
      "source": [
        "#return index 1 matching word\n",
        "reverse_word_index = {index: word for word, index in tokenizer.word_index.items()}\n",
        "word = reverse_word_index[1]\n",
        "print(word)\n"
      ],
      "metadata": {
        "execution": {
          "iopub.status.busy": "2024-02-20T11:18:00.745914Z",
          "iopub.execute_input": "2024-02-20T11:18:00.746267Z",
          "iopub.status.idle": "2024-02-20T11:18:00.754427Z",
          "shell.execute_reply.started": "2024-02-20T11:18:00.746238Z",
          "shell.execute_reply": "2024-02-20T11:18:00.753663Z"
        },
        "trusted": true,
        "colab": {
          "base_uri": "https://localhost:8080/"
        },
        "id": "GQoVAMwoS3r-",
        "outputId": "19571c7b-75dd-4224-98c2-7655a8b67414"
      },
      "execution_count": null,
      "outputs": [
        {
          "output_type": "stream",
          "name": "stdout",
          "text": [
            "the\n"
          ]
        }
      ]
    },
    {
      "cell_type": "code",
      "source": [
        "\n",
        "reverse_word_index = {index: word for word, index in tokenizer.word_index.items()}\n",
        "word = reverse_word_index[1816]\n",
        "print(word)"
      ],
      "metadata": {
        "execution": {
          "iopub.status.busy": "2024-02-20T11:18:02.955295Z",
          "iopub.execute_input": "2024-02-20T11:18:02.955671Z",
          "iopub.status.idle": "2024-02-20T11:18:02.962543Z",
          "shell.execute_reply.started": "2024-02-20T11:18:02.955640Z",
          "shell.execute_reply": "2024-02-20T11:18:02.961787Z"
        },
        "trusted": true,
        "colab": {
          "base_uri": "https://localhost:8080/"
        },
        "id": "12Yr7g0bS3r_",
        "outputId": "d7b8e8c6-8222-4757-9ac5-074707b0c615"
      },
      "execution_count": null,
      "outputs": [
        {
          "output_type": "stream",
          "name": "stdout",
          "text": [
            "elegance\n"
          ]
        }
      ]
    },
    {
      "cell_type": "code",
      "source": [
        "len(X_num_tokens[105])"
      ],
      "metadata": {
        "colab": {
          "base_uri": "https://localhost:8080/"
        },
        "id": "h8qwAwEHMP3L",
        "outputId": "b555e77b-ea8d-4b66-c5fc-464ce06ad436",
        "execution": {
          "iopub.status.busy": "2024-02-20T11:06:25.901131Z",
          "iopub.execute_input": "2024-02-20T11:06:25.901779Z",
          "iopub.status.idle": "2024-02-20T11:06:25.907221Z",
          "shell.execute_reply.started": "2024-02-20T11:06:25.901745Z",
          "shell.execute_reply": "2024-02-20T11:06:25.906407Z"
        },
        "trusted": true
      },
      "execution_count": null,
      "outputs": [
        {
          "output_type": "execute_result",
          "data": {
            "text/plain": [
              "66"
            ]
          },
          "metadata": {},
          "execution_count": 180
        }
      ]
    },
    {
      "cell_type": "code",
      "source": [
        "len(X_num_tokens[106])"
      ],
      "metadata": {
        "colab": {
          "base_uri": "https://localhost:8080/"
        },
        "id": "1E-ySfDiMP3M",
        "outputId": "ef22b3a5-fb84-467e-db76-4d79ffba9a7e",
        "execution": {
          "iopub.status.busy": "2024-02-20T11:06:28.451804Z",
          "iopub.execute_input": "2024-02-20T11:06:28.452637Z",
          "iopub.status.idle": "2024-02-20T11:06:28.457212Z",
          "shell.execute_reply.started": "2024-02-20T11:06:28.452595Z",
          "shell.execute_reply": "2024-02-20T11:06:28.456602Z"
        },
        "trusted": true
      },
      "execution_count": null,
      "outputs": [
        {
          "output_type": "execute_result",
          "data": {
            "text/plain": [
              "7"
            ]
          },
          "metadata": {},
          "execution_count": 181
        }
      ]
    },
    {
      "cell_type": "code",
      "source": [
        "len(X_num_tokens[6150])"
      ],
      "metadata": {
        "colab": {
          "base_uri": "https://localhost:8080/"
        },
        "id": "mOQfFfutfMTn",
        "outputId": "79ca62f6-7e23-4f74-b83b-db05537539d7",
        "execution": {
          "iopub.status.busy": "2024-02-20T11:06:31.554021Z",
          "iopub.execute_input": "2024-02-20T11:06:31.554563Z",
          "iopub.status.idle": "2024-02-20T11:06:31.559203Z",
          "shell.execute_reply.started": "2024-02-20T11:06:31.554532Z",
          "shell.execute_reply": "2024-02-20T11:06:31.558336Z"
        },
        "trusted": true
      },
      "execution_count": null,
      "outputs": [
        {
          "output_type": "execute_result",
          "data": {
            "text/plain": [
              "13"
            ]
          },
          "metadata": {},
          "execution_count": 182
        }
      ]
    },
    {
      "cell_type": "markdown",
      "source": [
        "BÜTÜN YORUMLARDAKİ TOKENLERİN SAYISINI TESPİT ETMEK İÇİN:"
      ],
      "metadata": {
        "id": "JLBYQuUsS3sC"
      }
    },
    {
      "cell_type": "code",
      "source": [
        "num_tokens = [len(tokens) for tokens in X_num_tokens] # X_num_tokens deki (yorumlardaki) her bir tokeni al ve say...\n",
        "num_tokens = np.array(num_tokens)   # mean, max etc gibi işlemleri daha rahat yapabilmek için array a çevirdik."
      ],
      "metadata": {
        "id": "dp7-tP7MMP3M",
        "execution": {
          "iopub.status.busy": "2024-02-20T11:18:15.339123Z",
          "iopub.execute_input": "2024-02-20T11:18:15.339464Z",
          "iopub.status.idle": "2024-02-20T11:18:15.346933Z",
          "shell.execute_reply.started": "2024-02-20T11:18:15.339433Z",
          "shell.execute_reply": "2024-02-20T11:18:15.346285Z"
        },
        "trusted": true
      },
      "execution_count": null,
      "outputs": []
    },
    {
      "cell_type": "markdown",
      "source": [
        "Bu kod, bir metin veri kümesindeki her bir örneğin kelime sayısını hesaplamak için bir döngü kullanır ve ardından elde edilen sayıları bir NumPy dizisine dönüştürür.\n",
        "\n",
        "İşlevin adımları aşağıdaki şekildedir:\n",
        "\n",
        "num_tokens = [len(tokens) for tokens in X_num_tokens]: Bu döngü, X_num_tokens listesindeki her bir tokens öğesi için, len(tokens) ifadesini kullanarak o örnekteki kelime sayısını hesaplar. X_num_tokens bir liste olduğunu varsayalım ve her bir öğe bir metin belgesini tokenlara bölen bir işlem tarafından dönüştürülmüş bir token dizisidir.\n",
        "\n",
        "num_tokens = np.array(num_tokens): Hesaplanan kelime sayılarını içeren num_tokens listesini bir NumPy dizisine dönüştürmek için np.array() fonksiyonunu kullanır. Bu, sayıları daha kolay işlemek ve analiz etmek için NumPy'nin sunduğu işlevleri kullanabilmemizi sağlar.\n",
        "\n",
        "Sonuç olarak, bu kod parçası, metin veri kümesindeki her bir örneğin kelime sayısını hesaplar ve bu sayıları bir NumPy dizisine dönüştürür. Bu, örneklere ilişkin kelime sayılarını analiz etmek ve istatistiksel bilgileri hesaplamak için kullanılabilir."
      ],
      "metadata": {
        "id": "Bl7ocIA6S3sD"
      }
    },
    {
      "cell_type": "code",
      "source": [
        "num_tokens"
      ],
      "metadata": {
        "execution": {
          "iopub.status.busy": "2024-02-20T11:18:20.133472Z",
          "iopub.execute_input": "2024-02-20T11:18:20.134480Z",
          "iopub.status.idle": "2024-02-20T11:18:20.139599Z",
          "shell.execute_reply.started": "2024-02-20T11:18:20.134442Z",
          "shell.execute_reply": "2024-02-20T11:18:20.138893Z"
        },
        "trusted": true,
        "colab": {
          "base_uri": "https://localhost:8080/"
        },
        "id": "FrOt904FS3sE",
        "outputId": "4cb67c10-2383-45bd-c869-1de72d30b95a"
      },
      "execution_count": null,
      "outputs": [
        {
          "output_type": "execute_result",
          "data": {
            "text/plain": [
              "array([  7,  62, 101, ...,  46,  94,  24])"
            ]
          },
          "metadata": {},
          "execution_count": 184
        }
      ]
    },
    {
      "cell_type": "code",
      "source": [
        "random_sample = np.random.choice(num_tokens)\n",
        "\n",
        "print(random_sample)"
      ],
      "metadata": {
        "execution": {
          "iopub.status.busy": "2024-02-20T11:18:22.961947Z",
          "iopub.execute_input": "2024-02-20T11:18:22.963001Z",
          "iopub.status.idle": "2024-02-20T11:18:22.966879Z",
          "shell.execute_reply.started": "2024-02-20T11:18:22.962934Z",
          "shell.execute_reply": "2024-02-20T11:18:22.966244Z"
        },
        "trusted": true,
        "colab": {
          "base_uri": "https://localhost:8080/"
        },
        "id": "UgYVaHH_S3sE",
        "outputId": "9a306c29-4cd9-43ef-c817-9fbfafc5ed6e"
      },
      "execution_count": null,
      "outputs": [
        {
          "output_type": "stream",
          "name": "stdout",
          "text": [
            "85\n"
          ]
        }
      ]
    },
    {
      "cell_type": "code",
      "source": [
        "len(num_tokens)"
      ],
      "metadata": {
        "execution": {
          "iopub.status.busy": "2024-02-20T11:06:55.685739Z",
          "iopub.execute_input": "2024-02-20T11:06:55.686566Z",
          "iopub.status.idle": "2024-02-20T11:06:55.691027Z",
          "shell.execute_reply.started": "2024-02-20T11:06:55.686533Z",
          "shell.execute_reply": "2024-02-20T11:06:55.690352Z"
        },
        "trusted": true,
        "id": "pmQKm190S3sF",
        "colab": {
          "base_uri": "https://localhost:8080/"
        },
        "outputId": "84e20ced-d2f1-4b57-caa6-d7ea0a369cfa"
      },
      "execution_count": null,
      "outputs": [
        {
          "output_type": "execute_result",
          "data": {
            "text/plain": [
              "22642"
            ]
          },
          "metadata": {},
          "execution_count": 186
        }
      ]
    },
    {
      "cell_type": "markdown",
      "source": [
        "## Maximum number of tokens for all documents"
      ],
      "metadata": {
        "id": "6wec7mUpMP3N"
      }
    },
    {
      "cell_type": "code",
      "source": [
        "num_tokens.mean()"
      ],
      "metadata": {
        "colab": {
          "base_uri": "https://localhost:8080/"
        },
        "id": "4mIHsbiDMP3N",
        "outputId": "c9e4a0cf-b350-4808-c484-09be62e99a73",
        "execution": {
          "iopub.status.busy": "2024-02-20T11:18:25.894902Z",
          "iopub.execute_input": "2024-02-20T11:18:25.895337Z",
          "iopub.status.idle": "2024-02-20T11:18:25.900946Z",
          "shell.execute_reply.started": "2024-02-20T11:18:25.895304Z",
          "shell.execute_reply": "2024-02-20T11:18:25.900189Z"
        },
        "trusted": true
      },
      "execution_count": null,
      "outputs": [
        {
          "output_type": "execute_result",
          "data": {
            "text/plain": [
              "63.49421429202367"
            ]
          },
          "metadata": {},
          "execution_count": 187
        }
      ]
    },
    {
      "cell_type": "code",
      "source": [
        "num_tokens.max()"
      ],
      "metadata": {
        "colab": {
          "base_uri": "https://localhost:8080/"
        },
        "id": "c-iTNs-0MP3N",
        "outputId": "0eecf20a-30da-4c64-8b17-e8f48eb06cd1",
        "execution": {
          "iopub.status.busy": "2024-02-20T11:18:28.514787Z",
          "iopub.execute_input": "2024-02-20T11:18:28.515175Z",
          "iopub.status.idle": "2024-02-20T11:18:28.520596Z",
          "shell.execute_reply.started": "2024-02-20T11:18:28.515142Z",
          "shell.execute_reply": "2024-02-20T11:18:28.519842Z"
        },
        "trusted": true
      },
      "execution_count": null,
      "outputs": [
        {
          "output_type": "execute_result",
          "data": {
            "text/plain": [
              "119"
            ]
          },
          "metadata": {},
          "execution_count": 188
        }
      ]
    },
    {
      "cell_type": "code",
      "source": [
        "num_tokens.argmax() # listedeki en uzun yorumun indexini argmax ile bulabiliyoruz."
      ],
      "metadata": {
        "colab": {
          "base_uri": "https://localhost:8080/"
        },
        "id": "Wdpbr6TPMP3O",
        "outputId": "88ef4b75-31f4-4552-d382-2d8153fac166",
        "execution": {
          "iopub.status.busy": "2024-02-20T11:18:30.887037Z",
          "iopub.execute_input": "2024-02-20T11:18:30.887799Z",
          "iopub.status.idle": "2024-02-20T11:18:30.892569Z",
          "shell.execute_reply.started": "2024-02-20T11:18:30.887762Z",
          "shell.execute_reply": "2024-02-20T11:18:30.891827Z"
        },
        "trusted": true
      },
      "execution_count": null,
      "outputs": [
        {
          "output_type": "execute_result",
          "data": {
            "text/plain": [
              "6461"
            ]
          },
          "metadata": {},
          "execution_count": 189
        }
      ]
    },
    {
      "cell_type": "code",
      "source": [
        "X[6461]"
      ],
      "metadata": {
        "colab": {
          "base_uri": "https://localhost:8080/",
          "height": 88
        },
        "id": "bv29eaR2MP3P",
        "outputId": "efe97a83-843f-40a7-a935-985abf7054f8",
        "execution": {
          "iopub.status.busy": "2024-02-20T11:18:56.551385Z",
          "iopub.execute_input": "2024-02-20T11:18:56.551727Z",
          "iopub.status.idle": "2024-02-20T11:18:56.556845Z",
          "shell.execute_reply.started": "2024-02-20T11:18:56.551696Z",
          "shell.execute_reply": "2024-02-20T11:18:56.556182Z"
        },
        "trusted": true
      },
      "execution_count": null,
      "outputs": [
        {
          "output_type": "execute_result",
          "data": {
            "text/plain": [
              "\"Odd fit, beautiful design but poor execution I wanted to love this blouse so much. but try as i might, it just fit so oddly on me. i'm usually a petite s so i purchased the xs in brown. first. the color was more gray-brown but it was still ok. but second, the fit was off. maybe i just got a bad one, but the center of the blouse was so offset, that the slit in the front laid so far to the left and the v-neck was so low that you could see my bra - there was no adjusting i could do to fix it. the material has a lovely soft silky feel to it an\""
            ],
            "application/vnd.google.colaboratory.intrinsic+json": {
              "type": "string"
            }
          },
          "metadata": {},
          "execution_count": 190
        }
      ]
    },
    {
      "cell_type": "code",
      "source": [
        "len(X_num_tokens[6461])"
      ],
      "metadata": {
        "colab": {
          "base_uri": "https://localhost:8080/"
        },
        "id": "_W8AuJEcfe7s",
        "outputId": "2f21ec30-49c9-4066-893e-80e7bf4d81ce",
        "execution": {
          "iopub.status.busy": "2024-02-20T10:17:27.817842Z",
          "iopub.status.idle": "2024-02-20T10:17:27.818148Z",
          "shell.execute_reply.started": "2024-02-20T10:17:27.818008Z",
          "shell.execute_reply": "2024-02-20T10:17:27.818023Z"
        },
        "trusted": true
      },
      "execution_count": null,
      "outputs": [
        {
          "output_type": "execute_result",
          "data": {
            "text/plain": [
              "119"
            ]
          },
          "metadata": {},
          "execution_count": 191
        }
      ]
    },
    {
      "cell_type": "code",
      "source": [
        "list = [5, 10, 8, 9, 12, 15]\n",
        "print(np.array(list) < 10)\n",
        "print(sum(np.array(list) < 10))    # 5,8,9 toplamda 3 tane\n",
        "print(sum(np.array(list) < 10)/len(list))   # 3 / 6 = 0.5"
      ],
      "metadata": {
        "id": "66JrdJCtMP3P",
        "execution": {
          "iopub.status.busy": "2024-02-20T10:17:27.818845Z",
          "iopub.status.idle": "2024-02-20T10:17:27.819134Z",
          "shell.execute_reply.started": "2024-02-20T10:17:27.818997Z",
          "shell.execute_reply": "2024-02-20T10:17:27.819011Z"
        },
        "trusted": true,
        "colab": {
          "base_uri": "https://localhost:8080/"
        },
        "outputId": "99ec516d-ec46-42cb-99c5-76365082f196"
      },
      "execution_count": null,
      "outputs": [
        {
          "output_type": "stream",
          "name": "stdout",
          "text": [
            "[ True False  True  True False False]\n",
            "3\n",
            "0.5\n"
          ]
        }
      ]
    },
    {
      "cell_type": "code",
      "source": [
        "max_tokens = 107"
      ],
      "metadata": {
        "id": "-k5VZDpjMP3Q",
        "execution": {
          "iopub.status.busy": "2024-02-20T11:19:05.730425Z",
          "iopub.execute_input": "2024-02-20T11:19:05.730759Z",
          "iopub.status.idle": "2024-02-20T11:19:05.734152Z",
          "shell.execute_reply.started": "2024-02-20T11:19:05.730731Z",
          "shell.execute_reply": "2024-02-20T11:19:05.733433Z"
        },
        "trusted": true
      },
      "execution_count": null,
      "outputs": []
    },
    {
      "cell_type": "code",
      "source": [
        "sum(num_tokens < max_tokens) / len(num_tokens)  # it covers 95% of the comments"
      ],
      "metadata": {
        "colab": {
          "base_uri": "https://localhost:8080/"
        },
        "id": "Xal4WMNoMP3Q",
        "outputId": "59cc20b2-6391-4a9c-c4be-1237831d5a8b",
        "execution": {
          "iopub.status.busy": "2024-02-20T11:19:08.418310Z",
          "iopub.execute_input": "2024-02-20T11:19:08.418675Z",
          "iopub.status.idle": "2024-02-20T11:19:08.427064Z",
          "shell.execute_reply.started": "2024-02-20T11:19:08.418646Z",
          "shell.execute_reply": "2024-02-20T11:19:08.426205Z"
        },
        "trusted": true
      },
      "execution_count": null,
      "outputs": [
        {
          "output_type": "execute_result",
          "data": {
            "text/plain": [
              "0.9565409416129317"
            ]
          },
          "metadata": {},
          "execution_count": 194
        }
      ]
    },
    {
      "cell_type": "code",
      "source": [
        "sum(num_tokens < max_tokens)"
      ],
      "metadata": {
        "colab": {
          "base_uri": "https://localhost:8080/"
        },
        "id": "M2U7lFjMMP3R",
        "outputId": "bc8cb036-11b6-43a1-a8b7-4d309ee4057c",
        "execution": {
          "iopub.status.busy": "2024-02-20T11:19:13.822570Z",
          "iopub.execute_input": "2024-02-20T11:19:13.823639Z",
          "iopub.status.idle": "2024-02-20T11:19:13.831240Z",
          "shell.execute_reply.started": "2024-02-20T11:19:13.823597Z",
          "shell.execute_reply": "2024-02-20T11:19:13.830612Z"
        },
        "trusted": true
      },
      "execution_count": null,
      "outputs": [
        {
          "output_type": "execute_result",
          "data": {
            "text/plain": [
              "21658"
            ]
          },
          "metadata": {},
          "execution_count": 195
        }
      ]
    },
    {
      "cell_type": "code",
      "source": [
        "len(num_tokens)"
      ],
      "metadata": {
        "colab": {
          "base_uri": "https://localhost:8080/"
        },
        "id": "1lGeDqduMP3R",
        "outputId": "c45334a7-2912-438c-82a0-03d798fbc160",
        "execution": {
          "iopub.status.busy": "2024-02-20T10:17:27.823571Z",
          "iopub.status.idle": "2024-02-20T10:17:27.823859Z",
          "shell.execute_reply.started": "2024-02-20T10:17:27.823715Z",
          "shell.execute_reply": "2024-02-20T10:17:27.823729Z"
        },
        "trusted": true
      },
      "execution_count": null,
      "outputs": [
        {
          "output_type": "execute_result",
          "data": {
            "text/plain": [
              "22642"
            ]
          },
          "metadata": {},
          "execution_count": 196
        }
      ]
    },
    {
      "cell_type": "markdown",
      "source": [
        "![image.png](attachment:image.png)"
      ],
      "metadata": {
        "id": "qLC3uOJyS3sO"
      }
    },
    {
      "cell_type": "markdown",
      "source": [
        "## Fixing token counts of all documents (pad_sequences)"
      ],
      "metadata": {
        "id": "fvfHyoaKMP3R"
      }
    },
    {
      "cell_type": "code",
      "source": [
        "X_pad = pad_sequences(X_num_tokens, maxlen=max_tokens)   # sabitleme"
      ],
      "metadata": {
        "id": "bs3CarRdMP3R",
        "execution": {
          "iopub.status.busy": "2024-02-20T11:19:21.174426Z",
          "iopub.execute_input": "2024-02-20T11:19:21.174761Z",
          "iopub.status.idle": "2024-02-20T11:19:21.274720Z",
          "shell.execute_reply.started": "2024-02-20T11:19:21.174734Z",
          "shell.execute_reply": "2024-02-20T11:19:21.274007Z"
        },
        "trusted": true
      },
      "execution_count": null,
      "outputs": []
    },
    {
      "cell_type": "markdown",
      "source": [
        "Bu kod, bir metin veri kümesindeki metin örneklerini bir dizi tokena göre belirli bir maksimum uzunluğa (max_tokens) kadar doldurur (pad) veya kırpır (truncate) işlemi yapar.\n",
        "\n",
        "İşlevin adımları şu şekildedir:\n",
        "\n",
        "X_pad = pad_sequences(X_num_tokens, maxlen=max_tokens): pad_sequences fonksiyonu, X_num_tokens olarak verilen bir metin veri kümesindeki her bir örneği, maxlen parametresine belirtilen maksimum uzunluğa kadar doldurur veya kırparak bir dizi haline getirir.\n",
        "\n",
        "X_num_tokens: Metin veri kümesindeki her bir örneğin token dizilerini içeren bir liste.\n",
        "maxlen: Doldurma veya kırpmadan sonra hedeflenen maksimum token sayısı.\n",
        "pad_sequences fonksiyonu, daha kısa olan token dizilerini baştan veya sondan sıfırlarla (0) doldurarak aynı uzunluğa getirir. Daha uzun olan token dizileri ise kırpılır, yani maksimum uzunluğa kadar kesilir.\n",
        "\n",
        "X_pad: Doldurulmuş veya kırpılmış token dizilerini içeren bir NumPy dizisi olarak atanan değişken.\n",
        "\n",
        "Sonuç olarak, bu kod, metin veri kümesindeki her bir örneği belirli bir maksimum token sayısına (max_tokens) göre doldurur veya kırparak yeni bir dizi oluşturur. Bu, metin verilerinin sabit bir uzunluğa sahip olmasını sağlar ve daha sonra makine öğrenmesi modellerine beslemek için kullanılabilir."
      ],
      "metadata": {
        "id": "nO94hAi3S3sP"
      }
    },
    {
      "cell_type": "code",
      "source": [
        "X_pad.shape"
      ],
      "metadata": {
        "colab": {
          "base_uri": "https://localhost:8080/"
        },
        "id": "NJsSbXm_MP3S",
        "outputId": "d2cb3007-d129-4737-a2f9-0bece273ccb7",
        "execution": {
          "iopub.status.busy": "2024-02-20T10:17:27.826070Z",
          "iopub.status.idle": "2024-02-20T10:17:27.826383Z",
          "shell.execute_reply.started": "2024-02-20T10:17:27.826225Z",
          "shell.execute_reply": "2024-02-20T10:17:27.826241Z"
        },
        "trusted": true
      },
      "execution_count": null,
      "outputs": [
        {
          "output_type": "execute_result",
          "data": {
            "text/plain": [
              "(22642, 107)"
            ]
          },
          "metadata": {},
          "execution_count": 198
        }
      ]
    },
    {
      "cell_type": "code",
      "source": [
        "np.array(X_num_tokens[800])"
      ],
      "metadata": {
        "id": "9byUlLyPMP3S",
        "execution": {
          "iopub.status.busy": "2024-02-20T10:17:27.827240Z",
          "iopub.status.idle": "2024-02-20T10:17:27.827561Z",
          "shell.execute_reply.started": "2024-02-20T10:17:27.827395Z",
          "shell.execute_reply": "2024-02-20T10:17:27.827411Z"
        },
        "trusted": true,
        "colab": {
          "base_uri": "https://localhost:8080/"
        },
        "outputId": "f227bdf7-4fb0-4008-a82a-a780ad69ce72"
      },
      "execution_count": null,
      "outputs": [
        {
          "output_type": "execute_result",
          "data": {
            "text/plain": [
              "array([   5,    6,   15,  465,   10,  542,    3,   50,    2,   39,  393,\n",
              "          3,  681, 1124,    3,  293,   42,   82,   31,  152])"
            ]
          },
          "metadata": {},
          "execution_count": 199
        }
      ]
    },
    {
      "cell_type": "code",
      "source": [
        "X_pad[800]"
      ],
      "metadata": {
        "id": "AZOPw83rMP3S",
        "execution": {
          "iopub.status.busy": "2024-02-20T10:17:27.828614Z",
          "iopub.status.idle": "2024-02-20T10:17:27.828911Z",
          "shell.execute_reply.started": "2024-02-20T10:17:27.828761Z",
          "shell.execute_reply": "2024-02-20T10:17:27.828776Z"
        },
        "trusted": true,
        "colab": {
          "base_uri": "https://localhost:8080/"
        },
        "outputId": "75f929ca-3648-472a-bb1f-2d411886c0f8"
      },
      "execution_count": null,
      "outputs": [
        {
          "output_type": "execute_result",
          "data": {
            "text/plain": [
              "array([   0,    0,    0,    0,    0,    0,    0,    0,    0,    0,    0,\n",
              "          0,    0,    0,    0,    0,    0,    0,    0,    0,    0,    0,\n",
              "          0,    0,    0,    0,    0,    0,    0,    0,    0,    0,    0,\n",
              "          0,    0,    0,    0,    0,    0,    0,    0,    0,    0,    0,\n",
              "          0,    0,    0,    0,    0,    0,    0,    0,    0,    0,    0,\n",
              "          0,    0,    0,    0,    0,    0,    0,    0,    0,    0,    0,\n",
              "          0,    0,    0,    0,    0,    0,    0,    0,    0,    0,    0,\n",
              "          0,    0,    0,    0,    0,    0,    0,    0,    0,    0,    5,\n",
              "          6,   15,  465,   10,  542,    3,   50,    2,   39,  393,    3,\n",
              "        681, 1124,    3,  293,   42,   82,   31,  152], dtype=int32)"
            ]
          },
          "metadata": {},
          "execution_count": 200
        }
      ]
    },
    {
      "cell_type": "code",
      "source": [
        "np.array(X_num_tokens[21941])"
      ],
      "metadata": {
        "id": "4skufTFRMP3T",
        "execution": {
          "iopub.status.busy": "2024-02-20T10:17:27.829928Z",
          "iopub.status.idle": "2024-02-20T10:17:27.830231Z",
          "shell.execute_reply.started": "2024-02-20T10:17:27.830085Z",
          "shell.execute_reply": "2024-02-20T10:17:27.830101Z"
        },
        "trusted": true,
        "colab": {
          "base_uri": "https://localhost:8080/"
        },
        "outputId": "01769eb3-559a-4749-e0a2-1dc188fec12d"
      },
      "execution_count": null,
      "outputs": [
        {
          "output_type": "execute_result",
          "data": {
            "text/plain": [
              "array([  84,   46,   10, 1115,    4,  245,    2,  987,  235,    7,    8,\n",
              "          4,  835,  594,    3,    5,  568,   66,   27,   14,    4,   48,\n",
              "        333,  155,    1,  493,   46,    6,   84,    3,  517,    3,    5,\n",
              "          6,   63,    8,   33,    2,   28,    1,   88,   13,    5,    3,\n",
              "          5,  777,   53,   64,   32,   40, 1219,    1, 1842,   29,   21,\n",
              "          5, 1115,   53,  365,    2,  659,    4, 4277, 8554,   81,    5,\n",
              "        491,    8, 2971,   66,    1, 1115,   10,    5,  130,   68,    4,\n",
              "       1223,   51,    8,    5,   70,    2,  103,   13,  174,    1,  840,\n",
              "         29,   32,    2,   96,   67,   45,  111, 1481,   79,   12,  299,\n",
              "       1907, 1698,    1,  163,    3,   67,  131])"
            ]
          },
          "metadata": {},
          "execution_count": 201
        }
      ]
    },
    {
      "cell_type": "code",
      "source": [
        "X_pad[21941]   # UZUN OLANLARDA SON 65 İ ALIYOR.."
      ],
      "metadata": {
        "id": "n_yR_ZsfMP3T",
        "execution": {
          "iopub.status.busy": "2024-02-20T10:17:27.830952Z",
          "iopub.status.idle": "2024-02-20T10:17:27.831232Z",
          "shell.execute_reply.started": "2024-02-20T10:17:27.831098Z",
          "shell.execute_reply": "2024-02-20T10:17:27.831112Z"
        },
        "trusted": true,
        "colab": {
          "base_uri": "https://localhost:8080/"
        },
        "outputId": "4fcecc64-85e5-43f5-f821-57403d04c909"
      },
      "execution_count": null,
      "outputs": [
        {
          "output_type": "execute_result",
          "data": {
            "text/plain": [
              "array([   0,   84,   46,   10, 1115,    4,  245,    2,  987,  235,    7,\n",
              "          8,    4,  835,  594,    3,    5,  568,   66,   27,   14,    4,\n",
              "         48,  333,  155,    1,  493,   46,    6,   84,    3,  517,    3,\n",
              "          5,    6,   63,    8,   33,    2,   28,    1,   88,   13,    5,\n",
              "          3,    5,  777,   53,   64,   32,   40, 1219,    1, 1842,   29,\n",
              "         21,    5, 1115,   53,  365,    2,  659,    4, 4277, 8554,   81,\n",
              "          5,  491,    8, 2971,   66,    1, 1115,   10,    5,  130,   68,\n",
              "          4, 1223,   51,    8,    5,   70,    2,  103,   13,  174,    1,\n",
              "        840,   29,   32,    2,   96,   67,   45,  111, 1481,   79,   12,\n",
              "        299, 1907, 1698,    1,  163,    3,   67,  131], dtype=int32)"
            ]
          },
          "metadata": {},
          "execution_count": 202
        }
      ]
    },
    {
      "cell_type": "markdown",
      "source": [
        "## Train Test Split"
      ],
      "metadata": {
        "id": "cdZpEZg0MP3V"
      }
    },
    {
      "cell_type": "code",
      "source": [
        "from sklearn.model_selection import train_test_split"
      ],
      "metadata": {
        "id": "uuzziHMgMP3V",
        "execution": {
          "iopub.status.busy": "2024-02-20T11:19:34.329908Z",
          "iopub.execute_input": "2024-02-20T11:19:34.330289Z",
          "iopub.status.idle": "2024-02-20T11:19:34.798296Z",
          "shell.execute_reply.started": "2024-02-20T11:19:34.330261Z",
          "shell.execute_reply": "2024-02-20T11:19:34.797489Z"
        },
        "trusted": true
      },
      "execution_count": null,
      "outputs": []
    },
    {
      "cell_type": "code",
      "source": [
        "X_train, X_test, y_train, y_test = train_test_split(X_pad, y, test_size=0.2, stratify=y, random_state=0)"
      ],
      "metadata": {
        "id": "-r7MDXwWMP3V",
        "execution": {
          "iopub.status.busy": "2024-02-20T11:20:42.169434Z",
          "iopub.execute_input": "2024-02-20T11:20:42.170088Z",
          "iopub.status.idle": "2024-02-20T11:20:42.187731Z",
          "shell.execute_reply.started": "2024-02-20T11:20:42.170053Z",
          "shell.execute_reply": "2024-02-20T11:20:42.187089Z"
        },
        "trusted": true
      },
      "execution_count": null,
      "outputs": []
    },
    {
      "cell_type": "markdown",
      "source": [
        "## Modelling"
      ],
      "metadata": {
        "id": "RY35Ev1rMP3W"
      }
    },
    {
      "cell_type": "code",
      "source": [
        "model = Sequential()"
      ],
      "metadata": {
        "id": "GPoCxQyXMP3W",
        "execution": {
          "iopub.status.busy": "2024-02-20T11:27:48.591302Z",
          "iopub.execute_input": "2024-02-20T11:27:48.591679Z",
          "iopub.status.idle": "2024-02-20T11:27:48.596695Z",
          "shell.execute_reply.started": "2024-02-20T11:27:48.591646Z",
          "shell.execute_reply": "2024-02-20T11:27:48.595698Z"
        },
        "trusted": true
      },
      "execution_count": null,
      "outputs": []
    },
    {
      "cell_type": "code",
      "source": [
        "embedding_size = 200   # EMBEDDING SIZE İLE OYNAYARAK OVERFITTING E ENGEL OLABİLİRİZ."
      ],
      "metadata": {
        "id": "XXOdeDTXMP3W",
        "execution": {
          "iopub.status.busy": "2024-02-20T11:27:54.355418Z",
          "iopub.execute_input": "2024-02-20T11:27:54.356305Z",
          "iopub.status.idle": "2024-02-20T11:27:54.359873Z",
          "shell.execute_reply.started": "2024-02-20T11:27:54.356265Z",
          "shell.execute_reply": "2024-02-20T11:27:54.358817Z"
        },
        "trusted": true
      },
      "execution_count": null,
      "outputs": []
    },
    {
      "cell_type": "code",
      "source": [
        "#pip install numpy==1.19.5   # bu aşamada problem yaşayanlar bunu kurabilir..."
      ],
      "metadata": {
        "id": "w6xvp2kQMP3X",
        "execution": {
          "iopub.status.busy": "2024-02-20T11:30:23.876945Z",
          "iopub.execute_input": "2024-02-20T11:30:23.877331Z",
          "iopub.status.idle": "2024-02-20T11:30:29.464027Z",
          "shell.execute_reply.started": "2024-02-20T11:30:23.877298Z",
          "shell.execute_reply": "2024-02-20T11:30:29.462945Z"
        },
        "trusted": true
      },
      "execution_count": null,
      "outputs": []
    },
    {
      "cell_type": "markdown",
      "source": [
        "![image.png](attachment:image.png)"
      ],
      "metadata": {
        "id": "M8WLp1hbS3sW"
      }
    },
    {
      "cell_type": "markdown",
      "source": [
        "![image.png](attachment:image.png)"
      ],
      "metadata": {
        "id": "aviCUiamS3sW"
      }
    },
    {
      "cell_type": "code",
      "source": [
        "model.add (Embedding(input_dim=num_words,   # İLK 15.000 TOKENI AL..\n",
        "                    output_dim=embedding_size,    # KAÇ BOYUTTA OLACAĞINI İFADE EDİYOR (50 BOYUT)\n",
        "                    input_length=max_tokens))   # HER BİR YORUMUN UZUNLUĞU (107 TOKEN)\n",
        "\n",
        "model.add(GRU(units=256, return_sequences=True))    # LSTM DE KULLANILABİLİR..    UNITS= VEKTÖRÜ 48 BOYUTA DÜŞÜRÜR\n",
        "model.add(Dropout(0.2))         # RETURN SEQUENCE= TRUE OLDUĞU ZAMAN... BİR SONRAKİ HIDDEN LAYER A GÖNDERİLEN BİLGİLER TOPLU OLARAK AKTARILIR..\n",
        "\n",
        "model.add(GRU(units=128, return_sequences=True))\n",
        "model.add(Dropout(0.2))\n",
        "\n",
        "model.add(GRU(units=12))\n",
        "\n",
        "model.add(Dense(1, activation='sigmoid'))"
      ],
      "metadata": {
        "id": "WDFpf4fSMP3X",
        "execution": {
          "iopub.status.busy": "2024-02-20T11:31:34.222985Z",
          "iopub.execute_input": "2024-02-20T11:31:34.223308Z",
          "iopub.status.idle": "2024-02-20T11:31:34.238988Z",
          "shell.execute_reply.started": "2024-02-20T11:31:34.223281Z",
          "shell.execute_reply": "2024-02-20T11:31:34.238262Z"
        },
        "trusted": true
      },
      "execution_count": null,
      "outputs": []
    },
    {
      "cell_type": "markdown",
      "source": [
        "GloVe vektörlerini kullanarak bir Embedding katmanı oluşturmak istiyorsanız, öncelikle GloVe vektörlerini yüklemeniz ve ardından Embedding katmanını bu vektörlerle başlatmanız gerekecektir. İşte bu işlemi gerçekleştirmek için bir Jupyter Notebook örneği:\n",
        "\n",
        "# GloVe vektörlerini yüklemek için Gensim kütüphanesini kullanabilirsiniz\n",
        "from gensim.models import KeyedVectors\n",
        "\n",
        "# GloVe vektörlerini yükleyin (örnek olarak 50 boyutlu bir vektör seti kullanıldı)\n",
        "glove_model = KeyedVectors.load_word2vec_format('glove.6B.50d.txt', binary=False)\n",
        "\n",
        "# GloVe vektörlerini kullanarak embedding matrix oluşturun\n",
        "embedding_matrix = np.zeros((num_words, embedding_size))\n",
        "\n",
        "for word, i in tokenizer.word_index.items():\n",
        "    if i < num_words:\n",
        "        if word in glove_model:\n",
        "            embedding_matrix[i] = glove_model[word]\n",
        "\n",
        "# Embedding katmanını oluşturun ve GloVe vektörlerini yükleyin\n",
        "from tensorflow.keras.models import Sequential\n",
        "from tensorflow.keras.layers import Embedding, Dropout, GRU, Dense\n",
        "\n",
        "# Model oluşturma\n",
        "model = Sequential()\n",
        "\n",
        "# GloVe embedding matrix'i kullanarak Embedding katmanını başlatın\n",
        "model.add(Embedding(input_dim=num_words,\n",
        "                    output_dim=embedding_size,\n",
        "                    weights=[embedding_matrix],\n",
        "                    input_length=max_tokens,\n",
        "                    trainable=False))  # GloVe vektörlerini eğitmek istemiyorsanız trainable=False yapabilirsiniz\n",
        "\n",
        "model.add(Dropout(0.2))\n",
        "model.add(GRU(units=48, return_sequences=True))\n",
        "model.add(Dropout(0.2))\n",
        "model.add(GRU(units=12))\n",
        "model.add(Dense(1, activation='sigmoid'))\n",
        "\n",
        "# Modeli derleyin\n",
        "model.compile(loss='binary_crossentropy',\n",
        "              optimizer='adam',\n",
        "              metrics=['accuracy'])\n",
        "\n",
        "# Model özetini gösterin\n",
        "model.summary()\n"
      ],
      "metadata": {
        "id": "zET5KB8rS3sX"
      }
    },
    {
      "cell_type": "markdown",
      "source": [
        "![image.png](attachment:image.png)"
      ],
      "metadata": {
        "id": "yeK71tr6S3sY"
      }
    },
    {
      "cell_type": "code",
      "source": [
        "optimizer = Adam(learning_rate=0.01)    # OVERFITTING İÇİN DEĞİŞİKLİK YAPABİLİRİZ."
      ],
      "metadata": {
        "id": "pKOLaAIlMP3X",
        "execution": {
          "iopub.status.busy": "2024-02-20T11:31:39.716621Z",
          "iopub.execute_input": "2024-02-20T11:31:39.716943Z",
          "iopub.status.idle": "2024-02-20T11:31:39.722169Z",
          "shell.execute_reply.started": "2024-02-20T11:31:39.716915Z",
          "shell.execute_reply": "2024-02-20T11:31:39.721374Z"
        },
        "trusted": true
      },
      "execution_count": null,
      "outputs": []
    },
    {
      "cell_type": "code",
      "source": [
        "model.compile(loss='binary_crossentropy',\n",
        "              optimizer=optimizer,\n",
        "              metrics=['Recall'])"
      ],
      "metadata": {
        "id": "zQqwx6KkMP3X",
        "execution": {
          "iopub.status.busy": "2024-02-20T11:31:41.161472Z",
          "iopub.execute_input": "2024-02-20T11:31:41.161863Z",
          "iopub.status.idle": "2024-02-20T11:31:41.168255Z",
          "shell.execute_reply.started": "2024-02-20T11:31:41.161830Z",
          "shell.execute_reply": "2024-02-20T11:31:41.167477Z"
        },
        "trusted": true
      },
      "execution_count": null,
      "outputs": []
    },
    {
      "cell_type": "markdown",
      "source": [
        "https://stats.stackexchange.com/questions/328926/how-many-parameters-are-in-a-gated-recurrent-unit-gru-recurrent-neural-network"
      ],
      "metadata": {
        "id": "25o7tm7cMP3X"
      }
    },
    {
      "cell_type": "code",
      "source": [
        "model.summary()"
      ],
      "metadata": {
        "colab": {
          "base_uri": "https://localhost:8080/"
        },
        "id": "kuUR-OshMP3Y",
        "outputId": "9c7e82d2-464f-40a1-8568-bfc369910d85",
        "execution": {
          "iopub.status.busy": "2024-02-20T11:31:45.779806Z",
          "iopub.execute_input": "2024-02-20T11:31:45.780637Z",
          "iopub.status.idle": "2024-02-20T11:31:45.812700Z",
          "shell.execute_reply.started": "2024-02-20T11:31:45.780581Z",
          "shell.execute_reply": "2024-02-20T11:31:45.811950Z"
        },
        "trusted": true
      },
      "execution_count": null,
      "outputs": [
        {
          "output_type": "stream",
          "name": "stdout",
          "text": [
            "Model: \"sequential_1\"\n",
            "_________________________________________________________________\n",
            " Layer (type)                Output Shape              Param #   \n",
            "=================================================================\n",
            " embedding_1 (Embedding)     (None, 107, 200)          3000000   \n",
            "                                                                 \n",
            " gru_3 (GRU)                 (None, 107, 256)          351744    \n",
            "                                                                 \n",
            " dropout_2 (Dropout)         (None, 107, 256)          0         \n",
            "                                                                 \n",
            " gru_4 (GRU)                 (None, 107, 128)          148224    \n",
            "                                                                 \n",
            " dropout_3 (Dropout)         (None, 107, 128)          0         \n",
            "                                                                 \n",
            " gru_5 (GRU)                 (None, 12)                5112      \n",
            "                                                                 \n",
            " dense_1 (Dense)             (None, 1)                 13        \n",
            "                                                                 \n",
            "=================================================================\n",
            "Total params: 3505093 (13.37 MB)\n",
            "Trainable params: 3505093 (13.37 MB)\n",
            "Non-trainable params: 0 (0.00 Byte)\n",
            "_________________________________________________________________\n"
          ]
        }
      ]
    },
    {
      "cell_type": "code",
      "source": [
        "from tensorflow.keras.callbacks import EarlyStopping\n",
        "\n",
        "early_stop = EarlyStopping(monitor=\"val_recall\", mode=\"max\",   #mode= auto da trendi takip eder.\n",
        "                           verbose=1, patience = 5, restore_best_weights=True)"
      ],
      "metadata": {
        "id": "5LxZGh5EMP3Y"
      },
      "execution_count": null,
      "outputs": []
    },
    {
      "cell_type": "markdown",
      "source": [
        "mode: İzlenen metriğin maksimum veya minimum değerine karar vermek için kullanılır. \"max\" olarak ayarlandığında, monitör metriği maksimize edilmeye çalışılır (örneğin, doğrulama doğruluğu). \"min\" olarak ayarlandığında ise metrik minimize edilmeye çalışılır (örneğin, doğrulama kaybı)."
      ],
      "metadata": {
        "id": "WPaOHrkgEUW2"
      }
    },
    {
      "cell_type": "code",
      "source": [
        "from sklearn.utils import class_weight     # DENGESİZ BİR DATA OLDUĞU İÇİN YENİ BİR AĞIRLANDIRMA YAPILIYOR.\n",
        "classes_weights = class_weight.compute_sample_weight(class_weight='balanced', y=y_train)\n",
        "pd.Series(classes_weights).unique()"
      ],
      "metadata": {
        "colab": {
          "base_uri": "https://localhost:8080/"
        },
        "id": "JSHMJXiRMP3Z",
        "outputId": "ee72d57a-a9f2-4342-c524-fbf88f0b0ecd"
      },
      "execution_count": null,
      "outputs": [
        {
          "output_type": "execute_result",
          "data": {
            "text/plain": [
              "array([0.61060545, 2.7602865 ])"
            ]
          },
          "metadata": {},
          "execution_count": 230
        }
      ]
    },
    {
      "cell_type": "markdown",
      "source": [
        "class_weight.compute_sample_weight fonksiyonu, dengesiz veri kümesi üzerinde sınıf ağırlıklarının hesaplanmasını sağlar. Bu işlev, veri kümesindeki sınıflar arasındaki dengesizliği ele almak için kullanılır. Her bir veri örneği için hesaplanan ağırlıklar, modelin nadir sınıfları daha fazla vurgulayarak doğruluk oranını artırmasına yardımcı olabilir.\n",
        "\n",
        "Parametrelerin anlamları:\n",
        "\n",
        "class_weight: Sınıf ağırlıklarının nasıl hesaplanacağını belirleyen bir parametre. \"balanced\" olarak ayarlandığında, sınıflar arasındaki dengesizliği otomatik olarak tespit ederek ağırlıkları hesaplar. Diğer bir seçenek, özel bir sözlük kullanarak sınıflara özel ağırlıklar belirtmektir.\n",
        "y: Etiketlerin (hedef değişken) dizisi.\n",
        "class_weight.compute_sample_weight işlevi, her bir veri noktası için hesaplanan sınıf ağırlıklarını döndürür. Bu ağırlıklar, sınıf etiketlerine bağlı olarak değişir ve dengesiz veri kümesinde nadir sınıflara daha büyük bir ağırlık verir.\n",
        "\n",
        "pd.Series(classes_weights).unique() kodu, hesaplanan sınıf ağırlıklarını benzersiz değerler olarak döndürür. Bu, ağırlıkların farklı sınıflar için nasıl değiştiğini görmemizi sağlar."
      ],
      "metadata": {
        "id": "yag-50KES3sd"
      }
    },
    {
      "cell_type": "markdown",
      "source": [
        "https://keras.io/getting_started/faq/#why-is-my-training-loss-much-higher-than-my-testing-loss"
      ],
      "metadata": {
        "id": "E2Mm-c-Yg1PU"
      }
    },
    {
      "cell_type": "code",
      "source": [
        "model.fit(X_train, y_train, epochs=10, batch_size=256, sample_weight= classes_weights,\n",
        "         validation_data=(X_test, y_test), callbacks=[early_stop])"
      ],
      "metadata": {
        "colab": {
          "base_uri": "https://localhost:8080/"
        },
        "id": "Aq7oVrxLMP3Z",
        "outputId": "4db38877-b2d5-4bb3-ad46-f8afbcf11c09"
      },
      "execution_count": null,
      "outputs": [
        {
          "output_type": "stream",
          "name": "stdout",
          "text": [
            "Epoch 1/10\n",
            "71/71 [==============================] - 201s 3s/step - loss: 0.2698 - recall: 0.8803 - val_loss: 0.2752 - val_recall: 0.8949\n",
            "Epoch 2/10\n",
            "71/71 [==============================] - 195s 3s/step - loss: 0.2462 - recall: 0.8871 - val_loss: 0.3212 - val_recall: 0.8598\n",
            "Epoch 3/10\n",
            "71/71 [==============================] - 207s 3s/step - loss: 0.2254 - recall: 0.9001 - val_loss: 0.2971 - val_recall: 0.8892\n",
            "Epoch 4/10\n",
            "71/71 [==============================] - 209s 3s/step - loss: 0.2075 - recall: 0.9115 - val_loss: 0.3073 - val_recall: 0.8870\n",
            "Epoch 5/10\n",
            "71/71 [==============================] - 207s 3s/step - loss: 0.2078 - recall: 0.9047 - val_loss: 0.3234 - val_recall: 0.8676\n",
            "Epoch 6/10\n",
            "71/71 [==============================] - ETA: 0s - loss: 0.1927 - recall: 0.9126Restoring model weights from the end of the best epoch: 1.\n",
            "71/71 [==============================] - 206s 3s/step - loss: 0.1927 - recall: 0.9126 - val_loss: 0.2917 - val_recall: 0.8816\n",
            "Epoch 6: early stopping\n"
          ]
        },
        {
          "output_type": "execute_result",
          "data": {
            "text/plain": [
              "<keras.src.callbacks.History at 0x7d8ce85824d0>"
            ]
          },
          "metadata": {},
          "execution_count": 232
        }
      ]
    },
    {
      "cell_type": "markdown",
      "source": [
        "## Model evaluation"
      ],
      "metadata": {
        "id": "fUZGuKlgMP3Z"
      }
    },
    {
      "cell_type": "code",
      "source": [
        "model_loss = pd.DataFrame(model.history.history)\n",
        "model_loss.head()"
      ],
      "metadata": {
        "colab": {
          "base_uri": "https://localhost:8080/",
          "height": 206
        },
        "id": "FY1--hF-MP3Z",
        "outputId": "9e974798-6503-4093-9dd0-e4aec33fe4b0"
      },
      "execution_count": null,
      "outputs": [
        {
          "output_type": "execute_result",
          "data": {
            "text/plain": [
              "       loss    recall  val_loss  val_recall\n",
              "0  0.269818  0.880326  0.275203    0.894850\n",
              "1  0.246249  0.887136  0.321163    0.859800\n",
              "2  0.225401  0.900081  0.297131    0.889188\n",
              "3  0.207464  0.911543  0.307260    0.887032\n",
              "4  0.207830  0.904733  0.323429    0.867619"
            ],
            "text/html": [
              "\n",
              "  <div id=\"df-800cf46f-8444-4f36-832e-5e891f214bc3\" class=\"colab-df-container\">\n",
              "    <div>\n",
              "<style scoped>\n",
              "    .dataframe tbody tr th:only-of-type {\n",
              "        vertical-align: middle;\n",
              "    }\n",
              "\n",
              "    .dataframe tbody tr th {\n",
              "        vertical-align: top;\n",
              "    }\n",
              "\n",
              "    .dataframe thead th {\n",
              "        text-align: right;\n",
              "    }\n",
              "</style>\n",
              "<table border=\"1\" class=\"dataframe\">\n",
              "  <thead>\n",
              "    <tr style=\"text-align: right;\">\n",
              "      <th></th>\n",
              "      <th>loss</th>\n",
              "      <th>recall</th>\n",
              "      <th>val_loss</th>\n",
              "      <th>val_recall</th>\n",
              "    </tr>\n",
              "  </thead>\n",
              "  <tbody>\n",
              "    <tr>\n",
              "      <th>0</th>\n",
              "      <td>0.269818</td>\n",
              "      <td>0.880326</td>\n",
              "      <td>0.275203</td>\n",
              "      <td>0.894850</td>\n",
              "    </tr>\n",
              "    <tr>\n",
              "      <th>1</th>\n",
              "      <td>0.246249</td>\n",
              "      <td>0.887136</td>\n",
              "      <td>0.321163</td>\n",
              "      <td>0.859800</td>\n",
              "    </tr>\n",
              "    <tr>\n",
              "      <th>2</th>\n",
              "      <td>0.225401</td>\n",
              "      <td>0.900081</td>\n",
              "      <td>0.297131</td>\n",
              "      <td>0.889188</td>\n",
              "    </tr>\n",
              "    <tr>\n",
              "      <th>3</th>\n",
              "      <td>0.207464</td>\n",
              "      <td>0.911543</td>\n",
              "      <td>0.307260</td>\n",
              "      <td>0.887032</td>\n",
              "    </tr>\n",
              "    <tr>\n",
              "      <th>4</th>\n",
              "      <td>0.207830</td>\n",
              "      <td>0.904733</td>\n",
              "      <td>0.323429</td>\n",
              "      <td>0.867619</td>\n",
              "    </tr>\n",
              "  </tbody>\n",
              "</table>\n",
              "</div>\n",
              "    <div class=\"colab-df-buttons\">\n",
              "\n",
              "  <div class=\"colab-df-container\">\n",
              "    <button class=\"colab-df-convert\" onclick=\"convertToInteractive('df-800cf46f-8444-4f36-832e-5e891f214bc3')\"\n",
              "            title=\"Convert this dataframe to an interactive table.\"\n",
              "            style=\"display:none;\">\n",
              "\n",
              "  <svg xmlns=\"http://www.w3.org/2000/svg\" height=\"24px\" viewBox=\"0 -960 960 960\">\n",
              "    <path d=\"M120-120v-720h720v720H120Zm60-500h600v-160H180v160Zm220 220h160v-160H400v160Zm0 220h160v-160H400v160ZM180-400h160v-160H180v160Zm440 0h160v-160H620v160ZM180-180h160v-160H180v160Zm440 0h160v-160H620v160Z\"/>\n",
              "  </svg>\n",
              "    </button>\n",
              "\n",
              "  <style>\n",
              "    .colab-df-container {\n",
              "      display:flex;\n",
              "      gap: 12px;\n",
              "    }\n",
              "\n",
              "    .colab-df-convert {\n",
              "      background-color: #E8F0FE;\n",
              "      border: none;\n",
              "      border-radius: 50%;\n",
              "      cursor: pointer;\n",
              "      display: none;\n",
              "      fill: #1967D2;\n",
              "      height: 32px;\n",
              "      padding: 0 0 0 0;\n",
              "      width: 32px;\n",
              "    }\n",
              "\n",
              "    .colab-df-convert:hover {\n",
              "      background-color: #E2EBFA;\n",
              "      box-shadow: 0px 1px 2px rgba(60, 64, 67, 0.3), 0px 1px 3px 1px rgba(60, 64, 67, 0.15);\n",
              "      fill: #174EA6;\n",
              "    }\n",
              "\n",
              "    .colab-df-buttons div {\n",
              "      margin-bottom: 4px;\n",
              "    }\n",
              "\n",
              "    [theme=dark] .colab-df-convert {\n",
              "      background-color: #3B4455;\n",
              "      fill: #D2E3FC;\n",
              "    }\n",
              "\n",
              "    [theme=dark] .colab-df-convert:hover {\n",
              "      background-color: #434B5C;\n",
              "      box-shadow: 0px 1px 3px 1px rgba(0, 0, 0, 0.15);\n",
              "      filter: drop-shadow(0px 1px 2px rgba(0, 0, 0, 0.3));\n",
              "      fill: #FFFFFF;\n",
              "    }\n",
              "  </style>\n",
              "\n",
              "    <script>\n",
              "      const buttonEl =\n",
              "        document.querySelector('#df-800cf46f-8444-4f36-832e-5e891f214bc3 button.colab-df-convert');\n",
              "      buttonEl.style.display =\n",
              "        google.colab.kernel.accessAllowed ? 'block' : 'none';\n",
              "\n",
              "      async function convertToInteractive(key) {\n",
              "        const element = document.querySelector('#df-800cf46f-8444-4f36-832e-5e891f214bc3');\n",
              "        const dataTable =\n",
              "          await google.colab.kernel.invokeFunction('convertToInteractive',\n",
              "                                                    [key], {});\n",
              "        if (!dataTable) return;\n",
              "\n",
              "        const docLinkHtml = 'Like what you see? Visit the ' +\n",
              "          '<a target=\"_blank\" href=https://colab.research.google.com/notebooks/data_table.ipynb>data table notebook</a>'\n",
              "          + ' to learn more about interactive tables.';\n",
              "        element.innerHTML = '';\n",
              "        dataTable['output_type'] = 'display_data';\n",
              "        await google.colab.output.renderOutput(dataTable, element);\n",
              "        const docLink = document.createElement('div');\n",
              "        docLink.innerHTML = docLinkHtml;\n",
              "        element.appendChild(docLink);\n",
              "      }\n",
              "    </script>\n",
              "  </div>\n",
              "\n",
              "\n",
              "<div id=\"df-103eb1be-8410-4f57-81aa-884f6df155af\">\n",
              "  <button class=\"colab-df-quickchart\" onclick=\"quickchart('df-103eb1be-8410-4f57-81aa-884f6df155af')\"\n",
              "            title=\"Suggest charts\"\n",
              "            style=\"display:none;\">\n",
              "\n",
              "<svg xmlns=\"http://www.w3.org/2000/svg\" height=\"24px\"viewBox=\"0 0 24 24\"\n",
              "     width=\"24px\">\n",
              "    <g>\n",
              "        <path d=\"M19 3H5c-1.1 0-2 .9-2 2v14c0 1.1.9 2 2 2h14c1.1 0 2-.9 2-2V5c0-1.1-.9-2-2-2zM9 17H7v-7h2v7zm4 0h-2V7h2v10zm4 0h-2v-4h2v4z\"/>\n",
              "    </g>\n",
              "</svg>\n",
              "  </button>\n",
              "\n",
              "<style>\n",
              "  .colab-df-quickchart {\n",
              "      --bg-color: #E8F0FE;\n",
              "      --fill-color: #1967D2;\n",
              "      --hover-bg-color: #E2EBFA;\n",
              "      --hover-fill-color: #174EA6;\n",
              "      --disabled-fill-color: #AAA;\n",
              "      --disabled-bg-color: #DDD;\n",
              "  }\n",
              "\n",
              "  [theme=dark] .colab-df-quickchart {\n",
              "      --bg-color: #3B4455;\n",
              "      --fill-color: #D2E3FC;\n",
              "      --hover-bg-color: #434B5C;\n",
              "      --hover-fill-color: #FFFFFF;\n",
              "      --disabled-bg-color: #3B4455;\n",
              "      --disabled-fill-color: #666;\n",
              "  }\n",
              "\n",
              "  .colab-df-quickchart {\n",
              "    background-color: var(--bg-color);\n",
              "    border: none;\n",
              "    border-radius: 50%;\n",
              "    cursor: pointer;\n",
              "    display: none;\n",
              "    fill: var(--fill-color);\n",
              "    height: 32px;\n",
              "    padding: 0;\n",
              "    width: 32px;\n",
              "  }\n",
              "\n",
              "  .colab-df-quickchart:hover {\n",
              "    background-color: var(--hover-bg-color);\n",
              "    box-shadow: 0 1px 2px rgba(60, 64, 67, 0.3), 0 1px 3px 1px rgba(60, 64, 67, 0.15);\n",
              "    fill: var(--button-hover-fill-color);\n",
              "  }\n",
              "\n",
              "  .colab-df-quickchart-complete:disabled,\n",
              "  .colab-df-quickchart-complete:disabled:hover {\n",
              "    background-color: var(--disabled-bg-color);\n",
              "    fill: var(--disabled-fill-color);\n",
              "    box-shadow: none;\n",
              "  }\n",
              "\n",
              "  .colab-df-spinner {\n",
              "    border: 2px solid var(--fill-color);\n",
              "    border-color: transparent;\n",
              "    border-bottom-color: var(--fill-color);\n",
              "    animation:\n",
              "      spin 1s steps(1) infinite;\n",
              "  }\n",
              "\n",
              "  @keyframes spin {\n",
              "    0% {\n",
              "      border-color: transparent;\n",
              "      border-bottom-color: var(--fill-color);\n",
              "      border-left-color: var(--fill-color);\n",
              "    }\n",
              "    20% {\n",
              "      border-color: transparent;\n",
              "      border-left-color: var(--fill-color);\n",
              "      border-top-color: var(--fill-color);\n",
              "    }\n",
              "    30% {\n",
              "      border-color: transparent;\n",
              "      border-left-color: var(--fill-color);\n",
              "      border-top-color: var(--fill-color);\n",
              "      border-right-color: var(--fill-color);\n",
              "    }\n",
              "    40% {\n",
              "      border-color: transparent;\n",
              "      border-right-color: var(--fill-color);\n",
              "      border-top-color: var(--fill-color);\n",
              "    }\n",
              "    60% {\n",
              "      border-color: transparent;\n",
              "      border-right-color: var(--fill-color);\n",
              "    }\n",
              "    80% {\n",
              "      border-color: transparent;\n",
              "      border-right-color: var(--fill-color);\n",
              "      border-bottom-color: var(--fill-color);\n",
              "    }\n",
              "    90% {\n",
              "      border-color: transparent;\n",
              "      border-bottom-color: var(--fill-color);\n",
              "    }\n",
              "  }\n",
              "</style>\n",
              "\n",
              "  <script>\n",
              "    async function quickchart(key) {\n",
              "      const quickchartButtonEl =\n",
              "        document.querySelector('#' + key + ' button');\n",
              "      quickchartButtonEl.disabled = true;  // To prevent multiple clicks.\n",
              "      quickchartButtonEl.classList.add('colab-df-spinner');\n",
              "      try {\n",
              "        const charts = await google.colab.kernel.invokeFunction(\n",
              "            'suggestCharts', [key], {});\n",
              "      } catch (error) {\n",
              "        console.error('Error during call to suggestCharts:', error);\n",
              "      }\n",
              "      quickchartButtonEl.classList.remove('colab-df-spinner');\n",
              "      quickchartButtonEl.classList.add('colab-df-quickchart-complete');\n",
              "    }\n",
              "    (() => {\n",
              "      let quickchartButtonEl =\n",
              "        document.querySelector('#df-103eb1be-8410-4f57-81aa-884f6df155af button');\n",
              "      quickchartButtonEl.style.display =\n",
              "        google.colab.kernel.accessAllowed ? 'block' : 'none';\n",
              "    })();\n",
              "  </script>\n",
              "</div>\n",
              "\n",
              "    </div>\n",
              "  </div>\n"
            ],
            "application/vnd.google.colaboratory.intrinsic+json": {
              "type": "dataframe",
              "variable_name": "model_loss",
              "summary": "{\n  \"name\": \"model_loss\",\n  \"rows\": 6,\n  \"fields\": [\n    {\n      \"column\": \"loss\",\n      \"properties\": {\n        \"dtype\": \"number\",\n        \"std\": 0.028646777442518794,\n        \"min\": 0.19274182617664337,\n        \"max\": 0.26981809735298157,\n        \"samples\": [\n          0.26981809735298157,\n          0.2462487518787384,\n          0.19274182617664337\n        ],\n        \"num_unique_values\": 6,\n        \"semantic_type\": \"\",\n        \"description\": \"\"\n      }\n    },\n    {\n      \"column\": \"recall\",\n      \"properties\": {\n        \"dtype\": \"number\",\n        \"std\": 0.013142193962005045,\n        \"min\": 0.8803263306617737,\n        \"max\": 0.9125539660453796,\n        \"samples\": [\n          0.8803263306617737,\n          0.887135922908783,\n          0.9125539660453796\n        ],\n        \"num_unique_values\": 6,\n        \"semantic_type\": \"\",\n        \"description\": \"\"\n      }\n    },\n    {\n      \"column\": \"val_loss\",\n      \"properties\": {\n        \"dtype\": \"number\",\n        \"std\": 0.018435254972716926,\n        \"min\": 0.27520278096199036,\n        \"max\": 0.3234293460845947,\n        \"samples\": [\n          0.27520278096199036,\n          0.32116255164146423,\n          0.2917073965072632\n        ],\n        \"num_unique_values\": 6,\n        \"semantic_type\": \"\",\n        \"description\": \"\"\n      }\n    },\n    {\n      \"column\": \"val_recall\",\n      \"properties\": {\n        \"dtype\": \"number\",\n        \"std\": 0.01355280381881695,\n        \"min\": 0.8598004579544067,\n        \"max\": 0.8948503732681274,\n        \"samples\": [\n          0.8948503732681274,\n          0.8598004579544067,\n          0.8816392421722412\n        ],\n        \"num_unique_values\": 6,\n        \"semantic_type\": \"\",\n        \"description\": \"\"\n      }\n    }\n  ]\n}"
            }
          },
          "metadata": {},
          "execution_count": 233
        }
      ]
    },
    {
      "cell_type": "markdown",
      "source": [
        "Bu tablo, modelin eğitim ve doğrulama aşamalarında kayıp ve geri çağırma değerlerinin nasıl değiştiğini gösterir. İlk satır, ilk eğitim iterasyonunun sonuçlarını temsil ederken, ikinci satır ikinci iterasyonun sonuçlarını, üçüncü satır ise üçüncü iterasyonun sonuçlarını temsil eder."
      ],
      "metadata": {
        "id": "lWpLllfPS3sg"
      }
    },
    {
      "cell_type": "code",
      "source": [
        "model_loss.plot()"
      ],
      "metadata": {
        "colab": {
          "base_uri": "https://localhost:8080/",
          "height": 447
        },
        "id": "BDVnpeScMP3Z",
        "outputId": "249353fb-87a5-4a87-b45b-cedd0887b061"
      },
      "execution_count": null,
      "outputs": [
        {
          "output_type": "execute_result",
          "data": {
            "text/plain": [
              "<Axes: >"
            ]
          },
          "metadata": {},
          "execution_count": 234
        },
        {
          "output_type": "display_data",
          "data": {
            "text/plain": [
              "<Figure size 640x480 with 1 Axes>"
            ],
            "image/png": "[encoded data removed]"
          },
          "metadata": {}
        }
      ]
    },
    {
      "cell_type": "code",
      "source": [
        "model.evaluate(X_train, y_train)"
      ],
      "metadata": {
        "colab": {
          "base_uri": "https://localhost:8080/"
        },
        "id": "VW9rUaYgMP3a",
        "outputId": "9a77817d-a5cb-4ebb-88f7-30e23f0b3156"
      },
      "execution_count": null,
      "outputs": [
        {
          "output_type": "stream",
          "name": "stdout",
          "text": [
            "567/567 [==============================] - 101s 179ms/step - loss: 0.2187 - recall: 0.9071\n"
          ]
        },
        {
          "output_type": "execute_result",
          "data": {
            "text/plain": [
              "[0.21867763996124268, 0.9070927500724792]"
            ]
          },
          "metadata": {},
          "execution_count": 235
        }
      ]
    },
    {
      "cell_type": "code",
      "source": [
        "model.evaluate(X_test, y_test)"
      ],
      "metadata": {
        "colab": {
          "base_uri": "https://localhost:8080/"
        },
        "id": "hVZ2aAfMMP3a",
        "outputId": "5d63c89e-6f3d-431c-b7bf-21996c83e3d2"
      },
      "execution_count": null,
      "outputs": [
        {
          "output_type": "stream",
          "name": "stdout",
          "text": [
            "142/142 [==============================] - 26s 186ms/step - loss: 0.6440 - recall: 1.0000\n"
          ]
        },
        {
          "output_type": "execute_result",
          "data": {
            "text/plain": [
              "[0.6440377235412598, 1.0]"
            ]
          },
          "metadata": {},
          "execution_count": 218
        }
      ]
    },
    {
      "cell_type": "code",
      "source": [
        "from sklearn.metrics import confusion_matrix, classification_report, accuracy_score, f1_score, roc_auc_score\n",
        "y_train_pred = model.predict(X_train) >= 0.5\n",
        "\n",
        "print(confusion_matrix(y_train, y_train_pred))\n",
        "print(\"-------------------------------------------------------\")\n",
        "print(classification_report(y_train, y_train_pred))"
      ],
      "metadata": {
        "colab": {
          "base_uri": "https://localhost:8080/"
        },
        "id": "lh2CIUcJy9dt",
        "outputId": "e676337a-f65b-43b0-c530-685f4e2590dc"
      },
      "execution_count": null,
      "outputs": [
        {
          "output_type": "stream",
          "name": "stdout",
          "text": [
            "567/567 [==============================] - 101s 178ms/step\n",
            "[[ 3056   225]\n",
            " [ 1378 13454]]\n",
            "-------------------------------------------------------\n",
            "              precision    recall  f1-score   support\n",
            "\n",
            "           0       0.69      0.93      0.79      3281\n",
            "           1       0.98      0.91      0.94     14832\n",
            "\n",
            "    accuracy                           0.91     18113\n",
            "   macro avg       0.84      0.92      0.87     18113\n",
            "weighted avg       0.93      0.91      0.92     18113\n",
            "\n"
          ]
        }
      ]
    },
    {
      "cell_type": "code",
      "source": [
        "y_pred = model.predict(X_test) >= 0.5\n",
        "\n",
        "print(confusion_matrix(y_test, y_pred))\n",
        "print(\"-------------------------------------------------------\")\n",
        "print(classification_report(y_test, y_pred))"
      ],
      "metadata": {
        "colab": {
          "base_uri": "https://localhost:8080/"
        },
        "id": "PfAxi22ry8t9",
        "outputId": "a457f2d0-4da9-447e-af33-dd0fe8c0d022"
      },
      "execution_count": null,
      "outputs": [
        {
          "output_type": "stream",
          "name": "stdout",
          "text": [
            "142/142 [==============================] - 26s 186ms/step\n",
            "[[ 689  131]\n",
            " [ 390 3319]]\n",
            "-------------------------------------------------------\n",
            "              precision    recall  f1-score   support\n",
            "\n",
            "           0       0.64      0.84      0.73       820\n",
            "           1       0.96      0.89      0.93      3709\n",
            "\n",
            "    accuracy                           0.88      4529\n",
            "   macro avg       0.80      0.87      0.83      4529\n",
            "weighted avg       0.90      0.88      0.89      4529\n",
            "\n"
          ]
        }
      ]
    },
    {
      "cell_type": "code",
      "source": [
        "from sklearn.metrics import precision_recall_curve, average_precision_score\n",
        "import matplotlib.pyplot as plt\n",
        "\n",
        "y_pred_proba = model.predict(X_test)\n",
        "precision, recall, thresholds = precision_recall_curve(y_test, y_pred_proba,)\n",
        "plt.plot([1,0],[0,1],'k--')\n",
        "plt.plot(recall, precision)\n",
        "plt.xlabel('recall')\n",
        "plt.ylabel('precision')\n",
        "plt.title('precision recall curve')\n",
        "plt.show()"
      ],
      "metadata": {
        "colab": {
          "base_uri": "https://localhost:8080/",
          "height": 489
        },
        "id": "kF0ks_UphsVL",
        "outputId": "2576d452-2e94-4f33-8606-797afe118487"
      },
      "execution_count": null,
      "outputs": [
        {
          "output_type": "stream",
          "name": "stdout",
          "text": [
            "142/142 [==============================] - 27s 189ms/step\n"
          ]
        },
        {
          "output_type": "display_data",
          "data": {
            "text/plain": [
              "<Figure size 640x480 with 1 Axes>"
            ],
            "image/png": "[encoded data removed]"
          },
          "metadata": {}
        }
      ]
    },
    {
      "cell_type": "code",
      "source": [
        "average_precision_score(y_test, y_pred_proba)"
      ],
      "metadata": {
        "colab": {
          "base_uri": "https://localhost:8080/"
        },
        "id": "PngCc_Ofk3ek",
        "outputId": "aacd2c51-5124-4fad-87ab-e06461315558"
      },
      "execution_count": null,
      "outputs": [
        {
          "output_type": "execute_result",
          "data": {
            "text/plain": [
              "0.9853350288908239"
            ]
          },
          "metadata": {},
          "execution_count": 239
        }
      ]
    },
    {
      "cell_type": "markdown",
      "source": [
        "##Scores without sample_weight"
      ],
      "metadata": {
        "id": "xAbTifhcHvyX"
      }
    },
    {
      "cell_type": "markdown",
      "source": [
        "## Model Saving"
      ],
      "metadata": {
        "id": "b0fcHGnY0aH9"
      }
    },
    {
      "cell_type": "code",
      "source": [
        "model.save('review_womensclothing.h5')"
      ],
      "metadata": {
        "id": "Io2S2n_30UAx"
      },
      "execution_count": null,
      "outputs": []
    },
    {
      "cell_type": "markdown",
      "source": [
        "##Loading Model"
      ],
      "metadata": {
        "id": "RvHJTK3N1M8I"
      }
    },
    {
      "cell_type": "code",
      "source": [
        "from tensorflow.keras.models import load_model\n",
        "model_review = load_model('review_womensclothing.h5')"
      ],
      "metadata": {
        "id": "6fF_Moci1Rl3"
      },
      "execution_count": null,
      "outputs": []
    },
    {
      "cell_type": "markdown",
      "source": [
        "## Predicton"
      ],
      "metadata": {
        "id": "U3Z5WQt0MP3e"
      }
    },
    {
      "cell_type": "code",
      "source": [
        "review1 = \"I really liked it, I recommend it to everyone.\"\n",
        "review2 = \"Great product, arrived the same day.\"\n",
        "review3 = \"I experienced a great disappointment, I couldn't associate this product with this brand.\"\n",
        "review4 = \"Indescribable with words.\"\n",
        "review5 = \"The design is great but the delivery was very late and the product was opened, really disappointing.\"\n",
        "review6 = \"Not at all as shown in the pictures.\"\n",
        "review7 = \"Bad reviews scared me but I didn't have any problems, thank you,.\"\n",
        "review8 = \"I have never encountered such a bad seller, I am canceling my order.\"\n",
        "review9 = \"A complete value for money product.\"\n",
        "review10 = \"It didn't turn out as I expected.\"\n",
        "review11 = \"Excellent, five stars.\"\n",
        "review12 = \"There is a problem with the product.\"\n",
        "review13 = \"The image quality of the television is very poor, last night we gathered with friends at home. We ate, drank, chatted. Then we watched the Turkey - England match on TV.\"\n",
        "review14 = \"It arrived in a short time like 1 day. And for this price, it's a great product, I recommend it. However, people with big hands may prefer the larger model, it's a medium-sized product. Thanks.\"\n",
        "reviews = [review1, review2, review3, review4, review5, review6, review7, review8, review9, review10, review11, review12, review13, review14]"
      ],
      "metadata": {
        "id": "XXl_3XopMP3e"
      },
      "execution_count": null,
      "outputs": []
    },
    {
      "cell_type": "code",
      "source": [
        "tokens = tokenizer.texts_to_sequences(reviews)"
      ],
      "metadata": {
        "id": "XhxQQSEqMP3e"
      },
      "execution_count": null,
      "outputs": []
    },
    {
      "cell_type": "code",
      "source": [
        "tokens_pad = pad_sequences(tokens, maxlen=max_tokens)\n",
        "tokens_pad.shape"
      ],
      "metadata": {
        "colab": {
          "base_uri": "https://localhost:8080/"
        },
        "id": "NNbh_gkTMP3e",
        "outputId": "be831f24-da2f-4c53-c1ec-6d8747ae37de"
      },
      "execution_count": null,
      "outputs": [
        {
          "output_type": "execute_result",
          "data": {
            "text/plain": [
              "(14, 107)"
            ]
          },
          "metadata": {},
          "execution_count": 309
        }
      ]
    },
    {
      "cell_type": "code",
      "source": [
        "predictions = (model_review.predict(tokens_pad) >0.5).astype(\"int\")"
      ],
      "metadata": {
        "id": "RTGxn4qwMP3f",
        "colab": {
          "base_uri": "https://localhost:8080/"
        },
        "outputId": "1d79d462-2594-4d61-8cd2-2770be5682a0"
      },
      "execution_count": null,
      "outputs": [
        {
          "output_type": "stream",
          "name": "stdout",
          "text": [
            "1/1 [==============================] - 0s 111ms/step\n"
          ]
        }
      ]
    },
    {
      "cell_type": "code",
      "source": [
        "predictions"
      ],
      "metadata": {
        "colab": {
          "base_uri": "https://localhost:8080/"
        },
        "id": "cYFcjwVdVs5L",
        "outputId": "a91590e9-17ae-424a-eb68-7350664deafa"
      },
      "execution_count": null,
      "outputs": [
        {
          "output_type": "execute_result",
          "data": {
            "text/plain": [
              "array([[1],\n",
              "       [1],\n",
              "       [0],\n",
              "       [1],\n",
              "       [0],\n",
              "       [0],\n",
              "       [0],\n",
              "       [0],\n",
              "       [1],\n",
              "       [0],\n",
              "       [1],\n",
              "       [0],\n",
              "       [0],\n",
              "       [1]])"
            ]
          },
          "metadata": {},
          "execution_count": 311
        }
      ]
    },
    {
      "cell_type": "markdown",
      "source": [
        "![image.png](attachment:image.png)"
      ],
      "metadata": {
        "id": "MSL1R81HMP3f"
      }
    },
    {
      "cell_type": "code",
      "source": [
        "\n",
        "\n",
        "# İncelemeleri içeren bir DataFrame oluşturma\n",
        "df_reviews = pd.DataFrame({'review': reviews})\n",
        "\n",
        "# DataFrame'i görüntüleme\n",
        "df_reviews\n"
      ],
      "metadata": {
        "colab": {
          "base_uri": "https://localhost:8080/",
          "height": 488
        },
        "id": "2UiskW1LVvhC",
        "outputId": "1ad69e93-16c5-4363-f6bb-811f8ded621f"
      },
      "execution_count": null,
      "outputs": [
        {
          "output_type": "execute_result",
          "data": {
            "text/plain": [
              "                                               review\n",
              "0      I really liked it, I recommend it to everyone.\n",
              "1                Great product, arrived the same day.\n",
              "2   I experienced a great disappointment, I couldn...\n",
              "3                           Indescribable with words.\n",
              "4   The design is great but the delivery was very ...\n",
              "5                Not at all as shown in the pictures.\n",
              "6    Bad reviews scared me but I didn't have any p...\n",
              "7   I have never encountered such a bad seller, I ...\n",
              "8                 A complete value for money product.\n",
              "9                   It didn't turn out as I expected.\n",
              "10                             Excellent, five stars.\n",
              "11               There is a problem with the product.\n",
              "12  The image quality of the television is very po...\n",
              "13  It arrived in a short time like 1 day. And for..."
            ],
            "text/html": [
              "\n",
              "  <div id=\"df-5a7d98da-cd35-448c-a96c-8f30588f9b90\" class=\"colab-df-container\">\n",
              "    <div>\n",
              "<style scoped>\n",
              "    .dataframe tbody tr th:only-of-type {\n",
              "        vertical-align: middle;\n",
              "    }\n",
              "\n",
              "    .dataframe tbody tr th {\n",
              "        vertical-align: top;\n",
              "    }\n",
              "\n",
              "    .dataframe thead th {\n",
              "        text-align: right;\n",
              "    }\n",
              "</style>\n",
              "<table border=\"1\" class=\"dataframe\">\n",
              "  <thead>\n",
              "    <tr style=\"text-align: right;\">\n",
              "      <th></th>\n",
              "      <th>review</th>\n",
              "    </tr>\n",
              "  </thead>\n",
              "  <tbody>\n",
              "    <tr>\n",
              "      <th>0</th>\n",
              "      <td>I really liked it, I recommend it to everyone.</td>\n",
              "    </tr>\n",
              "    <tr>\n",
              "      <th>1</th>\n",
              "      <td>Great product, arrived the same day.</td>\n",
              "    </tr>\n",
              "    <tr>\n",
              "      <th>2</th>\n",
              "      <td>I experienced a great disappointment, I couldn...</td>\n",
              "    </tr>\n",
              "    <tr>\n",
              "      <th>3</th>\n",
              "      <td>Indescribable with words.</td>\n",
              "    </tr>\n",
              "    <tr>\n",
              "      <th>4</th>\n",
              "      <td>The design is great but the delivery was very ...</td>\n",
              "    </tr>\n",
              "    <tr>\n",
              "      <th>5</th>\n",
              "      <td>Not at all as shown in the pictures.</td>\n",
              "    </tr>\n",
              "    <tr>\n",
              "      <th>6</th>\n",
              "      <td>Bad reviews scared me but I didn't have any p...</td>\n",
              "    </tr>\n",
              "    <tr>\n",
              "      <th>7</th>\n",
              "      <td>I have never encountered such a bad seller, I ...</td>\n",
              "    </tr>\n",
              "    <tr>\n",
              "      <th>8</th>\n",
              "      <td>A complete value for money product.</td>\n",
              "    </tr>\n",
              "    <tr>\n",
              "      <th>9</th>\n",
              "      <td>It didn't turn out as I expected.</td>\n",
              "    </tr>\n",
              "    <tr>\n",
              "      <th>10</th>\n",
              "      <td>Excellent, five stars.</td>\n",
              "    </tr>\n",
              "    <tr>\n",
              "      <th>11</th>\n",
              "      <td>There is a problem with the product.</td>\n",
              "    </tr>\n",
              "    <tr>\n",
              "      <th>12</th>\n",
              "      <td>The image quality of the television is very po...</td>\n",
              "    </tr>\n",
              "    <tr>\n",
              "      <th>13</th>\n",
              "      <td>It arrived in a short time like 1 day. And for...</td>\n",
              "    </tr>\n",
              "  </tbody>\n",
              "</table>\n",
              "</div>\n",
              "    <div class=\"colab-df-buttons\">\n",
              "\n",
              "  <div class=\"colab-df-container\">\n",
              "    <button class=\"colab-df-convert\" onclick=\"convertToInteractive('df-5a7d98da-cd35-448c-a96c-8f30588f9b90')\"\n",
              "            title=\"Convert this dataframe to an interactive table.\"\n",
              "            style=\"display:none;\">\n",
              "\n",
              "  <svg xmlns=\"http://www.w3.org/2000/svg\" height=\"24px\" viewBox=\"0 -960 960 960\">\n",
              "    <path d=\"M120-120v-720h720v720H120Zm60-500h600v-160H180v160Zm220 220h160v-160H400v160Zm0 220h160v-160H400v160ZM180-400h160v-160H180v160Zm440 0h160v-160H620v160ZM180-180h160v-160H180v160Zm440 0h160v-160H620v160Z\"/>\n",
              "  </svg>\n",
              "    </button>\n",
              "\n",
              "  <style>\n",
              "    .colab-df-container {\n",
              "      display:flex;\n",
              "      gap: 12px;\n",
              "    }\n",
              "\n",
              "    .colab-df-convert {\n",
              "      background-color: #E8F0FE;\n",
              "      border: none;\n",
              "      border-radius: 50%;\n",
              "      cursor: pointer;\n",
              "      display: none;\n",
              "      fill: #1967D2;\n",
              "      height: 32px;\n",
              "      padding: 0 0 0 0;\n",
              "      width: 32px;\n",
              "    }\n",
              "\n",
              "    .colab-df-convert:hover {\n",
              "      background-color: #E2EBFA;\n",
              "      box-shadow: 0px 1px 2px rgba(60, 64, 67, 0.3), 0px 1px 3px 1px rgba(60, 64, 67, 0.15);\n",
              "      fill: #174EA6;\n",
              "    }\n",
              "\n",
              "    .colab-df-buttons div {\n",
              "      margin-bottom: 4px;\n",
              "    }\n",
              "\n",
              "    [theme=dark] .colab-df-convert {\n",
              "      background-color: #3B4455;\n",
              "      fill: #D2E3FC;\n",
              "    }\n",
              "\n",
              "    [theme=dark] .colab-df-convert:hover {\n",
              "      background-color: #434B5C;\n",
              "      box-shadow: 0px 1px 3px 1px rgba(0, 0, 0, 0.15);\n",
              "      filter: drop-shadow(0px 1px 2px rgba(0, 0, 0, 0.3));\n",
              "      fill: #FFFFFF;\n",
              "    }\n",
              "  </style>\n",
              "\n",
              "    <script>\n",
              "      const buttonEl =\n",
              "        document.querySelector('#df-5a7d98da-cd35-448c-a96c-8f30588f9b90 button.colab-df-convert');\n",
              "      buttonEl.style.display =\n",
              "        google.colab.kernel.accessAllowed ? 'block' : 'none';\n",
              "\n",
              "      async function convertToInteractive(key) {\n",
              "        const element = document.querySelector('#df-5a7d98da-cd35-448c-a96c-8f30588f9b90');\n",
              "        const dataTable =\n",
              "          await google.colab.kernel.invokeFunction('convertToInteractive',\n",
              "                                                    [key], {});\n",
              "        if (!dataTable) return;\n",
              "\n",
              "        const docLinkHtml = 'Like what you see? Visit the ' +\n",
              "          '<a target=\"_blank\" href=https://colab.research.google.com/notebooks/data_table.ipynb>data table notebook</a>'\n",
              "          + ' to learn more about interactive tables.';\n",
              "        element.innerHTML = '';\n",
              "        dataTable['output_type'] = 'display_data';\n",
              "        await google.colab.output.renderOutput(dataTable, element);\n",
              "        const docLink = document.createElement('div');\n",
              "        docLink.innerHTML = docLinkHtml;\n",
              "        element.appendChild(docLink);\n",
              "      }\n",
              "    </script>\n",
              "  </div>\n",
              "\n",
              "\n",
              "<div id=\"df-87908f67-b5f1-4cf6-a8ab-b96078a078bd\">\n",
              "  <button class=\"colab-df-quickchart\" onclick=\"quickchart('df-87908f67-b5f1-4cf6-a8ab-b96078a078bd')\"\n",
              "            title=\"Suggest charts\"\n",
              "            style=\"display:none;\">\n",
              "\n",
              "<svg xmlns=\"http://www.w3.org/2000/svg\" height=\"24px\"viewBox=\"0 0 24 24\"\n",
              "     width=\"24px\">\n",
              "    <g>\n",
              "        <path d=\"M19 3H5c-1.1 0-2 .9-2 2v14c0 1.1.9 2 2 2h14c1.1 0 2-.9 2-2V5c0-1.1-.9-2-2-2zM9 17H7v-7h2v7zm4 0h-2V7h2v10zm4 0h-2v-4h2v4z\"/>\n",
              "    </g>\n",
              "</svg>\n",
              "  </button>\n",
              "\n",
              "<style>\n",
              "  .colab-df-quickchart {\n",
              "      --bg-color: #E8F0FE;\n",
              "      --fill-color: #1967D2;\n",
              "      --hover-bg-color: #E2EBFA;\n",
              "      --hover-fill-color: #174EA6;\n",
              "      --disabled-fill-color: #AAA;\n",
              "      --disabled-bg-color: #DDD;\n",
              "  }\n",
              "\n",
              "  [theme=dark] .colab-df-quickchart {\n",
              "      --bg-color: #3B4455;\n",
              "      --fill-color: #D2E3FC;\n",
              "      --hover-bg-color: #434B5C;\n",
              "      --hover-fill-color: #FFFFFF;\n",
              "      --disabled-bg-color: #3B4455;\n",
              "      --disabled-fill-color: #666;\n",
              "  }\n",
              "\n",
              "  .colab-df-quickchart {\n",
              "    background-color: var(--bg-color);\n",
              "    border: none;\n",
              "    border-radius: 50%;\n",
              "    cursor: pointer;\n",
              "    display: none;\n",
              "    fill: var(--fill-color);\n",
              "    height: 32px;\n",
              "    padding: 0;\n",
              "    width: 32px;\n",
              "  }\n",
              "\n",
              "  .colab-df-quickchart:hover {\n",
              "    background-color: var(--hover-bg-color);\n",
              "    box-shadow: 0 1px 2px rgba(60, 64, 67, 0.3), 0 1px 3px 1px rgba(60, 64, 67, 0.15);\n",
              "    fill: var(--button-hover-fill-color);\n",
              "  }\n",
              "\n",
              "  .colab-df-quickchart-complete:disabled,\n",
              "  .colab-df-quickchart-complete:disabled:hover {\n",
              "    background-color: var(--disabled-bg-color);\n",
              "    fill: var(--disabled-fill-color);\n",
              "    box-shadow: none;\n",
              "  }\n",
              "\n",
              "  .colab-df-spinner {\n",
              "    border: 2px solid var(--fill-color);\n",
              "    border-color: transparent;\n",
              "    border-bottom-color: var(--fill-color);\n",
              "    animation:\n",
              "      spin 1s steps(1) infinite;\n",
              "  }\n",
              "\n",
              "  @keyframes spin {\n",
              "    0% {\n",
              "      border-color: transparent;\n",
              "      border-bottom-color: var(--fill-color);\n",
              "      border-left-color: var(--fill-color);\n",
              "    }\n",
              "    20% {\n",
              "      border-color: transparent;\n",
              "      border-left-color: var(--fill-color);\n",
              "      border-top-color: var(--fill-color);\n",
              "    }\n",
              "    30% {\n",
              "      border-color: transparent;\n",
              "      border-left-color: var(--fill-color);\n",
              "      border-top-color: var(--fill-color);\n",
              "      border-right-color: var(--fill-color);\n",
              "    }\n",
              "    40% {\n",
              "      border-color: transparent;\n",
              "      border-right-color: var(--fill-color);\n",
              "      border-top-color: var(--fill-color);\n",
              "    }\n",
              "    60% {\n",
              "      border-color: transparent;\n",
              "      border-right-color: var(--fill-color);\n",
              "    }\n",
              "    80% {\n",
              "      border-color: transparent;\n",
              "      border-right-color: var(--fill-color);\n",
              "      border-bottom-color: var(--fill-color);\n",
              "    }\n",
              "    90% {\n",
              "      border-color: transparent;\n",
              "      border-bottom-color: var(--fill-color);\n",
              "    }\n",
              "  }\n",
              "</style>\n",
              "\n",
              "  <script>\n",
              "    async function quickchart(key) {\n",
              "      const quickchartButtonEl =\n",
              "        document.querySelector('#' + key + ' button');\n",
              "      quickchartButtonEl.disabled = true;  // To prevent multiple clicks.\n",
              "      quickchartButtonEl.classList.add('colab-df-spinner');\n",
              "      try {\n",
              "        const charts = await google.colab.kernel.invokeFunction(\n",
              "            'suggestCharts', [key], {});\n",
              "      } catch (error) {\n",
              "        console.error('Error during call to suggestCharts:', error);\n",
              "      }\n",
              "      quickchartButtonEl.classList.remove('colab-df-spinner');\n",
              "      quickchartButtonEl.classList.add('colab-df-quickchart-complete');\n",
              "    }\n",
              "    (() => {\n",
              "      let quickchartButtonEl =\n",
              "        document.querySelector('#df-87908f67-b5f1-4cf6-a8ab-b96078a078bd button');\n",
              "      quickchartButtonEl.style.display =\n",
              "        google.colab.kernel.accessAllowed ? 'block' : 'none';\n",
              "    })();\n",
              "  </script>\n",
              "</div>\n",
              "\n",
              "  <div id=\"id_e4ef602f-3019-44e1-a58b-488a9091ea77\">\n",
              "    <style>\n",
              "      .colab-df-generate {\n",
              "        background-color: #E8F0FE;\n",
              "        border: none;\n",
              "        border-radius: 50%;\n",
              "        cursor: pointer;\n",
              "        display: none;\n",
              "        fill: #1967D2;\n",
              "        height: 32px;\n",
              "        padding: 0 0 0 0;\n",
              "        width: 32px;\n",
              "      }\n",
              "\n",
              "      .colab-df-generate:hover {\n",
              "        background-color: #E2EBFA;\n",
              "        box-shadow: 0px 1px 2px rgba(60, 64, 67, 0.3), 0px 1px 3px 1px rgba(60, 64, 67, 0.15);\n",
              "        fill: #174EA6;\n",
              "      }\n",
              "\n",
              "      [theme=dark] .colab-df-generate {\n",
              "        background-color: #3B4455;\n",
              "        fill: #D2E3FC;\n",
              "      }\n",
              "\n",
              "      [theme=dark] .colab-df-generate:hover {\n",
              "        background-color: #434B5C;\n",
              "        box-shadow: 0px 1px 3px 1px rgba(0, 0, 0, 0.15);\n",
              "        filter: drop-shadow(0px 1px 2px rgba(0, 0, 0, 0.3));\n",
              "        fill: #FFFFFF;\n",
              "      }\n",
              "    </style>\n",
              "    <button class=\"colab-df-generate\" onclick=\"generateWithVariable('df_reviews')\"\n",
              "            title=\"Generate code using this dataframe.\"\n",
              "            style=\"display:none;\">\n",
              "\n",
              "  <svg xmlns=\"http://www.w3.org/2000/svg\" height=\"24px\"viewBox=\"0 0 24 24\"\n",
              "       width=\"24px\">\n",
              "    <path d=\"M7,19H8.4L18.45,9,17,7.55,7,17.6ZM5,21V16.75L18.45,3.32a2,2,0,0,1,2.83,0l1.4,1.43a1.91,1.91,0,0,1,.58,1.4,1.91,1.91,0,0,1-.58,1.4L9.25,21ZM18.45,9,17,7.55Zm-12,3A5.31,5.31,0,0,0,4.9,8.1,5.31,5.31,0,0,0,1,6.5,5.31,5.31,0,0,0,4.9,4.9,5.31,5.31,0,0,0,6.5,1,5.31,5.31,0,0,0,8.1,4.9,5.31,5.31,0,0,0,12,6.5,5.46,5.46,0,0,0,6.5,12Z\"/>\n",
              "  </svg>\n",
              "    </button>\n",
              "    <script>\n",
              "      (() => {\n",
              "      const buttonEl =\n",
              "        document.querySelector('#id_e4ef602f-3019-44e1-a58b-488a9091ea77 button.colab-df-generate');\n",
              "      buttonEl.style.display =\n",
              "        google.colab.kernel.accessAllowed ? 'block' : 'none';\n",
              "\n",
              "      buttonEl.onclick = () => {\n",
              "        google.colab.notebook.generateWithVariable('df_reviews');\n",
              "      }\n",
              "      })();\n",
              "    </script>\n",
              "  </div>\n",
              "\n",
              "    </div>\n",
              "  </div>\n"
            ],
            "application/vnd.google.colaboratory.intrinsic+json": {
              "type": "dataframe",
              "variable_name": "df_reviews",
              "summary": "{\n  \"name\": \"df_reviews\",\n  \"rows\": 14,\n  \"fields\": [\n    {\n      \"column\": \"review\",\n      \"properties\": {\n        \"dtype\": \"string\",\n        \"samples\": [\n          \"It didn't turn out as I expected.\",\n          \"There is a problem with the product.\",\n          \"I really liked it, I recommend it to everyone.\"\n        ],\n        \"num_unique_values\": 14,\n        \"semantic_type\": \"\",\n        \"description\": \"\"\n      }\n    }\n  ]\n}"
            }
          },
          "metadata": {},
          "execution_count": 297
        }
      ]
    },
    {
      "cell_type": "code",
      "source": [
        "predictions = predictions.flatten()\n"
      ],
      "metadata": {
        "id": "qrdqFuS8WeTx"
      },
      "execution_count": null,
      "outputs": []
    },
    {
      "cell_type": "code",
      "source": [
        "pred_df = pd.DataFrame({'recommend_prediction': predictions})"
      ],
      "metadata": {
        "id": "pmf9f4IqVx8z"
      },
      "execution_count": null,
      "outputs": []
    },
    {
      "cell_type": "code",
      "source": [
        "pred_main= pd.concat([df_reviews, pred_df], axis=1)"
      ],
      "metadata": {
        "id": "imUeDTSTV47d"
      },
      "execution_count": null,
      "outputs": []
    },
    {
      "cell_type": "code",
      "source": [
        "pred_main"
      ],
      "metadata": {
        "colab": {
          "base_uri": "https://localhost:8080/",
          "height": 488
        },
        "id": "KzRvXN9IWjNJ",
        "outputId": "c72a087e-0a32-4879-9a34-6d57e2c1a2f9"
      },
      "execution_count": null,
      "outputs": [
        {
          "output_type": "execute_result",
          "data": {
            "text/plain": [
              "                                               review  recommend_prediction\n",
              "0      I really liked it, I recommend it to everyone.                     1\n",
              "1                Great product, arrived the same day.                     1\n",
              "2   I experienced a great disappointment, I couldn...                     0\n",
              "3                           Indescribable with words.                     1\n",
              "4   The design is great but the delivery was very ...                     0\n",
              "5                Not at all as shown in the pictures.                     0\n",
              "6    Bad reviews scared me but I didn't have any p...                     0\n",
              "7   I have never encountered such a bad seller, I ...                     0\n",
              "8                 A complete value for money product.                     1\n",
              "9                   It didn't turn out as I expected.                     0\n",
              "10                             Excellent, five stars.                     1\n",
              "11               There is a problem with the product.                     0\n",
              "12  The image quality of the television is very po...                     0\n",
              "13  It arrived in a short time like 1 day. And for...                     1"
            ],
            "text/html": [
              "\n",
              "  <div id=\"df-55a6935e-f750-410b-90d8-0969b8b654c9\" class=\"colab-df-container\">\n",
              "    <div>\n",
              "<style scoped>\n",
              "    .dataframe tbody tr th:only-of-type {\n",
              "        vertical-align: middle;\n",
              "    }\n",
              "\n",
              "    .dataframe tbody tr th {\n",
              "        vertical-align: top;\n",
              "    }\n",
              "\n",
              "    .dataframe thead th {\n",
              "        text-align: right;\n",
              "    }\n",
              "</style>\n",
              "<table border=\"1\" class=\"dataframe\">\n",
              "  <thead>\n",
              "    <tr style=\"text-align: right;\">\n",
              "      <th></th>\n",
              "      <th>review</th>\n",
              "      <th>recommend_prediction</th>\n",
              "    </tr>\n",
              "  </thead>\n",
              "  <tbody>\n",
              "    <tr>\n",
              "      <th>0</th>\n",
              "      <td>I really liked it, I recommend it to everyone.</td>\n",
              "      <td>1</td>\n",
              "    </tr>\n",
              "    <tr>\n",
              "      <th>1</th>\n",
              "      <td>Great product, arrived the same day.</td>\n",
              "      <td>1</td>\n",
              "    </tr>\n",
              "    <tr>\n",
              "      <th>2</th>\n",
              "      <td>I experienced a great disappointment, I couldn...</td>\n",
              "      <td>0</td>\n",
              "    </tr>\n",
              "    <tr>\n",
              "      <th>3</th>\n",
              "      <td>Indescribable with words.</td>\n",
              "      <td>1</td>\n",
              "    </tr>\n",
              "    <tr>\n",
              "      <th>4</th>\n",
              "      <td>The design is great but the delivery was very ...</td>\n",
              "      <td>0</td>\n",
              "    </tr>\n",
              "    <tr>\n",
              "      <th>5</th>\n",
              "      <td>Not at all as shown in the pictures.</td>\n",
              "      <td>0</td>\n",
              "    </tr>\n",
              "    <tr>\n",
              "      <th>6</th>\n",
              "      <td>Bad reviews scared me but I didn't have any p...</td>\n",
              "      <td>0</td>\n",
              "    </tr>\n",
              "    <tr>\n",
              "      <th>7</th>\n",
              "      <td>I have never encountered such a bad seller, I ...</td>\n",
              "      <td>0</td>\n",
              "    </tr>\n",
              "    <tr>\n",
              "      <th>8</th>\n",
              "      <td>A complete value for money product.</td>\n",
              "      <td>1</td>\n",
              "    </tr>\n",
              "    <tr>\n",
              "      <th>9</th>\n",
              "      <td>It didn't turn out as I expected.</td>\n",
              "      <td>0</td>\n",
              "    </tr>\n",
              "    <tr>\n",
              "      <th>10</th>\n",
              "      <td>Excellent, five stars.</td>\n",
              "      <td>1</td>\n",
              "    </tr>\n",
              "    <tr>\n",
              "      <th>11</th>\n",
              "      <td>There is a problem with the product.</td>\n",
              "      <td>0</td>\n",
              "    </tr>\n",
              "    <tr>\n",
              "      <th>12</th>\n",
              "      <td>The image quality of the television is very po...</td>\n",
              "      <td>0</td>\n",
              "    </tr>\n",
              "    <tr>\n",
              "      <th>13</th>\n",
              "      <td>It arrived in a short time like 1 day. And for...</td>\n",
              "      <td>1</td>\n",
              "    </tr>\n",
              "  </tbody>\n",
              "</table>\n",
              "</div>\n",
              "    <div class=\"colab-df-buttons\">\n",
              "\n",
              "  <div class=\"colab-df-container\">\n",
              "    <button class=\"colab-df-convert\" onclick=\"convertToInteractive('df-55a6935e-f750-410b-90d8-0969b8b654c9')\"\n",
              "            title=\"Convert this dataframe to an interactive table.\"\n",
              "            style=\"display:none;\">\n",
              "\n",
              "  <svg xmlns=\"http://www.w3.org/2000/svg\" height=\"24px\" viewBox=\"0 -960 960 960\">\n",
              "    <path d=\"M120-120v-720h720v720H120Zm60-500h600v-160H180v160Zm220 220h160v-160H400v160Zm0 220h160v-160H400v160ZM180-400h160v-160H180v160Zm440 0h160v-160H620v160ZM180-180h160v-160H180v160Zm440 0h160v-160H620v160Z\"/>\n",
              "  </svg>\n",
              "    </button>\n",
              "\n",
              "  <style>\n",
              "    .colab-df-container {\n",
              "      display:flex;\n",
              "      gap: 12px;\n",
              "    }\n",
              "\n",
              "    .colab-df-convert {\n",
              "      background-color: #E8F0FE;\n",
              "      border: none;\n",
              "      border-radius: 50%;\n",
              "      cursor: pointer;\n",
              "      display: none;\n",
              "      fill: #1967D2;\n",
              "      height: 32px;\n",
              "      padding: 0 0 0 0;\n",
              "      width: 32px;\n",
              "    }\n",
              "\n",
              "    .colab-df-convert:hover {\n",
              "      background-color: #E2EBFA;\n",
              "      box-shadow: 0px 1px 2px rgba(60, 64, 67, 0.3), 0px 1px 3px 1px rgba(60, 64, 67, 0.15);\n",
              "      fill: #174EA6;\n",
              "    }\n",
              "\n",
              "    .colab-df-buttons div {\n",
              "      margin-bottom: 4px;\n",
              "    }\n",
              "\n",
              "    [theme=dark] .colab-df-convert {\n",
              "      background-color: #3B4455;\n",
              "      fill: #D2E3FC;\n",
              "    }\n",
              "\n",
              "    [theme=dark] .colab-df-convert:hover {\n",
              "      background-color: #434B5C;\n",
              "      box-shadow: 0px 1px 3px 1px rgba(0, 0, 0, 0.15);\n",
              "      filter: drop-shadow(0px 1px 2px rgba(0, 0, 0, 0.3));\n",
              "      fill: #FFFFFF;\n",
              "    }\n",
              "  </style>\n",
              "\n",
              "    <script>\n",
              "      const buttonEl =\n",
              "        document.querySelector('#df-55a6935e-f750-410b-90d8-0969b8b654c9 button.colab-df-convert');\n",
              "      buttonEl.style.display =\n",
              "        google.colab.kernel.accessAllowed ? 'block' : 'none';\n",
              "\n",
              "      async function convertToInteractive(key) {\n",
              "        const element = document.querySelector('#df-55a6935e-f750-410b-90d8-0969b8b654c9');\n",
              "        const dataTable =\n",
              "          await google.colab.kernel.invokeFunction('convertToInteractive',\n",
              "                                                    [key], {});\n",
              "        if (!dataTable) return;\n",
              "\n",
              "        const docLinkHtml = 'Like what you see? Visit the ' +\n",
              "          '<a target=\"_blank\" href=https://colab.research.google.com/notebooks/data_table.ipynb>data table notebook</a>'\n",
              "          + ' to learn more about interactive tables.';\n",
              "        element.innerHTML = '';\n",
              "        dataTable['output_type'] = 'display_data';\n",
              "        await google.colab.output.renderOutput(dataTable, element);\n",
              "        const docLink = document.createElement('div');\n",
              "        docLink.innerHTML = docLinkHtml;\n",
              "        element.appendChild(docLink);\n",
              "      }\n",
              "    </script>\n",
              "  </div>\n",
              "\n",
              "\n",
              "<div id=\"df-48197091-4df2-4fc1-886d-089727d7de27\">\n",
              "  <button class=\"colab-df-quickchart\" onclick=\"quickchart('df-48197091-4df2-4fc1-886d-089727d7de27')\"\n",
              "            title=\"Suggest charts\"\n",
              "            style=\"display:none;\">\n",
              "\n",
              "<svg xmlns=\"http://www.w3.org/2000/svg\" height=\"24px\"viewBox=\"0 0 24 24\"\n",
              "     width=\"24px\">\n",
              "    <g>\n",
              "        <path d=\"M19 3H5c-1.1 0-2 .9-2 2v14c0 1.1.9 2 2 2h14c1.1 0 2-.9 2-2V5c0-1.1-.9-2-2-2zM9 17H7v-7h2v7zm4 0h-2V7h2v10zm4 0h-2v-4h2v4z\"/>\n",
              "    </g>\n",
              "</svg>\n",
              "  </button>\n",
              "\n",
              "<style>\n",
              "  .colab-df-quickchart {\n",
              "      --bg-color: #E8F0FE;\n",
              "      --fill-color: #1967D2;\n",
              "      --hover-bg-color: #E2EBFA;\n",
              "      --hover-fill-color: #174EA6;\n",
              "      --disabled-fill-color: #AAA;\n",
              "      --disabled-bg-color: #DDD;\n",
              "  }\n",
              "\n",
              "  [theme=dark] .colab-df-quickchart {\n",
              "      --bg-color: #3B4455;\n",
              "      --fill-color: #D2E3FC;\n",
              "      --hover-bg-color: #434B5C;\n",
              "      --hover-fill-color: #FFFFFF;\n",
              "      --disabled-bg-color: #3B4455;\n",
              "      --disabled-fill-color: #666;\n",
              "  }\n",
              "\n",
              "  .colab-df-quickchart {\n",
              "    background-color: var(--bg-color);\n",
              "    border: none;\n",
              "    border-radius: 50%;\n",
              "    cursor: pointer;\n",
              "    display: none;\n",
              "    fill: var(--fill-color);\n",
              "    height: 32px;\n",
              "    padding: 0;\n",
              "    width: 32px;\n",
              "  }\n",
              "\n",
              "  .colab-df-quickchart:hover {\n",
              "    background-color: var(--hover-bg-color);\n",
              "    box-shadow: 0 1px 2px rgba(60, 64, 67, 0.3), 0 1px 3px 1px rgba(60, 64, 67, 0.15);\n",
              "    fill: var(--button-hover-fill-color);\n",
              "  }\n",
              "\n",
              "  .colab-df-quickchart-complete:disabled,\n",
              "  .colab-df-quickchart-complete:disabled:hover {\n",
              "    background-color: var(--disabled-bg-color);\n",
              "    fill: var(--disabled-fill-color);\n",
              "    box-shadow: none;\n",
              "  }\n",
              "\n",
              "  .colab-df-spinner {\n",
              "    border: 2px solid var(--fill-color);\n",
              "    border-color: transparent;\n",
              "    border-bottom-color: var(--fill-color);\n",
              "    animation:\n",
              "      spin 1s steps(1) infinite;\n",
              "  }\n",
              "\n",
              "  @keyframes spin {\n",
              "    0% {\n",
              "      border-color: transparent;\n",
              "      border-bottom-color: var(--fill-color);\n",
              "      border-left-color: var(--fill-color);\n",
              "    }\n",
              "    20% {\n",
              "      border-color: transparent;\n",
              "      border-left-color: var(--fill-color);\n",
              "      border-top-color: var(--fill-color);\n",
              "    }\n",
              "    30% {\n",
              "      border-color: transparent;\n",
              "      border-left-color: var(--fill-color);\n",
              "      border-top-color: var(--fill-color);\n",
              "      border-right-color: var(--fill-color);\n",
              "    }\n",
              "    40% {\n",
              "      border-color: transparent;\n",
              "      border-right-color: var(--fill-color);\n",
              "      border-top-color: var(--fill-color);\n",
              "    }\n",
              "    60% {\n",
              "      border-color: transparent;\n",
              "      border-right-color: var(--fill-color);\n",
              "    }\n",
              "    80% {\n",
              "      border-color: transparent;\n",
              "      border-right-color: var(--fill-color);\n",
              "      border-bottom-color: var(--fill-color);\n",
              "    }\n",
              "    90% {\n",
              "      border-color: transparent;\n",
              "      border-bottom-color: var(--fill-color);\n",
              "    }\n",
              "  }\n",
              "</style>\n",
              "\n",
              "  <script>\n",
              "    async function quickchart(key) {\n",
              "      const quickchartButtonEl =\n",
              "        document.querySelector('#' + key + ' button');\n",
              "      quickchartButtonEl.disabled = true;  // To prevent multiple clicks.\n",
              "      quickchartButtonEl.classList.add('colab-df-spinner');\n",
              "      try {\n",
              "        const charts = await google.colab.kernel.invokeFunction(\n",
              "            'suggestCharts', [key], {});\n",
              "      } catch (error) {\n",
              "        console.error('Error during call to suggestCharts:', error);\n",
              "      }\n",
              "      quickchartButtonEl.classList.remove('colab-df-spinner');\n",
              "      quickchartButtonEl.classList.add('colab-df-quickchart-complete');\n",
              "    }\n",
              "    (() => {\n",
              "      let quickchartButtonEl =\n",
              "        document.querySelector('#df-48197091-4df2-4fc1-886d-089727d7de27 button');\n",
              "      quickchartButtonEl.style.display =\n",
              "        google.colab.kernel.accessAllowed ? 'block' : 'none';\n",
              "    })();\n",
              "  </script>\n",
              "</div>\n",
              "\n",
              "  <div id=\"id_6512c989-ce73-47a6-ba72-4eaa568da8af\">\n",
              "    <style>\n",
              "      .colab-df-generate {\n",
              "        background-color: #E8F0FE;\n",
              "        border: none;\n",
              "        border-radius: 50%;\n",
              "        cursor: pointer;\n",
              "        display: none;\n",
              "        fill: #1967D2;\n",
              "        height: 32px;\n",
              "        padding: 0 0 0 0;\n",
              "        width: 32px;\n",
              "      }\n",
              "\n",
              "      .colab-df-generate:hover {\n",
              "        background-color: #E2EBFA;\n",
              "        box-shadow: 0px 1px 2px rgba(60, 64, 67, 0.3), 0px 1px 3px 1px rgba(60, 64, 67, 0.15);\n",
              "        fill: #174EA6;\n",
              "      }\n",
              "\n",
              "      [theme=dark] .colab-df-generate {\n",
              "        background-color: #3B4455;\n",
              "        fill: #D2E3FC;\n",
              "      }\n",
              "\n",
              "      [theme=dark] .colab-df-generate:hover {\n",
              "        background-color: #434B5C;\n",
              "        box-shadow: 0px 1px 3px 1px rgba(0, 0, 0, 0.15);\n",
              "        filter: drop-shadow(0px 1px 2px rgba(0, 0, 0, 0.3));\n",
              "        fill: #FFFFFF;\n",
              "      }\n",
              "    </style>\n",
              "    <button class=\"colab-df-generate\" onclick=\"generateWithVariable('pred_main')\"\n",
              "            title=\"Generate code using this dataframe.\"\n",
              "            style=\"display:none;\">\n",
              "\n",
              "  <svg xmlns=\"http://www.w3.org/2000/svg\" height=\"24px\"viewBox=\"0 0 24 24\"\n",
              "       width=\"24px\">\n",
              "    <path d=\"M7,19H8.4L18.45,9,17,7.55,7,17.6ZM5,21V16.75L18.45,3.32a2,2,0,0,1,2.83,0l1.4,1.43a1.91,1.91,0,0,1,.58,1.4,1.91,1.91,0,0,1-.58,1.4L9.25,21ZM18.45,9,17,7.55Zm-12,3A5.31,5.31,0,0,0,4.9,8.1,5.31,5.31,0,0,0,1,6.5,5.31,5.31,0,0,0,4.9,4.9,5.31,5.31,0,0,0,6.5,1,5.31,5.31,0,0,0,8.1,4.9,5.31,5.31,0,0,0,12,6.5,5.46,5.46,0,0,0,6.5,12Z\"/>\n",
              "  </svg>\n",
              "    </button>\n",
              "    <script>\n",
              "      (() => {\n",
              "      const buttonEl =\n",
              "        document.querySelector('#id_6512c989-ce73-47a6-ba72-4eaa568da8af button.colab-df-generate');\n",
              "      buttonEl.style.display =\n",
              "        google.colab.kernel.accessAllowed ? 'block' : 'none';\n",
              "\n",
              "      buttonEl.onclick = () => {\n",
              "        google.colab.notebook.generateWithVariable('pred_main');\n",
              "      }\n",
              "      })();\n",
              "    </script>\n",
              "  </div>\n",
              "\n",
              "    </div>\n",
              "  </div>\n"
            ],
            "application/vnd.google.colaboratory.intrinsic+json": {
              "type": "dataframe",
              "variable_name": "pred_main",
              "summary": "{\n  \"name\": \"pred_main\",\n  \"rows\": 14,\n  \"fields\": [\n    {\n      \"column\": \"review\",\n      \"properties\": {\n        \"dtype\": \"string\",\n        \"samples\": [\n          \"It didn't turn out as I expected.\",\n          \"There is a problem with the product.\",\n          \"I really liked it, I recommend it to everyone.\"\n        ],\n        \"num_unique_values\": 14,\n        \"semantic_type\": \"\",\n        \"description\": \"\"\n      }\n    },\n    {\n      \"column\": \"recommend_prediction\",\n      \"properties\": {\n        \"dtype\": \"number\",\n        \"std\": 0,\n        \"min\": 0,\n        \"max\": 1,\n        \"samples\": [\n          0,\n          1\n        ],\n        \"num_unique_values\": 2,\n        \"semantic_type\": \"\",\n        \"description\": \"\"\n      }\n    }\n  ]\n}"
            }
          },
          "metadata": {},
          "execution_count": 301
        }
      ]
    },
    {
      "cell_type": "code",
      "source": [],
      "metadata": {
        "id": "VeN6L7VWWkcr"
      },
      "execution_count": null,
      "outputs": []
    }
  ]
}